{
 "cells": [
  {
   "cell_type": "code",
   "execution_count": 1049,
   "metadata": {},
   "outputs": [],
   "source": [
    "import json\n",
    "import numpy as np\n",
    "\n",
    "# load the training data\n",
    "train_data = json.load(open(\"genre_train.json\", \"r\"))\n",
    "X = train_data['X']\n",
    "Y = train_data['Y'] # id mapping: 0 - Horror, 1 - Science Fiction, 2 - Humor, 3 - Crime Fiction\n",
    "docid = train_data['docid'] # these are the ids of the books which each training example came from\n",
    "\n",
    "# load the test data\n",
    "# the test data does not have labels, our model needs to generate these\n",
    "test_data = json.load(open(\"genre_test.json\", \"r\"))\n",
    "Xt = test_data['X']"
   ]
  },
  {
   "cell_type": "code",
   "execution_count": 724,
   "metadata": {},
   "outputs": [],
   "source": [
    "from keras.preprocessing.text import text_to_word_sequence\n",
    "from keras.preprocessing.text import Tokenizer\n",
    "from keras.preprocessing.sequence import pad_sequences\n",
    "from keras.layers import Dense, Flatten, Conv1D,MaxPooling1D,Dropout,BatchNormalization,GlobalAveragePooling1D,Embedding\n",
    "from keras.layers import GlobalMaxPooling1D\n",
    "from keras import utils as np_utils\n",
    "import torch \n",
    "import torch.nn as nn\n",
    "import torch\n",
    "import numpy as np\n",
    "import nltk\n",
    "import keras"
   ]
  },
  {
   "cell_type": "code",
   "execution_count": 1051,
   "metadata": {},
   "outputs": [],
   "source": [
    "X_pad= X\n",
    "one_hot_labels = keras.utils.np_utils.to_categorical(Y, num_classes=4)"
   ]
  },
  {
   "cell_type": "code",
   "execution_count": 1088,
   "metadata": {},
   "outputs": [],
   "source": [
    "texts = {'X':X_pad,\n",
    "       'Y':Y}\n",
    "data = pd.DataFrame(texts)\n",
    "\n",
    "def split_data():\n",
    "    group_obj = data.groupby('Y')\n",
    "    group_0 = list(group_obj.groups[0]) \n",
    "    group_1 = list(group_obj.groups[1]) \n",
    "    group_2 = list(group_obj.groups[2])\n",
    "    group_3 = list(group_obj.groups[3])\n",
    "    num_0 = int(len(group_0)*0.1)\n",
    "    num_1 = int(len(group_1)*0.1)\n",
    "    num_2 = int(len(group_2)*0.1)\n",
    "    num_3 = int(len(group_3)*0.1)\n",
    "    validation_0 = random.sample(group_0, num_0) \n",
    "    validation_1 = random.sample(group_1, num_1) \n",
    "    validation_2 = random.sample(group_2, num_2)\n",
    "    validation_3 = random.sample(group_3, num_3)    \n",
    "    validation_index = validation_0+validation_1+validation_2+validation_3\n",
    "    validation_X = [X_pad[i] for i in validation_index]\n",
    "    validation_Y = [one_hot_labels[i] for i in validation_index]\n",
    "    X_train = [X_pad[i] for i in range(len(Y))  if i not in validation_index]\n",
    "    Y_train = [one_hot_labels[i] for i in range(len(one_hot_labels)) if i not in validation_index]\n",
    "    \n",
    "    return X_train,Y_train, validation_X,validation_Y"
   ]
  },
  {
   "cell_type": "code",
   "execution_count": 1089,
   "metadata": {},
   "outputs": [],
   "source": [
    " X_train,Y_train, validation_X,validation_Y =  split_data()"
   ]
  },
  {
   "cell_type": "code",
   "execution_count": 1098,
   "metadata": {},
   "outputs": [
    {
     "data": {
      "text/plain": [
       "(6071, 4)"
      ]
     },
     "execution_count": 1098,
     "metadata": {},
     "output_type": "execute_result"
    }
   ],
   "source": [
    "np.array(Y_train).shape"
   ]
  },
  {
   "cell_type": "code",
   "execution_count": 1100,
   "metadata": {},
   "outputs": [
    {
     "data": {
      "text/plain": [
       "array([[1., 0., 0., 0.],\n",
       "       [1., 0., 0., 0.],\n",
       "       [1., 0., 0., 0.],\n",
       "       ...,\n",
       "       [0., 0., 0., 1.],\n",
       "       [0., 0., 0., 1.],\n",
       "       [0., 0., 0., 1.]], dtype=float32)"
      ]
     },
     "execution_count": 1100,
     "metadata": {},
     "output_type": "execute_result"
    }
   ],
   "source": [
    "np.array(validation_Y)"
   ]
  },
  {
   "cell_type": "code",
   "execution_count": 1084,
   "metadata": {},
   "outputs": [
    {
     "data": {
      "text/plain": [
       "['It\\'s a do. I\\'ll have at him when he comes back.\" Meanwhile, the unconscious object of this soliloquy passed down the\\nHigh-street, until he came to Dr. Chillingworth\\'s, at whose door he\\nknocked. Now Mrs. Chillingworth had been waiting the whole night for the return\\nof the doctor, who had not yet made his appearance, and, consequently,\\nthat lady\\'s temper had become acidulated to an uncommon extent and when\\nshe heard a knock at the door, something possessed her that it could be\\nno other than her spouse, and she prepared to give him that warm\\nreception which she considered he had a right, as a married man, to\\nexpect after such conduct. She hurriedly filled a tolerably sized hand-basin with not the cleanest\\nwater in the world, and then, opening the door hurriedly with one hand,\\nshe slouced the contents into the face of the intruder, exclaiming,--\\n\\n\"Now you\\'ve caught it!\" \"D--n!\" said the Hungarian nobleman, and then Mrs. Chillingworth uttered\\na scream, for she feared she had made a mistake.',\n",
       " '\"I still want to help you,\" said the\\nwoman, \"come over here, we\\'ve got to talk about it. Don\\'t say any more\\nabout what danger I\\'m in, I only fear danger where I want to fear it. Come over here.\" She pointed to the podium and invited him to sit down\\non the step with her. \"You\\'ve got lovely dark eyes,\" she said after\\nthey had sat down, looking up into K. \\'s face, \"people say I\\'ve got nice\\neyes too, but yours are much nicer. It was the first thing I noticed\\nwhen you first came here. That\\'s even why I came in here, into the\\nassembly room, afterwards, I\\'d never normally do that, I\\'m not really\\neven allowed to.\" So that\\'s what all this is about, thought K., she\\'s\\noffering herself to me, she\\'s as degenerate as everything else around\\nhere, she\\'s had enough of the court officials, which is understandable I\\nsuppose, and so she approaches any stranger and makes compliments about\\nhis eyes. With that, K. stood up in silence as if he had spoken his\\nthoughts out loud and thus explained his action to the woman.',\n",
       " 'Kelson had for his audience, was the\\nannouncement that he could interpret the language of animals. At his\\ninvitation, a dozen members of the audience came on to the platform\\nand stood near the cage. Looking steadily at the tiger he then\\npronounced the mystic words \"Meta--ra--ka--va--avakana,\" holding up\\nhis right hand, with the thumb turned down and stretched right across\\nthe palm, and the little finger extended to the utmost. In an instant\\nthe great secret--the secret that Darwin had studied so strenuously\\nfor years--was revealed to him. The language of animals was olfactory. The tiger spoke to him through the sense of smell--through his nose\\ninstead of his ears. It regulated and modified the odour it gave off\\nfrom its body, and which worked its way out through the pores of its\\nskin, just as human beings regulate and modify the intonations of\\ntheir voices. Indeed, so delicate are the olfactory organs of animals\\nthat the faintest of these language smells makes an impression on\\nthem, which impression is at once interpreted by the brain. If an\\nanimal wishes to leave a message behind it, it merely impregnates some\\narticle--a leaf or a root, or a clump of grass--or merely the ether\\nwith a brain smell, and any other animal, happening to pass by the\\nspot, within a certain time (in favourable weather), will at once be\\nattracted by the smell, and be able to interpret it. That is the\\nreason one so often sees an animal suddenly stop at a spot and sniff\\nit--it is reading some message left there by some other animal.',\n",
       " '\"What did you do next?\" said the admiral.--\"Let\\'s know all while you are\\nabout it.\" \"I remained at the hangman\\'s house for some time, until all fear of\\ndiscovery was over, and then he removed me to a place of greater\\nsecurity, providing me from his own resources with the means of\\nexistence, until I had fully recovered my health, and then he told me to\\nshift for myself. \"During my confinement though, I had not been idle mentally, for I\\nconcocted a plan, by which I should be enabled not only to live well\\nmyself, but to pay to the hangman, whose name was Mortimore, the annual\\nsum I had agreed upon. I need not go into the details of this plan. Of\\ncourse it was neither an honest nor respectable one, but it succeeded,\\nand I soon found myself in a position to enable me thereby to keep my\\nengagement, as well as to supply me with means of plotting and planning\\nfor my future fortunes. \"I had never for a moment forgotten that so large a sum of money was\\nsomewhere concealed about Bannerworth Hall, and I still looked forward\\nto obtaining it by some means or another. \"It was in this juncture of affairs, that one night I was riding on\\nhorseback through a desolate part of England. The moon was shining\\nsweetly, as I came to a broad stream of water, across which, about a\\nmile further on, I saw that there was a bridge, but being unwilling to\\nwaste time by riding up to it, and fancying, by the lazy ripple of the\\nwaters, that the river was not shallow, I plunged my horse boldly into\\nthe stream. \"When we reached its centre, some sudden indisposition must have seized\\nthe horse, for instead of swimming on well and gallantly as it had done\\nbefore, it paused for a moment, and then plunged headlong into the\\ntorrent.',\n",
       " 'It was the\\nfall of dusk, and the ghost of slanting sunshine was as unreal as though\\nbadly painted. The garden stood at attention all about me. I cannot\\nexplain it, but I can tell it, I think, exactly as it happened, for it\\nremains vivid in me forever--that, for the first time, something almost\\nhappened, myself apparently the combining link through which it pressed\\ntowards delivery:\\n\\nI had already turned towards the house. In my mind were pictures--not\\nactual thoughts--of the motor, tea on the verandah, my sister, Mabel--\\nwhen there came behind me this tumultuous, awful rush--as I left the\\ngarden. The ugliness, the pain, the striving to escape, the whole\\nnegative and suppressed agony that was the Place, focused that second\\ninto a concentrated effort to produce a result. It was a blinding\\ntempest of long-frustrate desire that heaved at me, surging appallingly\\nbehind me like an anguished mob. I was in the act of crossing the\\nfrontier into my normal self again, when it came, catching fearfully at\\nmy skirts. I might use an entire dictionary of descriptive adjectives\\nyet come no nearer to it than this--the conception of a huge assemblage\\ndetermined to escape with me, or to snatch me back among themselves. My\\nlegs trembled for an instant, and I caught my breath--then turned and\\nran as fast as possible up the ugly terraces. At the same instant, as though the clanging of an iron gate cut short\\nthe unfinished phrase, I thought the beginning of an awful thing:\\n\\n\"The Damned ...\"\\n\\nLike this it rushed after me from that goblin garden that had sought to\\nkeep me:\\n\\n\"The Damned!\"',\n",
       " 'Nonetheless,\\nI have recently come to the conviction that it is not enough. I would\\nnaturally never attempt, considering that you are so much older and more\\nexperienced than I am, to convince you of my opinion; if I have ever\\nunintentionally done so then I beg your forgiveness, but, as you have\\njust said yourself, the circumstances are important enough and it is my\\nbelief that my trial needs to be approached with much more vigour than\\nhas so far been the case.\" \"I see,\" said the lawyer, \"you\\'ve become\\nimpatient.\" \"I am not impatient,\" said K., with some irritation and he\\nstopped paying so much attention to his choice of words. \"When I first\\ncame here with my uncle you probably noticed I wasn\\'t greatly concerned\\nabout my case, and if I wasn\\'t reminded of it by force, as it were, I\\nwould forget about it completely. But my uncle insisted I should allow\\nyou to represent me and I did so as a favour to him. I could have\\nexpected the case to be less of a burden than it had been, as the point\\nof taking on a lawyer is that he should take on some of its weight. But\\nwhat actually happened was the opposite. Before, the trial was never\\nsuch a worry for me as it has been since you\\'ve been representing me. When I was by myself I never did anything about my case, I was hardly\\naware of it, but then, once there was someone representing me,\\neverything was set for something to happen, I was always, without cease,\\nwaiting for you to do something, getting more and more tense, but you\\ndid nothing.',\n",
       " \"Aunt Janet is very proud, and would not\\n    accept any benefit. With me, of course, it is different, for since I\\n    was a wee child she has been like another mother to me, and I love\\n    her very much. Since my mother died--and she, of course, was\\n    all-in-all to me--there has been no other. And in such a love as\\n    ours pride has no place. Thank you again, dear uncle, and God bless\\n    you. Your loving nephew,\\n                                                        RUPERT SENT LEGER. ERNEST ROGER HALBARD MELTON'S RECORD--_Continued_. And now _re_ the remaining one of Sir Geoffrey's children, Roger. He was\\nthe third child and third son, the only daughter, Patience, having been\\nborn twenty years after the last of the four sons. Concerning Roger, I\\nshall put down all I have heard of him from my father and grandfather.\",\n",
       " 'Nothing! I began\\nto feel horribly tired and sleepy--so sleepy that it was only with\\nsupreme effort I could prevent my eyelids closing. Ah! I had it--a\\nwedge! I had a knife. Of wood there was plenty--a piece off the\\nwashstand, table, or chair. Anything would suffice. I essayed to\\nstruggle to the chair, my limbs tottered, my eyelids closed. Then the\\nshadow from the doorway moved towards and THROUGH me, and with the\\ncoldness of its passage I revived! With desperate energy I cut a couple\\nof chunks off the washstand, and paring them down, eventually succeeded\\nin slipping them in the crack of the door, and rendering it impossible\\nto open from the outside.',\n",
       " 'A shady avenue, entered by a wooden\\nswing gate bearing the superscription \"Hennersley\" in neat, white\\nletters, led by a circuitous route to it, and not a vestige of it\\ncould be seen from the road. In front of it stretched a spacious lawn,\\nflanked on either side and at the farthest extremity by a thick growth\\nof chestnuts, beeches, poplars, and evergreens. The house itself was curiously built. It consisted of two storeys, and\\nformed a main building and one wing, which gave it a peculiarly\\nlop-sided appearance that reminded me somewhat ludicrously of\\nChanticleer, with a solitary, scant, and clipped appendage. It was often on the tip of my tongue to ask my relatives the reason of\\nthis singular disparity; whether it was the result of a mere whim on\\nthe part of the architect, or whether it had been caused by some\\ncatastrophe; but my curiosity was always held in check by a strange\\nfeeling that my relatives would not like to be approached on the\\nsubject. My aunts Amelia and Deborah belonged to that class of\\npeople, unhappily rare, who possess a power of generating in others an\\ninstinctive knowledge of \"dangerous ground\"--a power which enabled\\nthem to avert, both from themselves and the might-be offender, many a\\npainful situation. To proceed--the nakedness of the walls of\\nHennersley was veiled--who shall say it was not designedly veiled--by\\na thick covering of clematis and ivy, and in the latter innumerable\\nspecimens of the feathered tribe found a sure and safe retreat. On entering the house, one stepped at once into a large hall. A\\ngallery ran round it, and from the centre rose a broad oak staircase. The rooms, with one or two exceptions, opened into one another, and\\nwere large, and low and long in shape; the walls and floors were of\\noak and the ceilings were crossed by ponderous oak beams.',\n",
       " 'You look on more as a\\nspectator, sympathising with the afflictions of either, than feeling the\\nfull sting of those afflictions yourself.\" \"Do I not feel acutely for you? I\\'m a lonely man in the world, and I\\nhave taught myself now to centre my affections in your family; my\\nrecollections of early years assist me in so doing. Believe me, both of\\nyou, that I am no idle spectator of your griefs, but that I share them\\nfully. If I advise you to be peaceful, and to endeavour by the gentlest\\nmeans possible to accomplish your aims, it is not that I would counsel\\nyou cowardice; but having seen so much more of the world than either of\\nyou have had time or opportunity of seeing, I do not look so\\nenthusiastically upon matters, but, with a cooler, calmer judgment, I do\\nnot say a better, I proffer to you my counsel.\" \"We thank you,\" said Henry; \"but this is a matter in which action seems\\nspecially called for. It is not to be borne that a whole family is to be\\noppressed by such a fiend in human shape as that Varney.\" \"Let me,\" said Marchdale, \"counsel you to submit to Flora\\'s decision in\\nthis business; let her wishes constitute the rules of action. She is the\\ngreatest sufferer, and the one most deeply interested in the termination\\nof this fearful business. Moreover she has judgment and decision of\\ncharacter--she will advise you rightly, be assured.\"',\n",
       " 'Externally, it was all one could desire: an antechamber to the great\\nlibrary, with not one, but two generous oak tables, to say nothing of\\nsmaller ones against the walls with capacious drawers. There were reading desks, mechanical devices for holding books, perfect\\nlight, quiet as in a church, and no approach but across the huge\\nadjoining room. Yet it did not invite. \"I hope you\\'ll be able to work here,\" said my little hostess the next\\nmorning, as she took me in--her only visit to it while I stayed in the\\nhouse--and showed me the ten-volume Catalogue. \"It\\'s absolutely quiet and no one will disturb you.\" \"If you can\\'t, Bill, you\\'re not much good,\" laughed Frances, who was on\\nher arm. \"Even I could write in a study like this!\" I glanced with pleasure at the ample tables, the sheets of thick\\nblotting paper, the rulers, sealing wax, paper knives, and all the other\\nimmaculate paraphernalia. \"It\\'s perfect,\" I answered with a secret\\nthrill, yet feeling a little foolish. This was for Gibbon or Carlyle,\\nrather than for my potboiling insignificancies.',\n",
       " \"He's mad on bicycling. He went in last year for the\\nTwo Miles Amateur Record. He'd have made it, too, if he could have got\\ninto better training. 'Then there's James, a sporting man. You wouldn't care for him. I always\\nthink he smells of the stable.' 'How horrid!' said Mrs. Darnell, finding her husband a little frank,\\nlowering her eyes as she spoke. 'Dickenson might amuse you,' Darnell went on.\",\n",
       " \"THE VOIVODIN JANET MACKELPIE'S NOTES. _May_ 21, 1908. As Rupert began to neglect his Journal when he was made a King, so, too,\\nI find in myself a tendency to leave writing to other people. But one\\nthing I shall not be content to leave to others--little Rupert. The baby\\nof Rupert and Teuta is much too precious a thing to be spoken of except\\nwith love, quite independent of the fact that he will be, in natural\\ncourse, a King! So I have promised Teuta that whatever shall be put into\\nthis record of the first King of the Sent Leger Dynasty relating to His\\nRoyal Highness the Crown Prince shall only appear in either her hand or\\nmy own. And she has deputed the matter to me. Our dear little Prince arrived punctually and in perfect condition. The\\nangels that carried him evidently took the greatest care of him, and\\nbefore they left him they gave him dower of all their best. He is a\\ndear!\",\n",
       " '\"Ay, I\\'m afraid that would not answer, but do you really think, admiral,\\nthat we shall effect anything by waiting here, and keeping watch and\\nward, not under the most comfortable circumstances, this first night of\\nthe Hall being empty.\" \"Well, I don\\'t know that we shall,\" said the admiral; \"but when you\\nreally want to steal a march upon the enemy, there is nothing like\\nbeginning betimes. We are both of opinion that Varney\\'s great object\\nthroughout has been, by some means or another, to get possession of the\\nhouse.\" \"Yes; true, true.\" \"We know that he has been unceasing in his endeavours to get the\\nBannerworth family out of it; that he has offered them their own price\\nto become its tenant, and that the whole gist of his quiet and placid\\ninterview with Flora in the garden, was to supply her with a new set of\\nreasons for urging her mother and brother to leave Bannerworth Hall,\\nbecause the old ones were certainly not found sufficient.\" \"True, true, most true,\" said Mr. Chillingworth, emphatically. \"You\\nknow, sir, that from the first time you broached that view of the\\nsubject to me, how entirely I coincided with you.\" \"Of course you did, for you are a honest fellow, and a right-thinking\\nfellow, though you are a doctor, and I don\\'t know that I like doctors\\nmuch better than I like lawyers--they\\'re only humbugs in a different\\nsort of way. But I wish to be liberal; there is such a thing as an\\nhonest lawyer, and, d----e, you\\'re an honest doctor!\"',\n",
       " 'The moment when she had gone across the\\nroom to stand beside him in his mesmeric struggle, had been the very\\nlimit of her voluntary action. It was quite bitter enough, she felt,\\nthat he did not come to her, but now that she had made that advance, she\\nfelt that any withdrawal on his part would, to a woman of her class, be\\nnothing less than a flaming insult. Had she not classed herself with his\\nnigger servant, an unreformed savage? Had she not shown her preference\\nfor him at the festival of his home-coming? Had she not . . . Lady\\nArabella was cold-blooded, and she was prepared to go through all that\\nmight be necessary of indifference, and even insult, to become chatelaine\\nof Castra Regis. In the meantime, she would show no hurry--she must\\nwait. She might, in an unostentatious way, come to him again.',\n",
       " 'The chains did their duty, keeping down a villain with the\\nsame means that they had held in ignominious confinement a true man. He was in a perfect agony, inasmuch as he considered that he would be\\nallowed to remain there to starve to death, thus achieving for himself a\\nmore horrible death than any he had ever thought of inflicting. \"Villain!\" exclaimed Charles Holland, \"you shall there remain; and, let\\nyou have what mental sufferings you may, you richly deserve them.\" He heeded not the cries of Marchdale--he heeded not his imprecations any\\nmore than he did his prayers; and the arch hypocrite used both in\\nabundance. Charles was but too happy once more to look upon the open\\nsky, although it was then in darkness, to heed anything that Marchdale,\\nin the agony to which he was now reduced, might feel inclined to say;\\nand, after glancing around him for some few moments, when he was free of\\nthe ruins, and inhaling with exquisite delight the free air of the\\nsurrounding meadows, he saw, by the twinkling of the lights, in which\\ndirection the town lay, and knowing that by taking a line in that path,\\nand then after a time diverging a little to the right, he should come to\\nBannerworth Hall, he walked on, never in his whole life probably feeling\\nsuch an enjoyment of the mere fact of existence as at such a moment as\\nthat of exquisite liberty. Our readers may with us imagine what it is to taste the free, fresh air\\nof heaven, after being long pent up, as he, Charles Holland, had been,\\nin a damp, noisome dungeon, teeming with unwholesome exhalations. They\\nmay well suppose with what an amount of rapture he now found himself\\nunrestrained in his movements by those galling fetters which had hung\\nfor so long a period upon his youthful limbs, and which, not\\nunfrequently in the despair of his heart, he had thought he should\\nsurely die in. And last, although not least in his dear esteem, did the rapturous\\nthought of once more looking in the sweet face of her he loved come\\ncross him with a gush of delight. \"Yes!\"',\n",
       " 'Henry had something of a struggle to keep down the rising anger, at\\nthese cool taunts of Varney; but he succeeded--and then he said,--\\n\\n\"I suspect Charles Holland, Sir Francis Varney, has met with unfair\\ntreatment, and that he has been unfairly dealt with, for an unworthy\\npurpose.\" \"Undoubtedly,\" said Varney, \"if the gentleman you allude to, has been\\nunfairly dealt with, it was for a foul purpose; for no good or generous\\nobject, my young sir, could be so obtained--you acknowledge so much, I\\ndoubt not?\" \"I do, Sir Francis Varney; and hence the purpose of my visit here--for\\nthis reason I apply to you--\"\\n\\n\"A singular object, supported by a singular reason. I cannot see the\\nconnection, young sir; pray proceed to enlighten me upon this matter,\\nand when you have done that, may I presume upon your consideration, to\\ninquire in what way I can be of any service to you?\" \"Sir Francis,\" said Henry, his anger raising his tones--\"this will not\\nserve you--I have come to exact an account of how you have disposed of\\nmy friend; and I will have it.\" \"Gently, my good sir; you are aware I know nothing of your friend; his\\nmotions are his own; and as to what I have done with him; my only answer\\nis, that he would permit me to do nothing with him, had I been so\\ninclined to have taken the liberty.\" \"You are suspected, Sir Francis Varney, of having made an attempt upon\\nthe life or liberty of Charles Holland; you, in fact, are suspected of\\nbeing his murderer--and, so help me Heaven! if I have not justice, I\\nwill have vengeance!\" \"Young sir, your words are of grave import, and ought to be coolly\\nconsidered before they are uttered. With regard to justice and\\nvengeance, Mr.',\n",
       " '\"I am not one disposed to do so; nor am I prepared to deny that such\\ndreadful beings may exist as vampyres. However, whether or not you\\nbelong to so frightful a class of creatures, I do not intend to leave\\nhere; but, I will make an agreement with you.\" Varney was silent; and after a few moments\\' pause, the other\\nexclaimed,--\\n\\n\"There are people, even now, watching the place, and no doubt you have\\nbeen seen coming into it.\" \"No, no, I was satisfied no one was here but you.\" \"Then you are wrong. A Doctor Chillingworth, of whom you know something,\\nis here; and him, you have said, you would do no harm to, even to save\\nyour life.\" \"I do know him. You told me that it was to him that I was mainly\\nindebted for my mere existence; and although I do not consider human\\nlife to be a great boon, I cannot bring myself to raise my hand against\\nthe man who, whatever might have been the motives for the deed, at all\\nevents, did snatch me from the grave.\" \"Upon my word,\" whispered the admiral, \"there is something about that\\nfellow that I like, after all.\" \"Hush!\"',\n",
       " 'He got the book from the library, and looked\\nout the passage:\\n\\n\"A great example we have from the observation of our learned friend Mr. Graves, in an AEgyptian idol cut out of Loadstone and found among the\\nMummies; which still retains its attraction, though probably taken out of\\nthe mine about two thousand years ago.\" The strangeness of the figure, and its being so close akin to his own\\nnature, attracted him. He made from thin wood a large circular runner,\\nand in front of it placed the weighty god, sending it up to the flying\\nkite along the throbbing cord. CHAPTER XIII--OOLANGA\\'S HALLUCINATIONS\\n\\n\\nDuring the last few days Lady Arabella had been getting exceedingly\\nimpatient. Her debts, always pressing, were growing to an embarrassing\\namount. The only hope she had of comfort in life was a good marriage;\\nbut the good marriage on which she had fixed her eye did not seem to move\\nquickly enough--indeed, it did not seem to move at all--in the right\\ndirection. Edgar Caswall was not an ardent wooer. From the very first\\nhe seemed _difficile_, but he had been keeping to his own room ever since\\nhis struggle with Mimi Watford. On that occasion Lady Arabella had shown\\nhim in an unmistakable way what her feelings were; indeed, she had made\\nit known to him, in a more overt way than pride should allow, that she\\nwished to help and support him.',\n",
       " 'She raised her hand, and, as before, I\\ncollapsed--spellbound--paralysed. No words of mine can convey all the\\nsensations I experienced as I sat there, forced to listen to the\\nmoaning and groaning of the woman whose fate had been entrusted to my\\nkeeping. Every second she grew worse, and each sound rang in my ears\\nlike the hammering of nails in her coffin. How long I endured such\\ntorment I cannot say, I dare not think, for, though the clock was\\nwithin a few feet of me, I never once thought of looking at it. At\\nlast the child rose, and, moving slowly from the bed, advanced with\\nbowed head towards the window. The spell was broken. With a cry of\\nindignation I literally bounded over the carpet and faced the\\nintruder. \"Who are you?\" I hissed. \"Tell me your name instantly!',\n",
       " '\"But we heard the gun,\" said a woman. \"Of course you did; it\\'s the powder that makes the noise, not the\\nbullet. You\\'ll see them all brought out safe wind and limb.\" This assurance satisfied the women to a certain extent, and such had\\nbeen their fear that they should have had to look upon the spectacle of\\ndeath, or of grievous wounds, that they were comparatively quite\\nsatisfied when they saw husbands, fathers, and brothers, only in the\\ncustody of the town officers. And very sheepish some of the fellows looked, when they were handed down\\nand handcuffed, and the more especially when they had been routed only\\nby a few blank cartridges--that sixpenny worth of powder had defeated\\nthem. They were marched off to the town gaol, guarded by the military, who now\\nprobably fancied that their night\\'s work was over, and that the most\\nturbulent and troublesome spirits in the town had been secured. Such, however, was not the case, for no sooner had comparative order\\nbeen restored, than common observation pointed to a dull red glare in\\nthe southern sky. In a few more minutes there came in stragglers from the open country,\\nshouting \"Fire! fire!\" with all their might.',\n",
       " 'He is young and has\\nnever been abroad, never even seen a large city, and his parents have\\nrequested me, as an old family friend living in Paris, to see that he is\\nplaced under good influences. He is to study art, but on no account would\\nhis parents wish him to live in the Latin Quarter if they knew of the\\nimmorality which is rife there.\" A sound like the click of a latch interrupted him and he raised his eyes,\\nbut not in time to see the maid slap the big-headed young man behind the\\nparlour-door. Madame coughed, cast a deadly glance behind her and then beamed on Dr. Byram. \"It ees well zat he come here. The pension more serious, il n\\'en existe\\npas, eet ees not any!\" she announced with conviction. So, as there was nothing more to add, Dr. Byram joined Hastings at the\\ngate.',\n",
       " 'We can give it away, but--I must either\\naccept or leave,\" and she repeated the shrugging gesture. She sat down\\non the chair facing me, staring helplessly at the carpet. \"You say there was a scene?\" I went on presently, \"She insisted?\" \"She begged me to continue,\" my sister replied very quietly. \"She\\nthinks--that is, she has an idea or theory that there\\'s something about\\nthe place--something she can\\'t get at quite.\" Frances stammered badly. She knew I did not encourage her wild theories. \"Something she feels--yes,\" I helped her, more than curious. \"Oh, you know what I mean, Bill,\" she said desperately.',\n",
       " 'You\\'ve only to tell that daughter of yours to\\naccept me, and I\\'ll undertake all your troubles shall cease.\" \"I\\'ll see you hanged first,\" John Martin answered. \"Very well, then, you old mule,\" Hamar shouted, \"look out for\\nyourself--and Miss Gladys.\" CHAPTER XXIII\\n\\nLOVE\\n\\n\\nTo bring about plagues of insects Hamar had resorted to a very simple\\nmethod. He had first of all made a wax image representing a\\ncockroach--scorpion--centipede, or whatever other species came into\\nhis mind. Then, placing the image he had made in front of him, and\\nrepeating the prayer he had learned from the Unknown, through the\\nmedium of Mrs. Anderson-Waite\\'s table, he had concentrated body, soul,\\nand spirit on plaguing Gladys with the insect, which the image\\nrepresented. When his concentration reached the highest degree,\\ninsects in their actual physical bodies were transported from the\\ntropics;[23] but when he was unable to concentrate to the utmost, only\\nthe ethereal projections of the insects were obtainable; hence the\\nhybrid--partly scorpion and partly beetle, that appeared and\\ndisappeared in Gladys\\'s bed and bedroom. To produce the rappings on the walls of Gladys\\'s room, he had made a\\nwax representation of a wall, and whilst concentrating to the very\\nutmost, had struck it with his knuckles. The plaguing of the servants Hamar had also accomplished by means of\\nimages and concentration.',\n",
       " '\"Are you armed, sir?\" said Marchdale. \"In this stick,\" said the doctor, \"is a sword, the exquisite temper of\\nwhich I know I can depend upon, and I fully intended to run through any\\none whom I saw that looked in the least of the vampyre order.\" \"You would have done quite right,\" replied Mr. Marchdale. \"I have a\\nbrace of pistols here, loaded with ball; will you take one, Henry, if\\nyou please, and then we shall be all armed.\" Thus, then, prepared for any exigency, they made the whole round of the\\nhouse; but found all the fastenings secure, and everything as quiet as\\npossible. \"Suppose, now, we take a survey of the park outside the garden wall,\"\\nsaid Mr. Marchdale. This was agreed to; but before they had proceeded far, Mr.',\n",
       " 'I took her aboard my ship, and set sail with her. A few weeks\\nflew like hours; but one day we were hailed by a vessel, and when we\\nneared her, she manned a boat and brought a letter on board, addressed\\nto Belinda. It was from her father, written in his last moments. It\\nbegan with a curse and ended with a blessing. There was a postscript in\\nanother hand, to say the old man died of grief. She read it by my side\\non the quarter-deck. It dropped from her grasp, and she plunged into the\\nsea. Jack Pringle went after her; but I never saw her again.\" \"Gracious Heavens! what a tragedy!\"',\n",
       " 'The coincidence of the manner of his\\ndeath, with which the story closes, is wisely left to make its\\nown inevitable impression. Some of the stories in _Blackwood_ are the more striking because\\nthey depend for their effect on natural, not supernatural,\\nhorror. We may feel we are immune from the visits of ghosts, but\\nthe accident in _The Man in the Bell_ (1821) is one which might\\nhappen to anyone. The maddening clangour of sound, the frightful\\nimages that crowd into the reeling brain of the man suspended in\\nthe belfry, are described with an unflinching realism that\\nreminds us of _The Pit and the Pendulum_. To the same class\\nbelongs the skilfully constructed _Iron Shroud_ (1830), by\\nWilliam Mudford, an author who, as Scott remarks in his journal,\\n\"loves to play at cherry-pit with Satan.\" The suspense is\\ningeniously maintained as, one by one, the windows of the iron\\ndungeon disappear, until, at last, the massive walls and\\nponderous roof contract into the victim\\'s iron shroud. Wilkie\\nCollins\\' story, _A Terribly Strange Bed_, which describes the\\nstratagem of a gang of cardsharpers for getting rid of those who\\nhappen to win money from them, is in the same vein. The canopy\\nslowly descends during the night, and smothers its victim. A\\nsimilar motive is used, with immeasurably finer effect, by Joseph\\nConrad in his story of the disappearance of the sailor at the\\nlonely inn in the mountains of Spain. The experience of Byrne in\\n_The Inn of the Two Witches_[129] is a masterpiece in the\\npsychology of terror.',\n",
       " '\"Oh! I guessed you were an artist--and had probably spent some time in\\nParis\"--Gladys rejoined, \"by the way you looked at the house and\\ngarden. I could read appreciation in your eyes and gesture; such\\nappreciation, as I knew, could only come from an artist. G.W. Barnett\\nhelped me in planning this cottage and the garden.\" \"What! Barnett the landscape painter! I am a great admirer of his\\nwork. Were you a pupil of his?\" \"Yes, he was one of the visiting R.A.',\n",
       " 'There was a full\\nattendance of Members of the Council, together with the Vladika, the\\nArchbishop, the Archimandrites of Spazac, of Ispazar, of Domitan, and\\nAstrag; the Chancellor; the Lord of the Exchequer; the President of the\\nHigh Court of National Law; the President of the Council of Justice; and\\nsuch other high officials as it is customary to summon to meetings of the\\nNational Council on occasions of great importance. The names of all\\npresent will be found in the full report, wherein are given the ipsissima\\nverba of the various utterances made during the consideration of the\\nquestions discussed, the same having been taken down in shorthand by the\\nhumble scribe of this precis, which has been made for the convenience of\\nMembers of the Council and others. The Voivode Peter Vissarion, obedient to the request of the Council, was\\nin attendance at the State House, waiting in the \"Chamber of the High\\nOfficers\" until such time as he should be asked to come before the\\nCouncil. The President put before the National Council the matter of the new\\nConstitution, outlining the headings of it as drawn up by the High Court\\nof National Law, and the Constitution having been formally accepted _nem. con._ by the National Council on behalf of the people, he proposed that\\nthe Crown should be offered to the Voivode Peter Vissarion, with\\nremainder to the \"Gospodar Rupert\" (legally, Rupert Sent Leger), husband\\nof his only child, the Voivodin Teuta. This also was received with\\nenthusiasm, and passed _nem. con._\\n\\nThereupon the President of Council, the Archbishop, and the Vladika,\\nacting together as a deputation, went to pray the attention of the\\nVoivode Peter Vassarion. When the Voivode entered, the whole Council and officials stood up, and\\nfor a few seconds waited in respectful silence with heads bowed down. Then, as if by a common impulse--for no word was spoken nor any signal\\ngiven--they all drew their handjars, and stood to attention--with points\\nraised and edges of the handjars to the front. The Voivode stood very still.',\n",
       " 'The thought that here he was entirely cut off from the air made\\nhim feel dizzy. He tapped lightly on the bedspread beside him and, with\\na weak voice, said, \"That is very inconvenient and unhealthy.\" \"Oh no,\"\\nsaid the painter in defence of his window, \"as it can\\'t be opened this\\nroom retains the heat better than if the window were double glazed, even\\nthough it\\'s only a single pane. There\\'s not much need to air the room\\nas there\\'s so much ventilation through the gaps in the wood, but when I\\ndo want to I can open one of my doors, or even both of them.\" K. was\\nslightly consoled by this explanation and looked around to see where the\\nsecond door was. The painter saw him do so and said, \"It\\'s behind you,\\nI had to hide it behind the bed.\" Only then was K. able to see the\\nlittle door in the wall. \"It\\'s really much too small for a studio\\nhere,\" said the painter, as if he wanted to anticipate an objection K.\\nwould make. \"I had to arrange things as well as I could. That\\'s\\nobviously a very bad place for the bed, in front of the door.',\n",
       " \"And yet he was her husband,\\nand they had been married nearly a year; and yet, whenever she spoke, he\\nhad to listen to the sense of what she said, constraining himself, lest\\nhe should believe she was a magic creature, knowing the secrets of\\nimmeasurable delight. He looked out through the leaves of the mulberry tree. Mr. Sayce had\\ndisappeared from his view, but he saw the light-blue fume of the cigar\\nthat he was smoking floating slowly across the shadowed air. He was\\nwondering at his wife's manner when Sayce's name was mentioned, puzzling\\nhis head as to what could be amiss in the household of a most\\nrespectable personage, when his wife appeared at the dining-room window\\nand called him in to tea. She smiled as he looked up, and he rose\\nhastily and walked in, wondering whether he were not a little 'queer,'\\nso strange were the dim emotions and the dimmer impulses that rose\\nwithin him. Alice was all shining purple and strong scent, as she brought in the\\nteapot and the jug of hot water. It seemed that a visit to the kitchen\\nhad inspired Mrs. Darnell in her turn with a novel plan for disposing of\\nthe famous ten pounds. The range had always been a trouble to her, and\\nwhen sometimes she went into the kitchen, and found, as she said, the\\nfire 'roaring halfway up the chimney,' it was in vain that she reproved\\nthe maid on the ground of extravagance and waste of coal.\",\n",
       " '\"Say not so; you will be more composed in a few hours, and then you can\\ntell us what has occurred.\" \"I will tell you now. I will tell you now.\" She placed her hands over her face for a moment, as if to collect her\\nscattered, thoughts, and then she added,--\\n\\n\"I was awakened by the storm, and I saw that terrible apparition at the\\nwindow. I think I screamed, but I could not fly. Oh, God! I could not\\nfly. It came--it seized me by the hair. I know no more. I know no more.\"',\n",
       " '\"My wife and I left the place at once, and for a long time I lived in a\\nhell of suspense lest she should develop the infernal disease. By a\\nmerciful providence, however, she did no such thing, but, on the\\ncontrary, picked up in health in the most marvellous fashion; indeed,\\nshe only told me yesterday, she felt better than she had done for years. I\\'ve told you the story, O\\'Donnell--and it is true in every\\ndetail--because it goes a long way to substantiate your theory that\\nanimals, as well as human beings, have a future life.\" \"I am absolutely sure they have!\" I replied. _Jungle Animals and Psychic Faculties_\\n\\nIt is, of course, impossible to say whether animals of the jungle\\npossess psychic faculties, without putting them to the test, and this,\\nfor obvious reasons, is extremely difficult. But since I have found that\\nsuch properties are possessed--in varying degree--by all animals I have\\ntested, it seems only too probable that bears and tigers, and all beasts\\nof prey, are similarly endowed. It would be interesting to experiment with a beast of prey in a haunted\\nlocality; to observe to what extent it would be aware of the advent of\\nthe Unknown, and to note its behaviour in the actual presence of the\\nphenomena. PART III\\n\\nBIRDS AND THE UNKNOWN\\n\\n\\n\\n\\nCHAPTER VII\\n\\nBIRDS AND THE UNKNOWN\\n\\n\\nAs Edgar Allan Poe has suggested in his immortal poem of \"The Raven,\"\\nthere is a strong link between certain species of birds and the Unknown. We all know that vultures, kites and crows scent dead bodies from a\\ngreat way off, but we don\\'t all know that these and other kinds of birds\\npossess, in addition, the psychic property of scenting the advent not\\nonly of the phantom of death, but of many, if not, indeed, all other\\nspirits.',\n",
       " 'Deign to recall that your mission was\\nconfided to you by the Ministry of War, while I hold mine on behalf of\\nthe Ministry of Public Instruction. A different origin justifies our\\ndifferent aims. It certainly explains, I readily concede that to you,\\nwhy what I am in search of has no practical value.\" \"You are also authorized by the Ministry of Commerce,\" I replied,\\nplaying my next card. \"By this chief you are instructed to study the\\npossibility of restoring the old trade route of the ninth century. But\\non this point don\\'t attempt to mislead me; with your knowledge of the\\nhistory and geography of the Sahara, your mind must have been made up\\nbefore you left Paris. The road from Djerid to the Niger is dead,\\nstone dead. You knew that no important traffic would pass by this\\nroute before you undertook to study the possibility of restoring it.\" Morhange looked me full in the face. \"And if that should be so,\" he said with the most charming attitude,\\n\"if I had before leaving the conviction you say, what do you conclude\\nfrom that?\"',\n",
       " 'They can seal up the\\nrecords on that!\" Sandy took over the job. What was transmitted to Earth, of course,\\ncould be picked up anywhere over an entire hemisphere. Somebody would\\nassuredly pass on what they overheard to, say, nations the United\\nStates would rather have behind it than ahead of it in space-travel\\nequipment. Burke\\'s suggestion of a cipher and instructions changed his\\nentire status with authority. They\\'d rather have had him come back, but\\nthis was second best, and they took it. From Burke\\'s standpoint it was the only thing to do. He had no official\\nstanding to lend weight to his claim that lunatic magnet-cores with\\ninsanely complicated windings would amount to space-drive units. If he\\nreturned, in the nature of things there would be a long delay before\\nmere facts could overcome theoreticians\\' convictions. But now he was\\nforty-five thousand miles out from Earth.',\n",
       " 'The plaza of Zodanga covers a square mile and is bounded by the palaces\\nof the jeddak, the jeds, and other members of the royalty and nobility\\nof Zodanga, as well as by the principal public buildings, cafes, and\\nshops. As I was crossing the great square lost in wonder and admiration of the\\nmagnificent architecture and the gorgeous scarlet vegetation which\\ncarpeted the broad lawns I discovered a red Martian walking briskly\\ntoward me from one of the avenues. He paid not the slightest attention\\nto me, but as he came abreast I recognized him, and turning I placed my\\nhand upon his shoulder, calling out:\\n\\n\"Kaor, Kantos Kan!\" Like lightning he wheeled and before I could so much as lower my hand\\nthe point of his long-sword was at my breast. \"Who are you?\" he growled, and then as a backward leap carried me fifty\\nfeet from his sword he dropped the point to the ground and exclaimed,\\nlaughing,\\n\\n\"I do not need a better reply, there is but one man upon all Barsoom\\nwho can bounce about like a rubber ball. By the mother of the further\\nmoon, John Carter, how came you here, and have you become a Darseen\\nthat you can change your color at will?\" \"You gave me a bad half minute my friend,\" he continued, after I had\\nbriefly outlined my adventures since parting with him in the arena at\\nWarhoon. \"Were my name and city known to the Zodangans I would shortly\\nbe sitting on the banks of the lost sea of Korus with my revered and\\ndeparted ancestors. I am here in the interest of Tardos Mors, Jeddak\\nof Helium, to discover the whereabouts of Dejah Thoris, our princess.',\n",
       " 'He felt that his purpose must seem\\nnakedly obvious now. The old man\\'s eyes were twinkling amusedly. \"I guess you get off here,\"\\nhe said. \"I hope you catch up with your work soon, Roy. You really\\nshould take some time off for relaxation each day.\" \"I\\'ll try, sir.\" Walton stepped out of the tube and returned FitzMaugham\\'s smile as the\\ndoor closed again. Bitter thoughts assailed him as soon as he was alone. _Some fine criminal you are. You\\'ve given the show away already!',\n",
       " 'Wayne nodded, frowning. \"Yeah, but who is Masters? This is the queerest\\nthing I ever heard of.\" Footsteps sounded in the corridor outside. \"Better put your helmet on,\" Wayne advised. \"Whoever\\'s coming might not\\nlike to see you this way.\" Quickly, she slipped the helmet back on. \"I don\\'t know what\\'s going on,\"\\nshe said. \"But I intend to find out.\" *       *       *       *       *\\n\\nOne of the medics entered the cell without knocking and came up to\\nSherri.',\n",
       " 'And, before his sudden\\ndeath during a disagreement in Miami, Giacomo \"Jack the Ripper\"\\nManelli was proud of his son. \"Geez,\" he often said. \"Whattakid, huh? Whattakid!\" At the war\\'s end, young Cesare, having proven himself a man, took unto\\nhimself a nickname and a shotgun. He did not have to use the shotgun\\nvery much, after the first few lessons; soon he was on his way to the\\ntop. There was nowhere for Cesare \"Big Cheese\" Antonio Manelli to go,\\nexcept up. Straight up. Now, in 1973, he occupied a modestly opulent office on Madison Avenue,\\nwhere he did his modest best to pretend to the world at large that he\\nwas only a small cog--indeed, an almost invisible cog--in a large\\nadvertising machine. His best was, for all practical purposes, good\\nenough.',\n",
       " '\"That could not be said of any men worth calling men. There were, of\\ncourse, the dandies, but most men paid too little attention to their\\nappearance rather than too much.\" \"That is to say, one sex paid too much attention to dress and the other\\ntoo little?\" \"That was it.\" \"Very well; the effect of economic equality of the sexes and the\\nconsequent independence of women at all times as to maintenance upon men\\nis that women give much less thought to dress than in your day and men\\nconsiderably more. No one would indeed think of suggesting that either\\nsex is nowadays more absorbed in setting off its personal attractions\\nthan the other. Individuals differ as to their interest in this matter,\\nbut the difference is not along the line of sex.\" \"But why do you attribute this miracle,\" I exclaimed, \"for miracle it\\nseems, to the effect of economic equality on the relation of men and\\nwomen?\" \"Because from the moment that equality became established between them it\\nceased to be a whit more the interest of women to make themselves\\nattractive and desirable to men than for men to produce the same\\nimpression upon women.\" \"Meaning thereby that previous to the establishment of economic equality\\nbetween men and women it was decidedly more the interest of the women to\\nmake themselves personally attractive than of the men.\"',\n",
       " 'He was without a horse and lost\\nin these haunted woods, and that staring deformed thing at his feet was\\na mute evidence of the horrors that lurked in the forest. He stood\\nalmost holding his breath in his painful intensity, straining his ears\\nfor some crack of twig or rustle of grass. When a sound did come he started violently. Suddenly out on the night\\nair broke the scream of a terrified horse. His stallion! There were\\npanthers in the wood--or--ghouls ate beasts as well as men. He broke savagely through the brush in the direction of the sound,\\nwhistling shrilly as he ran, his fear drowned in berserk rage. If his\\nhorse was killed, there went his last chance of following Beloso and\\nrecovering the jewel. Again the stallion screamed with fear and fury,\\nsomewhere nearer. There was a sound of lashing heels, and something that\\nwas struck heavily and gave way.',\n",
       " '\"So be it,\" I said, too hot to care what happened. \"I have no levee\\ndress with me. I lost my luggage check some time ago, but if you will\\nwait outside I will be with you in a moment.\" Hastily tidying myself up, and giving my hair a comb, as though just\\noff to see Mr. Secretary for the Navy, or on the way to get a senator\\nto push a new patent medicine for me, I rejoined my guide outside, and\\ntogether we crossed the wide courtyard, entered the great log-built\\nportals of Ar-hap\\'s house, and immediately afterwards found ourselves\\nin a vast hall dimly lit by rays coming in through square spaces under\\nthe eaves, and crowded on both sides with guards, courtiers, and\\nsupplicants. The heat was tremendous, the odour of Thither men and the\\nill-dressed hides they wore almost overpowering. Yet little I recked\\nfor either, for there at the top of the room, seated on a dais made of\\nrough-hewn wood inlet with gold and covered with splendid furs, was\\nAr-hap himself. A fine fellow, swarthy, huge, and hairy, at any other time or place I\\ncould have given him due admiration as an admirable example of the\\nsavage on the borderland of grace and culture, but now I only glanced\\nat him, and then to where at his side a girl was crouching, a gem of\\nhuman loveliness against that dusky setting. It was Heru, my ravished\\nprincess, and, still clad in her diaphanous Hither robes, her face\\nwhite with anxiety, her eyes bright as stars, the embodiment of\\nhelpless, flowery beauty, my heart turned over at sight of her. Poor girl!',\n",
       " 'Pinched, pounded,\\nand thumped until I was black and blue, yet I do not think that their\\ntreatment was dictated by either cruelty or malice--I was a curiosity,\\na freak, a new plaything, and their childish minds required the added\\nevidence of all their senses to back up the testimony of their eyes. Presently they dragged me within the village, which consisted of\\nseveral hundred rude shelters of boughs and leaves supported upon the\\nbranches of the trees. Between the huts, which sometimes formed crooked streets, were dead\\nbranches and the trunks of small trees which connected the huts upon\\none tree to those within adjoining trees; the whole network of huts and\\npathways forming an almost solid flooring a good fifty feet above the\\nground. I wondered why these agile creatures required connecting bridges\\nbetween the trees, but later when I saw the motley aggregation of\\nhalf-savage beasts which they kept within their village I realized the\\nnecessity for the pathways. There were a number of the same vicious\\nwolf-dogs which we had left worrying the dyryth, and many goatlike\\nanimals whose distended udders explained the reasons for their presence. My guard halted before one of the huts into which I was pushed; then\\ntwo of the creatures squatted down before the entrance--to prevent my\\nescape, doubtless. Though where I should have escaped to I certainly\\nhad not the remotest conception. I had no more than entered the dark\\nshadows of the interior than there fell upon my ears the tones of a\\nfamiliar voice, in prayer. \"Perry!\" I cried.',\n",
       " 'His brain still reeling\\nfrom the effects of Coxine\\'s sneak attack, he staggered over to his\\nknees beside him. \"Astro, Astro--\" Strong called. \"Astro, snap out of it!\" The big Venusian moaned and opened his eyes. He sat bolt upright. \"Captain Strong! What happened?\" \"I\\'m not too sure, Astro,\" said Strong. \"All I remember is Coxine\\nslugging me.\" As they struggled to their feet, they suddenly noticed the towering\\ncolumns of smoke rising into the air.',\n",
       " '\"A strong man, a wise man, a man\\nwho could guide her and be as adviser and husband to her.\" Kelly blinked, then laughed nervously. \"Don\\'t look at me! I mean she\\'s\\na cute kid, nice girl, make some man a wonderful wife, but I\\'m not the\\nmarrying kind, you know what I mean?\" \"Johnny,\" said Beliakoff, \"I\\'d like to have a serious talk with you.\" Nob led them to a vacant room and left discreetly. \"I won\\'t do it!\" Kelly declared bluntly. \"You have to,\" Beliakoff said. \"You got us into this mess.',\n",
       " '\"Not by a long shot,\" replied Dr. Bird promptly as he rose to his feet. \"Fire away, old fellow. I\\'ll talk.\" \"What are your names?\" \"I am Addison Sims of Seattle,\" replied Dr. Bird gravely, \"and my\\nfriends are Mr. Earle Liedermann and Mr. Bernarr Macfadden. You may have\\nread of us in the American magazines.\"',\n",
       " \"But at this depth of some yards, the Nautilus\\nwas unmoved by its fury and reposed peacefully in still water. So we progressed, incessantly charmed by some new marvel. The days\\npassed rapidly away, and I took no account of them. Ned, according to\\nhabit, tried to vary the diet on board. Like snails, we were fixed to\\nour shells, and I declare it is easy to lead a snail's life. Thus this life seemed easy and natural, and we thought no longer of the\\nlife we led on land; but something happened to recall us to the\\nstrangeness of our situation. On the 18th of January, the Nautilus was in 105° long. and 15°\\nS. lat. The weather was threatening, the sea rough and rolling. There\\nwas a strong east wind.\",\n",
       " 'Personal and urgent, sir.\" The old man grumbled to himself, but nodded. The aide placed a small\\ncrystalline sphere on the grass before him. The air above the sphere\\nstarted to vibrate and glow. \"Sir Harold Spencer here,\" the commander said. The bubbling air seemed to draw in on itself and take solid form. Dr. Leoh sat at a desk chair and looked up at the standing commander. \"Harold, it\\'s a pleasure to see you once again.\" Spencer\\'s stern eyes softened, and his beefy face broke into a\\nwell-creased smile.',\n",
       " 'At the end of\\nthree months I was able to decipher any inscriptions in Tifinar. You\\nknow that Tifinar is the national writing of the Tuareg, the\\nexpression of this Temachek language which seems to us the most\\ncurious protest of the Targui race against its Mohammedan enemies. \"Dom Granger, in fact, believed that the Tuareg are Christians, dating\\nfrom a period which it was necessary to ascertain, but which coincided\\nno doubt with the splendor of the church of Hippon. Even better than\\nI, you know that the cross is with them the symbol of fate in\\ndecoration. Duveyrier has claimed that it figures in their alphabet,\\non their arms, among the designs of their clothes. The only tattooing\\nthat they wear on the forehead, on the back of the hand, is a cross\\nwith four equal branches; the pummels of their saddles, the handles of\\ntheir sabres, of their poignards, are cross-shaped. And is it\\nnecessary to remind you that, although Islam forbids bells as a sign\\nof Christianity, the harness of Tuareg camels are trimmed with bells? \"Neither Dom Granger nor I attach an exaggerated importance to such\\nproofs, which resemble too much those which make such a display in the\\n_Genius of Christianity._ But it is indeed impossible to refuse all\\ncredence to certain theological arguments. Amanai, the God of the\\nTuareg, unquestionably the Adonai of the Bible, is unique. They have a\\nhell, \\'Timsi-tan-elekhaft,\\' the last fire, where reigns Iblis, our\\nLucifer.',\n",
       " 'The taxi was on a smooth turnpike. It made swift time. Twice Hugo\\nsatisfied the driver that the direction was all right. At last, on a\\ndeserted stretch, Hugo called to the driver to stop. McClaren thought\\nthat he was going to die. He did not plead. Hugo still held him by the\\narm and helped him from the cab. \"Got any money on you?\" Hugo asked. \"About twenty dollars.\"',\n",
       " 'Meillard asked anxiously. \"Calling the reserve in. I\\'m not taking chances on this.\" He spoke\\nagain into the phone, then called over his shoulder: \"Rienet; three\\none-second bursts, in the air!\" A Marine pointed a submachine gun skyward and ripped off a string of\\nshots, then another, and another. There was silence after the first\\nburst. Then a frightful howling arose. \"Luis, you imbecile!\" Meillard was shouting. Gofredo jumped onto the top of an airjeep, where they could all\\nsee him; drawing his pistol, he fired twice into the air.',\n",
       " 'But I\\'d like to go\\nback and see what the old life was like, now that I know what it\\'s like\\nto be on the other side for a while.\" \"It\\'ll hurt when you find out, Rolf.\" \"I\\'ll take that chance. But I want to go. Maybe my grandmother\\'ll be\\nthere. The surgeons made her young and pretty again every few years; she\\nlooked like my sister when I left.\" Laney nodded her head. \"There\\'s no point arguing with him, Kanaday. He\\nhas to go back there and find out, so let him alone.\" Rolf smiled.',\n",
       " 'I want to find that\\nsecret.\" [Footnote 1: Islands of Space.] Stel Felso Theu was looking out through the window at a group of men\\nexcitedly beckoning. He called the attention of the others to them, and\\nhimself went out. Arcot and Wade joined him in a moment. \"They tell me that Fellsheh, well to the poleward of here has used four\\nof its eight shots. They are still being attacked,\" explained the\\nTalsonian gravely. \"Well, get in,\" snapped Arcot as he ran back to the ship. Stel Felso\\nhastily followed, and the _Ancient Mariner_ shot into the air, and\\ndarted away, poleward, to the Talsonian\\'s directions. The ground fled\\nbehind them at a speed that made the scientist grip the hand-rail with a\\ntenseness that showed his nervousness.',\n",
       " 'Never again might I see dear old Perry, nor\\nGhak the Hairy One, nor Dacor the Strong One, nor that other infinitely\\nprecious one--my sweet and noble mate, Dian the Beautiful! But even so I was glad to tread once more the surface of Pellucidar. Mysterious and terrible, grotesque and savage though she is in many of\\nher aspects, I can not but love her. Her very savagery appealed to me,\\nfor it is the savagery of unspoiled Nature. The magnificence of her tropic beauties enthralled me. Her mighty land\\nareas breathed unfettered freedom. Her untracked oceans, whispering of virgin wonders unsullied by the eye\\nof man, beckoned me out upon their restless bosoms. Not for an instant did I regret the world of my nativity. I was in\\nPellucidar. I was home.',\n",
       " 'Mallory, what\\'s the last thing horses do before they go to\\nthe post?\" \"Check the tote board,\" I said promptly, \"to find out if I\\'ve got any\\nmoney on them. Horses hate me. They\\'ve formed an equine conspiracy to\\nprove to me the ancient adage that a fool and his money are soon\\nparted.\" \"Wait a minute!\" chimed in Joyce thoughtfully. \"I know what Sandy means. They weigh in. Is that right?\" \"Exactly!',\n",
       " 'That\\'s the whole story. Guess it took a few days. How come you\\ndidn\\'t see me?\" \"I suppose I never looked back there,\" he admitted. \"Quick enough,\\nI found I didn\\'t need supplies. Funny, I thought I opened all the\\ncompartments, but I don\\'t really remember--\"\\n\\nShe looked at the inscription on the wall. \"What\\'s that?\" \"I thought I\\'d leave a sort of monument--\"\\n\\n\"Who\\'s going to read it?\" she asked practically. \"No one, probably.',\n",
       " '\"Oh, Lawd!\" he groaned, unconsciously--to have a cold voice ring in\\nhis earphones. \"Quiet!\" it snapped. \"They\\'re entering.\" The negro threw a switch on his helmet so he could catch outside\\nnoises. His body tensed. From above, unmistakably, had come the hiss\\nof the inner port-lock door opening. And again, moments later, the\\nhiss echoed. Twice!',\n",
       " \"They lived to work and serve the greater need, that was all. No, it\\nwas more the feelings and emotions that the long pilgrimage evoked in\\nhim, seeming almost to rise from the vast loneliness of his world. For\\nthough the man's spirit had died or moved on, his sensations and\\nexperience had not. They lived on within Simin, and sometimes puzzled\\nor even frightened him. He understood, and knew this was necessary;\\nbut the knowledge did not make it easier. WHAT A TORTURED RACE THEY MUST BE, he thought. SO TORN BETWEEN DESIRE\\nAND FEAR. THEY ARE GIVEN NO ROLE, NO CLEAR PLACE. THEY MUST FIND IT,\\nAS WE MUST FIND MOISTURE IN AN ARID LAND. It was this fear of frustration and fruitless searching that he felt\\nmost deeply, because it had for so long been a part of his own\\nexistence.\",\n",
       " 'He started to close the hatch, and one of the young men pointed\\nsuddenly to the sack clipped to Shearing\\'s belt. \"You\\'ve been stealing something.\" \"Tell that to Bellaver.\" \"You bet I will. The fullest extent of the law, mister! The fullest\\nextent--\"\\n\\nThe hatch closed. Shearing jammed the fastening mechanism so it could\\nnot be turned from the inside. Then he went and stood beside Hyrst in\\nthe glimmering plain, watching the ship drop down out of the Rings. Hyrst said, \"They\\'ll tell Bellaver.\" \"Naturally.\"',\n",
       " 'The others, accordingly, waited while Cosmo Versál, greatly impeded by\\nhis extraordinary garment, clambered up to the front of the figure. There he saw something which redoubled his amazement. On the broad breast he saw a representation of a world overwhelmed with\\na deluge and encircling it was what he instantly concluded to be the\\npicture of a nebula. Underneath, in ancient Egyptian hieroglyphics, with\\nwhich Cosmo was familiar, was an inscription in letters of gold, which\\ncould only be translated thus:\\n\\n  I Come Again--\\n  At the End of Time. \"Great Heavens!\" he said to himself. \"It is a prophecy of the Second\\nDeluge!\" [Illustration: \"IT IS A PROPHECY OF THE SECOND DELUGE.\"] He continued to gaze, amazed, at the figure and the inscription, until\\nDe Beauxchamps clambered to his side and indicated to him that it was\\nnecessary that they should ascend without further delay, showing him by\\nsigns that the air-renewing apparatus would give out. With a last lingering look at the figure, Cosmo imitated the others by\\ndetaching the weights from below his feet, and a minute later they were\\nall shooting rapidly toward the surface of the sea, De Beauxchamps, as\\nhe afterwards declared, uttering a prayer for the repose of the _Jules\\nVerne_.',\n",
       " 'When they sank out of sight it was supposed that the god had accepted\\nthe present, and would show his gratitude for it by favoring winds and\\npeaceful weather. \"A thousand years afterward history speaks of the occurrence derisively,\\nas an absurd superstition, and at the same time they believed in and\\nlauded a more absurd and cruel religion. They worshipped an imaginary\\nbeing who had created and possessed absolute control of everything. Some\\nof the human family it had pleased him to make eminently good, while\\nothers he made eminently bad. For those whom he had created with evil\\ndesires, he prepared a lake of molten fire into which they were to be\\ncast after death to suffer endless torture for doing what they had been\\nexpressly created to do. Those who had been created good were to be\\nrewarded for following out their natural inclinations, by occupying a\\nplace near the Deity, where they were to spend eternity in singing\\npraises to him. \"He could, however, be persuaded by prayer from following his original\\nintentions. Very earnest prayer had caused him to change his mind, and\\nsend rain when he had previously concluded to visit the country with\\ndrouth. \"Two nations at war with each other, and believing in the same Deity,\\nwould pray for a pestilence to visit their enemy. Death was universally\\nregarded as a visitation of Providence for some offense committed\\nagainst him instead of against the laws of nature.',\n",
       " '--\"your\\nremarks show that you imperfectly appreciate the situation. This\\nspecimen was mounted yesterday and is hermetically sealed. None of our\\noxygen can reach it. But the ether, of course, has penetrated to it, as\\nto every other point upon the universe. Therefore, it has survived the\\npoison. Hence, we may argue that every amoeba outside this room, instead\\nof being dead, as you have erroneously stated, has really survived the\\ncatastrophe.\" \"Well, even now I don\\'t feel inclined to hip-hurrah about it,\" said Lord\\nJohn. \"What does it matter?\" \"It just matters this, that the world is a living instead of a dead one. If you had the scientific imagination, you would cast your mind forward\\nfrom this one fact, and you would see some few millions of years hence--a\\nmere passing moment in the enormous flux of the ages--the whole world\\nteeming once more with the animal and human life which will spring from\\nthis tiny root.',\n",
       " \"Very soon they had passed from the realisation that in them and through\\nthem a new world of giantry shaped itself in the earth, from the\\ncontemplation of the great struggle between big and little, in which\\nthey were clearly destined to participate, to interests at once more\\npersonal and more spacious. Each time they met and talked and looked on\\none another, it crept a little more out of their subconscious being\\ntowards recognition, that something more dear and wonderful than\\nfriendship was between them, and walked between them and drew their\\nhands together. And in a little while they came to the word itself and\\nfound themselves lovers, the Adam and Eve of a new race in the world. They set foot side by side into the wonderful valley of love, with its\\ndeep and quiet places. The world changed about them with their changing\\nmood, until presently it had become, as it were, a tabernacular beauty\\nabout their meetings, and the stars were no more than flowers of light\\nbeneath the feet of their love, and the dawn and sunset the coloured\\nhangings by the way. They ceased to be beings of flesh and blood to one\\nanother and themselves; they passed into a bodily texture of tenderness\\nand desire. They gave it first whispers and then silence, and drew close\\nand looked into one another's moonlit and shadowy faces under the\\ninfinite arch of the sky. And the still black pine-trees stood about\\nthem like sentinels. The beating steps of time were hushed into silence, and it seemed to\\nthem the universe hung still. Only their hearts were audible, beating.\",\n",
       " 'All their feelings were\\nconcentrated in one thought--to see! Representatives of the earth, of\\nhumanity past and present, all concentrated in themselves, it was\\nthrough their eyes that the human race looked at these lunar regions and\\npenetrated the secrets of its satellite! A strange emotion filled their\\nhearts, and they went silently from one window to another. Their observations were noted down by Barbicane, and were made\\nrigorously exact. To make them they had telescopes. To control them they\\nhad maps. The first observer of the moon was Galileo. His poor telescope only\\nmagnified thirty times. Nevertheless, in the spots that pitted the lunar\\ndisc \"like eyes in a peacock\\'s tail,\" he was the first to recognise\\nmountains, and measure some heights to which he attributed,\\nexaggerating, an elevation equal to the 20th of the diameter of the\\ndisc, or 8,000 metres. Galileo drew up no map of his observations.',\n",
       " \"A bit of minor legal\\njugglery was all that was needed to give him access to the data. It seemed there was an ancient regulation that said any member of a\\nstarship's crew was entitled by law to examine his ship's registered\\nroute, if he wanted to. The rule was intended to apply to starmen who\\ndistrusted their captains and were fearful of being shipped off to some\\nimpossibly distant point; it said nothing at all about starmen who had\\nbeen left behind and were planning to overtake their ships. But nothing\\nprohibited Alan from getting the coordinates, and so they gave them to\\nhim. The _Cavour_ was ready for the departure. Alan elbowed his way through\\nthe crowd of curious onlookers and clambered into the redesigned control\\nchamber. He paused a moment, running his fingers over the shiny instrument panel\\nwith its new dials, strange levers, unfamiliar instruments. Overdrive\\nCompensator. Fuel Transmuter. Distortion Guide.\",\n",
       " 'He\\'s planning something, but I don\\'t know what.\" \"But perhaps--and this I have often thought, Larry--perhaps it is his\\naspect. He looks so repulsive--\"\\n\\nLarry shook his head. \"He does, for a fact; but I don\\'t mean that. What Mary Atwood told me of the Tugh she knew, described the fellow. And so did Alten describe him. And in 1934 he murdered a girl: don\\'t\\nforget that, Tina--he, or someone who looked remarkably like him, and\\nhad the same name.\" But they knew that the best thing they could do now was to get to\\n2930. Larry wanted to join me again, and Tugh maintained I was there. Well, they would soon find out....\\n\\n       *       *       *       *       *\\n\\nAs they passed the shadowy world of 1935, a queer emotion gripped\\nLarry.',\n",
       " '\"What the hell...!\" \"Come on!\" The red-head turned, trotted silently toward the shadowy bend\\nunder the high grey walls. He looked back, beckoned impatiently, passed\\nout of sight around the turn--\\n\\nBrett came up behind him, saw a wide avenue, tall trees with chartreuse\\nspringtime leaves, a wrought-iron fence, and beyond it, rolling green\\nlawns. There were no people in sight. \"Wait a minute! What is this place?!\" His companion turned red-rimmed eyes on Brett. \"How long have you been\\nhere?\" he asked.',\n",
       " 'Back to the\\ncityroom, you dabbling booby, you precious simpleton, addlepated dunce,\\nand be thankful my boundless generosity permits you to draw a weekly\\npaycheck at all and doesnt condemn you to labor forever unrewarded in\\nthe subterranean vaults where the old files are kept.\" First Miss Francis and now Le ffaçasé. Were all these great\\nintelligences touched? Was the world piloted by unbalanced minds? It\\nseemed incredible, impossible it should be so, but two such similar\\nexperiences in so short a time apparently supported this gloomy view. Horrible, I thought as I preceded Gootes out of the maniac\\'s office,\\nunbelievably horrible. \"Son,\" advised Gootes, \"never argue with the chief. He has the makings\\nof a firstclass apoplexy--I hope. You just keep squawking to the\\nbookkeeping department and youll get further than coming up against the\\nOld Man. Now let\\'s go out and look at nature in the raw.\"',\n",
       " '\"My blissful smile froze on my lips. \"\\'Timid!\\' I repeated. \"She came back to the table, making me a mocking reverence. \"\\'Do you think I am to be laughed at with impunity?\\' she said. \"\\'What are your other plans, Dick?\\' asked the professor. \\'Daisy, let\\nhim alone, you little tease!\\' \"\\'One is, to haul a lot of cast-iron boilers along the dunes,\\' I said.',\n",
       " '\"But he must be tired of my face,\" said Westervelt. \"I don\\'t have anyone else to send, unless you want me to think up an\\nexcuse for Pauline. Asking him to help with her homework would be\\npretty thin.\" Westervelt thought it over. Parrish, in his present mood, was not\\nlikely to be of any help. Simonetta had just done her stint, and Joe\\nwas needed on the space set. It would have been nice if there were a\\nmessage for Lydman to listen to, but that was wishful dreaming. \"All right, Mr. Smith,\" he surrendered. \"Maybe I can take along this\\narticle and ask if he\\'s seen it yet.',\n",
       " 'Nelsen trussed Rodan up, too, then searched Rodan\\'s thigh pouch and\\nfound a bunch of keys. \"You come along with me, Les and Helen,\" he said. \"First we\\'ll find out\\nwhat we\\'ve got left to work with.\" He investigated the rocket. That the blast had toppled it over, wasn\\'t\\nthe worst. When he unlocked its servicing doors, he found that Rodan had\\nremoved a vital part from the nuclear exciters of the motors. His and\\nLester\\'s blastoff drums were still in the freight compartment, but the\\nionics and air-restorers had been similarly rendered unworkable. Their\\noxygen and water flasks were gone. Only their bubbs were intact, but\\nthere was nothing with which to inflate them. When Frank examined the sun-powered tractor, he found that tiny platinum\\nplates had been taken from the thermocouple units.',\n",
       " 'cried\\na young fellow who had been in the trenches. \"To the diving-stations!\" I commanded, and in less than a minute the\\ndeck was deserted, the conning-tower covers had slammed to and the U-33\\nwas submerging--possibly for the last time. I know that I had this\\nfeeling, and I think that most of the others did. As we went down, I sat in the tower with the searchlight projecting its\\nseemingly feeble rays ahead. We submerged very slowly and without\\nheadway more than sufficient to keep her nose in the right direction,\\nand as we went down, I saw outlined ahead of us the black opening in\\nthe great cliff. It was an opening that would have admitted a\\nhalf-dozen U-boats at one and the same time, roughly cylindrical in\\ncontour--and dark as the pit of perdition. As I gave the command which sent the U-33 slowly ahead, I could not but\\nfeel a certain uncanny presentiment of evil. Where were we going? What lay at the end of this great sewer?',\n",
       " \"But instead I just sat there, experiencing my\\nbody and the room around it, steadying myself or maybe readying\\nmyself. I couldn't tell which, but it was nothing to think about, only\\nto feel. My heartbeat became a very faint, slow, solid throb. My spine\\nstraightened. No one came in or went out. Distantly I heard Macbeth and the witches\\nand the apparitions talk. Once I looked at the New York Screen, but all the stuff there had\\ngrown stale. No protection, no nothing. I reached down to my suitcase and from where I'd been going to get a\\nmiltown I took a dexedrine and popped it in my mouth. Then I started\\nout, beginning to shake.\",\n",
       " 'he said, in a curious voice. \"What is the matter, Conseil?\" \"I want master to look.\" I rose, went, and leaned on my elbows before the panes and watched. In a full electric light, an enormous black mass, quite immovable, was\\nsuspended in the midst of the waters. I watched it attentively,\\nseeking to find out the nature of this gigantic cetacean. But a sudden\\nthought crossed my mind. \"A vessel!\" I said, half aloud. \"Yes,\" replied the Canadian, \"a disabled ship that has sunk\\nperpendicularly.\"',\n",
       " \"'What did he bring from Messantia?' 'Alas, my lord, I know not.' 'Why did he go to Messantia?' demanded Conan. 'Nay, my lord, I am but a common man. Who am I to know the minds of the\\npriests of Set? I can only speak what I have seen and what I have heard\\nmen whisper along the wharves. Men say that news of great import came\\nsouthward, though of what none knows; and it is well known that the lord\\nThutothmes put off in his black galley in great haste. Now he is\\nreturned, but what he did in Argos, or what cargo he brought back, none\\nknows, not even the seamen who manned his galley. Men say that he has\\nopposed Thoth-Amon, who is the master of all priests of Set, and dwells\\nin Luxur, and that Thutothmes seeks hidden power to overthrow the Great\\nOne.\",\n",
       " 'That is why I am leaving at midnight. He always goes to bed at\\neleven-thirty, and I will be out of range of his object-compass before\\nhe wakes up. Seaton and I understand each other perfectly. We both know\\nthat the next time we meet one of us is going to be resolved into his\\ncomponent atoms, perhaps into electrons. He doesn\\'t know that he\\'s going\\nto be the one, but I do. My final word to you is to lay off--if you\\ndon\\'t, you and your \\'competent authorities\\' are going to learn a lot.\" \"You do not care to inform me more fully as to your destination or your\\nplans?\" \"I do not. Goodbye.\" CHAPTER II\\n\\nDunark Visits Earth\\n\\n\\nMartin Crane reclined in a massive chair, the fingers of his right hand\\nlightly touching those of his left, listening attentively.',\n",
       " \"Tennant took a\\ndeep breath. He thought of the space beside Opal. It took about three\\nseconds and he was there, having spanned a distance of some ninety\\nfeet. He was getting good at it. Dog does trick, he thought. *       *       *       *       *\\n\\nHe went through the entire routine at Opal's bidding. When at last\\nhe was allowed to relax, he wondered, not for the first time, if he\\nweren't mastering some of the alleged Guru arts. At once he felt\\nprobing investigation. Opal, like the rest of the captors, was as\\ncurious as a cat--or a human being. Tennant sat against a wall, drenched with sweat.\",\n",
       " 'Brett stood\\nfrozen. The shape flowed--swift as quicksilver--caught Dhuva in\\nmid-stride, engulfed him. For an instant Brett saw the thin figure, legs\\nkicking, upended within the muddy form of the Gel. Then the turbid wave\\nswept across to the door, sloshed it aside, disappeared. Dhuva was gone. Brett stood rooted, staring at the doorway. A bar of sunlight fell\\nacross the dusty floor. A brown mouse ran along the baseboard. It was\\nvery quiet. Brett went to the door through which the Gel had\\ndisappeared, hesitated a moment, then thrust it open.',\n",
       " '\"You\\'d better go back into the ship.\" Kenniston stood silent in the moonslight, for he realized from the\\nfinality of Walls\\' voice that appeals would be utterly useless. There\\nwas no use trying again to explain why he\\'d been willing to betray\\nthem all to save Ricky. Even if they listened, they wouldn\\'t\\nunderstand. He felt tired, crushed, old. He\\'d gone a long way in the last dozen\\nyears, but every mile of it had only led toward this ending. He was\\ngoing to die here under the hurtling meteor-moons of Vesta, and that\\nmeant that Ricky and Ricky\\'s dream were going to die soon too. \"I _told_ you you were a fool to throw away that gun,\" Holk Or was\\nmuttering. *       *       *       *       *\\n\\n\"You two march over there to the edge of the clearing,\" Captain Walls\\nordered grimly, gesturing with his gun. \"Anything you want to say\\nfirst, Kenniston?\"',\n",
       " 'None. It\\'s\\nall been played out a hundred times before. \"There lives are empty and harsh,\" he continued. \"So they say it must\\nbe somebody\\'s fault. Surely their God can\\'t want them to suffer, apple\\nof his eye as they\\'re supposed to be. So it must be anti-God. And who\\nis this? The blacks and other minorities, the corrupt and inept\\nliberals, a benign socialist colony two systems away. For God\\'s sake,\\nwe\\'ve been in Space for two hundred years, we should know better. They\\nforget, or choose to ignore, all the lessons it\\'s taught us:  that\\nwe\\'re only very small, and should help each other.',\n",
       " '\"What?\" He was settling himself beside the mouth of the crack, where a\\nman would have to come clear inside to get a shot at him. \"A starship implies the intention to go to the stars. Why haven\\'t you?\" \"For the simplest reason in the world,\" said Shearing bitterly. \"The\\ndamn thing can\\'t fly.\" \"But--\" said Hyrst, in astonishment. \"It isn\\'t finished. It\\'s been building for over seventy years now, and a\\nlong and painful process that\\'s been, too, Hyrst--doing it bit by bit in\\nsecret, and every bit having to be dreamed up out of whole cloth, and\\noften discarded and dreamed up again, because the principle of a\\nworkable star-drive has never been formulated before. And it still isn\\'t\\nfinished.',\n",
       " 'I\\'ll tell them nothing.\" \"You won\\'t have to,\" Whiting said. \"I\\'ll tell them when we reach the\\nlarger settlement. They\\'re taking us there tomorrow, they told me.\" \"Then we\\'ve got to get out of here tonight,\" Steve said. The low sun cast the shadow of their guard against the _thlot_skin wall\\nof their tent. He was a single man, armed with a long, pike-like weapon. When darkness came, if the guard were not increased....\\n\\nThey were brought a pasty gruel for their supper, and ate in silence and\\ndistaste, ate because they needed the strength. Mary said, \"Dad, I don\\'t\\nwant you to tell them anything. Dad, please.',\n",
       " \"He\\nhad a sense of the dramatic which never deserted him. As a result, he\\nhad been known to turn in an instant from one subject to another--to\\ndodge defeats and score triumphs with bewildering agility. His preoccupation on this particular day was with a home-state\\nissue--the location of a government plant. After he obtained the floor,\\nhe counted the house and noted that only a bare quorum was present. Gradually, the members of the Senate of the United States would drift to\\ntheir seats. So Crane began reading letters which tended to support his\\nstate's claim to the new plant and the benefits that would accrue\\ntherefrom. Crane droned on. The Vice-President of the United States looked down on\\nthe top of Senator Crane's massive head and became fruitfully\\npreoccupied with thoughts of his own. Then, quite suddenly, the line of Crane's exposition changed. The\\nVice-President wasn't quite sure at what precise point this had come\\nabout.\",\n",
       " 'He had not gone far when he was aware that only Yanath was following\\nhim. He wheeled back to see Topal standing in an attitude of horror, one\\narm out as if to fend off some threatening peril, his distended eyes\\nfixed with hypnotic intensity on something protruding from behind a\\ndivan. \"What the devil?\" Then Conan saw what Topal was staring at, and he felt\\na faint twitching of the skin between his giant shoulders. A monstrous\\nhead protruded from behind the divan, a reptilian head, broad as the\\nhead of a crocodile, with down-curving fangs that projected over the\\nlower jaw. But there was an unnatural limpness about the thing, and the\\nhideous eyes were glazed. Conan peered behind the couch. It was a great serpent which lay there\\nlimp in death, but such a serpent as he had never seen in his\\nwanderings. The reek and chill of the deep black earth were about it,\\nand its color was an indeterminable hue which changed with each new\\nangle from which he surveyed it. A great wound in the neck showed what\\nhad caused its death.',\n",
       " 'There was just the slightest quaver in his voice. It was almost more than Morrow had hoped for. He could play it through,\\nnow. \"This is a Martian friend of mine,\" he said, hooking his thumb\\ntoward Smitty. \"I can\\'t stay long. Somebody might see our spaceship and\\nget curious.\" \"Your--spaceship?\" Foster queried falteringly. \"We landed it out in back.\" The room was silent for a moment.',\n",
       " 'It was improbable,\\nit was fantastic that they would go to such lengths to gratify his\\nevery wish if they meant to kill him, he told himself; and then he\\nremembered the Dionysian rites, and a host of other, too-similar\\nparallels. The king for a day or a year, who ruled as an absolute\\nmonarch, and then was sacrificed--\\n\\nAnd, Weaver remembered with a stab of panic, usually eaten. He had been on Terranova for a little over a month by the local\\ncalendar. What was his term of office to be--two months? Six? A year,\\nten years? *       *       *       *       *\\n\\nHe slept little that night, woke late in the morning with dry, irritated\\neyes and a furred mouth, and spent a silent day, inspecting each new\\nbatch of natives without comment, and shivering inwardly at each motion\\nof the clawed arms of Mark, Luke or John. Toward evening he came out of\\nhis funk at last, when it occurred to him to ask about weapons. He put the query slyly, wording it as if it were a matter of general\\ninterest only, and of no great importance. Were they familiar with\\nmachines that killed, and if so, what varieties did they have?',\n",
       " 'Hilary gave way to unreasoning anger. \"Stop looking like a stuck pig,\" he called sharply. \"Give me a hand\\nwith this poor fellow.\" The response was surprising. The man got up from his chair\\nprecipitately, stark panic written all over him. The sweat oozed from\\nhis shiny forehead as he backed cautiously away. He tripped over the\\nedge of the seat behind, and fell. Once more he scrambled to his feet,\\nand as if the fall had released his trembling muscles, he turned and\\nran, stumbling and dodging across the local conveyors, never once\\nlooking back. *       *       *       *       *\\n\\nHilary watched his mad flight wonderingly. \"Good Lord,\" he thought,\\n\"does my face frighten people so?',\n",
       " '\"A miss is as good as a mile,\" Mike said with cheerful inanity. \"Thanks\\nto your phone call, I was as safe as if I\\'d been in my own home,\" he\\nadded with utter illogic. \"You can afford to laugh,\" Wallingford said grimly. \"I can\\'t. I\\'ve\\nalready lost one man.\" Mike\\'s grin vanished. \"What do you mean? Who?\" \"Oh, nobody\\'s killed,\" Wallingford said quickly. \"I didn\\'t mean that.',\n",
       " 'After a moment he said, \"Not a bad guess. However, I\\ndon\\'t work for the Federation.\" \"Oh? For whom do you work?\" \"At the moment, and indirectly, for the Dosey Asteroids Company.\" \"Insurance?\" \"No. After Farous died, Dosey Asteroids employed a detective agency to\\ninvestigate the matter. I represent the agency.\" \"The agency collects on the salvage?\"',\n",
       " 'Court laughed shortly. \"That Mario! He\\'s going to lose a nice job if he\\ndoesn\\'t keep his mouth shut!\" \"None of them keep their mouths shut, captain.\" \"Yes ... well, I don\\'t know what\\'s up, myself. I\\'m heading for that\\nconference right now. I\\'ll ask the warden about letting the men out of\\ntheir cells. What\\'s their attitude?\" The sergeant\\'s broad, red face grew more troubled. \"Uh ... the men aren\\'t hostile, captain.',\n",
       " 'Turner, do you really believe in \\'time travel\\'?\" \"No.\" \"Then how can there be any such thing? It can\\'t be real.\" \"I know that! I want to be cured of imagining it.\" \"The first step is to utterly renounce the idea. Stop thinking about\\nthe past. Think of the future.\" \"How did you know I keep slipping back into the past?\"',\n",
       " 'That\\'s easy enough, I\\nthink. But I don\\'t see what suggested to you your separate experiences. I recognize them, of course----\"\\n\\n\"You recognize them?\" cried Waynflete, in wonder. \"I can tell you where you borrowed every one of your adventures,\"\\nStuyvesant replied, \"But what I\\'d like to know now is what suggested to\\nyou just those particular characters and situations, and not any of the\\nmany others also stored away in your subconsciousness.\" So saying, he began to look about the room. \"My subconsciousness?\" repeated Waynflete. \"Have I ever been a samurai\\nin my subconsciousness?\" Paul Stuyvesant looked at Cosmo Waynflete for nearly a minute without\\nreply.',\n",
       " \"Group singing entranced the little golden\\npeople, and they took remarkable delight in the discovery of their own,\\nsweetly pitched voices. Enterprising Joe, with his remarkable memory,\\nsoon became unofficial song leader, and all day long we would hear the\\nnatives practicing. Sue's baby came, a sturdy little boy whom we named Richard Joseph--Sue\\ninsisted on the second name, and I couldn't argue her out of it without\\nrevealing my reasons. Within two weeks the clinic's nursery was full of\\nbabies, and it was at this point that the natives' interest became\\ndeeply stirred. The language barriers were breaking down rapidly. Many of our regular\\nvisitors were females, and with Joe's help as an interpreter they were\\nsoon able to ask questions. Their greatest curiosity hinged on the\\nfabulous care we gave our infants. Although I wouldn't permit Sue to do it, several of our women began\\nusing female natives for baby-sitters. This led to the first basic\\nbehaviour change we had noticed. The females began to pay more attention\\nto their own offspring.\",\n",
       " '_Radioactivity?_ Wang wondered. Surely not an atomic-powered ship without\\nsafety cutoffs in this day and age. He pulled out his radiophone and thumbed the call button again. This time, there was no delay. \"Yes?\" \"How are the radiation detectors behaving there, Grandfather?\" \"One moment. I shall see.\" There was a silence. Then: \"No unusual\\nactivity, young Wang.',\n",
       " 'A\\nbathyscaphe can go that deep, but it\\'s not likely to hunt for\\nmeteorites.\" \"Ah,\" said Terry judicially. \"Then what difference does it make where it\\nhit?\" \"It didn\\'t fall the way it should have,\" said Deirdre. \"It was spotted\\nby space radar away out, and they tried to compute its path, but they\\nfigured it wrong. Now they\\'re trying to make it come out right by\\nallowing for the effect of the earth\\'s magnetic field on a metal\\nmeteorite. They\\'re arguing and waving equations at each other.\" \"Let them,\" said Terry. \"I have trouble enough with fish. Do you think I\\ncould borrow a boat?\"',\n",
       " 'The following week they repeated the experiment in the laundry. The\\ncourse of events was the same. The payment was refused, then the rats\\ncame, devoured and destroyed, stayed a night and left. Nothing was\\nfound. They decided to go and have a conference with Winifred Willowby,\\nbut he could not be located. The two scientists were left to their own\\nresources. Having no other plausible plan of action, they selected the\\nsmall hotel for their next experiment. This time they set a hundred wire\\ntraps and caught several hundred living rats. These they subjected to\\nevery known experiment, and at the end were forced to acknowledge that\\nall they had learned left them in ignorance as to why the rats came just\\nfor one night in such enormous numbers. Two months later their employer sent for them.',\n",
       " 'After supper I laid myself down at the foot of the mast, and fell\\nasleep in the midst of fantastic reveries. Hans, keeping fast by the helm, let the raft run on, which, after\\nall, needed no steering, the wind blowing directly aft. Since our departure from Port Gräuben, Professor Liedenbrock had\\nentrusted the log to my care; I was to register every observation,\\nmake entries of interesting phenomena, the direction of the wind, the\\nrate of sailing, the way we made--in a word, every particular of our\\nsingular voyage. I shall therefore reproduce here these daily notes, written, so to\\nspeak, as the course of events directed, in order to furnish an exact\\nnarrative of our passage. _Friday, August 14_.--Wind steady, N.W. The raft makes rapid way in\\na direct line. Coast thirty leagues to leeward. Nothing in sight\\nbefore us. Intensity of light the same. Weather fine; that is to say,\\nthat the clouds are flying high, are light, and bathed in a white\\natmosphere resembling silver in a state of fusion.',\n",
       " 'A stumpy black shape, it was, with a short barrel of cold blue steel,\\nand it looked as much out of place in that chamber as did the fur-clad\\nman who stared half-unbelievingly at it. It was a foreigner, as he\\nwas, in the gloomy corridors and chambers of the race that worshipped\\nAten. It too was American. It was a friend--his automatic! To Wes Craig, bewildered and tired and sadly without hope, it almost\\nseemed to be alive, smiling at him with its wicked round mouth. He\\npicked it up, and it bolstered his courage, his hope and his energy\\nenormously. At once he leaped to the closed entrance-door and felt for\\nthe lever that opened it. But there he paused a moment to think. There was only the faintest chance of fighting free with Taia now. There were at least thirty men outside, and he had only seven bullets.',\n",
       " 'Got that?\" \"Ken,\" Boyd said, \"you\\'ve gone nuts.\" Malone shook his head. \"No, I haven\\'t,\" he said. \"I just wish I had. It would be a relief.\" \"Me too,\" Boyd said. He started for the door and turned. \"I wish I\\ncould have stayed in San Francisco,\" he said. \"Why should she insist\\non taking _me_ along?\"',\n",
       " 'When he had fully assured himself that the other guardsmen were not\\nlistening, he asked me why I had not followed the rope, and when\\nI told him that it had ended at the five corridors he said that it\\nmust have been cut by someone in need of a piece of rope, for he\\nwas sure that \"the stupid Kadabrans would never have guessed its\\npurpose.\" Before we had reached the spot from which the five corridors diverge\\nmy Marentinian friend had managed to drop to the rear of the little\\ncolumn with me, and when we came in sight of the branching ways he\\nwhispered:\\n\\n\"Run up the first upon the right. It leads to the watchtower upon\\nthe south wall. I will direct the pursuit up the next corridor,\"\\nand with that he gave me a great shove into the dark mouth of the\\ntunnel, at the same time crying out in simulated pain and alarm as\\nhe threw himself upon the floor as though I had felled him with a\\nblow. From behind the voices of the excited guardsmen came reverberating\\nalong the corridor, suddenly growing fainter as Talu\\'s spy led them\\nup the wrong passageway in fancied pursuit. As I ran for my life through the dark galleries beneath the palace of\\nSalensus Oll I must indeed have presented a remarkable appearance\\nhad there been any to note it, for though death loomed large\\nabout me, my face was split by a broad grin as I thought of the\\nresourcefulness of the nameless hero of Marentina to whom I owed\\nmy life. Of such stuff are the men of my beloved Helium, and when I meet\\nanother of their kind, of whatever race or color, my heart goes\\nout to him as it did now to my new friend who had risked his life\\nfor me simply because I wore the mate to the ring his ruler had\\nput upon his finger. The corridor along which I ran led almost straight for a considerable\\ndistance, terminating at the foot of a spiral runway, up which\\nI proceeded to emerge presently into a circular chamber upon the\\nfirst floor of a tower. In this apartment a dozen red slaves were employed polishing or\\nrepairing the weapons of the yellow men. The walls of the room\\nwere lined with racks in which were hundreds of straight and hooked\\nswords, javelins, and daggers.',\n",
       " '\"And the torpedo ships, Colonel?\" \"Keep firing at the carrier until there is no carrier to fire AT.\" \"But without escort---\"\\n\\nDubcek\\'s eyes flashed. Masaryk relayed the orders. R x Q\\n\\nThe battle between the two vessels must have ensued---after several\\nminutes the enemy carrier disappeared from the projection globe---but\\nBrunner saw and heard none of it. He remained silent with his head\\ndown, palms leaning heavily on the console. Crying. The next thing he\\nwas aware of was Dubcek\\'s steadied voice, once more amplified, once\\nmore, he assumed, on an open channel to all ships. He looked out of\\nthe portal, but there was no afterglow. Nothing.',\n",
       " '\"Fifty-six,\" said the businessman. \"That\\'s counting gin,\" he added. \"Game,\" the reporter announced. \"I\\'ll figure the damage.\" \"You play good,\" said the businessman in disgust. \"You only say that \\'cause it\\'s true,\" the reporter said. \"But it\\'s sweet\\nof you all the same.\" \"Shut up!\" said the businessman. The reporter looked up, concerned.',\n",
       " '\"A good many errors and a lot of blanks, but in general you\\'re on the\\nright track. I can finish up this drawing in a couple of hours, and we\\ncan build the unit in a couple of days. With that in place, the rest of\\nthe ship will go fast. \"_If_ Miss Talaho wants me to,\" he concluded, pointedly. \"Oh, I do, Jim--really I do!\" At long last, stiff-backed Fao softened\\nand bent. She seized both his hands. \"If you can, it\\'d be too wonderful\\nfor words!\" \"Okay. One question.',\n",
       " '\"I\\'ll come, too. And I\\'ll guarantee to defend you against anything that\\nhas survived the ten thousand years or so that this place was without\\nair. My head\\'s tired, after all those cubes.\" He led the way. Burke watched as the two girls followed him and closed\\nthe door behind them. \"What have you found, Keller?\" \"A cube about globes,\" said Keller. \"Very interesting.\" \"Nothing on communication with base?\" Keller shook his head.',\n",
       " '\"Yes, and then watch it grow. There are many, many fields in which to\\nplant money. You can place it with the Templars or certain Lombards or\\nmen I know among your own Jews, and they use it, and when they give it\\nback to you there is more. Miracolo! Or you can buy beautiful and\\nvaluable things with it, whose worth increases as they get older. Or you\\ncan buy shares in a ship of Venice or Pisa, or even\"--she spat--\"Genoa,\\nor a German caravan, and when the caravan or the ship comes back, if it\\ncomes back, you get your money back tenfold. That is risky, but it is\\nthe quickest way to great wealth.\" Rachel felt a momentary excitement. Then she remembered how she was\\ngoing to get the money. Her body felt colder than ever, cold as death.',\n",
       " 'Ben withdrew the citation and registration tag and\\nwalked back to the car. He handed the boy the license and registration\\ntab, together with a copy of the citation. Ben bent down to peer into\\nthe car. \"I made it as light on you as I could,\" he told the young driver. \"You\\'re charged with improper use of the thruway. That\\'s a minor\\nviolation. By rights, I should have cited you for illegal usage.\" He\\nlooked around slowly at each of the young people. \"You look like nice\\nkids,\" he said. \"I think you\\'ll grow up to be nice people.',\n",
       " '\"You scientist fellers are\\nall alike. Which way is the watchamacallit--equipment lab?\" \"Right along there.\" He pointed. I didn\\'t bother to thank him. It\\nwouldn\\'t have been in character. A thin man with a brush mustache eyed me sharply as I pushed through\\nthe door. I looked at him, nodding absently. \"Carry on with your work,\"\\nI said. \"The audit will be carried out in such a way as to disturb you\\nas little as possible.',\n",
       " 'My task would be to keep them from finding\\nout. I avoided looking surprised. \"Good evening, gentlemen,\" I said\\ncheerfully. I stepped to the liquor cabinet, opened it, poured Scotch\\ninto a glass. \"Join me in a drink?\" I said. None of them answered. I sat down. I had to move just a little faster\\nthan they did, and by holding the initiative, keep them off balance. They had counted on hearing my approach, having a few moments to get\\nset, and using my surprise against me.',\n",
       " \"This was a fresh problem which\\ntormented Barbicane's brain, veritably imprisoned as it was in a web of\\nthe unknown which he could not disentangle. Neither of the travellers thought of taking a minute's rest. Each\\nwatched for some unexpected incident which should throw a new light on\\ntheir uranographic studies. About five o'clock Michel distributed to\\nthem, by way of dinner, some morsels of bread and cold meat, which were\\nrapidly absorbed, whilst no one thought of leaving the port-light, the\\npanes of which were becoming incrusted under the condensation of vapour. About 5.45 p.m., Nicholl, armed with his telescope, signalised upon the\\nsouthern border of the moon, and in the direction followed by the\\nprojectile, a few brilliant points outlined against the dark screen of\\nthe sky. They looked like a succession of sharp peaks with profiles in a\\ntremulous line. They were rather brilliant. The terminal line of the\\nmoon looks the same when she is in one of her octants. They could not be mistaken. There was no longer any question of a simple\\nmeteor, of which that luminous line had neither the colour nor the\\nmobility, nor of a volcano in eruption.\",\n",
       " 'Dal asked. \"Where are the identification symbols?\" \"There weren\\'t any,\" said Tiger. \"Our own computer designated 31 Brucker\\nfrom the direction and intensity of the signal. The question is, what do\\nwe do?\" The message stared up at them cryptically. Dal shook his head. \"Doesn\\'t\\ngive us much to go on, that\\'s certain. Even the location could be wrong\\nif the signal came in on an odd frequency or from a long distance. Let\\'s\\nbeam back at the same direction and intensity and see what happens.\"',\n",
       " 'Thus they found Nichicun, without whom Bennie might never have\\naccomplished the object of his quest. It took three days to nurse the\\nhalf-dead and altogether starved Montagnais back to life, but he\\nreceived the tenderest care. Marc shot a young caribou and gave him the\\nblood to drink, and made a ragout to put the flesh back on his bones. Meanwhile the professor slept long hours on the moss and took a\\nmuch-needed rest; and by degrees they learned from Nichicun the story of\\nhis misfortune--the story that forms a part of the chronicle of the\\nexpedition, which can be read at the Smithsonian Institution. He was a Montagnais, he said, with a line of traps to the northeast of\\nthe Height of Land, and last winter he had had very bad luck indeed. There had been less and less in his traps and he had seen no caribou. So\\nhe had taken his wife, who was sick, and had gone over into the Nascopee\\ncountry for food, and there his wife had died. He had made up his mind\\nvery late in the season to come down to Moisie and make his mass and get\\na new wife, and start a fresh line of traps in the autumn. All the other\\nMontagnais had descended the river in their canoes long before, so he\\nwas alone. His provisions had given out and he saw no caribou.',\n",
       " 'There was a black barked tree which the Dunbar Expedition had called the\\nlance tree because of its slender, straightly outthrust limbs. Its wood\\nwas as hard as hickory and as springy as cedar. Prentiss found two\\namateur archers who were sure they could make efficient bows and arrows\\nout of the lance tree limbs. He gave them the job, together with\\nhelpers. The days turned suddenly hot, with nights that still went below\\nfreezing. The Hell Fever took a constant, relentless toll. They needed\\nadequate shelters--but the dwindling supply of ammunition and the\\nnightly prowler attacks made the need for a stockade wall even more\\nimperative. The shelters would have to wait. He went looking for Dr. Chiara one evening and found him just leaving\\none of the makeshift shelters.',\n",
       " 'The dark brown eyes met Daoud\\'s, questioning,\\nfrowning. A Mameluke emir of Daoud\\'s rank did not usually join a crowd\\nof petitioners. The sultan\\'s arms and hands were full of scrolls. His\\nchamberlain had long since been carried away from him in the crush. \"Oh, Sultan, grant my prayer!\" Daoud shouted in a loud voice. _For your death._\\n\\nQutuz\\'s jaw clenched, and his eyes widened in the beginning of fear as\\nDaoud bore down on him. Daoud had reached the center of the storm. Color and movement whirled\\nabout him. Shouts deafened him.',\n",
       " '\"Point One: Snookums\\' brain contains the information that eight years of\\nhard work have laboriously put into it. That information is more\\nvaluable than the whole cost of the _William Branchell_; it\\'s worth\\nbillions. So the robot can\\'t be disassembled, or the information would\\nbe lost. \"Point Two: Snookums\\' mind is a strictly logical one, but it is\\noperating in a more than logical universe. Consequently, it is unstable. \"Point Three: Snookums was built to conduct his own experiments. To\\nforbid him to do that would be similar to beating a child for acting\\nlike a child; it would do serious harm to the mind. In Snookums\\' case,\\nthe randomity of the brain would exceed optimum, and the robot would\\nbecome insane. \"Point Four: Emotion is not logical. Snookums can\\'t handle it, except in\\na very limited way.\"',\n",
       " 'One\\nof the invaders was picking his way down the slope in a path that would\\ntake him within thirty yards of his position. The man moved slowly,\\nhalf-crouched, keeping his rifle cradled across his arm. They know, he thought. The open hatch was the giveaway. He anxiously\\nsearched Bandit. No sign of life was visible. He gave silent thanks that\\nthe invaders had not lugged their rocket launcher with them. Prochaska,\\nhe knew, would be watching, crouched in the shadow of the hatch opening\\nbehind the heavy automatic rifle. He estimated the distance between the\\nbase of the slope and the rocket at 400 yards--close enough for\\nProchaska to pick off anyone who ventured onto the plain. He waited while the invader passed abreast of him and descended to the\\nbase of the plain, taking cover in the rocks.',\n",
       " 'She had one knee up, one leg stretched out, one\\nforearm shielding her eyes from the sun, one arm down at her side. Seeing her thus, Temple felt the pressure of his automatic in its\\nholster under his arm. He could draw it out, kill her before she was\\naware of his presence. Would that make him feel better? Five minutes\\nago, he would have said yes. Now he hesitated. Kill her, who seemed as\\ncompletely Lucy as he was Temple? Send a bullet ripping through the\\nbody which he had known and loved, or the body that had seemed so much\\nlike it he had failed to tell the difference? Murder--Lucy? \"No,\" he said aloud.',\n",
       " \"Unless\\nthe woman made a careful study of the area, she would never see the\\npit. All that day Temple waited with his back to the water-hole, facing\\nthe camouflaged pit, the trap he had set, but the woman failed to\\nappear. When she also did not come on the second day, he began to think\\nhis plan would not work. The third day, Temple arrived with the sun, sat as before in the tall\\ngrass between the pit and the water-hole and waited. Several paces\\nbeyond his hidden trap he could see the tall trees of the jungle with\\nvines and creepers hanging from their branches. At his back, a man's\\nlength behind him was the water-hole, its deepest waters no more than\\nwaist-high. Temple waited until the sun stood high in the sky, then was fascinated\\nas a small antelope minced down to the water-hole for a drink. _You'll\\nmake a fine breakfast tomorrow, he thought, smiling._\\n\\nSomething, that strange sixth sense again, made Temple turn around and\\nstand up. He had time for a brief look, a hoarse cry. The woman had been the cleverer.\",\n",
       " 'If he\\nwanted to take me alive, he would not fire. I chanced it. \"No!\" I tried to draw myself beneath the window. An automatic\\nprojector was on the floor where Carter had dropped it. I pulled\\nmyself down. Miko did not fire. I reached the weapon. The bodies of\\nthe Captain and Johnson had drifted together on the floor in the\\ncenter of the room. I hitched myself back to the window.',\n",
       " \"V\\n\\nHe was on the other side. He was in Monster territory. He was\\nsurrounded by the strange Monster light, the incredible Monster world. The burrows, Mankind, everything familiar, lay behind him. Panic rose from his stomach and into his throat like vomit. _Don't look up. Eyes down, eyes down or you're likely to freeze right\\nwhere you are. Stay close to the wall, keep your eyes on the wall and\\nmove along it. Turn right and move along the wall. Move fast._\\n\\nEric turned.\",\n",
       " '\"But you cannot see me. I will be going too fast!\" Tom and Roger laughed. After Astro joined them, they shook hands with\\nthe Frenchman, wished him luck, and went to the next ship to inspect it. Gigi\\'s ship was already being towed out to the blast-off ramp, and by\\nthe time the three boys had completed their inspection of the next ship,\\nthe gaily colored French ship flashed the ready signal to Strong. \"Blast off, minus five, four, three, two, one--_zero!_\" Strong\\'s voice\\nboomed out over the loud-speakers and the French Chicken poured on the\\npower. His ship arose from the ground easily, and in five seconds was\\nout of sight in the cloudless skies above. *       *       *       *       *\\n\\nAll day the spaceport rocked with the thunderous noise of stripped-down\\nspaceships blasting off on their trial runs around the Moon. Kit Barnard\\nworked like a demon to complete the cooling system in his aged ship, and\\nas each ship blasted off on its scheduled run to the Moon, the time for\\nhis own flight drew nearer. Kit worked with his chief crewman, Sid\\nGoldberg, a serious, swarthy-faced youngster who rivaled Astro in his\\nlove for the power-deck machinery on a spaceship.',\n",
       " '\"What kind of dreams?\" Someone laughed. \"Just fantastic stuff. Ask your Pavlovian there,\" Bruce said. \"People\\ntalk to me, and there are other things in the dreams. Voices and some\\nkind of shapes that aren\\'t what you would call human at all.\" Someone coughed. There was obvious embarrassment in the room. \"It\\'s peculiar, but many faces and voices are those of crew members of\\nsome of the ships out there, the ones that never got back to Earth.\" Terrence grinned.',\n",
       " \"But if it were (B)--\\n\\nThen this was the Shrine, and he and all the rest of Earth were\\nnothing but glorified textbooks! And there would come crises on the Shrine, duplicates of the crises on\\nold Earth. Except that they wouldn't be permitted to happen. The poor\\nignorant people on the Shrine had to be coddled, like the children\\nthey were. Damn! Karnes crumpled the sheets of paper in his hands, twisting them\\nsavagely. Then he methodically tore them into bits. *       *       *       *       *\\n\\nWhen the first dawnlight touched the sea, Karnes was watching it out\\nthe east window. It had been twenty-four hours since he had seen the\\nsuperman walk into his gray globe and vanish. All night, he had been searching his brain for some clue that would\\ntell him which of the two choices he should believe in.\",\n",
       " 'Specially morals cases. That\\'s how we crack down on other nonconforms. They got a regular organization, you know.\" \"They _have_?\" \"Sure. They\\'re all Southem spies. Trying to weaken us for an attack,\\nthat\\'s all. I can spot \\'em a mile away.\" I frowned and cleared my throat a little. \"Wouldn\\'t you think that any\\nspies would try to act as normal as possible and not call attention to\\nthemselves by infracting morally?\"',\n",
       " \"Washington was a good\\ncity for walking, even at night, and Malone liked to walk. Sometimes he\\npretended, even to himself, that he got his best ideas while walking,\\nbut he knew perfectly well that wasn't true. His best ideas just seemed\\nto come to him, out of nowhere, precisely as the situation demanded\\nthem. He was just lucky, that was all. He had a talent for being lucky. But\\nnobody would ever believe that. A record like his was spectacular, even\\nin the annals of the FBI, and Burris himself believed that the record\\nshowed some kind of superior ability. Malone knew that wasn't true, but what could he do about it? After all,\\nhe didn't want to resign, did he? It was kind of romantic and exciting\\nto be an FBI agent, even after three years.\",\n",
       " 'Further, I believe you are Terran\\nand I will not deal with you. And finally, you have twice saved my life\\nand I would find small pleasure in torturing you. I say no. Drink again\\nwith me and we part without a quarrel.\" Beaten, I turned to go. \"Wait,\" said Dallisa. She stood up and came down from the dais, slowly this time, walking with\\ndignity to the rhythm of her musically clashing chains. \"I have a\\nquarrel with this man.\" I started to say that I did not quarrel with women, and stopped myself. The Terran concept of chivalry has no equivalent on Wolf.',\n",
       " 'She grabbed the packages and flew to the\\nkitchenette. \"The way to Lee Falcaro\\'s heart,\" Charles mused. \"How\\'s your throat,\\nKen?\" \"No pain, today,\" Oliver whispered. \"Latham says I can talk as much as I\\nlike. And I\\'ve got things to talk about.\" He opened his coat and hauled\\nout a flat package that had been stuffed under his belt. \"Stolen from\\nthe factory. Brushes, pens, tubes of ink, drawing instruments. My\\nfriends, you are going to return to Syndic Territory in style, with\\npasses and permits galore.\"',\n",
       " 'Hanlon could guess at the troubled eyes of the older man, and that\\nhe was shaking his head sadly. \"I hate to think that of Adwal Irad,\"\\nhe said. \"He has always seemed so interested in helping me to build\\nup Estrella\\'s economy and is constantly bringing new ideas for her\\nbetterment. He seems to be making every effort to become worthy of his\\npost when he succeeds me.\" \"I know,\" sadly. \"He wasn\\'t like this until recently. But he has\\nchanged someway, father. Now he is power mad. Also, he is trying to\\nmake me out as a fool and a brainless dara,\" Inver snapped. \"Why ... why ... I never heard him say anything like that,\" there was\\nastonishment in the elder\\'s voice.',\n",
       " '\"I thought so,\" said Taphetta. \"I never paid much attention to your\\nfantastic theories before I signed to pilot this ship, but you\\'ve built\\nup a convincing case.\" He raised his head, speech ribbons curling\\nfractionally and ceaselessly. \"I don\\'t like to, but we\\'ll have to risk\\nusing bait for your pest.\" He\\'d have done it anyway, but it was better to have the pilot\\'s\\nconsent. And there was one question Halden wanted to ask; it had been\\nbothering him vaguely. \"What\\'s the difference between the Ribboneer\\ncontract and the one we offered you? Our terms are more liberal.\" \"To the individual, they are, but it won\\'t matter if you discover as\\nmuch as you think you will. The difference is this: _My_ terms don\\'t\\npermit you to withhold any discovery for the benefit of one race.\"',\n",
       " 'Van Stuyler\\nsomething to eat and drink. The dear old girl must be frightened half\\nout of her wits by this time.\" \"Very well,\" replied Redgrave; \"but we\\'ll come down literally first, so\\nthat we can get the propellers to work.\" He turned the wheel back till the indicator pointed to five. The\\ncloud-sea came up with a rush. They passed through it, and stopped about\\na thousand feet above the sea. Redgrave touched the first button twice,\\nand then the next one twice. The air began to hiss past the walls of the\\nconning-tower. The crest-crowned waves of the Atlantic seemed to sweep\\nin a hurrying torrent behind them, and then Redgrave, having made sure\\nthat Murgatroyd was at the after-wheel, gave him the course for\\nWashington, and then went down to induct his bride-elect into the art\\nand mystery of cooking by electricity as it was done in the kitchen of\\nthe _Astronef_. CHAPTER V\\n\\n\\nAs this narrative is the story of the personal adventures of Lord\\nRedgrave and his bride, and not an account of events at which all the\\nworld has already wondered, there is no necessity to describe in any\\ndetail the extraordinary sequence of circumstances which began when the\\n_Astronef_ dropped without warning from the clouds in front of the White\\nHouse at Washington, and his lordship, after paying his respects to the\\nPresident, proceeded to the British Embassy and placed the copy of the\\nAnglo-American agreement in Lord Pauncefote\\'s hands.',\n",
       " 'I suggest, we see if there isn\\'t room for the car inside. This beats even those huge Kaxorian planes for size.\" Arcot paused, then\\ngrinned. \"I sure would have liked to mix in the fight they must have had\\nhere--nice little things to play with, aren\\'t they?\" \"It would make a nice toy,\" agreed Wade as he looked at the rows of\\nwicked-looking projectors along the sides of the metal hull, \"and I\\nwonder if there might not be some of the crew alive in there? If there\\nare, the size of the ship would prevent their showing themselves very\\nquickly, and since they can\\'t move the ship, it seems to me that they\\'ll\\nlet us know shortly that they\\'re around. Probably, with the engines\\nstopped, their main weapons are useless, but they would doubtless have\\nsome sort of guns. I\\'m highly in favor of using the car. We carry a\\nmolecular director ray, so if the way is blocked, we can make a new\\none.\" Wade\\'s attention was caught by a sudden flare of light a few miles\\nacross the plain.',\n",
       " 'I\\ngathered that the cross-questioning had allayed any parental suspicion. I said, \"One thing you haven\\'t mentioned,\" and paused for effect. \"To\\nthe Hindu, \\'perfection\\' means the inclusion of an almost imperceptible\\nflaw so that its maker cannot be accused of presuming to be as good as\\nGod. Is your \\'perfect crime\\' to be perfect in the eyes of the criminal,\\nor in the eyes of the police?\" He said, \"Ah, Captain Schnell, that is indeed one of my bothersome\\nproblems.\" Mrs. Wood came into the room, followed by Florence. The girl had lost\\nthe soaked-gamin look. She was transformed by modern alchemy into\\na poised young woman who forced me to revise my estimated eighteen\\nseveral years upward. She nodded affably at her father, smiled at me\\nand then came over because she noticed that my highball glass was empty.',\n",
       " 'It became a habit to act as if Murgatroyd were a\\nhuman being. \"N-no,\" she said unsteadily. \"Not yet.\" More time passed. An unbearably long time. Then there was the faintest\\nof clankings. It repeated. Then, abruptly, there were noises in the\\nairlock. They continued. They were fumbling noises.',\n",
       " '\"I\\'m _tired_! I\\nhave to get some sleep.\" She changed instantly from anger to sympathy. \"Poor dear, why don\\'t you\\nforget that appointment and sleep here until it\\'s time to go back to\\nthe castle? I\\'ll send a messenger to Miran telling him you\\'re sick.\" \"No, this is something I just can\\'t pass by.\" \"What is it?\" \"It\\'s of such a nature that telling you, or anybody, would spoil it.\" \"And just what could that be?\" she demanded, angry again.',\n",
       " 'exclaimed Dave, starting at the bundle over which\\nthe man tumbled, bursting it open. There was an immense clatter. Even in the imperfect light of the\\nearly morning, the young aviator made out a great heap of clothing,\\nsilverware and jewelry, rattling down the steps of the porch. CHAPTER V\\n\\nA TEN THOUSAND DOLLAR ORDER\\n\\n\\n\"What\\'s happened?\" cried Hiram, rolling over and over on the gravel\\nwalk to which he had tumbled. \"Stop that man!\" shouted Dave. In a flash the young aviator took in the meaning of the situation. The fugitive, for such he now was, made a quick move the instant he\\ngained his feet. Not waiting to see who had obstructed his\\nprogress, and probably deciding that it was the police, he bounded\\nin among some bushes.',\n",
       " 'My palace is at your disposal, if you wish to\\nhonor me by coming to Marentina.\" \"When our work is done we shall be glad to accept your invitation,\"\\nI replied. \"But now you can assist us most by directing us to the\\ncourt of Salensus Oll, and suggesting some means by which we may\\ngain admission to the city and the palace, or whatever other place\\nwe find our friends to be confined.\" Talu gazed ruefully at our smooth faces and at Thuvan Dihn\\'s red\\nskin and my white one. \"First you must come to Marentina,\" he said, \"for a great change\\nmust be wrought in your appearance before you can hope to enter\\nany city in Okar. You must have yellow faces and black beards,\\nand your apparel and trappings must be those least likely to arouse\\nsuspicion. In my palace is one who can make you appear as truly\\nyellow men as does Salensus Oll himself.\" His counsel seemed wise; and as there was apparently no other way\\nto insure a successful entry to Kadabra, the capital city of Okar,\\nwe set out with Talu, Prince of Marentina, for his little, rock-bound\\ncountry. The way was over some of the worst traveling I have ever seen, and\\nI do not wonder that in this land where there are neither thoats\\nnor fliers that Marentina is in little fear of invasion; but at\\nlast we reached our destination, the first view of which I had from\\na slight elevation a half-mile from the city. Nestled in a deep valley lay a city of Martian concrete, whose\\nevery street and plaza and open space was roofed with glass.',\n",
       " '\"Yes. Along with our living proof of your abduction of the five\\nscientists.\" The Eurasian smiled. \"I see. And since there is no questioning that\\nproof, it would appear that Earthlings will soon levy punishment on\\nDr. Ku Sui.... So.... You know, Captain Carse, I find your caution a\\ngreat handicap. You keep gassing me; I am locked in; and since I have\\nobserved no excitement aboard the ship, apparently there are no\\nfriends anywhere near me. You have stripped me of everything.\" His\\neyes lowered for a moment. \"Everything save this ring.\"',\n",
       " \"There was a sensation as of all sanity and stability crumbling and\\nvanishing. She was a quivering atom of sentiency driven through a black,\\nroaring, icy void by a thundering wind that threatened to extinguish her\\nfeeble flicker of animate life like a candle blown out in a storm. Then there came a period of blind impulse and movement, when the atom\\nthat was she mingled and merged with myriad other atoms of spawning life\\nin the yeasty morass of existence, molded by formative forces until she\\nemerged again a conscious individual, whirling down an endless spiral of\\nlives. In a mist of terror she relived all her former existences, recognized\\nand _was_ again all the bodies that had carried her ego throughout the\\nchanging ages. She bruised her feet again over the long, weary road of\\nlife that stretched out behind her into the immemorial past. Back beyond\\nthe dimmest dawns of Time she crouched shuddering in primordial jungles,\\nhunted by slavering beasts of prey. Skin-clad, she waded thigh-deep in\\nrice swamps, battling with squawking water-fowl for the precious grains. She labored with the oxen to drag the pointed stick through the stubborn\\nsoil, and she crouched endlessly over looms in peasant huts. She saw walled cities burst into flame, and fled screaming before the\\nslayers. She reeled naked and bleeding over burning sands, dragged at\\nthe slaver's stirrup, and she knew the grip of hot, fierce hands on her\\nwrithing flesh, the shame and agony of brutal lust.\",\n",
       " '\"The Empire has a Space Navy base, and observatories and relay\\nstations, on this planet. Space Navy officers who had been here\\nbrought the story back; they heard it from traders from the Warm Seas,\\nwho must have gotten it from people like Yorn Nazvik. Would you show\\nit to us, Keeper? It was to see the Crown that we came here.\" Raud got to his feet, and saw, as he unhooked the lumicon, that he was\\ntrembling. \"Yes, of course. It is an honor. It is an ancient and\\nwonderful thing, but I never thought that it was known on Dremna.\" He\\nhastened across to the crypt. The dogs looked up as he approached.',\n",
       " 'Tashtu told him all that had happened. How the braves had mistaken the\\nspacesuited man for a monster. How arrows had been fired before they had\\nlearned otherwise. How Robin had come, and gone off with the spaceman. \"To their spaceship?\" Charlie asked. \"Yes, Lord. That is what they spoke of.\" Tashtu pointed to the top of\\nthe rampart of rock. \"From there, Lord, you can see it.\"',\n",
       " 'I did, of course. Maragon gave us an appointment when I assured him that I wanted to\\nshow him some aspects of Pheola\\'s healing powers and that PC wasn\\'t\\ngoing to enter into the discussion. His spooky clairvoyant let us in\\nwith a knowing smile and we found the old goat pouring over some\\npapers in front of him on the big slab of walnut. He was really quite nice to Pheola. \"Well, well, young woman,\" he\\nsaid, \"Lefty tells me that you are coming along.\" \"I hope so, Mr. Maragon,\" she said. \"Well, Lefty,\" he said, after he had shown us both into the handsome\\nchairs he had drawn up in front of his desk, \"you were going to have\\nPheola give me some kind of a demonstration.\" \"Sure,\" I said. \"First off I want you to know that she can qualify as\\na TK.',\n",
       " 'And naturally I presumed that\\nyou were not quite certain.\" She was evidently quizzing him, but her face was inscrutable. She looked\\nonly as if patiently and rather wearily explaining a misunderstanding. As\\nshe played with her fan, she had an unmistakable expression of being\\nslightly bored. \"Madeline, do you know what I should say was the matter with you if you\\nwere a man?\" he said, desperately, yet trying to laugh. \"Well, really\"--and her eyes had a rather hard expression--\"if you prefer\\ngentlemen\\'s society, you\\'d better seek it, instead of trying to get along\\nby supposing me to be a gentleman.\" \"It seems as if I couldn\\'t say anything right,\" said Henry. \"I think you do talk a little strangely,\" she admitted, with a faint\\nsmile. Her look was quite like that of an uncomplaining martyr.',\n",
       " 'Halts were now more frequent, but I did not wish to speak to Dian until\\nI could see from the expression of her face how she was receiving my\\napologies. At last a faint glow ahead forewarned us of the end of the\\ntunnel, for which I for one was devoutly thankful. Then at a sudden\\nturn we emerged into the full light of the noonday sun. But with it came a sudden realization of what meant to me a real\\ncatastrophe--Dian was gone, and with her a half-dozen other prisoners. The guards saw it too, and the ferocity of their rage was terrible to\\nbehold. Their awesome, bestial faces were contorted in the most\\ndiabolical expressions, as they accused each other of responsibility\\nfor the loss. Finally they fell upon us, beating us with their spear\\nshafts, and hatchets. They had already killed two near the head of the\\nline, and were like to have finished the balance of us when their\\nleader finally put a stop to the brutal slaughter. Never in all my\\nlife had I witnessed a more horrible exhibition of bestial rage--I\\nthanked God that Dian had not been one of those left to endure it. Of the twelve prisoners who had been chained ahead of me each alternate\\none had been freed commencing with Dian.',\n",
       " \"The prowler staggered and\\nfell beside them. It was breathing its last when he reached it but in the way it looked up\\nat him he had the feeling that it wanted to tell him something, that it\\nwas trying hard to live long enough to do so. It died with the strange\\nappeal in its eyes and not until then did he see the scar on its\\nshoulder; a scar such as might have been made long ago by the rip of a\\nunicorn's horn. It was the prowler he had known nineteen years before. The ground was trampled all around by the unicorns, showing that the\\nprowlers had been besieged all day. He went to the other prowler and saw\\nit was a female. Her breasts showed that she had had pups recently but\\nshe had been dead at least two days. Her hind legs had been broken\\nsometime that spring and they were still only half healed, twisted and\\nalmost useless. Then, that was why the two of them were so far behind the other\\nprowlers. Prowlers, like the wolves, coyotes and foxes of Earth, mated\\nfor life and the male helped take care of the young.\",\n",
       " 'And they will respect you more\\nwhen you show them you have magical powers.\" \"I have no magical powers.\" \"You do. It was not I who put the mark of the Bear on your chest.\" \"What do you mean?\" \"I mean that the White Bear is your spirit self. And he can act in this\\nworld. The mark of his claws is the mark of his favor.\" As White Bear let this sink in, Wolf Paw approached with a stumbling\\nwalk. Running Deer and Burning Pine followed him.',\n",
       " 'He took\\nChang-hi by the pigtail--how big the yellow brute was, and how he\\nstruggled and grinned! He kept growing bigger, too. Then the bright\\nheaps of gold turned to a roaring furnace, and a vast devil,\\nsurprisingly like Chang-hi, but with a huge black tail, began to feed\\nhim with coals. They burnt his mouth horribly. Another devil was\\nshouting his name: \"Evans, Evans, you sleepy fool!\" --or was it Hooker? He woke up. They were in the mouth of the lagoon. \"There are the three palm-trees. It must be in a line with that clump\\nof bushes,\" said his companion.',\n",
       " 'Before the young aviator could swerve the flying\\nmachine to escape the vane upon the roof of the tower, and the long\\narms of the mill, they were right upon these things! The fast-shooting _Snowbird_ was jarred through all her members; but she\\ntore loose. And then, in erratic leaps and bounds, she kept on across\\nthe fields and woods towards Easton, never rising very high, but\\noccasionally sinking so that she trailed across the treetops,\\nthreatening the whole party with death and the flying machine itself\\nwith destruction, at every jump. CHAPTER II\\n\\nMARK HANGS ON\\n\\n\\nProfessor Henderson and his adopted sons--Jack Darrow and Mark\\nSampson--had been in many perilous situations together. Neither one\\nnor the other was likely to display panic at the present juncture,\\nalthough the flying _Snowbird_ was playing a gigantic game of\\n\"leap-frog\" through the air. The professor had himself constructed many wonderful machines for\\ntransportation through the air, under the ground, and both on and\\nbeneath the sea; and in them he and his young comrades had voyaged\\nafar. Narrated in the first volume of this series, entitled, \"Through the\\nAir to the North Pole,\" was the bringing together of the two boys and\\nthe professor,--how the scientist and Washington White rescued Jack\\nand Mark after a train wreck, took them to the professor\\'s workshop,\\nand made the lads his special care. In that workshop was built the\\n_Electric Monarch_, in which flying ship the party actually passed\\nover that point far beyond the Arctic Circle where the needle of the\\ncompass indicates the North Pole. Later, in the submarine boat, the _Porpoise,_ the professor, with\\nhis young assistants and others, voyaged under the sea to the South\\nPole, the details of which voyage are related in the second volume of\\nthe series, entitled \"Under the Ocean to the South Pole.\" In the third volume, \"Five Thousand Miles Underground,\" is related the\\nbuilding of that strange craft, the _Flying Mermaid_, and how the\\nvoyagers journeyed to the center of the earth.',\n",
       " \"They'd told him that he was heading into disaster; and their\\nsurprised, rather fearful faces appeared before him again, as he had\\nseen them just before taking off, after he had told them where he was\\ngoing. Of course they'd thought him crazy. He had brought the amphibian down\\nin the little harbor off the whaling company's base, gone ashore and\\ngreeted his old friends. There was only a handful of men stationed\\nthere; the _Narwhal_ was being overhauled in a shipyard at San\\nFrancisco, and it wasn't the season for surface whalers. They knew\\nthat he, Ken, had been put in a sanitarium; all of them had heard his\\nwild story about sealmen. But he concocted a plausible yarn to account\\nfor his arrival, and they had fed him and given him a berth in the\\nbunkhouse for the night. For the night! Ken Torrance grinned as he recalled the scene. In the\\nmiddle of the night he had risen, quickly awakened four of the\\nsleeping men, and with his gun forced them to take a torpoon from the\\noutpost's storehouse and put it inside the amphibian's passenger\\ncompartment. It was robbery, and of course they'd thought him insane, but they\\ndidn't dare cross him.\",\n",
       " '\"We\\'ll see,\" said Walter. \"What time tomorrow?\" \"Ten o\\'clock.\" Bates looked up. \"And don\\'t try to skip. You be there,\\nbecause _I_ don\\'t know what to tell them.\" Walter was there a half hour early. Torkleson\\'s legal staff glowered\\nfrom across the room. The judge glowered from the bench. Walter closed\\nhis eyes with a little smile as the charges were read: \"--breach of\\ncontract, malicious mischief, sabotage of the company\\'s machines,\\nconspiring to destroy the livelihood of ten thousand workers.',\n",
       " '\"Don\\'t move that Drone.\" For a moment the situation struck him as humorous. Just now he\\'d like to\\nbe guaranteed the chance to clear the heads at Alpine Base. It sounded\\ngood--real good. There was another burst of static. Pickering\\'s voice\\ncame in--louder, clearer, a snap through the ether. \"Don\\'t sacrifice the drone, Commander!\" \"Do you know a better way?\" Pickering\\'s voice dropped to a laconic drawl. \"Reckon so.\"',\n",
       " 'It was a little informal of him to arrange our first meeting at dinner,\\nin the first place. But to make a social occasion of it was--in the\\nstraitlaced terms of the Home Office where I had been trained--almost\\nunthinkable. And it was apparent that the girls were mere decoration. I had a\\nhundred eager questions to ask Gogarty--about this mad Zorchi, about my\\nduties, about Company policy here in the principality of Naples--but it\\nwould be far out of line to bring up Company matters with these females\\npresent. I was not pleased, but I managed to be civil. The girls were decorative enough, I had to admit. Gogarty said expansively, all trace of ill humor gone, \"This is\\nSignorina dell\\'Angela and Miss Susan Manchester. Rena and Susan, this\\nis Tom Wills.\" I said stiffly, \"Delighted.\" Susan was the blonde one, a small plump girl with the bubbly smile of a\\nprofessional model.',\n",
       " 'And the absence of gravity had caused their muscles to lose tone\\nby just about the amount that the same time spent in a hospital bed\\nwould have done. They felt physically worn out. It was a healthy tiredness, though, and their muscles would come back\\nto normal as quickly as one recovers strength after illness--rather\\nfaster, in fact. But tonight there would be no night-life on the\\nspace-ship. Johnny Simms disappeared, after symptoms of fretfulness akin\\nto those of an over-tired small boy. Jamison gave up, and Bell, and Al\\nthe pilot fell asleep while Jones was trying to discuss something\\ntechnical with him. Jones himself yawned and yawned and when Al snored\\nin his face he gave up. They retired to their bunks. There was no point in standing guard over the ship. If the bed of hot\\nashes did not guard it, it was not likely that an individual merely\\nsitting up and staring out its ports would do much good.',\n",
       " 'Advancements in propulsion systems were making it possible for some of \\nthe newer ships to bypass Yellow City on their way to Jupiter and \\nbeyond, but Ceres was still a major stopping point. Zip spoke quietly to Mark. \"Mark, please let them know that we would \\nlike to land.\" Mark opened the microphone. \"Starman Mark Seaton on the starship Star \\nRanger requesting permission to land.\" The response was immediate. \"Yes sir, Starman! Ceres is proud to \\nwelcome you!\" The operator went on to give directions for landing. \"Why is he so deferential?\"',\n",
       " 'The more\\nhe puzzled over it the less he could understand of its purpose. There\\nwas a transmitter and there was a receiver. Astonishingly, neither was\\ndirectional: that ruled out radar, for example. He rejected immediately\\nthe thought that the radiation was for spectrum analysis, as in the\\nCaltech project--unfortunate, because that was the only application\\nwith which he had first-hand familiarity; but impossible. The thing\\nwas too complicated. Nor could it be a simple message transmitter--no,\\nperhaps it could, assuming there was a reason for using the\\nsubmillimeter bands instead of the conventional, far simpler short-wave\\nspectrum. Could it? The submillimeter waves were line-of-sight, of\\ncourse, but would ionosphere scatter make it possible for them to\\ncover great distances? He could not remember. Or was that irrelevant,\\nsince perhaps they needed only to cover the distances between islands\\nin their own archipelago?',\n",
       " '\"For flying, we have an aeroplane that came in when we devised a\\nsuitable motor power. This is obtained from very light\\npaper-cell batteries that combine some qualities of the primary\\nand secondary type, since they must first be charged from a\\ndynamo, after which they can supply full currents for one hundred\\nhours--enough to take them around the globe--while partly\\nconsuming the elements in the cells. The power is applied\\nthrough turbine screws, half of which are capable of propelling\\nthe flat deck in its inclined position at sufficient speed to\\nprevent its falling. The moving parts have ball bearings and\\nfriction rollers, lubrication being secured automatically, when\\nrequired, by a supply of vaseline that melts if any part becomes\\nhot. All the framing is of thin but very durable galvanized\\naluminum, which has superseded steel for every purpose in which\\nweight is not an advantage, as in the permanent way on railways. The air ships, whose length varies from fifty to five hundred\\nfeet, have rudders for giving a vertical or a horizontal motion,\\nand several strengthening keels that prevent leeway when turning. They are entirely on the principle of birds, maintaining\\nthemselves mechanically, and differing thus from the unwieldy\\nballoon. Starting as if on a circular railway, against the wind,\\nthey rise to a considerable height, and then, shutting off the\\nbatteries, coast down the aerial slope at a rate that sometimes\\ntouches five hundred miles an hour. When near the ground the\\nhelmsman directs the prow upward, and, again turning on full\\ncurrent, rushes up the slope at a speed that far exceeds the\\neagle\\'s, each drop of two miles serving to take the machine\\ntwenty or thirty; though, if the pilot does not wish to soar, or\\nif there is a fair wind at a given height, he can remain in that\\nstratum of the atmosphere by moving horizontally. He can also\\nmaintain his elevation when moving very slowly, and though the\\nheadway be entirely stopped, the descent is gradual on account of\\nthe aeroplane\\'s great spread, the batteries and motors being\\nsecured to the under side of the deck.',\n",
       " '\"\\'Tis an angel,\" he\\nwhispered, \"or the statue of one! And that explains it all. \\'Tis them\\nthat has done all this--these passages, and the sweet-fittin\\' doors. And\\ndo they live here? I wonder. Heaven help me if I meet them, for never\\ncould I shoot at one of them, the pretty things!\" He was still gazing in rapt wonder that was near to worship when the\\ngreat door began to move. He saw the first hair-line crack, and the thin\\nline of light was like a hot wire across his eyes, so quickly did he\\nrespond. Beyond, where he had not yet gone, was a branching passage. All\\nthe walls glowed softly with light--no shelter of darkness was his--but\\nSpud leaped for the little passage and raced down it until a turn\\nscreened him from sight.',\n",
       " 'He could not guard\\nher at every moment. How, then, could he keep her safe? They sat in silence again. The Winnebago Prophet looked pleased with\\nhimself. Black Hawk was grim, probably brooding over how badly the war\\nwas progressing. Desperate to protect Nancy, White Bear could think of only one way. He said, \"I want to make the pale eyes woman my wife.\" Black Hawk\\'s eyebrows rose. \"Why should White Bear do that?\" \"The people will not kill the wife of a shaman.\"',\n",
       " 'The world was mad. So I took my profit from it, beginning on the day I saw.\" \"How, exactly?\" \"Eh?\" \"I mean--how did you profit by the war?\" Mr. Shayne smiled expansively. \"What was in demand then, my boy? What\\nwere the stupid, traduced, misguided people raising billions to get? What?',\n",
       " 'I pushed Moa\\'s weapon away. \"You don\\'t need that--\"\\n\\nWe went to the turret. Moa watched me and Snap, a grim, cold Amazon. She avoided looking at Anita, whom Miko helped down the ladders with\\na strange mixture of courtierlike grace and amused irony. Coniston\\nstared at Anita. \"I say, not George Prince? The girl--\"\\n\\n\"No time for explanations,\" Miko commanded. \"It\\'s the girl,\\nmasquerading as her brother. Get below, Coniston. Haljan takes us\\ndown.\"',\n",
       " 'Behold this multitude of moveable square cards. See, I\\nput one on another, not, as you supposed, Northward of the other, but\\nON the other. Now a second, now a third. See, I am building up a\\nSolid by a multitude of Squares parallel to one another. Now the Solid\\nis complete, being as high as it is long and broad, and we call it a\\nCube.\" \"Pardon me, my Lord,\" replied I; \"but to my eye the appearance is as of\\nan Irregular Figure whose inside is laid open to view; in other words,\\nmethinks I see no Solid, but a Plane such as we infer in Flatland; only\\nof an Irregularity which betokens some monstrous criminal, so that the\\nvery sight of it is painful to my eyes.\" \"True,\" said the Sphere; \"it appears to you a Plane, because you are\\nnot accustomed to light and shade and perspective; just as in Flatland\\na Hexagon would appear a Straight Line to one who has not the Art of\\nSight Recognition. But in reality it is a Solid, as you shall learn by\\nthe sense of Feeling.\" He then introduced me to the Cube, and I found that this marvellous\\nBeing was indeed no Plane, but a Solid; and that he was endowed with\\nsix plane sides and eight terminal points called solid angles; and I\\nremembered the saying of the Sphere that just such a Creature as this\\nwould be formed by the Square moving, in Space, parallel to himself:\\nand I rejoiced to think that so insignificant a Creature as I could in\\nsome sense be called the Progenitor of so illustrious an offspring. But still I could not fully understand the meaning of what my Teacher\\nhad told me concerning \"light\" and \"shade\" and \"perspective\"; and I did\\nnot hesitate to put my difficulties before him.',\n",
       " 'He also saw things and did things over which it is best to draw a\\nkindly veil, for _every_ desire--mental or physical, open or sternly\\nsuppressed, noble or base--that Virgil Samms had ever had was being\\n_completely satisfied_. EVERY DESIRE. As Samms sat there, straining motionlessly upon the verge of death\\nthrough sheer ecstasy, a door opened and Senator Morgan entered the\\nroom. Herkimer started, almost imperceptibly, as he turned--had there\\nbeen, or not, an instantaneously-suppressed flash of guilt in those now\\ncompletely clear and frank brown eyes? \"Hi, Chief; come in and sit down. Glad to see you--this is not exactly\\nmy idea of fun.\" \"No? When did you stop being a sadist?\" The senator sat down beside\\nhis minion\\'s desk, the fingertips of his left hand began soundlessly\\nto drum. \"You wouldn\\'t have, by any chance, been considering the idea\\nof...?\"',\n",
       " \"The results were shocking, but not unexpected. Preliminary search\\nrevealed no oysters in the other two major oceans, but the Baril Ocean\\nwas badly infested. There were groups and islands of immature oysters\\nalong the entire course of the Equatorial current and the tropical coast\\nof Alpha. Practically every island group in the central part of the\\nocean showed traces of the bivalves. It was amazing how far they had\\nspread. Even the northern shallows had a number of thriving young\\ncolonies. Bergdorf was right. Another year and we'd have been swamped. As it was\\nit was nothing to laugh about. The news reached Kron just before the Council meeting, which, like most\\nof Niobe's off-season politics, had been delayed time after time.\",\n",
       " 'The Professor was\\nengaged in opening an enormous bale, carefully sewed in a brown\\nblanket. \"You come at a good time, sir,\" he cried, on seeing me enter. \"The\\nmagazines have just arrived.\" He dashed about in feverish haste. Presently a stream of pamphlets and\\nmagazines, blue, green, yellow and salmon, was bursting from an\\nopening in the bale. \"Splendid, splendid!\" he cried, dancing with joy. \"Not too late,\\neither; here are the numbers for October fifteenth. We must give a\\nvote of thanks to good Ameur.\" His good spirits were contagious.',\n",
       " 'He saw the\\ntemples and the palaces, the glittering lovely city beneath him in the\\nice, blurred and fairylike and strange, a dream half glimpsed through\\ncrystal. He saw the Ones that lived there, moving slowly through the streets. He\\ncould not see them clearly, only the vague shining of their bodies, and\\nhe was glad. He hated them, with a hatred that conquered even his fear, which was\\ngreat indeed. He was not Eric John Stark. He was Ban Cruach. The tower and the city vanished, swept away on a reeling tide. He stood beneath a scarp of black rock, notched with a single pass. The\\ncliffs hung over him, leaning out their vast bulk as though to crush\\nhim, and the narrow mouth of the pass was full of evil laughter where\\nthe wind went by. He began to walk forward, into the pass.',\n",
       " \"Dane knew that his lapse was not forgotten nor forgiven, but now he was\\nhonestly too tired to care and slept as well as if his conscience were\\nclear. But morning brought only a trickle of lower class clansmen for trading\\nand none of them had much but news to offer. The storm priests, as\\nneutral arbitrators, had divided up the Koros grounds. And the clansmen,\\nunder the personal supervision of their chieftains were busy hunting the\\nstones. The Terrans gathered from scraps of information that gem seeking\\non such a large scale had never been attempted before. Before night there came other news, and much more chilling. Paft, one of\\nthe two major chieftains of this section of Sargol--while supervising the\\nefforts of his liege men on a newly discovered and richly strewn length\\nof shoal water--had been attacked and killed by gorp. The unusual\\nactivity of the Salariki in the shallows had in turn drawn to the spot\\nbattalions of the intelligent, malignant reptiles who had struck in\\nstrength, slaying and escaping before the Salariki could form an adequate\\ndefense, having killed the land dwellers' sentries silently and\\neffectively before advancing on the laboring main bodies of gem hunters. A loss of a certain number of miners or fishers had been preseen as the\\nprice one paid for Koros in quantity. But the death of a chieftain was\\nanother thing altogether, having repercussions which carried far beyond\\nthe fact of his death.\",\n",
       " '\"They say it\\'s September fourth, one thirty A.M.\" \"Well, there you are,\" laughed McIlroy, \"it isn\\'t that time doesn\\'t mean\\nanything here, it just doesn\\'t mean the same thing.\" Mr. Phelps joined the laughter. \"Bankers\\' hours don\\'t mean much, at any\\nrate,\" he said. *       *       *       *       *\\n\\nThe power crew was having trouble with the solar furnace. Three of the\\nnine banks of mirrors would not respond to the electric controls, and\\none bank moved so jerkily that it could not be focused, and it\\nthreatened to tear several of the mirrors loose. \"What happened here?\" Spotty Cade, one of the electrical technicians\\nasked his foreman, Cowalczk, over the intercommunications radio. \"I\\'ve\\ngot about a hundred pinholes in the cables out here.',\n",
       " 'Under the neuro-pistols both hounds and hare would be\\nparalyzed, and she would be easily taken. Sira longed for one of these\\nhandy weapons herself, but they were too expensive: she had been\\nunable to secure one. Now the police car was coming back. The sliding forward door was\\ndrawn back, and a man was leaning out, neuro alert. Judging the\\ndistance expertly, he pulled the trigger, and a hundred men fell\\nunconscious. \"Got \\'em!\" he snapped over his shoulder. \"The princess as well. Down\\nquick!\" Sira, spared because of the officer\\'s unwillingness to take a chance\\non injuring her, leaped through a gap in a wall and sprinted through a\\ngarden smothered with thick, leathery-leaved weeds, some of them\\nhigher than her head.',\n",
       " 'The day for our departure arrived. The day before it our kind friend\\nM. Thomsen brought us letters of introduction to Count Trampe, the\\nGovernor of Iceland, M. Picturssen, the bishop\\'s suffragan, and M.\\nFinsen, mayor of Rejkiavik. My uncle expressed his gratitude by\\ntremendous compressions of both his hands. On the 2nd, at six in the evening, all our precious baggage being\\nsafely on board the _Valkyria,_ the captain took us into a very\\nnarrow cabin. \"Is the wind favourable?\" my uncle asked. \"Excellent,\" replied Captain Bjarne; \"a sou\\'-easter. We shall pass\\ndown the Sound full speed, with all sails set.\" In a few minutes the schooner, under her mizen, brigantine, topsail,\\nand topgallant sail, loosed from her moorings and made full sail\\nthrough the straits. In an hour the capital of Denmark seemed to sink\\nbelow the distant waves, and the _Valkyria_ was skirting the coast by\\nElsinore.',\n",
       " 'The little pink sloth-thing became shy and left me, to crawl back\\nto its natural life once more among the tree-branches. We were in just\\nthe state of equilibrium that would remain in one of those \"Happy Family\"\\ncages which animal-tamers exhibit, if the tamer were to leave it\\nfor ever. Of course these creatures did not decline into such beasts as\\nthe reader has seen in zoological gardens,--into ordinary bears,\\nwolves, tigers, oxen, swine, and apes. There was still something\\nstrange about each; in each Moreau had blended this animal with that. One perhaps was ursine chiefly, another feline chiefly, another\\nbovine chiefly; but each was tainted with other creatures,--a kind\\nof generalised animalism appearing through the specific dispositions. And the dwindling shreds of the humanity still startled me every\\nnow and then,--a momentary recrudescence of speech perhaps,\\nan unexpected dexterity of the fore-feet, a pitiful attempt to\\nwalk erect. I too must have undergone strange changes. My clothes hung about\\nme as yellow rags, through whose rents showed the tanned skin. My hair grew long, and became matted together. I am told that\\neven now my eyes have a strange brightness, a swift alertness\\nof movement.',\n",
       " \"'An ample retinue followed me to Peshkhauri,' she answered. 'I lodged my\\npeople there and came on to the fort with my maid, Gitara.' Chunder Shan groaned in horror. 'Devi! You do not understand the peril. An hour's ride from this spot\\nthe hills swarm with barbarians who make a profession of murder and\\nrapine. Women have been stolen and men stabbed between the fort and the\\ncity. Peshkhauri is not like your southern provinces--'\\n\\n'But I am here, and unharmed,' she interrupted with a trace of\\nimpatience. 'I showed my signet ring to the guard at the gate, and to\\nthe one outside your door, and they admitted me unannounced, not knowing\\nme, but supposing me to be a secret courier from Ayodhya. Let us not now\\nwaste time.\",\n",
       " 'Its rodent teeth overhanging its receding lower jaw gave\\nits face a look of colossal feebleness, of weak avidity. It seemed not\\nin the least ferocious or terrible. Its fore-paws reminded him of lank\\nemaciated hands. Except for one neat round hole with a scorched rim on\\neither side of its neck, the creature was absolutely intact. He\\nmeditated over this fact for some time. \"There must have been two rats,\"\\nhe said at last, turning away. \"Yes. And the one that everybody hit--got away.\" \"I am certain that my own shot--\"\\n\\nA canary-creeper leaf tendril, engaged in that mysterious search for a\\nholdfast which constitutes a tendril\\'s career, bent itself engagingly\\ntowards his neck and made him step aside hastily. \"Whoo-z-z z-z-z-z-Z-Z-Z,\" from the distant wasps\\' nest, \"whoo oo\\nzoo-oo.\"',\n",
       " 'I was sick as a\\ndog and he held my hand and told me I was being very brave.\" \"And sent the hell of a bill to me,\" I added. \"Well,\" she asked, after a pause. \"What do you really think of me?\" \"I think, Jimmie, that you\\'re lonely, bored and unhappy. All three are\\nmy fault but they are driving you to make a fool of yourself. Nobody\\nhas tried to understand you\"--which is catnip for any person of either\\nsex, once you get them talking about themselves--\"least of all your\\nhusband. You need what other women need--children, a home....\"\\n\\n\"If this is a build-up for obstetrics, the answer is \\'No!\\'\" she snapped\\nangrily. \"Skip it!\"',\n",
       " 'Flor looked savagely at his captive. \"Take off your cap.\" Reluctantly, the man\\'s hand came up. He removed his steel cap, holding\\nit in his hand as he faced his captor. \"That is fine.\" Flor pressed his advantage. \"Now, your garments. Off\\nwith them!\" The swordsman was nearly his size. Both of them had the heavy build of\\ntheir mountain stock, and the garments of the free swordsman would do\\nfor Flor\\'s purpose, even though they might not fit him perfectly.',\n",
       " 'Why explain it to the crew? \"Thus,\" continued Fitzhugh, \"it became necessary to incorporate into the\\nbrain a physical analogue of Lagerglocke\\'s Principle: \\'Learning is a\\nresult of an inelastic collision.\\' \"I won\\'t give it to you symbolically, but the idea is simply that an\\norganism learns _only_ if it does _not_ completely recover from the\\neffects of an outside force imposed upon it. If it recovers completely,\\nit\\'s just as it was before. Consequently, it hasn\\'t learned anything. The organism _must change_.\" He rubbed the bridge of his nose and looked out over the faces of the\\nmen before him. A faint smile came over his wrinkled features. \"Some of you, I know, are wondering why I am boring you with this long\\nrecital. Believe me, it\\'s necessary.',\n",
       " '\"Where did you get it?\" \"That don\\'t go with the sale, but I didn\\'t steal it.\" \"You found it, I suppose?\" suggested Dave. \"Well, you might call it so.\" The man drew from his pocket a badge\\nwhich was the exact counterpart of that worn by the young aviator. \"Let me have a look at it,\" said Dave. \"No, sir.\" \"Why not?\" \"You can see what it is, can\\'t you?',\n",
       " '\"So pleased to see you young men are safe!\" he spouted. \"So much has \\nhappened in these three weeks! Here is your Star Ranger, ready for \\nduty!\" The Indian was excited. Zip had shaken off his own dark mood and \\nwas rising to the challenge. The other two Starmen were eager to lift \\noff and get back into the battle against Lurton Zimbardo. \"Nice to see you, Sim!\" cried out Zip, as he and the man from Ceres \\nshook hands through their spacesuits. \"George and his men will be ready \\nin a moment.',\n",
       " 'exclaimed Iimmi. \"They must have gotten in contact with\\nour ship and are arranging to send us back.\" \"I wish I could hear what they\\'re saying,\" said Geo. Iimmi looked around and then picked up the metal ear muffs from the\\nstand in front of the screen. \"That\\'s what she seems to be listening\\nthrough,\" said Iimmi, referring to the Priestess in the picture. \"Try\\nthem. Go on.\" He helped Geo fit them over his ears. \"Hear anything?\" Geo listened.',\n",
       " 'We cannot have lying\\npoliticians and unjust rulers. \"It is a peaceful civilization. The Ancient Masters feared and hated War\\nwith a mighty aversion. But they did not make our race cowards, merely\\npeaceful intelligence. Now we must fight for our homes, and my race will\\nfight mightily. But we need weapons. \"But my story has little to do with our race. I will tell the story of\\nour civilization and of the Ancient Ones later when the time is more\\nauspicious. \"Four months ago, our mental vibration instruments detected powerful\\nemanations from space. That could only mean that a new, highly\\nintelligent race had suddenly appeared within a billion miles of our\\nworld.',\n",
       " '\"It\\'s all over now,\" he heard Lima say. He sat up. \"What happened?\" \"This will be hard to believe,\" Lima said, \"and I will not try to\\nprove it to you, but it is true. The mind has many powers which cannot\\neven be imagined by anyone who has not lived with those powers as I\\nhave. When you called me, your mind attuned itself with mine, and its\\nneed and its demand were so powerful that together we turned time\\nbackward. You are now back in my dressing room, and it is the exact\\ntime at which you originally came out of your dream.\" \"That\\'s impossible!\" Bennett protested. \"Nevertheless, it happened.',\n",
       " \"They were capable of\\ndisemboweling a man or snapping a dog's body in half without effort. There were whistling noises as the beetle breathed through its abdominal\\nspiracles. It fought furiously, making ferocious charges at the dogs who\\ntormented and bewildered it. But they created the most zestfully excited\\nof tumults. Burl and Saya were, of course, at least as absorbed and excited as the\\ndogs, or they would have noticed the thing that was to make so much\\ndifference to every human being, not only on the plateau but still down\\nin the lowlands. This unnoticed thing was beyond their imagining. There\\nhad been nothing else like it on this world in many hundreds of years. It was half a dozen miles away and perhaps a thousand feet high when\\nBurl and Saya prepared to intervene professionally on behalf of the\\ndogs. It was a silvery needle, floating unsupported in the air. As they\\nentered the battle, it swerved and moved swiftly in their direction.\",\n",
       " 'A heat-ray this\\ntime. It caught the fallen Balch full in the chest, piercing him\\nthrough. The smell of his burning flesh rose to sicken me. He was dead. I dropped his body. Carter shoved me into the chart-room. In the small, steel-lined room, Carter and I slid the door closed. We\\nwere alone here. The thing had come so quickly it had taken Captain\\nCarter, like us all, wholly unawares. We had anticipated spying\\neavesdroppers, but not this open brigandage.',\n",
       " 'Quick-growing, dry-climate trees\\npredominated, but there were even such as balsam fir, chestnut and elm. It made an attractive sight from the air. The reforestation projects based on Bidon Cinq were not all in the\\nimmediate vicinity of the home oasis. By air, In Ziza was almost 125\\nkilometers to the northeast. By far the greater part of the land\\nlying in between was still lacking in vegetation of any sort. The\\nhydro-geological engineers who had originally surveyed the area for\\nwater had selected only the best sections for immediate sinking of\\nwells, placement of solar power pumps, and eventually the importation\\nof two-year seedlings and three- and four-year-old transplants. The\\nheavy auto-planters, brought in by air transport, had ground their way\\nacross the desert sands in their hundreds, six feet between machines. Stop, dig the hole, set the seedling, splash in water, artfully tamp\\ndown the soil, move on another six feet, stop--and begin the operation\\nall over again. Fifty trees an hour, per machine. In less than two months, the planters had moved on to a new base\\nfurther north.',\n",
       " 'There was a wide, almost circular sweep of open rock\\naround the base of the hill. Hyrst looked carefully for the tug. There\\nwas no sign of it. He tore out across the open, with Shearing at his\\nheels. The tug swooped over, going fast this time. It could not possibly have\\nmissed them. Shearing dropped the cloak with a grunt. \"No use for that\\nany more,\" he said. They bounded up the hillside and in among the\\nmourning figures. The tug whipped around in a tight spiral and hung over\\nthe hill.',\n",
       " 'Forrester, riding high on the palanquin, beamed down at them, roaring\\nwith happy laughter. They were all for him. Having been carried to one\\nend of the park in triumph, he was now to march back at the head of his\\npeople, surrounded by seven of the most beautiful girls in New York. Their final selection had been left, he knew, to a brewery which had\\nexperience in these matters. And the girls certainly looked like the\\npick of anybody\\'s crop. Forrester beamed at them again, stood up in the\\npalanquin and spread his arms wide. Then he sprang. In a flying leap, he went high into the air and did a\\nfull somersault, landing on his toes on the stage, twenty-five feet\\naway. The girls were kneeling in a circle around him. \"Come, my doves!\"',\n",
       " '\"Skorkin knows he must obey you,\" Keetack said. \"He will do anything\\nyou ask, and will harm none of your people.\" \"Hello, friend-pet,\" Johnny said. The rhinosaur turned and looked at him with his little blue-black eyes\\nand grunted a greeting. Johnny noted it. It probably meant \"hello.\" \"Was that his speech?\" Johnny asked. \"Yes,\" Keetack answered. \"They have more words than the other creatures\\nof the green lands.',\n",
       " 'Collins looked up, amazement and incredulity written on his face. \"What do you mean--can\\'t leave? I can leave any time--\"\\n\\nGordon slowly shook his head almost sadly. \"No, only assistants,\\ntechnicians, maintenance people, and they are carefully watched or\\nrestricted to this area. People like yourself, like me, we have\\ninformation, knowledge which cannot be let out of government hands at\\nthis time. We\\'re here probably for the \\'duration\\'; maybe longer.\" \"But--this is barbarous. I--\" the words clogged, jumbled as he tried to\\nget them out. His emotions ran from anger, to amazement, to indignation,\\nfollowed by a trickle of fear, and as he stared at Gordon, the fear\\ngrew. He could scarcely hear Gordon\\'s words--\\n\\n\"Take my advice--relax--and forget your fears--accept the restrictions\\nand go ahead--read in some other field--come in again when you\\'ve\\nthought it out.\"',\n",
       " 'Samms stared deliberately at the mass of metal towering above him, then\\nsmiled--not without effort--at his companion. \"You\\'d think, Alex, that a man would get over being afraid that a ship\\nwas going to fall on him, but I haven\\'t--yet.\" \"No, and you probably never will. I never have, and I\\'m one of the old\\nhands. Some claim not to mind it--but not in front of a lie detector. That\\'s why they had to make the passenger docks bigger than the\\nliners--too many passengers fainted and had to be carried aboard on\\nstretchers--or cancelled passage entirely. However, scaring hell out of\\nthem on the ground had one big advantage; they felt so safe inside that\\nthey didn\\'t get the colly-wobbles so bad when they went free.\" \"Well, I\\'ve got over _that_, anyway. Good-bye, Alex; and thanks.\" Samms entered the dock, shot smoothly upward, followed an escorting\\nofficer to the captain\\'s own cabin, and settled himself into a\\ncushioned chair facing an ultra-wave view-plate.',\n",
       " 'He regretted, too, that he had so casually handed Barlow a couple of\\nhundred dollars. The man seemed obsessed with fear that they were\\nworthless since Hawkins refused to take a note or I.O.U. or even a\\ndefinite promise of repayment. But Hawkins couldn\\'t go into details,\\nand was very glad when a stranger arrived from Central. \"Tinny-Peete, from Algeciras,\" the stranger told him swiftly as the\\ntwo of them met at the door. \"Psychist for Poprob. Polasigned special\\novertake Barlow.\" \"Thank Heaven,\" said Hawkins. \"Barlow,\" he told the man from the past,\\n\"this is Tinny-Peete. He\\'s going to take care of you and help you make\\nlots of money.\"',\n",
       " '\"Gotta run; gotta get away,\" Hooper\\'s words said, but the thought\\nflashed across his mind, \"since after dawn.\" \"Then dad\\'s not too far away,\" Hanlon thought, and began trying to\\nguess where or in what direction the prison might be, and how he could\\nlocate it most quickly. He was awakened to reality to see Hooper rise from the bed, the\\nparalysis broken by that inner compulsion to flee. Before Hanlon could\\njump up to stop him, Hooper was out of the room. Hanlon let him go. He hated to do it, but there was no apparent way he\\ncould save Hooper now ... and he _had_ to get to his father just as\\nfast as he could. Not only because the admiral was his adored dad, but\\nbecause he was second in command of the whole I-S C\\'s secret service,\\nand in charge of this mission, and thus the more important at the\\nmoment. \"But where is he?\" Hanlon\\'s thoughts were an agonized wail. For the\\nfirst time in months he felt very young, and inexperienced, and unsure.',\n",
       " 'He began\\nwithout preamble: \"Your cargo is packed and ready to be moved in an\\nunderground vault five hundred yards from here. You will break up into\\npairs, a pilot and co-pilot for each jet.\" Sria Krishna and Pandit had\\nalready paired themselves together. \"You work on your own time, getting\\nthe cargo with trundle-sleds, loading it, taking off, delivering it to\\nthe Denebian freighter at the spaceport. When you are finished, you\\ncollect your pay.\" \"Where do we sleep?\" someone asked. *       *       *       *       *\\n\\nOrkap smiled. \"You didn\\'t come out here to sleep. There is only a\\nlimited amount of cargo.',\n",
       " 'She bit eagerly\\ninto a bird. Arthur began as hungrily on another. For some time\\nneither spoke a word. At last, however, Arthur waved the leg of\\nhis second pigeon toward his desk. \"Look what we\\'ve got here!\" he said. Estelle nodded. The stunned pigeon Arthur had first picked up was\\ntied by one foot to a paper-weight. \"I thought we might keep him for a souvenir,\" she suggested. \"You seem pretty confident we\\'ll get back, all right,\" Arthur\\nobserved.',\n",
       " 'It is standard technique when an\\nesper-telepath team go investigating. The telepath knew all about me,\\nincluding the fact that I\\'d dug their wallets and identification cards,\\nbadges and the serial numbers of the nasty little automatics they\\ncarried. The idea was to drive the important question hard and first; it\\nbeing impossible to not-think the several quick answers that pop through\\nyour mind. What I knew about Thorndyke was sketchy enough but they got\\nit all because I didn\\'t have any reason for covering up. I let them know\\nthat, too. Finally, #That\\'s about all,# I thought. #Now--why?#\\n\\nThe telepath half of the team answered. \"Normally we wouldn\\'t answer,\\nMr. Cornell, unless you said it aloud. But we don\\'t mind letting you\\nknow which of us is the telepath this time.',\n",
       " \"He drew his fuzzy pink friend out of his pocket and rested him on his\\nshoulder, felt the tiny silent creature rub happily against his neck. It\\nhad been his own decision to come here, Dal knew; there was no one else\\nto blame. His people were not physicians. Their instincts and interests\\nlay in trading and politics, not in the life sciences, and plague after\\nplague had swept across his home planet in the centuries before Hospital\\nEarth had been admitted as a probationary member of the Galactic\\nConfederation. But as long as Dal could remember, he had wanted to be a doctor. From\\nthe first time he had seen a General Practice Patrol ship landing in his\\nhome city to fight the plague that was killing his people by the\\nthousands, he had known that this was what he wanted more than anything\\nelse: to be a physician of Hospital Earth, to join the ranks of the\\ndoctors who were serving the galaxy. Many on Earth had tried to stop him from the first. He was a Garvian,\\nalien to Earth's climate and Earth's people. The physical differences\\nbetween Earthmen and Garvians were small, but just enough to set him\\napart and make him easily identifiable as an alien. He had one too few\\ndigits on his hands; his body was small and spindly, weighing a bare\\nninety pounds, and the coating of fine gray fur that covered all but his\\nface and palms annoyingly grew longer and thicker as soon as he came to\\nthe comparatively cold climate of Hospital Earth to live.\",\n",
       " \"So did\\nthey. Then--nothing more about scientific developments. For over twenty\\nyears. I ask you, doesn't it seem peculiar? FIRST MAN: Peculiar, he says. ALARIC ARKALION: Peculiar. SECOND MAN: I wish my Congressman....\\n\\nFIRST MAN: You and your Congressman. The way you talk, it was your vote\\ngot him in office. SECOND MAN: If only I could get out and talk to him. ALARIC ARKALION: No one is permitted to leave.\",\n",
       " 'She couldn\\'t--she\\'s not--\"\\n\\nThey were all looking at Her Majesty, now. She returned them stare for\\nstare, her back stiff and straight and her white hair enhaloed in the\\nroom\\'s light. \"Sir Kenneth,\" she said--and her voice was only the\\nleast bit unsteady--\"they all think _I\\'m_ the spy.\" Barbara stood up. \"Listen,\" she said. \"I didn\\'t like Her Majesty at\\nfirst--well, she was a patient, and that was all, and when she started\\nputting on airs ... but since I\\'ve gotten to know her I do like her. I like her because she\\'s good and kind herself, and because--because\\nshe wouldn\\'t be a spy. She couldn\\'t be. No matter what any of you\\nthink--even you--Sir Kenneth!\" There was a second of silence.',\n",
       " 'Larry, sent off his balance, staggered toward the glittering machine. As he stumbled against the transparent tube that contained the brain,\\nhe clenched his fist to strike futilely at it. A snake-like metal tentacle wrapped itself about him; he was hurled to\\nthe floor, to sprawl grotesquely among broken apparatus. His head came against the leg of a bench. For a few moments he was\\ndazed. But it seemed only a few seconds to him before he had staggered\\nto his feet, rubbing his bruised head. Anxiously, he peered about the\\nroom. The machine-monster and Agnes were gone! He stumbled back to the mass of apparatus in the center of the huge\\nlaboratory. Intently, he gazed into the upright pillar of crimson\\nflame.',\n",
       " 'You\\'re right--that\\'s one reason I\\'m not First\\nLensman.\" The Port Admiral, fury and fire ebbing from his mind, issued\\norders; the Patrol forces hung motionless in space. \"As President of\\nthe Galactic Council, Virge, take over.\" Spy-rays probed and searched; a communicator beam was sent. Virgil\\nSamms spoke aloud, in the lingua franca of deep space. \"Connect me, please, with the senior officer of your fleet.\" There appeared upon Samms\\' plate a strong, not unhandsome face;\\ndeep-stamped with the bitter hopelessness of a strong man facing\\ncertain death. \"You\\'ve got us. Come on and finish us.\" \"Some such indoctrination was to be expected, but I anticipate no\\ntrouble in convincing you that you have been grossly misinformed in\\neverything you have been told concerning us; our aims, our ethics,\\nour morals, and our standards of conduct.',\n",
       " 'Tell him the professor wants it.\" Jeff thought a moment, then nodded his head. \"O.K. I\\'ll see you later.\" The three cadets returned to their quarters to wait while Jeff went up\\nto the control deck. He walked in with a smile, chatted with the pilot a\\nfew moments, and then made his request. \"I want to take a look at the log a minute, Johnny,\" he said casually. \"The professor lost his notes on the meteor dust we passed through the\\nother day.\" \"Sure,\" said the pilot. He tossed the dog-eared book to the sergeant.',\n",
       " '\"It requires personal attention.\" \"I see.\" The deep, warm eyes bored into his. \"You ought to slow down a\\nlittle, I think.\" \"Yes, sir. As soon as the work eases up a little.\" FitzMaugham chuckled. \"In another century or two, you mean. I\\'m afraid\\nyou\\'ll never learn how to relax, my boy.\" The lift tube arrived.',\n",
       " '\"We have discovered many new fibers, but it is rather a question of\\nprocess than material that I had in mind. This is not a textile fabric at\\nall, but paper. That is the most common material for garments nowadays.\" \"But--but,\" I exclaimed, \"what if it should come on to rain on these\\npaper clothes? Would they not melt, and at a little strain would they not\\npart?\" \"A costume such as this,\" said Edith, \"is not meant for stormy weather,\\nand yet it would by no means melt in a rainstorm, however severe. For\\nstorm-garments we have a paper that is absolutely impervious to moisture\\non the outer surface. As to toughness, I think you would find it as hard\\nto tear this paper as any ordinary cloth. The fabric is so strengthened\\nwith fiber as to hold together very stoutly.\" \"But in winter, at least, when you need warmth, you must have to fall\\nback on our old friend the sheep.\"',\n",
       " '\"Claret sangaree!\" shouts another through his nose. \"Gin-sling!\" shouts one. \"Cocktail! Brandy-smash!\" cries another. \"Who\\'ll buy real mint-julep in the latest style?\" shouted these skilful\\nsalesmen, rapidly passing from one glass to another the sugar, lemon,\\ngreen mint, crushed ice, water, cognac, and fresh pine-apple which\\ncompose this refreshing drink. Generally these sounds, addressed to throats made thirsty by the spices\\nthey consumed, mingled into one deafening roar.',\n",
       " \"He might know that a rocket doesn't go where it's\\npointed, as a matter of theory. He might even know intellectually that\\nthe final speed and course of a rocket is the sum of all its previous\\nspeeds and courses. But he hadn't used the knowledge Joe and the Chief\\nhad. Something rushed at them. They went into evasive action. And they didn't\\nmerely turn the noses of their space wagons. They flung them about\\nend-for-end, and blasted. They used wholly different accelerations at\\nodd angles. Joe shot away from Earth on steering rocket thrust, and\\ntouched off a four-three while he faced toward Earth's north pole, and\\nhalfway along that four-second rush he flipped his craft in a somersault\\nand the result was nearly a right-angled turn. When the four-three\\nburned out he set off a twelve-two, and halfway through its burning\\nfired a three-two with it, so that at the beginning he had two gravities\\nacceleration, then four gravities for three seconds, and then two again.\",\n",
       " 'Sure, I\\'d been murdered, but what had it cost\\nme? A few days of \"unconsciousness\" while they decanted my backup into\\nmy new body, a merciful gap in memory from my departure at the backup\\nterminal up until my death. I wasn\\'t one of those nuts who took death\\n_seriously_. It wasn\\'t like they\\'d done something _permanent_. In the meantime, I _had_ done something permanent: I\\'d dug Lil\\'s grave a\\nlittle deeper, endangered the ad-hocracy and, worst of all, the Mansion. I\\'d acted like an idiot. I tasted my dinner, a wolfed-down hamburger,\\nand swallowed hard, forcing down the knob of nausea. I sensed someone at my elbow, and thinking it was Lil, come to ask me\\nwhat had gone on, I turned with a sheepish grin and found myself facing\\nthe elf. He stuck his hand out and spoke in the flat no-accent of someone running\\na language module. \"Hi there.',\n",
       " '\"Look at this,\" he said. Klem Zareff looked at it. He didn\\'t like it any better than Conn had. He studied the plan for a moment, chewing his cigar. \"You know, it\\'s possible they don\\'t know that thing exists,\" he said,\\nwithout too much conviction. \"You\\'ll be betting the lives of at least\\ntwenty men; fewer than that couldn\\'t accomplish anything.\" \"I\\'ll be putting mine on the table along with them,\" Conn said. \"I\\'ll\\nlead them in.\" He was wishing he hadn\\'t had to say that. He did, though.',\n",
       " 'He had tucked carefully under his arm a sphere of about the size of a\\nbasketball and, if he had made it to my specifications, weighing\\nthirty-five pounds. He had a worried frown on his forehead. \"It looks good,\" I said. \"What\\'s the trouble?\" \"There seems to be a slight hitch,\" he said. \"I\\'ve been testing for\\nconductivity. It seems to be quite low.\" \"That\\'s what I\\'m working on now. It\\'s just a mechanical problem of\\npumping enough warm air back to the ball. We can do it with no more\\nthan a twenty per cent efficiency loss.',\n",
       " 'All that Van Emmon and Smith could do\\nwas lend the aid of their mentality to the efforts of the other two, and\\nfor a while had to be content with what Billie, through Supreme, and the\\ndoctor, through Rolla, were able to learn. However, Kinney did suggest\\nthat one of the other two men get in touch with Cunora. \"Good idea,\" said Smith. \"Go to it, Van Emmon.\" The geologist stirred uneasily, and avoided his wife\\'s eyes. \"I--I\\'m\\nafraid not, Smith. Rather think I\\'d prefer to rest a while. You do it!\" Smith laughed and reddened. \"Nothing doing for an old bach like me.',\n",
       " 'Together they rose, and looked at\\neach other wonderingly. Again came the feeling. They started for the\\ndoor. \"But that\\'s foolish!\" Jim said aloud, as if objecting to his own\\nthought. \"The door\\'s locked! We tried it!\" He looked at Partridge, who\\nreturned his gaze blankly--and then, in spite of what he had said, he\\nreached out and turned the latch. The door swung open! Expressions of surprise died on the men\\'s lips as again came the\\ncompelling urge to go to some unknown destination.',\n",
       " 'I looked at him through\\nnarrowed eyes. He decided to rely on his mouth, as usual. He licked his\\nlips. \"All right, I\\'m under arrest,\" he said. \"But as Medical Officer of\\nthis vessel it\\'s my duty to remind you that you can\\'t live without a\\ncertain minimum of fresh organic food. We\\'ve got to start back now.\" He\\nwas pale, but determined. He couldn\\'t bear the thought of getting bald\\nand toothless from dietary deficiency. The girls would never give him\\nanother look. \"We\\'re going on, Kramer,\" I said.',\n",
       " '\"Where\\'s Doc Fitz?\" \"He\\'s still trying to get information out of Snookums. It\\'s a weird\\nthing, Mike--a robot with a soul.\" \"You don\\'t mind talking about it?\" \"No; go ahead if you want.\" \"All right, answer me a question,\" he said. \"Can Snookums read English?\" \"Certainly. And Russian, and German, French, Chinese, and most of the\\nother major languages of Earth.\" \"He could read a book, then?\"',\n",
       " 'He hobbled into the kitchen to get the\\ngolden eggs. Barney arrived with the chilled quarter of beef wrapped in burlap. He\\ntossed it in the bed of the pickup and threw more sacks over it to keep\\nit cool under the broiling, midmorning sun. Johnny came out with the\\neggs in a light cardboard box stuffed with crumpled newspapers. He\\nwedged the box against the side of beef in the forward corner of the\\ntruck bed. \"One more thing, Hetty,\" he said. \"I\\'ve got a half drum of\\ndrain oil in the tractor shed that I\\'ve been meaning to trade in for\\nsome gearbox lube that Willy Simons said he\\'d let me have. Can you drop\\nit off at his station and pick up the grease?\" \"Throw it on,\" Hetty said, \"while I go change into some town clothes.\" Johnny started to hobble down the porch steps when Barney stopped him.',\n",
       " '\"Come on, we got them on the\\nrun!\" That, of course, converted a strategic retreat into an attack. We got\\nJoe aimed toward the doors and before he knew it, we were out in the\\nhall by the elevators. There were a couple of Ravick\\'s men, with\\nsergeant-at-arms arm bands, and two city cops. One of the latter got\\nin Joe\\'s way. Joe punched him in the face and knocked him back about\\nten feet in a sliding stagger before he dropped. The other cop grabbed\\nme by the left arm. I slugged him under the jaw with my ten-sol right and knocked him out,\\nand I felt the wrapping on the coin roll break and the quarters come\\nloose in my hand. Before I could drop them into my jacket pocket and\\nget out the other roll, one of the sergeants at arms drew a gun. I\\njust hurled the handful of coins at him.',\n",
       " 'The Big Boss had mobilized the full raiding force of the Gang, and was\\non the point of heading an expedition for the extermination of the Bad\\nBloods. I looked around the grim circle of the sub-bosses, and realized the fate\\nof America, at this moment, lay in their hands. Their temper demanded\\nthe immediate expenditure of our full effort in revenging ourselves for\\nthis raid. But the strategic exigencies, to my mind, quite clearly\\ndemanded the instant and absolute extermination of the Sinsings. It\\nmight be only a matter of hours, for all we knew, before these degraded\\npeople would barter clues to the American ultronic secrets to the Hans. \"How large a force have we?\" I asked Hart. \"Every man and maid who can be spared,\" he replied. \"That gives us seven\\nhundred married and unmarried men, and three hundred girls, more than\\nthe entire Bad Blood Gang. Every one is equipped with belts,\\nultrophones, rocket guns and swords, and all fighting mad.\"',\n",
       " 'Clay nodded. \"Please, princess.\" She poured him a cup and set it in the rack beside his seat. \"Thanks,\" Clay said. \"Good night, Hiawatha.\" \"Good night, Babe,\" she replied. \"You mean \\'Paul Bunyon,\\' don\\'t you?\" Clay asked. \"\\'Babe\\' was his blue\\nox.\" \"I know what I said,\" Kelly retorted and strolled back to the\\ndispensary.',\n",
       " 'Hawks drove the low, sleek jet car around the fair, taking a short cut\\nthrough the outdoor mercuryball field and pulled up in front of the\\n_Polaris_. The five spacemen turned toward the concession site across the promenade\\nand stopped, aghast. \"Gone!\" exclaimed Strong. \"Astro, you made a mistake! It was their ship\\nwe saw blasting off. It\\'s too late to warn the space-station patrol. Wallace and Simms could be anywhere in space now!\" \"But, sir,\" protested Astro, \"I\\'m certain that an atomic-powered ship\\nblasted off. And their old freighter was a chemical burner!\"',\n",
       " '\"I shall tell you some day--perhaps,\" he said, mildly. \"Good-night,\\nMiss Barrison; good-night, Mr. Gilland. You will find extra blankets\\non your bunk--\"\\n\\n\"What!\" I cried. \"Bunks,\" he said, and shut the door. XVI\\n\\n\\n\"There is something weird about this whole proceeding,\" I observed to\\nthe pretty stenographer next morning. \"These pies will be weird if you don\\'t stop talking to me,\" she said,\\nopening the doors of Professor Farrago\\'s portable camping-oven and\\npeeping in at the fragrant pastry. The professor had gone off somewhere into the woods early that\\nmorning. As he was not in the habit of talking to himself, the\\nservices of Miss Barrison were not required.',\n",
       " 'Naturally St. Cyr doesn\\'t want us to talk to Watt privately. We might make him see reason. But this time, Nick, we\\'ve simply got to\\nmanage it somehow. One of us is going to talk to Watt while the other\\nkeeps St. Cyr at bay. Which do you choose?\" \"Neither,\" Martin said promptly. \"Oh, Nick! I can\\'t do the whole thing alone.',\n",
       " 'A red puffball\\nhad burst here. It fully accounted for the absence of the tribe, and\\nBurl sweated in sudden fear. He thought instantly of Saya. He went\\ncarefully to make sure. This was, absolutely, the hiding place of the\\ntribe. There was another mushroom-fragment. There was a spear, thrown\\ndown by one of the men in his flight. Red dust had settled upon the\\nspear and the mushroom-fragments. Burl turned back, hurrying again, but taking care to disturb the dust no\\nmore than he could possibly help. The little excavation into which Saya was sinking inch by inch was not\\nin his path.',\n",
       " 'They gave a little. I\\nkept on tugging, turning my head as far as I could to see how the insect\\nmen were taking their bombardment. They stood, near fifty of them, in a\\ngroup by the door. Evidently they had started to run out when the crash\\ncame, but had stopped when it was evident the roof was going to remain\\nintact. If those things had any sense they would be in the deepest\\nsub-basement they could find, I figured. The Schrees must have been\\ncarrying them as helpless parasites for too many centuries to realize\\nthey could do without them, for them to be so inept. Straining my neck, I watched the grotesque high-breasted white figures\\nabout the doorway, they were tittering to each other in some tongue I\\ndid not know, a strange sound like the rasping of corn husks under\\nsqueaking wagon wheels. Suddenly the whole palace shook terribly, the\\nfloor seemed to reel, an unbearable sound raged at my ears. I cringed\\nfrom the pain of the sound. When I opened my eyes, the whole mass of the\\nJivro medicals was jammed in the doorway, struggling to get over each\\nother, and the squeaking and rasping increased into a bedlam of sound.',\n",
       " 'Or, I should say, it would have been a short\\nwalk, if we had walked. But New York was one of the very last cities to convert to the \"level\"\\ntransportation system. It had been one hell of an engineering feat, but\\nfor Amerpean ingenuity and enterprise nothing is impossible, so the job\\nhad finally been tackled and completed just within the past year. And\\nthe novelty of the ambulator bands on pedestrian levels was still strong\\nfor native New Yorkers. So instead of leaving the restaurant on the vehicle level, where we\\nhappened to be, and taking an old fashioned sidewalk stroll to the IGN\\nbuilding, Newell insisted on taking the escalator up to the next level\\nand then gliding along on an amband. That\\'s just the sort of person he is. When we got back up to his office, he asked, \"Isn\\'t there some sort of\\ndefense against telenosis? I mean, other than alcohol or insanity?\" I thought for a moment. \"Shouldn\\'t be too hard to devise one.',\n",
       " 'We\\'ll be waiting for you.\" He turned and introduced another Kragan, about his own age, who wore\\nthe equipment and insignia of a Company native-major and was freshly\\npainted with the Company emblem. \"This is Kormork. He and I have borne\\nyoung to each other. Kormork, you watch over Paula Quinton.\" He\\nmanaged, on the second try, to make it more or less recognizable. \"Bring her back safe. Or else find yourself a good place to hide.\" Kankad introduced the rest of his people, and von Schlichten\\nintroduced the Terrans from the telecast-station. Then Kankad looked\\nat the watch he was wearing on his lower left wrist.',\n",
       " 'When they drew near him, a hooting set up. Things scattered away. Large\\nthings. Birds the size of men. They heard Johnny Simms screaming. They came panting to the very beach, on which foam-tipped waves broke in\\nabsolutely normal grandeur. The sand was commonplace save for a slight\\nbluish tint. Johnny Simms was out on the beach, in the open. He was\\ndown. He had flung his gun at something and was weaponless.',\n",
       " \"Brutal? You bet it was, but I couldn't\\nafford to take any chances on his coming to. What would you have done? If I'd killed him right then and there, the\\nBoard would not have censured me. I was sure of that. Not to have done\\nso was perhaps foolish, a weakness in me. I was cutting down my chances\\nof getting as far as the Colony, before a security alert went out, and\\nthe Wendel police started after me with instructions to blast me down\\non sight. But somehow I couldn't do it. Not only for the reasons I've\\nmentioned ... because a new head on the Wendel boa constrictor would\\nhave solved nothing ... but because it went against the grain. I'd have\\nhad a feeling of guilt I never could have completely thrown off.\",\n",
       " 'Her long, gray robe parted by design, I have no doubt, to\\ndisplay her shapely, satin-sheathed legs. Her black hair was coiled in\\na heavy knot at the back of her neck; her carmine lips were parted\\nwith a mocking, alluring smile. The exotic perfume of her enveloped\\nme. She glanced at me sidewise from beneath her sweeping black lashes. \"Be serious,\" I added. \"I am serious. Sober. Intoxicated by you, but sober.\" I said, \"What sort of a contract?\" \"A theater in Ferrok-Shahn.',\n",
       " 'You have a map to show where they are?\" \"Not a map; just some information. But we can work out the location of\\nthe crypt.\" \"A ritual,\" Stamford Rawson said happily. \"Of course.\" *       *       *       *       *\\n\\nThey lunched together at the house of Toon Sarge Hughes with the Toon\\nLeader and the Reader and five or six of the leaders of the community. The food was plentiful, but Altamont found himself wishing that the\\nfirst book they found in the Carnegie Library crypt would be a cook\\nbook. In the afternoon, he and Loudons separated. The latter attached\\nhimself to the Tenant, the Reader, and an old woman, Irene Klein, who\\nwas almost a hundred years old and was the repository and arbiter of\\nmost of the community\\'s oral legends. Altamont, on the other hand,\\nstarted, with Alex Barrett, the gunsmith, and Mordecai Ricci, the\\nmiller, to inspect the gunshop and grist mill.',\n",
       " '\"They said you had claws.\" The trader\\'s little black eyes fixed their\\ngaze on Johnny. \"Come on, I\\'ll show everybody.\" The crowd parted for Johnny and Baba and the trader. By this time\\nalmost all the colonists and visiting hunters were gathered around the\\nrhinosaur and the leopards. A few bold souls were timidly petting the\\ncubs. Probably of most interest was the arrow-bird. Tired from all\\nits riding, it had put its head under its wing and gone fast asleep,\\nperched on the rhinosaur\\'s horn. Johnny took the bag he had made from the shirt down from where it hung\\nbeside the arrow-bird. He untied it, revealing the many packets made\\nfrom woven rushes.',\n",
       " 'It isn\\'t necessary to convince me that you are\\nserious about this. Do the questions you referred to have to do with\\nthe stardrive?\" The spokesman nodded. \"Of course.\" Rainbolt said stubbornly, \"Then, sir, it can do you no good at all to\\ntorture me. I simply don\\'t have such information. We do plan to make\\nthe stardrive freely available to Earth. But not while Earth is ruled\\nby the organization of the Machine.\" This time, Menesee did not observe the motion of the spokesman\\'s hand. Instead he saw Rainbolt jerk violently to the right.',\n",
       " 'And where did you come from in the first place? I want the _real_\\nreason, chum.\" He applied a little pressure, just as a reminder. \"I\\'ll tell you!\" Mars screamed. \"I\\'ll tell you!\" And as the roaring flames crackled in the Amazon forest, the agonized\\nMars began to talk. CHAPTER TWELVE\\n\\n\\nZeus, Venus, Diana and Forrester sat in the Court of the Gods, listening\\nto a large, blue-skinned individual with bright red eyes and two long\\nwhite fangs coming from a lipless mouth. The eyes were like a cat\\'s,\\nwith slitted pupils, and the general expression on the individual\\'s face\\nwas one of feral hatred and bestial madness. However, as he had\\nexplained, he was not responsible for the arrangement of his features.',\n",
       " 'I\\'ll buy it. Okay, so you think I\\'m going\\nto take my view-finder off the fake Carmody? I\\'m going to adhere to\\nthat life-form closer than Mary\\'s lamb. So when he knocks off whoever\\nthe other guy wants novaed, I can yell doggie. Then the hounds get\\nhim--with my flash on him and all, they\\'ll never have the nebula of\\na notion that they don\\'t have all of me.... I pick up the foliage\\nand rock out to some place where I can buy me a new jewel case, no\\nquestions asked. Don\\'t fret, Gorman--you\\'ll get your nibble. I\\'ve never\\nplayed the game with you, have I?\" Instead of answering, Gorman asked a question of his own. \"Kind of hard\\non the other guy, isn\\'t it?\" \"He rates it for sticking me with a piece of statuary like this.',\n",
       " '\"Too rich for my blood,\" Sine told his companions at breakfast as they\\ndiscussed their experiences. \"Hope they take us to Rubio soon. We\\'ve\\ndone our job, and as for me, I\\'m not cut out for high Society.\" After they had completed their breakfast a girl came hesitatingly into\\ntheir chamber. Sine stared at her curiously. She had none of the\\nenameled beauty of the women he had seen until then, but in her young\\nface was a subdued comeliness that was attractive after the assertive\\npulchritude that was universal among the young women of the First Race. Unlike the shrewd display of their chiseled perfection, this girl\\'s\\nslender, rounded body was wrapped in a thin, gray garment that concealed\\nas it draped. It was caught by a cord around her waist. Her feet,\\nsmaller and more fragile than the sturdy Jovian standard, were encased\\nin neutral buskins. She stood submissively, waiting for them to speak.',\n",
       " 'In the same instant, Rip saw that they would land on the dark side. The\\nasteroid was turning over and over. For a second he had the impression\\nthat he was looking at a turning globe of the earth, the kind used in\\nelementary school back home. But this gray planet was scarcely bigger\\nthan the giant globe at the Space Council building on Terra. He knew he was going to hit hard. The way to keep from being hurt was to\\nturn the vertical energy of his arrival into motion in another direction. As he swept down to the metal surface he started running, his legs\\npumping wildly in space. He hit with a bone-jarring thud, lost his\\nfooting and fell sideways, both hands cradling his helmet. He got to his\\nfeet instantly and looked for Santos. \"You all right, sir?\"',\n",
       " 'The\\npassage was narrow and but faintly lighted; it bent to the right with a\\ncircular sweep as though it skirted the inner circumference of the\\nbuilding; still curving, it sank by a gentle gradient; and then it rose\\nagain and turned almost at right angles. Pushing ahead resolutely,\\nalthough in not a little doubt as to the meaning of my adventure, I\\nthrust aside a heavy curtain, soft to the hand. Then I found myself\\njust inside a large circular hall. Letting the hangings fall behind me,\\nI took three or four irresolute paces which brought me almost to the\\ncentre of the room. I saw that the walls were continuously draped with\\nthe heavy folds of the same soft velvet, so that I could not even guess\\nwhere it was I had entered. The rotunda was bare of all furniture;\\nthere was no table in it, no chair, no sofa; nor was anything hanging\\nfrom the ceiling or against the curtained walls. All that the room\\ncontained was a set of four curiously shaped narrow stands, placed over\\nagainst one another at the corners of what might be a square drawn\\nwithin the circle of the hall. These narrow stands were close to the\\ncurtains; they were perhaps a foot wide, each of them, or it might be a\\nlittle more: they were twice or three times as long as they were wide;\\nand they reached a height of possibly three or four feet. Going towards one of these stands to examine it more curiously, I\\ndiscovered that there were two projections from the top, resembling\\neye-pieces, as though inviting the beholder to gaze into the inside of\\nthe stand. Then I thought I heard a faint metallic click above my head.',\n",
       " 'I like a man that thinks ahead. Maybe\\nI made the wrong man gunnery chief.\" He climbed into the jet boat. \"All\\nright, take the controls, Kid. Shelly and Martin, get in the stern.\" The\\nmen climbed in and Tom slid under the controls and waited for the order\\nto blast off. Wallace and his crew were on the opposite side of the ship, so Tom had\\nno fear of being recognized until they were all on the passenger ship. At his side, Coxine spoke to Wallace in the other jet boat over the\\naudioceiver. \"We\\'ll split up. I\\'ll handle the control deck and you go aft to the\\nsupply lockers.',\n",
       " \"You have served me\\nwell enough, in your abominable way. One more service I require, and\\nthen I set you free of your oath. 'Conan the Cimmerian, king of Aquilonia, still lives, in spite of\\nXaltotun's sorcery--or perhaps because of it. I know not. The dark mind\\nof that resurrected devil is too devious and subtle for a mortal man to\\nfathom. But while Conan lives I am not safe. The people accepted me as\\nthe lesser of two evils, when they thought he was dead. Let him reappear\\nand the throne will be rocking under my feet in revolution before I can\\nlift my hand. 'Perhaps my allies mean to use him to replace me, if they decide I have\\nserved my purpose. I do not know.\",\n",
       " 'Wilson isn\\'t at the Greater Martian. The clerk said\\nhe checked out for New York last night.\" \"Didn\\'t he leave a forwarding address?\" asked Russ. \"Apparently not.\" Russ hung up the receiver, frowning. \"Wilson is in New York.\" Greg looked up from a sheet of calculations. \"New York, eh?\" he said and then went back to work, but a moment later\\nhe straightened from his work.',\n",
       " 'I must know what these two intended here,\\nwhether others of this man\\'s people understand us.\" \"We\\'re in for it!\" said Carna, and I knew what she meant. Jerked to our\\nfeet, we were hurried from the big throne room, down a corridor, through\\na great open door which closed behind us. That place! It was a laboratory out of Mr. Hyde\\'s nightmares. Up until now I had accepted the many divergencies and peculiarities of\\nthe Zervs, the priestly insect-men, the monstrous workers--all the\\nvariance of this colony from space--as only to be expected of another\\nplanet\\'s races. I had consciously tried to resist the impact of horror\\non my mind, had tried to put it aside as a natural reaction and one\\nwhich did not necessarily mean that this expedition from space was a\\nhorrible threat to men. I had tried to accept their ways as not\\nnecessarily monstrous, but as a different way of life that _could_ be as\\ngood a way as our own if I once understood it.',\n",
       " 'There was pride of birth,\\nand the passion of conquest in every line of his haughty, sensuous face. I seemed to breathe the same moral atmosphere that had surrounded me in\\nthe outer world. _They_ had lived among noble and ignoble deeds I felt sure. _They_ had\\nbeen swayed by conflicting desires. _They_ had known temptation and\\nresistance, and reluctant compliance. _They_ had experienced the\\ntreachery and ingratitude of humanity, and had dealt in it themselves. _They_ had known joy as I had known it, and their sorrow had been as my\\nsorrows. _They_ had loved as I had loved, and sinned as I had sinned,\\nand suffered as I had suffered. I wept for the first time since my entrance into Mizora, the bitter\\ntears of actual experience, and endeavored to convey to the Preceptress\\nsome idea of the painful emotion that possessed me. \"I have noticed,\" she said, \"in your own person and the descriptions you\\nhave given of your native country, a close resemblance to the people and\\nhistory of our nation in ages far remote.',\n",
       " 'A nifty.\" He stopped laughing. \"The Gyrob was mine; a remoted job. Nice piece of\\nequipment. You cost me real dough tonight.\" \"Gee,\" I said. \"That\\'s tough.\" \"And besides,\" he said, \"I know who you are.\" I waited. He leaned over and picked something off the table.',\n",
       " 'Nearly three days later, the _Polaris_ appeared over the twin oceans of\\nTara and glided into an orbit just beyond the pull of the planet\\'s\\ngravity. Aboard the spaceship, last-minute preparations were made by the\\nred-eyed spacemen. In constant contact with Space Academy, using the resources of the\\nAcademy\\'s scientific staff to check the more difficult calculations, the\\nsix men on the _Polaris_ worked on. Connel appeared on the radar bridge and flipped on the long-range\\nscanner. \"Have to find out where Junior is,\" he said to Roger and Alfie. \"That doesn\\'t work, sir,\" said Roger. \"What do you mean it doesn\\'t work?\" exploded Connel. \"Junior\\'s falling into the sun, sir. The radiations are blocking it out\\nfrom our present position.\"',\n",
       " 'And with the\\nreason for it what it is, you\\'ll never be able to get it reduced.\" \"But anybody who looks at the plans of the receptor will know it can\\'t\\nmake deathrays!\" protested Hoddan blankly. \"Nobody will look,\" said Derec tearfully. \"Anybody who knows how to make\\nit will have to be locked up. They checked the patent examiners. They\\'ve\\nforgotten. Nobody dared examine the device you had working. They\\'d be\\njailed if they understood it! Nobody will ever risk learning how to make\\ndeathrays--not on a world as civilized as this, with so many people\\nanxious to kill everybody else.',\n",
       " '\"Pretty good, Uncle Angus,\" said the lad seriously. \"They got the\\nMexican and Black Hawk War units mixed up, but I guess we can\\'t blame\\nthem for that.\" \"I guess we can\\'t,\" said MacReedy. He turned to the General, added,\\n\"Now, sir, what can I do for you? Or need I ask?\" \"I have a hunch you know pretty well what I\\'m after,\" said the General. \"My predecessor must have given you some idea.\" \"I\\'ve been afraid of this,\" said MacReedy with a sigh. \"It\\'s what I\\ndeserve for trying to show off to Toby.\" \"I don\\'t understand,\" said the General.',\n",
       " 'May I see\\nthis neutroid?\" \"Why?\" \"O\\'Reilley said it could talk. Is that true or is O\\'Reilley suffering\\ndelusions? That\\'s what I came to find out.\" \"Neutroids don\\'t talk.\" The priest stared at him for a time, then nodded slowly, as if\\napproving something. \"You can rest assured,\" he said quietly, \"that\\nI\\'ll say nothing of this visit, that I\\'ll speak to no one about this\\ncreature.\" Norris looked up to see his wife watching them from the doorway. \"Get Peony,\" he said.',\n",
       " 'Perhaps a faint defect, so small as to be\\nalmost unnoticed, was a feeling of solitariness--an inevitable\\nconcomitant of my position--but this was so slight that I could not even\\ndefine it as loneliness and like many another defect it merely\\nheightened the charm of the whole. I had wealth, power, the respect of the world. The unavoidable\\ndetachment from the mob was mitigated by simple pleasures. My estate\\nwas a constant delight; the quaint survivals of feudalism among the\\ntenantry amused me; and though I could not bring myself to pretend an\\ninterest in the absurd affectation of foxhunting, I was well received by\\nthe county people, whose insularity and aloofness I found greatly\\nexaggerated, perhaps by outsiders not as cosmopolitan as myself. Excursions to London and other cities where my presence was demanded or\\ncould be helpful afforded me a frequent change of scene and visits by\\nimportant people as well as more intimate ones by Preblesham and the\\nTharios prevented The Ivies--for so my place was called--from ever\\nbecoming dull to me. The general fell in love with a certain ale which was brewed on the\\npremises and declared, in spite of his lifelong rule to the contrary,\\nthat it could be mixed with Irish whisky to make a drink so agreeable\\nthat no sane man would want a better. The girls, particularly Winifred,\\nwere enchanted with my private woods, the gardens and the deerpark; but\\nMama, throughout their visits, remained almost entirely silent and aloof\\nexcept for the rare remarks which seemed to burst from her as though by\\nan inescapable inward compulsion. These were always insulting and always\\ndirected at me, but I overlooked them, knowing her to be deranged. _79._ Perhaps one of the things I most enjoyed about The Ivies was\\nwandering through its acres, breathing through my pores, as it were, the\\nsense of possession. I was walking through the cowslips and violets\\npunctuating the meadow bordering one of the many little streams, when I\\ncame upon a fellow roughly dressed, the pockets of his shootingjacket\\nbulging and a fishingline in his hand.',\n",
       " 'By then we\\'ll be shoved back off the stage\\nwhile the big wheels grind painfully slow but exceedingly meticulous.\" \"That\\'ll take time.\" \"Certainly. But we\\'ve got a start. Look how long it took getting a start\\nin the first place.\" \"But what is their purpose?\" she asked. \"That I can\\'t say. I can\\'t say a lot of things, like how, and why and\\nwherefore. But I know that now we have a front tooth in this affair\\nwe\\'re not going to let go.\"',\n",
       " 'I\\nsubscribed £10,000 toward the venture. Preparations for moving to Kilkenny almost complete. Even if F gets\\ngoing by December and the Scottish repulse is permanent, I believe I\\nshall be better off in Ireland until the first definite victory is won\\nagainst the Grass. _September 5_: The Grass moved again and this time all attempts to\\nrepulse it failed. It is now firmly entrenched on both the Orkneys and\\nthe Hebrides. Terrible pessimism. Commons voted \"No confidence\" 422 to\\n117 and my old friend D N is back in office. _September 6_: _Sisyphus_ almost ready. Find I can get a crew to work\\nfor wages when not in port. Luncheon at Chequers.',\n",
       " 'No one moved. Cordy and his men stared at their\\nfallen officer. Brad didn\\'t wait for them to recover. \"Back,\" he shouted to Kumiko and Scarf. \"Around\\nthe bend. Now.\" Kumiko whirled and raced around the corner. Scarf rolled back on to his feet and dashed after\\nher. Brad followed. Rimov\\'s guards were nowhere in sight.',\n",
       " 'He was about to step around the cabinet which partially blocked the\\ngun-room door when he glanced up, and saw a six-foot circle on the\\nceiling turning slowly brown. There was a smell of scorched plastic. He grabbed Sarnax by the arm and pointed. \"Thermite,\" the Assassin whispered. \"The ceiling\\'s got six inches of\\nspaceship-insulation between it and the floor above; it\\'ll take them a\\nfew minutes to burn through it.\" He stooped and pushed on the\\nbarricade, shoving it into the room. \"Keep back; they\\'ll probably drop\\na grenade or so through, first, before they jump down. If we\\'re quick,\\nwe can get a couple of them.\" Dirzed and Sarnax crouched, one at either side of the door, with\\nweapons ready. Verkan Vall and Dalla had been ordered, rather\\nperemptorily, to stay behind them; in a place of danger, an Assassin\\nwas obliged to shield his client.',\n",
       " 'Malone. We\\'d like\\nto have a talk with Miss Thompson, if we might.\" \"I anticipated that, sir,\" Dr. Harman said. \"Miss Thompson is in the\\nnext room. Have you explained to Mr. Malone that--\"\\n\\n\"I haven\\'t explained a thing,\" Boyd said quickly, and added in what\\nwas obviously intended to be a casual tone: \"Mr. Malone wants to get a\\npicture of Miss Thompson directly--without any preconceptions.\" \"I see,\" Dr. Harman said.',\n",
       " 'as they are.--Walter\\n     O\\'Brien, 6 Hageman Pl., North Bergen, N. J. _Trial by Readers_\\n\\n     Dear Editor:\\n\\n     When Astounding Stories first appeared on the newsstands, a\\n     brand new Science Fiction magazine, I was prejudiced against\\n     it as a competitor to the existing magazines--one that might\\n     carry an inferior quality of Science Fiction so closely\\n     approaching the supernatural as to practically disregard\\n     science. In a few cases, as with very good writers like A.\\n     Merritt and H. P. Lovecraft, this is permissible, but,\\n     otherwise, not at all so. In the first issue, \"The Stolen\\n     Mind\" seemed to bear me out, but, then, there was \"Tanks.\" I\\n     bought the next issue--much better! And then the third\\n     showed \"The Soul Master,\" very well written, but not quite\\n     science, as related. Yet, \"Cold Light\" held me on, and\\n     \"Brigands of the Moon.\" There is no danger of my dropping\\n     off now! In the current issue, \"Murder Madness\" and \"The Power and\\n     the Glory\" stand out as mile-posts in the history of Science\\n     Fiction. The rest are not far behind, though, as a matter of\\n     fact, \"Beyond the Heaviside Layer\" and \"Earth, the Marauder\"\\n     have more discernible flaws than the rest.',\n",
       " '\"It will not be for long, John Carter,\" he replied. \"We have been\\nexpecting you and we are prepared.\" \"So it would appear,\" I answered, \"for you were all ready to become my\\nprisoners with scarce a blow struck on either side.\" \"The fleet must have missed you,\" he said, \"but it will return to\\nOmean, and then that will be a very different matter--for John Carter.\" \"I do not know that the fleet has missed me as yet,\" I said, but of\\ncourse he did not grasp my meaning, and only looked puzzled. \"Many prisoners travel to Issus in your grim craft, Yersted?\" I asked. \"Very many,\" he assented. \"Might you remember one whom men called Dejah Thoris?\" \"Well, indeed, for her great beauty, and then, too, for the fact that\\nshe was wife to the first mortal that ever escaped from Issus through\\nall the countless ages of her godhood.',\n",
       " '\"Well, I hope so! And if they do it before the _Cape Canaveral_ gets\\nin, they may fix Leo Belsher, too, and then, in the general\\nexcitement, somebody might clobber Mort Hallstock, and that\\'d be grand\\nslam. After the triple funeral, we could go to work on setting up an\\nhonest co-operative and an honest government.\" \"Well, I never expected to hear you advocating lynch law, Dad,\" I\\nsaid. He looked at me for a few seconds. \"Tell the truth, Walt, neither did I,\" he admitted. \"Lynch law is a\\nhorrible thing; don\\'t make any mistake about that. But there\\'s one\\nthing more horrible, and that\\'s no law at all. And that is the present\\nsituation in Port Sandor. \"You know what the trouble is, here?',\n",
       " \"For man\\nis essentially lazy--always searching for the easier way. Why should\\nhe struggle to find an answer when the Aztlans had discovered it\\nmillennia ago and were perfectly willing to share their knowledge? Why\\nshould he use inept human devices when those of the aliens performed\\nsimilar operations with infinitely more ease and efficiency? Why\\nshould he work when all he had to do was ask? There was plan behind\\ntheir acts. But at that point reason dissolved into pure speculation. Why were\\nthey doing this? Was it merely mistaken kindliness or was there a\\ndeeper more subtle motive? Matson didn't know, and in that lack of\\nknowledge lay the hell in which he struggled. For two years he stayed on with the OSR, watching humanity rush down\\nan unmarked road to an uncertain future.\",\n",
       " '\"Captain Horatio McAllister, U.S.N., sir! Commonly known as Stinky\\nMcAllister. No reason assigned for \\'Stinky,\\' at least so far as reserve\\nofficers knew.\" \"Stinky? That\\'s because he once used perfumed soap before going to the\\nMidshipmen\\'s Ball in Washington,\" the Director of Naval Intelligence\\ninformed me. \"It was his second year at Annapolis. Who was Stinky\\'s\\nexec?\" \"Commander B. S. Moody, sir!\" I answered. \"His nickname is suggested by\\nhis initials--a roly-poly sort of guy and hipped on boat-drills and all\\nthat.\"',\n",
       " 'the dealer purred. It licked its lips. \"Wanna g\\'ass o\\' water, Daddy,\" it said drowsily. Norris caught his breath. No K-99 should be able to make a speech that\\nlong, even when it reached the developmental limit. He glanced at\\nO\\'Reilley. The old man nodded slowly, then went to the kitchen for a\\nglass of water. She drank greedily and eyed her foster-parent. \"Daddy crying.\" O\\'Reilley glowered at her and blew his nose solemnly.',\n",
       " 'Shame!\" \"Give him a hearing!\" \"Put him out!\" \"Shove him off the platform!\" \"Fair play!\" emerged\\nfrom a general roar of amusement or execration. The chairman was on\\nhis feet flapping both his hands and bleating excitedly. \"Professor\\nChallenger--personal--views--later,\" were the solid peaks above his\\nclouds of inaudible mutter. The interrupter bowed, smiled, stroked his\\nbeard, and relapsed into his chair. Waldron, very flushed and warlike,\\ncontinued his observations.',\n",
       " '*       *       *       *       *\\n\\nFull spring came and the vegetation burst into leaf and bud and bloom,\\nquickly, for its growth instincts knew in their mindless way how short\\nwas the time to grow and reproduce before the brown death of summer\\ncame. The prowlers were suddenly gone one day, to follow the spring\\nnorth, and for a week men could walk and work outside the stockade\\nwithout the protection of armed guards. Then the new peril appeared, the one they had not expected: the\\nunicorns. The stockade wall was a blue-black rectangle behind them and the blue\\nstar burned with the brilliance of a dozen moons, lighting the woods in\\nblue shadow and azure light. Prentiss and the hunter walked a little in\\nfront of the two riflemen, winding to keep in the starlit glades. \"It was on the other side of the next grove of trees,\" the hunter said\\nin a low voice. \"Fred was getting ready to bring in the rest of the\\nwoods goat. He shouldn\\'t have been more than ten minutes behind me--and\\nit\\'s been over an hour.\" They rounded the grove of trees. At first it seemed there was nothing\\nbefore them but the empty, grassy glade.',\n",
       " \"Well, we had a horrid business afterwards. My God! what a\\nnightmare the whole thing is! You remember the great bristle of sharp\\ncanes down below where we found the skeleton of the American? Well,\\nthat is just under ape-town, and that's the jumpin'-off place of their\\nprisoners. I expect there's heaps of skeletons there, if we looked for\\n'em. They have a sort of clear parade-ground on the top, and they make\\na proper ceremony about it. One by one the poor devils have to jump,\\nand the game is to see whether they are merely dashed to pieces or\\nwhether they get skewered on the canes. They took us out to see it,\\nand the whole tribe lined up on the edge. Four of the Indians jumped,\\nand the canes went through 'em like knittin' needles through a pat of\\nbutter.\",\n",
       " \"And he climbed into the shaft. We followed him like zombies. At least that's how I felt. The shaft was\\nabout twenty feet deep. There were foot- and hand-holds. It got stuffy\\nright away, and warmer, in spite of the shaft being open at the top. At the bottom there was a short horizontal passage. We had to duck to\\nget through it. When we could straighten up we were in a large and\\nluxurious bomb-resistant dugout, to give it a name. And it was stuffier\\nand hotter than ever.\",\n",
       " 'Are you going to\\nsacrifice everything we\\'ve found, just to satisfy your pride?\" He tried to glare at her, turned away and faced the window. \"I\\'m so\\nglad I could trust you.\" \"Don\\'t you say that to me! Don\\'t you dare pretend that you don\\'t care\\nabout me. You didn\\'t bring Johnny and I here just to satisfy your\\nconscience and have an exotic fuck.\" He was silent. \"What do you want from me?\" \"I want you to stop KILLING yourself.\" The emotions of a lifetime\\nseemed to be trying to push their way through her throat, the back of\\nher eyes.',\n",
       " 'Everybody\\'s a success. It\\'s great. It\\'s\\nwonderful. Success on success!\" I danced into the kitchen table and tipped over a basket of green corn. The maid promptly left the kitchen for some other place. My wife just stared at me. \"Have you been drinking the lab alcohol?\" \"I\\'ve been drinking the nectar of the gods. My Hera, you\\'re properly\\nmarried to Zeus.',\n",
       " '\"Carefully, my lord!\" Master Sean said in a warning voice. \"He\\'s got a\\nspell on the thing! Let me do it.\" He made Lord Darcy stand back and\\nthen lifted the lid of the heavy trunk himself. When it was leaning\\nback against the wall, gaping open widely on its hinges, Master Sean\\ntook a long look at the trunk and its lid without touching either of\\nthem. There was a second lid on the trunk, a thin one obviously\\noperated by a simple bolt. Master Sean took his sorcerer\\'s staff, a five-foot, heavy rod made of\\nthe wood of the quicken tree or mountain ash, and touched the inner\\nlid. Nothing happened. He touched the bolt.',\n",
       " '\"Shhh,\" Alan said again. \"Daniel, you must love your brother. He loves you. I love you. Trust\\nhim. He won\\'t hurt you. I won\\'t let you come to any harm. I love you,\\nson.\" Alan felt Danny tremble in his arms, and he was trembling, too, from the\\nicy cold of the lake and from the voice and the words and the love that\\nechoed from every surface. \"Adam, my son.',\n",
       " 'Great saw-toothed red gashes in the middle of each body\\nmight have been mouths. \"They\\'re--they\\'re _real_. They\\'re _alive_!\" said Harold Potter\\nhoarsely. That was the thing about them. They had the elusive quality\\nof life about them--and of course they were thus infinitely more\\nterrifying than the prop department\\'s fake monsters. \"They\\'re alive all right,\" said Dr. Mildume chattily. \"Took me quite a\\nbit of experimenting to discover what to feed them. They like\\nglass--broken glass.',\n",
       " 'They had made a capture but they could not make a kill. However, the Salariki were highly delighted. And several abandoned their\\nposts to help the boys drag the monster ashore where it was pinned down\\nto the beach by stakes driven through the edges of the net. But the hunting party was given little time to gloat over this stroke of\\nfortune. The gorp killed by Groft and the one stunned by Dane were only\\nthe van of an army and within moments the hunters on the reef were\\nconfronted by trouble armed with slashing claws and diabolic fighting\\nability. The battle was anything but one-sided. Dane whirled, as the air was rent\\nby a shriek of agony, just in time to see one of the Salariki, already\\ntorn by the claws of a gorp, being drawn under the water. It was too late\\nto save the hunter, though Dane, balanced on the very edge of the reef,\\naimed a beam into the bloody waves. If the gorp was affected by this\\nattack he could not tell, for both attacker and victim could no longer be\\nseen. But Ali had better luck in rescuing the Salarik who shared his particular\\nsection of reef, and the native, gashed and spurting blood from a wound\\nin his thigh, was hauled to safety.',\n",
       " 'Valencia,\" said Pembroke. \"I\\'ve noticed that you walk with a very\\nslight limp. If you have a bad leg, I should think you would do better\\nto develop a more pronounced limp. Otherwise, you may appear to be\\nself-conscious about it.\" *       *       *       *       *\\n\\nSpencer opened his mouth to protest, but saw with amazement that it was\\nexactly this that Valencia was seeking. Pembroke was amused at his\\ncompanion\\'s reaction but observed that Spencer still failed to see the\\npoint. \"Also, there is a certain effeminateness in the way in which you speak,\"\\nsaid Pembroke. \"Try to be a little more direct, a little more brusque. Speak in a monotone. It will make you more acceptable.\"',\n",
       " '\"I can try. I was out scouting this morning--met one\\nof the storm priests who handles their medical work. But I wasn\\'t\\nwelcomed. However, under the circumstances, we have to try something--\"\\n\\nIn the corridor Van Rycke had an order for Dane. \"I suggest that you keep\\nto quarters, Thorson, until we know how matters stand.\" Dane saluted. That note in his superior\\'s voice was like a whip\\nlash--much worse to take than the abuse of a lesser man. He swallowed as\\nhe shut himself into his own cramped cubby. This might be the end of\\ntheir venture. And they would be lucky if their charter was not\\nwithdrawn.',\n",
       " 'Then suddenly I saw it. There was movement among the\\nbushes at the far end of the clearing which I had just traversed. A\\ngreat dark shadow disengaged itself and hopped out into the clear\\nmoonlight. I say \"hopped\" advisedly, for the beast moved like a\\nkangaroo, springing along in an erect position upon its powerful hind\\nlegs, while its front ones were held bent in front of it. It was of\\nenormous size and power, like an erect elephant, but its movements, in\\nspite of its bulk, were exceedingly alert. For a moment, as I saw its\\nshape, I hoped that it was an iguanodon, which I knew to be harmless,\\nbut, ignorant as I was, I soon saw that this was a very different\\ncreature. Instead of the gentle, deer-shaped head of the great\\nthree-toed leaf-eater, this beast had a broad, squat, toad-like face\\nlike that which had alarmed us in our camp. His ferocious cry and the\\nhorrible energy of his pursuit both assured me that this was surely one\\nof the great flesh-eating dinosaurs, the most terrible beasts which\\nhave ever walked this earth. As the huge brute loped along it dropped\\nforward upon its fore-paws and brought its nose to the ground every\\ntwenty yards or so. It was smelling out my trail.',\n",
       " 'It was as though the upper body had\\nbeen sheared away, neatly and precisely, at the waist. Pillbot stared from the visible portion of Gault to slack-jawed\\nHarper and back again, sweat splashing from his puffy face. \"Why, why really my dear fellow,\" he quavered, addressing the\\nhalf-figure. \"This--this is a bit rude of you, vanishing in the\\nmidst of my sentence. I--I trust you will--ah, return at once!\" Then, as the full import of the phenomenon penetrated to his\\nunderstanding, his eyes became glazed and he backed away. The portion of Professor Gault addressed failed to give any\\nindication it had heard the remonstrance. Slowly, the legs began\\nto feel their way, like a blind man, about the floor. Harper stared wildly, white showing around his pale blue irises. \"No!\"',\n",
       " \"Pickering, E.C., discovers ninth moon of Saturn, 195.\\n  finds Eros on Harvard plates, 133.\\n  on shape of Eros, 136.\\n  on light of Eros, 137. Pickering, W.H., on lunar atmosphere, 247.\\n  observes changes in moon, 244.\\n  sees Mars's canals, 92.\\n  theory of Tycho's rays, 246.\\n  on Venus's atmosphere, 54. Planets, classification of, 15.\\n  how to find, 256, 273.\\n  resemblances among, 12. Plato, lunar ring plain, 225. Plurality of worlds in literature, 2.\\n  subject ignored, 8. Proctor, R.A., on Jupiter's moons, 180.\\n  on other worlds, 8. Roche's limit, 201. Rosse, Lord, on temperature of moon, 255. Saturn, age of, 189.\\n  composition of, 190.\\n  density of, 188.\\n  distance of, 186.\\n  the gauze ring, 199-202.\\n  gravity on, 188.\\n  inclination of axis, 187.\\n  interior of, 206.\\n  length of year, 186.\\n  popular telescopic object, 185.\\n  rings of, 185, 196.\\n    gaps in, 197.\\n    origin of, 200.\\n    periodic disappearance of, 198.\\n    seen from planet, 207.\\n    shadow of, 198.\\n  rotation of, 187.\\n  satellites of, 195.\\n  size of, 187. Schiaparelli discovers canals on Mars, 90.\\n  describes Martian canals, 93.\\n  discovers Mercury's rotation, 30, 32.\\n  on rotation of Venus, 76.\",\n",
       " 'They are\\nlike those monsters they found in the lowest depths of our own seas. They can only live under tremendous pressure. That\\'s why we didn\\'t find\\nany of them up above. This chap\\'ll burst like a bubble presently. Meanwhile, there\\'s no use in stopping here. Suppose you go below and\\nbrew some coffee and bring it up on deck while I go and see how things\\nare looking aft. It doesn\\'t do you any good, you know, to be looking at\\nmonsters of this sort. You can see what\\'s left of them later on. You\\nmight bring the cognac decanter up too.\" Zaidie was not at all sorry to obey him, for the horrible sight had\\nalmost sickened her.',\n",
       " \"Elizabeths\\nand told them the same thing. More used to the strange demands of\\nneurotic and psychotic patients, they were readier to comply. Everyone, Malone realized with satisfaction, was now assembling. Burris and the others were ready to go, sparklingly dressed and\\nlooking impatient. Malone put down the phone and took one great breath\\nof relief. Then, beaming, he led the others out. * * * * *\\n\\nTen minutes later, there were nine men in Elizabethan costume standing\\noutside the room which had been designated as the Queen's Court. Dr. Gamble's costume did not quite fit him; his sleeve-ruffs were half way\\nup to his elbows and his doublet had an unfortunate tendency to creep. The St.\",\n",
       " \"But such an interpretation didn't ring entirely true. It was too\\ninvolved for an idea which could have been better expressed in four\\nwords--_I know the truth_. Tossing the note aside Dirrul turned on the\\nwater in the shower room and thoughtfully disrobed. As he threw his tunic aside a violent paralyzing terror seized his\\nmind, making his head sing with a screeching vibration. Blindly he\\nsnatched up the tunic in order to stuff the cloth into his mouth so he\\nwould not cry out. But as soon as he pressed it against his skin his\\nterror vanished, like a siren suddenly stilled. The pattern of the real truth fell into place then. Now he understood\\nthe power of Vinin. Experimentally he took Sorgel's disk out of his\\ntunic and laid it on a table. As soon as he did so the blinding\\nnameless horror flamed up.\",\n",
       " 'The mere notion instantly gave me something worth while to\\nlook forward to. \"Jon bless thee!\" I told the old man. \"Ye have named both the trouble\\nand the remedy. I will attend to it at once.\" He sat thinking for some time longer. \"Has thought of any woman in\\nspecial, Strokor?\" said he. I had not. The idea was too new to me.',\n",
       " 'It was a\\ndark clear field and bright moving things spun and swirled through it,\\nbut she could see nothing that did not belong there. \"Hal,\" Max called over the general speaker system, \"cut the other\\ntreatments, check for accelerating anemia. Treat it like monoxide\\npoisoning--CO_{2} and oxygen.\" She reached into a cupboard under the work table, located two cylinders\\nof oxygen, cracked the valves and handed one to Max and one to the\\nassistant. Some of the bluish tint left the assistant\\'s face as he\\nbreathed and he went over to the patient with reawakened concern. \"Not breathing, Doc!\" Max was working at the desk, muttering equations of hemoglobin\\ncatalysis. \"Len\\'s gone, Doc,\" the assistant said more loudly. \"Artificial respiration and get him into a regeneration tank,\" said\\nJune, not moving from the microscope. \"Hurry!',\n",
       " 'I\\'m not trying to hold you up. Here.\" She got\\nup from the bed for the first time and walked toward them. She had firm,\\nlong legs, and used them well. She was utterly lovely and although part\\nof it was probably her professional know-how, she made you forget that. She was the most attractive girl, Earth or outworld, Ramsey had seen in\\nyears. Ramsey took the gun. Their hands met. Ramsey leaned forward quickly and\\nkissed her on the lips. He was still holding the Vegan girl\\'s slender\\narm, though.',\n",
       " 'She loved me, can\\'t you understand that?\" Dr. Winters was slowly drawing him away. \"I understand. Of course I\\nunderstand. Come with me now, Mr. Hastings, and lie down for a little\\nwhile. I\\'ll get you something to help take away the shock.\" Mel permitted himself to be led away to a small room nearby. He drank\\nthe liquid the Doctor brought, but he refused to lie down.',\n",
       " '\"We\\'re down to one comm spunnel link in the Special\\nZone,\" Dynal added. \"The one we built on Planet\\nPluto is controlled by Narval\\'s people.\" \"Does Sentinel have access to the transmitter at\\nthe Terminals?\" \"The sender would need to personally key in\\nthe clearances as well as the text,\" said Ram,\\n\"otherwise the message would be compromised. Sentinel would be compromised. We do have the\\nlast resort.\" \"Have you checked it lately?\" \"We run random tests from this end to be certain\\nthat it\\'s ready to function. As you know, sir, it\\nhas its uncertainties and imposes a high price.\" \"Back to the message,\" Camari sighed and rubbed\\nhis temple gently as he pondered.',\n",
       " \"It occurred to me that\\nPop's ideas of scrounging might extend to Alice's favors. The urge\\ndoesn't die out when you get old, they tell me. Not completely. He'd also helped her replace the knife on her stump with the hook. By that time I'd poked into all the Pilot's pockets I could get at\\nwithout stripping him and found nothing but three irregularly shaped\\nblobs of metal, still hot to the touch. Under the charred spots, of\\ncourse. I didn't want the job of stripping him. Somebody else could do a little\\nwork, I told myself. I've been bothered by bodies before (as who hasn't,\\nI suppose?) but this one was really beginning to make me sick.\",\n",
       " '\"Look,\" said the bosun, \"this hair\\'s gettin\\' in my eyes. I wunder if\\nyou\\'d mind kinda snippin\\' it off?\" \"Not a-tall,\" the first mate said. He walked over to the bosun, grabbed a handful of hair and sawed it off\\nwith the penknife. \"That better?\" \"It shore is. Thanks.\" \"Not a-tall.\" The first mate threw down the stick on the table. \"Really should uv cut\\nthat before.\"',\n",
       " 'It is strange, indeed, that it\\nshould be so; but it presents one of those features which will afford us\\nin the future a fascinating field for study. One could imagine,\\ntherefore, that if one had to search for survivors one would turn one\\'s\\neyes with best hopes of success to some Tibetan village or some Alpine\\nfarm, many thousands of feet above the sea level.\" \"Well, considerin\\' that there are no railroads and no steamers you might\\nas well talk about survivors in the moon,\" said Lord John. \"But what I\\'m\\naskin\\' myself is whether it\\'s really over or whether it\\'s only half-time.\" Summerlee craned his neck to look round the horizon. \"It seems clear and\\nfine,\" said he in a very dubious voice; \"but so it did yesterday. I am\\nby no means assured that it is all over.\" Challenger shrugged his shoulders. \"We must come back once more to our fatalism,\" said he. \"If the world\\nhas undergone this experience before, which is not outside the range of\\npossibility, it was certainly a very long time ago.',\n",
       " 'One of us must watch the others go, and\\nthen take the ring back to its place in the Museum. We will be gone too\\nlong a time for one person to watch it here.\" The Very Young Man suddenly went to one of the doors and locked it. \"We don\\'t want any one coming in,\" he explained as he crossed the room\\nand locked the others. \"And another thing,\" he went on, coming back to the table. \"When I saw\\nthe ring at the Biological Society the other day, I happened to think,\\nsuppose Rogers was to come out on the underneath side? It was lying\\nflat, you know, just as it is now.\" He pointed to where the ring lay on\\nthe handkerchief before them. \"I meant to speak to you about it,\" he\\nadded. \"I thought of that,\" said the Doctor.',\n",
       " 'There was a certain determination\\nabout the set of her jaw that I liked, and her lips were like soft red\\nvelvet. A man could kiss those lips and sink slowly into warm crimson\\nseas; lose himself in the heated softness of their gentlest pressures. \"Delvin!\" Baxter\\'s voice shattered my reverie, and I tore my eyes from the\\ngirl, though the after-effects of dreaming left my mind in confused\\nfragments. \"Huh?\" I said, looking at his face and almost failing to\\nrecognize it. \"I said--\" Baxter\\'s voice was impatient and over loud, \"--that you had\\nbest, in the interests of open-space safety, not flash that Amnesty\\nwhile you\\'re aboard the _Valkyrie_. Passengers have a way of working\\nthemselves into a panic that is almost an uncanny gift! They\\'ll all\\nstart suspecting their neighbors of treason, or worse, and--\"\\n\\nBut I wasn\\'t hearing his diatribe any more. As he\\'d spoken that first\\nsentence, the girl with the shimmering cornsilk hair had been passing\\nwithin a few feet of us, and I\\'d felt, rather than actually seen, her\\nslender shoulders stiffen beneath the blue silken fabric of her blouse.',\n",
       " 'I felt\\nthat I never had understood what manner of man Morhange was, never. He stood erect before Antinea without seeming to notice her gesture\\ninviting him to be seated. She smiled at him. \"You are surprised, perhaps,\" she said finally, \"that I should send\\nfor you at so late an hour.\" Morhange did not move an eyelash. \"Have you considered it well?\" she demanded. Morhange smiled gravely, but did not reply. I could read in Antinea\\'s face the effort it cost her to continue\\nsmiling; I admired the self-control of these two beings. \"I sent for you,\" she continued.',\n",
       " 'The terror inspired by the professor\\'s words was plainly visible on\\nevery face. \"Let us turn back!\" shouted some of the sailors. \"My opinion,\" said the captain, \"is that we have entered a polar\\ndepression; it is impossible to think that the earth is a hollow shell\\ninto which we may sail so easily as this.\" \"If I might venture a remark,\" said Pilot Rowe, \"I think Professor\\nStarbottle is right. If the earth is a hollow shell having a\\nsubterranean ocean, we can sail thereon bottom upward and masts\\ndownward, just as easily as we sail on the surface of the ocean here.\" \"I believe an interior ocean an impossibility,\" said the captain. \"You\\'re right, sorr,\" said the master-at-arms, \"for what would keep\\nthe ship sticking to the wather upside down?\" [Illustration: THE TERROR INSPIRED BY THE PROFESSOR\\'S WORDS WAS\\nPLAINLY VISIBLE ON EVERY FACE.] \"I don\\'t say that the earth is absolutely a hollow sphere,\" said the\\nprofessor, \"but I do say this, we are now sailing into a polar abyss,\\nand if the sun disappears at noon to-day it will be because we have\\nsailed far enough into the gulf to put the ocean over which we have\\nsailed between us and that luminary.',\n",
       " 'shocked Calder through his tears. \"YOU killed him.....  He was\\ngoing to save us!\" And in a sudden fury of determination like that of\\nhis dead idol, he seized the pistol and Hayes\\' hip. And as the other\\nmoved away, waving NO with his hands in front of him, shot Frank in the\\nchest and killed him. Calder lowered his master\\'s body gently. Then rising, holding the\\nweapon still, looked about him and brandished it fiercely. His second\\nshot destroyed the motor-drive to the bridge\\'s double doors, sealing\\nthem shut. After another threatening wave at the benumbed circle of\\nmen, he turned to the astonished face of Robeson on the screen. \"Calder, what in God\\'s name?\" But the man\\'s senses were gone.',\n",
       " 'It\\nwas the power of vision and movement, the power of spell and\\nincantation. The others called it magic, though no gypsy would call it so. Marya Proderenska sat quietly in the back room of the little shop and\\nwaited. A woman would come; she knew that, and the knowledge was another\\npiece of her power, and a proof of it. Farther she could not see, but in\\nthe cloud of the future the woman was clear. (What power Marya Proderenska had, a blond social worker had, too, and\\nother people; she had never been able to clear her mind of her own\\nsuperstitions enough to train the power or work very effectively with\\nit. The power was sufficient for her.) Marya Proderenska sighed. The power demanded its own responsibilities. She could not marry outside the clan into which she had been born.',\n",
       " 'He turned\\nthe lights out and they sat on the couch in the darkness, listening to\\nthe passing of people on the sidewalk outside. He undressed her. He\\nwhispered halting, passionate phrases. He asked her if she was afraid\\nand let himself be laughed away from his own conscience. Then he took\\nher and loved her. Afterwards, going home again in the gloom of late night, he looked up at\\nthe stars and they stood still. He realized that a certain path of life\\nhad been followed to its conclusion. He felt initiated into the adult\\nworld. And it had been so simple, so natural, so sweet.... He threw a\\ngreat stone into the river and laughed and walked on, after a while. Through the summer that followed, Hugo and Anna ran the course of their\\naffair.',\n",
       " 'The skin was\\ndrawn tight across his face and knots were bulging at the corners of his\\njaws. He could see the Ogrum dancing on the decks. They looked something\\nlike humans except that their bodies were distorted, out of proportion. One was tall and very skinny. Another was short and fat. A third had one\\nlong arm and one short arm. Another had a long body and two very short\\nlegs. Just looking at them, he hated them. \"Damn you,\" he whispered. \"Damn you--\"\\n\\nSomething touched his arm.',\n",
       " 'She said something to me in her low, liquid tones; but I could not\\nunderstand her, and then she pointed toward the north and started away. I followed her, for my way was north too; but had it been south I still\\nshould have followed, so hungry was I for human companionship in this\\nworld of beasts and reptiles and half-men. We walked along, the girl talking a great deal and seeming mystified\\nthat I could not understand her. Her silvery laugh rang merrily when I\\nin turn essayed to speak to her, as though my language was the\\nquaintest thing she ever had heard. Often after fruitless attempts to\\nmake me understand she would hold her palm toward me, saying, \"_Galu_!\" and then touch my breast or arm and cry, \"_Alu_, _alu_!\" I knew what she\\nmeant, for I had learned from Bowen\\'s narrative the negative gesture\\nand the two words which she repeated. She meant that I was no Galu, as\\nI claimed, but an Alu, or speechless one. Yet every time she said this\\nshe laughed again, and so infectious were her tones that I could only\\njoin her. It was only natural, too, that she should be mystified by my\\ninability to comprehend her or to make her comprehend me, for from the\\nclub-men, the lowest human type in Caspak to have speech, to the golden\\nrace of Galus, the tongues of the various tribes are identical--except\\nfor amplifications in the rising scale of evolution.',\n",
       " '\"How,\" he demanded, \"can you return the Earth to its orbit, even\\ngranting you are able to take this initial step? How keep life on the\\nEarth during its flight on this rainbow-chasing voyage you propose?\" \"All these things have been taken into consideration, O Dalis!\" retorted\\nSarka. \"All of my scheme is practicable, as I think you will agree when\\nI have told you its details. What think you of the plan, Klaser? And\\nyou, Durce? Boler? Vardee? Prull?',\n",
       " 'Then\\nshe said uncomfortably, \"I have a feeling the bathyscaphe isn\\'t ... safe.\" He glanced up. \"_Ellos?_\" He grinned as she looked sharply at him. Then he said, \"This\\ndredge: isn\\'t it pretty ambitious for a boat this size to try to dredge\\nsome thousands of fathoms down?\" \"It\\'s a free dredge,\" she said. \"It will sink by itself and come up by\\nitself. There\\'s no cable. What are you doing now?\" He\\'d put away the submarine microphone he\\'d just altered and was now\\ntaking out the still untested underwater horn.',\n",
       " 'So if the\\nForce notices that there are ten bubbs instead of nine, the extra is\\nstill just our spare... Hey--Tiflin!\" \"Nuts--I\\'m looking after Pantywaist,\" Tiflin growled back. \"Awright,\" Art returned. \"So we just cast your junk adrift! Come on,\\nboy!\" There was no kidding in the dry tone. Tiflin snarled but obeyed. Ions jetting from the Earthward hub-ends of the rotating rings, yielded\\ntheir steady few pounds of thrust. The gradual outward spiral began.',\n",
       " 'Blackwell felt strangely excited. He felt as though this man were a\\nfriend, although he didn\\'t know quite why. \"Well, you see I\\'ve been around a long time. I run errands and things\\nfor Senator Crane. I\\'m confidential to him, you understand, because I\\nnever talk. I always keep my mouth shut. So he trusts me and he gave me\\nthis here court order--\"\\n\\n\"Who is Senator Crane?\" \"You don\\'t know Senator Crane? You new in this country maybe?\" \"He is a government official?\"',\n",
       " 'Doctor Chalmers, if this were the first incident of the kind\\nit would be bad enough, but it isn\\'t. You\\'ve done things like this\\nbefore, and I\\'ve warned you before. I assumed, then, that you were\\nmerely showing the effects of overwork, and I offered you a vacation,\\nwhich you refused to take. Well, this is the limit. I\\'m compelled to\\nrequest your immediate resignation.\" Chalmers laughed. \"A moment ago, you accused me of living in the\\nfuture. It seems you\\'re living in the past. Evidently you haven\\'t\\nheard about the Higher Education Faculty Tenure Act of 1963, or such\\nthings as tenure-contracts. Well, for your information, I have one;\\nyou signed it yourself, in case you\\'ve forgotten.',\n",
       " 'Let us see just what hope\\nthere is. I think that it would be wiser to investigate the power lines\\nat once,\" suggested Morey. Ten minutes later, with but a single officer now accompanying them, Tho\\nStan Drel, the terrestrial scientist, and the Talsonian scientist were\\ninspecting the power installation. They had entered a large stone building, into which led numerous very\\nheavy silver wires. The insulators were silicate glass. Their height\\nsuggested a voltage of well over one hundred thousand, and such heavy\\ncables suggested a very heavy amperage, so that a tremendous load was\\nexpected. Within the building were a series of gigantic glass tubes, their walls\\nfully three inches thick, and even so, braced with heavy platinum rods. Inside the tubes were tremendous elements such as the tiny tubes of\\ntheir machine carried. Great cables led into them, and now their heating\\ncoils were glowing a somberly deep red. Along the walls were the switchboards, dozens of them, all sizes, all\\ntypes of instruments, strange to the eyes of the terrestrians, and in\\npractically all the light-beam indicator system was used, no metallic\\npointers, but tiny mirrors directing a very fine line of brilliant light\\nacted as a needle.',\n",
       " '\"As to that, Your Signory, I know very little. I have been at Cardinal Ugolini\\'s mansion, not among the Filippeschi. I\\nwould guess they must have at least five hundred men and siege weapons. They would be mad to start this thing with less.\" \"Five hundred men and siege weapons!\" Simon pictured the Monaldeschi palace with its great tower crumbling\\nunder a bombardment of boulders. He saw men swarming over it like ants. He saw the defenders lying dead in the ruins--de Puys, Thierry, the\\nArmenians, the Venetians--himself. He saw the Tartars with their throats\\ncut. Again he felt the urge to run back to the palace to prepare at once.',\n",
       " 'He gazed at me now. I thought for an instant he was coming over to\\ntalk with me. Though he probably considered he was not suspected of\\nthe murder of Anita, he realized, of course, that his attack on me was\\nknown. He must have wondered what action would be taken. But he did not approach me. He moved away and went inside. Moa had\\nbeen near him; and as though by prearrangement with him she now\\naccosted me. \"I want to speak to you, _Set_ Haljan.\" \"Go ahead.\" I felt an instinctive aversion to this Martian girl.',\n",
       " 'The gap in the reef was\\nclosed by the battling giants. They slavered. They gripped. They tore. They rent each other....\\n\\nTerry saw a tentacle as thick as a barrel which had been haggled half\\nthrough and dangled futilely as its stump still tried to fight. And more giants came. Terry shouted, and the _Esperance_ turned. He\\ncould see large patches of phosphorescence under the surface. And\\nsuddenly, he noticed that a few of them had swerved toward the\\n_Esperance_. As they approached the sound-horn stung them.',\n",
       " '\"Can you make anything of it?\" \"No, sir,\" he answered. \"I\\'m taping it, so I can go to work on it.\" Mannion was our language and code man. I hoped he was good. \"What does it sound like,\" I asked. \"Tune me in.\" After a moment a high hum came from the speaker. Through it I could hear\\nharsh chopping consonants, a whining intonation. I doubted that Mannion\\nwould be able to make anything of that gargle.',\n",
       " 'But\\nwith this criminal activity wiped out, and Estrella a member of the\\nFederation, we can help them so much--and they have a lot to teach us,\\ntoo.\" CHAPTER 3\\n\\n\\nThe following day Hanlon continued working with his roches. He now\\n\"drilled\" them as soldiers are drilled. He taught himself how to\\ncontrol their minds in unison, making them march in all the various\\ncomplicated maneuvers of squads and columns, all in perfect alignment\\nand cadence. It was tricky, delicate work, requiring as it did placing a portion of\\nhis mind in each roch\\'s brain, giving that mind and body individual\\ncommands, yet keeping enough central control in his own mind so they\\nall performed exactly together. So much of his mind was transferred to theirs, that he had to learn how\\nto make his own body \"stand at attention\" during these maneuvers, with\\nbut minimum control over his own functions. Hour after hour he worked with them, giving them fifteen minutes of\\nrest out of each half-hour--and thus giving his own brain rest at the\\nsame time. For this was tiring work for him, as well as for them. When dusk fell he stopped the training, saw to it that the roches were\\nwell-fed and watered, then put them all to sleep. He dressed for the\\nstreet, went out and found an eating place, where he did full justice\\nto a good meal.',\n",
       " '\"If he\\'d told us that then,\\nsome of us might have believed it.\" \"And look what we found,\" Kurt Fawzi added, pointing at the ceiling. \"Is that Merlin up there, or isn\\'t it?\" \"That little thing!\" Shanlee cried scornfully. \"How could that be\\nMerlin? I am going to my chamber, to pray for forgiveness for this\\nwretch.\" He turned and started for the door. \"Stop him, Tom!\" Conn said, and Tom Brangwyn put himself in front of\\nthe older man, gripping his right arm.',\n",
       " 'I couldn\\'t even\\ntell you. I had to let you think that in some strange, bewildering way\\nI had gone into the lounge and disappeared. \"I knew you wouldn\\'t really believe that, not for a moment. But I\\ndidn\\'t know what you\\'d think. I _could_ have told you, I suppose, but\\nI was afraid it would only make the danger greater, might transfer\\nsome of the danger to you. And I didn\\'t know you\\'d go straight to the\\ncaptain and get yourself into trouble. There were rumors on the Station\\nthat you\\'d been confined, put under guard. But they were only rumors. I felt I had to see you, talk to you. I was half out of my mind with\\nanxiety.',\n",
       " '\"Then\"--his voice lost its savagery, and became soft and tender--\"then,\\nDulnop, lad, ye shall have thy Cunora; and as for Rolla and I--\"\\n\\nCorrus turned and walked away, that his friend might not see what was in\\nhis eyes. IX\\n\\nFOUND! It was two weeks to a day when the four on the earth, after having seen\\nvery little of each other in the meanwhile, got together for the purpose\\nof finishing their \"revelation\" to the Sanusians. \"Mr. Van Emmon and I,\" stated Billie coolly, as they put on their\\nbracelets, \"have been trying to decide upon the best way of telling them\\nhow to obtain fire.\" Neither Smith nor the doctor showed that he noticed her \"Mr. Van Emmon.\" Evidently the two were still unreconciled. \"I argue,\" remarked the geologist, \"that the simplest method will be a\\nchemical one. There\\'s lots of ways to produce fire spontaneously, with\\nchemicals; and this woman Rolla could do it easily.\"',\n",
       " '\"Didn\\'t you know? Talbot was\\nseventy-five years old when he wrote that article. I\\'m afraid you were\\na little too late for him.\" \"I didn\\'t know,\" Arkadt replied. \"A shame,\" Findrun murmured. \"It would have made him so happy.\" The telephone rang and Arkadt answered it. His wife was calling, with\\nunusual news. He had just received a letter from America. Imagine that.',\n",
       " '\"Not when you know how.\" Hugo was puzzled. His ancient reticence about\\nhimself was acting together with a natural modesty. \"Some new explosive?\" \"Not exactly.\" \"Electricity? Magnetism? Thought-waves?\" Hugo chuckled. \"No.',\n",
       " '\"And I checked back on every one,\" Boyd went on. \"Your hunch was\\nabsolutely right, Ken. The prosecuting attorneys and the attorneys\\ngeneral are all new men--all the ones involved in this stuff. Each one\\nreplaced a previous incumbent in a recent election. In two cases, the\\ngovernor was new, too--elected last year.\" \"That figures,\" Malone said. \"What about the rest?\" Boyd\\'s grandiose wave of a hand took in all the papers on the desk. \"It\\'s all the same,\" he said. \"They all follow a pattern, Ken, _the_\\npattern.',\n",
       " 'A hand was placed on my shoulder. Morhange was again beside me. \"Come here,\" he said. Somewhat surprised, I followed him. We went into the grotto. The opening, which was big enough to admit the camels, made it fairly\\nlight. Morhange led me up to the smooth face of rock opposite. \"Look,\"\\nhe said, with unconcealed joy. \"What of it?\" \"Don\\'t you see?\"',\n",
       " 'Christ? And Jehovah? benevolent and all-saving, were but a monstrous\\njest fostered by THEY to keep man blindly content, and keep him divided\\namong himself so that he strove not to unravel the stars?\" \"Man, in my foolish youth I studied by candleflame secrets that would\\nscorch your very soul. Of women who with their own bare hands have\\nstrangled the children they bore so that the world might not know....\\nDisease and sickness at which physicians throw up their hands in\\nhelpless bafflement. When strong men tear at their limbs and heads and\\nagony--seeking to drive forth alien forces that have netted themselves\\ninto their bodies. I need scarcely recount them all, each with its own\\nabominable significance. It is THEM. Who are eternal and nameless, who\\nsend their scouts down to test earth-man. Don\\'t you realize that they\\nhave watched man creep out of primal slimes, take limbs and shamble, and\\nfinally walk?',\n",
       " 'He\\nwas a city man. He had literally never before seen what looked like\\nhabitable territory of such vast extent, with no houses on it. In a\\nvalley easily ten miles long and two wide, there was not a square inch\\nof concrete or of glass. There was not a man made object in view. The\\nsky was blue and there were clouds, but to Jamison the sight of\\nvegetation implied rooftops. There ought to be parapets where roofs\\nended to let light down to windows and streets below. He had never\\nbefore seen grass save on elevated recreation-areas, nor bushes not\\narranged as landscaping, and certainly not trees other than the\\ndomesticated growths which can grow on the tops of buildings. To Jamison\\nthis was desolation. On the moon, absence of structures was\\nunderstandable. There was no air.',\n",
       " \"The corrupt flood\\nwas now being reinforced, however, by an ever-rising tide of material\\nthat had once been mountains. And the slope, which had not been even\\nnoticeable at the mountains or over the plain, was here very evident. As the rapidly-flowing golop struck water, the water shivered, came to a\\nweirdly unforgettable cold boil, and exploded into drops and streamers\\nand jagged-edged chunks of something that was neither water nor land; or\\nrock or soil or sand or Satan's unholy brew. Nevertheless, the water\\nwon. There was _so_ much of it! Each barrel of water that was destroyed\\nwas replaced instantly and enthusiastically; with no lowering of level\\nor of pressure. And when water struck the golop, the golop also shivered violently, then\\nsparkled even more violently, then stopped sparkling and turned dark,\\nthen froze solid. The frozen surface, however, was neither thick enough\\nnor strong enough to form an effective wall. Again and again the wave of golop built up high enough to crack and to\\nshatter that feeble wall; again and again golop and water met in\\nultimately furious, if insensate, battle. Inch by inch the ocean's\\nshoreline was driven backward toward ocean's depths; but every inch the\\nocean lost was to its tactical advantage, since the advancing front was\\nby now practically filled with hard, solid, dead blocks of its own\\nsubstance which it could neither assimilate nor remove from the scene of\\nconflict.\",\n",
       " 'If they found out that she was a woman of\\nConstantinople, they would tear the flesh from her bones. _A woman of Constantinople helping a Saracen to plot against the pope!_\\n\\nFear was like a cold, black ocean, and she was drowning in it. She dared\\nnot even let herself imagine the horrors, the torments that would end\\nher life if those people in Orvieto found her out. She did not have to go through with it. Once she and Lorenzo and this\\nDavid--this Mameluke--were on the road, she could slip away. Manfred had\\nsaid they would be carrying jewels. Perhaps she could take some, use\\nthem to buy passage for herself. _Passage to where?_\\n\\nThere was no place in the world she belonged but Constantinople. And her\\nplace in the Polis was dependent on the basileus, Michael. If she\\nangered Manfred, she could not dare go back to Michael.',\n",
       " \"It was meat, he thought, and even if it were eaten raw--well, savages\\ndid, so he, too, could manage. He thought about boiling it in water,\\nthen realized that the light air pressure might allow water to boil\\nwithout getting the necessary cooking effects. The best method\\ntherefore was to fry it where he could observe the progress. Steeling himself, he seized the rabbit, killed and skinned it, the\\nlatter a process which he found thoroughly unpleasant. Cleaning it of\\nits entrails, another unpleasant task, he cut the meat up into sizable\\nchunks, skewered a couple of pieces on a metal rod which had been part\\nof one of the cages from the rocket, and sat down to cook it over the\\nopen fire. It turned out to be a longer job than he'd thought, and he burned the\\nmeat quite thoroughly in the process, but finally he made it edible\\nand chewed it slowly. He needed salt, he realized, and wondered if he\\ncould find any. This would have priority when he began his explorations. He hung the balance of the meat on a ball-tree with a piece of cord. He\\nhad seen no evidence of flying insects or creatures, and hoped thereby\\nto be able to preserve the rest of the meat.\",\n",
       " 'Like now as I sit here with a pencil up my nose,\\nthinking about homebrew lobotomies and wouldn\\'t it be nice if I gave myself one. Deep breath. The difference between Chinese medicine and Western medicine is the dissection\\nversus the observation of the thing in motion. The difference between reading a\\nstory and studying a story is the difference between living the story and\\nkilling the story and looking at its guts. School! We sat in English class and we dissected the stories that I\\'d escaped\\ninto, laid open their abdomens and tagged their organs, covered their genitals\\nwith polite sterile drapes, recorded dutiful notes *en masse* that told us what\\nthe story was about, but never what the story *was*. Stories are propaganda,\\nvirii that slide past your critical immune system and insert themselves directly\\ninto your emotions. Kill them and cut them open and they\\'re as naked as a\\nnightclub in daylight. The theme. The first step in dissecting a story is euthanizing it: \"What is the\\ntheme of this story?\"',\n",
       " \"The Captain's fingers were then running over the keys of the\\ninstrument, and I remarked that he touched only the black keys, which\\ngave his melodies an essentially Scotch character. Soon he had\\nforgotten my presence, and had plunged into a reverie that I did not\\ndisturb. I went up again on to the platform: night had already fallen;\\nfor, in this low latitude, the sun sets rapidly and without twilight. I could only see the island indistinctly; but the numerous fires,\\nlighted on the beach, showed that the natives did not think of leaving\\nit. I was alone for several hours, sometimes thinking of the\\nnatives--but without any dread of them, for the imperturbable\\nconfidence of the Captain was catching--sometimes forgetting them to\\nadmire the splendours of the night in the tropics. My remembrances\\nwent to France in the train of those zodiacal stars that would shine in\\nsome hours' time. The moon shone in the midst of the constellations of\\nthe zenith. The night slipped away without any mischance, the islanders frightened\\nno doubt at the sight of a monster aground in the bay. The panels were\\nopen, and would have offered an easy access to the interior of the\\nNautilus. At six o'clock in the morning of the 8th January I went up on to the\\nplatform.\",\n",
       " '\"I can well believe it,\" said Conseil. \"I will add,\" I continued, \"that a similar barrier exists between\\nGibraltar and Ceuta, which in geological times formed the entire\\nMediterranean.\" \"What if some volcanic burst should one day raise these two barriers\\nabove the waves?\" \"It is not probable, Conseil.\" \"Well, but allow me to finish, please, sir; if this phenomenon should\\ntake place, it will be troublesome for M. Lesseps, who has taken so\\nmuch pains to pierce the isthmus.\" \"I agree with you; but I repeat, Conseil, this phenomenon will never\\nhappen. The violence of subterranean force is ever diminishing. Volcanoes, so plentiful in the first days of the world, are being\\nextinguished by degrees; the internal heat is weakened, the temperature\\nof the lower strata of the globe is lowered by a perceptible quantity\\nevery century to the detriment of our globe, for its heat is its life.\" \"But the sun?\" \"The sun is not sufficient, Conseil.',\n",
       " 'He\\nwas too fascinated to pay serious attention to his flayed dermis. The\\ndashboard was a lovely wilderness of dials, plugs, indicators, lights,\\nscales and switches. The psychist climbed down into the driver\\'s seat and did something with\\nhis feet. The motor started like lighting a blowtorch as big as a silo. Wallowing around in the cushions, Barlow saw through a rear-view mirror\\na tremendous exhaust filled with brilliant white sparkles. \"Do you like it?\" yelled the psychist. \"It\\'s terrific!\" Barlow yelled back. \"It\\'s--\"\\n\\nHe was shut up as the car pulled out from the bay into the road with\\na great _voo-ooo-ooom_!',\n",
       " '\"Susanne,\" I said, softly. \"Oh, we must go up-stairs,\" she whispered, breathlessly; and, picking\\nup her silken skirts, she fled up the cellar-stairs. I turned out the gas, with that instinct of economy which early\\nwastefulness has implanted in me, and followed the Countess Suzanne\\nthrough the suite of rooms and into the small reception-hall where she\\nhad first received me. She was sitting on a low divan, head bent, slowly turning a sapphire\\nring on her finger, round and round. I looked at her romantically, and then--\\n\\n\"Please don\\'t,\" she said. The correct reply to this is:\\n\\n\"Why not?\" --very tenderly spoken. \"Because,\" she replied, which was also the correct and regular answer. \"Suzanne,\" I said, slowly and passionately. She turned the sapphire ring on her finger.',\n",
       " 'And besides, you can understand why both of us\\nare not as calm as might be desired.\" I was furious and on the point of disavowing these strangely humble\\nwords of Morhange. But a glance showed me that there was as much irony\\nas surprise in his expression. \"I know indeed that most officers are brutes,\" grumbled the little old\\nman. \"But that is no reason....\"\\n\\n\"I am only an officer myself,\" Morhange went on, in an even humbler\\ntone, \"and if ever I have been sensible to the intellectual\\ninferiority of that class, I assure you that it was now in glancing--I\\nbeg your pardon for having taken the liberty to do so--in glancing\\nover the learned pages which you devote to the passionate story of\\nMedusa, according to Procles of Carthage, cited by Pausanias.\" A laughable surprise spread over the features of the little old man. He hastily wiped his spectacles. \"What!\" he finally cried. \"It is indeed unfortunate, in this matter,\" Morhange continued\\nimperturbably, \"that we are not in possession of the curious\\ndissertation devoted to this burning question by Statius Sebosus, a\\nwork which we know only through Pliny and which....\"\\n\\n\"You know Statius Sebosus?\"',\n",
       " \"That the women had found human life on\\nMars. That was a very remote possibility based on the idea that perhaps\\nthe Solar system had been settled by human beings from outer space, and\\nhad landed on two worlds at least. Bowren remembered how his wife, Lora, had told him he was an idiot and a\\nbore, and had walked out on him five years before; taken her three\\nmonths course in astrogation, and left Earth. He hadn't heard of her or\\nfrom her since. It was the same with every other man, married or not. The male ego had taken a beating for so long that the results had been\\npsychologically devastating. The ship seemed to be empty of any human being but Bowren. He reached\\nthe outer lock door. It was ajar. Thin cold air came through and sent a\\nchill down his arms, tingling in his fingers.\",\n",
       " '\"We\\'ve got to round up whatever group we can and get them back\\nhere on the double. They must be counting on our original time, so\\nthey\\'re in no hurry to remove the powder and wiring. But we can\\'t count\\non any more time.\" \"You\\'re going through with it?\" Randolph asked doubtfully. \"In one hour. And you might pass the word along that we\\'re doing it to\\nsave the dome. Tell the men we just found out that Trench is losing and\\nintends to blow it up instead of letting the Legals win.\" Rumor would travel fast enough, he hoped. And it should give him a few\\nextra seconds before his forces cracked.',\n",
       " '\"Going up!\" said my uncle, with a shrug. \"No doubt, for the last half-hour the inclines have gone the other\\nway, and at this rate we shall soon arrive upon the level soil of\\nIceland.\" The Professor nodded slowly and uneasily like a man that declines to\\nbe convinced. I tried to resume the conversation. He answered not a\\nword, and gave the signal for a start. I saw that his silence was\\nnothing but ill-humour. Still I had courageously shouldered my burden again, and was rapidly\\nfollowing Hans, whom my uncle preceded. I was anxious not to be left\\nbehind. My greatest care was not to lose sight of my companions.',\n",
       " '\"Do you think my mission will\\nbe successful as regards the life of Lyone?\" \"I have already foreseen this crisis,\" said he; \"but I believe the end\\nwill be triumphant.\" His majesty, in reply to my despatch, sent me a royal passport that\\nadmitted me to the fortress to converse with Lyone, and which would\\nprotect me until my return to Kioram. \"Tell her majesty,\" said the grand sorcerer, \"not to fear the king;\\nthat we will save her, even should she nobly disdain to accept our\\nsurrender for her life.\" \"How do you propose to save her life in case she forfeits it?\" I\\neagerly inquired. \"I cannot tell you,\" he replied, \"for occult knowledge can only be\\napprehended by the initiated. Every great reform requires its martyr,\\nand it may be that the queen will be our martyr, no matter what we\\ndo.\" An audible groan escaped from the lips of all. Was it possible that\\neven should we surrender we could not save the life of our adorable\\nleader, and that to surrender would involve all in a common ruin?',\n",
       " '\"Six months ago, at the age of fifteen,\\nthe boy simply died. He simply--gave up, and died.\" \"Gave up?\" \"That was as good an explanation as our medical department was able to\\nprovide, Mr. Burris. There was some malfunction--but--we like to say\\nthat he simply gave up. Living became too difficult for him.\" \"All right,\" Burris said after a pause. \"This telepath of yours is\\ndead, and there aren\\'t any more where he came from. Or if there are,\\nyou don\\'t know how to look for them.',\n",
       " '\"Yes, truly, some one is speaking; those are words!\" Even a few feet from the wall I could hear distinctly. I succeeded in\\ncatching uncertain, strange, undistinguishable words. They came as if\\npronounced in low murmured whispers. The word \\'_forlorad_\\' was\\nseveral times repeated in a tone of sympathy and sorrow. \"Help!\" I cried with all my might. \"Help!\" I listened, I watched in the darkness for an answer, a cry, a mere\\nbreath of sound, but nothing came. Some minutes passed.',\n",
       " 'He drew on it. He offered it. The\\nskipper said heavily:\\n\\n\"You guessed right, Mr. Baird. He suggests that someone from this ship go\\non board the Plumie vessel. He\\'s drawn two pressure-suited figures going\\nin their air lock. One\\'s larger than the other. Will you go?\" \"Naturally!\" said Baird.',\n",
       " \"Everyone was\\nstudying some subject, acquiring some new skill. One-time rebellious\\nnatures and one-time biological oddities alike were united by the\\ncommon bond of intellectual curiosity. It was, however, no Utopia. Some of the younger men wanted women, and\\nthere were no women. Some were irked by confinement and wandered off;\\nthree of the fleet of eleven 'copters were stolen by groups of\\nmalcontents. From time to time there would be a serious quarrel. Six\\nmen were murdered. The population dwindled to four hundred and twenty. But there was progress, in the main. Eventually Banning joined the\\ngroup, from the ranch, and under his guidance the study-system was\\nformalized.\",\n",
       " '\"I\\'m Wade--the Pirate--help if you can. Can you get outside the\\natmosphere? Exceed orbital speed and fall out? Am in an orbit and can\\'t\\nget out. Fuel reserve gage stuck, and used all my rockets. No more\\npower. Can not slow down and fall. I am running out of compressed air\\nand the generator for this set is going--will take animation suspending\\ngas--will you be able to reach me before entering night?\" \"Quick, Morey--answer that we will.\" \"We will try, Pirate--think we can make it!\"',\n",
       " 'Farrell, startled, looked up sharply to\\nsee the last of the Falakian sun\\'s magenta glare vanishing below the\\ncrater\\'s southern rim. A dusky forerunner of darkness settled like a\\ntangible cloud, softening the drab outlines of bramble thickets and\\nslime pools. The change that followed was not seen but felt, a swelling\\nrush of glad arousal like the joy of a child opening its eyes from\\nsleep. To Farrell, the valley seemed to stir, waking in sympathy to his own\\nrestlessness and banishing his unease. *       *       *       *       *\\n\\nThe girl ran to him through the dusk on quick, light feet, timidity\\nforgotten, and he saw with a pleasant shock of astonishment that she was\\nno longer the filthy creature he had first seen by the lakeside. She was\\npretty and nubile, eyes and soft mouth smiling together in a childlike\\neagerness that made her at once infinitely desirable and untouchably\\ninnocent. \"Who are you?\" he asked shakily. [Illustration]\\n\\nHer hesitant voice was music, rousing in Farrell a warm and expectant\\neuphoria that glowed like old wine in his veins. \"Koaele,\" she said.',\n",
       " '\"Well, they was stupid to start this war.\" Levi grinned at Ford, looking\\npleased with himself. Auguste heard some appreciative chuckles from the\\nspectators. He turned and saw Levi Pope\\'s wife, a skinny, pale woman,\\nfrowning at her husband as if his testimony made her angry. Ford nodded and held off on making his reply while he paced the open\\nspace before the judge\\'s table and let his calm gaze travel over all the\\nspectators and jurymen. He waited until the hall was quiet. \"Maybe the Indians thought it was a stupid war, too, Mr. Pope. Maybe\\nthat is the real reason Black Hawk sent those three braves to your\\ncamp.\" \"Objection,\" called Bennett.',\n",
       " 'He told Boynton of the man-things he had seen come from\\nthe ship, of their baggy suits, their helmets.... And he had seen a\\nsmall generator on the back of each helmet. He told him of the small,\\nshining weapons and their powerful jets of gas. Deadly and unescapable\\nat short range, he well knew. \"They got McGuire,\" Blake concluded; \"carried him off a prisoner. Took\\nanother man, too.\" For a moment Colonel Boynton\\'s quiet tones lost their even steadiness. \"We\\'ll get them,\" he said savagely, and it was plain that it was the\\ninvaders that filled his mind; \"we\\'ll go after them, and we\\'ll get\\nthem in spite of their damn gas, and we\\'ll rip their big ship into\\nribbons--\"\\n\\nCaptain Blake was able to raise a dissenting hand. \"We will have to go\\nwhere they are, Colonel, to do that.\" Colonel Boynton stared at him. \"Well?\"',\n",
       " '\"Good!\" said Cochrane. \"I\\'ll go take some of them. Jones, could we make\\na flit to somewhere else on this planet?\" Jones said negligently,\\n\\n\"I told you we\\'ve got fuel to reach the Milky Way. Where do you want to\\ngo?\" \"Anywhere,\" said Cochrane. \"The scenery isn\\'t dramatic enough here for a\\nnew broadcast. We\\'ve got to have some lurid stuff for our next show. Things are shaping up except for the need of just the right scenery to\\nsend back to Earth.\"',\n",
       " '\"He\\'s all\\ncovered with blood.\" The little figure presented a ghastly sight. As it steadily grew larger\\nthey could see and recognize the Chemist\\'s haggard face, his cheek and\\nneck stained with blood, and his white suit covered with dirt. \"Look at his feet,\" whispered the Big Business Man. They were horribly\\ncut and bruised and greatly swollen. The Doctor bent over and whispered gently, \"What can I do to help you?\" The Chemist shook his head. His body, lying prone upon the handkerchief,\\nhad torn it apart in growing. When he was about twelve inches in length\\nhe raised his head. The Doctor bent closer.',\n",
       " 'I reached for the light switch,\\nbut a sudden change in direction threw me against the wall. There was an\\ninstant of intense heat in the flyer. \"We have passed the heaviside layer,\" said Jim. \"The brute has changed\\ndirection, and we felt that heat when he took us through the infra-red\\nwall.\" I reached again for the light switch, but before I could find it our\\nmotion ceased and an instant later the flyer was filled with glaring\\nsunlight. We both turned to the window. We lay on a glistening plain of bluish hue which stretched without a\\nbreak as far as we could see. Not a thing broke the monotony of our\\nvision. We turned to the opposite window. How can I describe the sight\\nwhich met our horrified gaze?',\n",
       " \"Health measures for space travel were\\nstrict. The hospital compartment had only been used those two times. *       *       *       *       *\\n\\nOn this voyage it had been used to contain an assortment of botanical\\nspecimens from a planet seventy light-years beyond Regulus. They were\\non their way to the botanical research laboratory on Cassim. As a\\nroutine precaution they'd been placed in the hospital, which could\\nbe fumigated when they were taken out. Now the doctor had piled them\\nin one side of the compartment, which he had divided in half with a\\ntransparent plastic sheet. He stayed in that side. Kathy occupied the\\nother. She had some flowering plants to look at and admire. They'd come from\\nthe air room and she was delighted with their coloring and beauty.\",\n",
       " 'Come on! We\\'ve got to get over there!\" \"Yes, sir,\" said Astro. As they started running toward the field, he\\nsearched the figures moving about in the distance for two familiar blue\\nuniforms. \"I don\\'t see Roger or Tom, sir,\" he said hesitantly. \"Do you\\nthink--?\" \"We\\'ll just have to wait and see,\" interrupted Strong grimly. \"Come on,\\nstep it up!\" As the two spacemen approached the smoking ruins of the underground\\ncradles, ammunition dumps, and repair shops, they passed groups of men\\ndigging into the rubble. In sharp contrast to the careful scrutiny they\\nhad received when they first arrived at the prison, no one noticed them\\nnow.',\n",
       " 'he asked after an interval. \"I\\'ve never known\\nyou so quiet before.\" \"I\\'m enjoying my happiness, Nick.\" \"Aren\\'t you usually happy?\" \"Of course, only these last two or three days, ever since our last\\ndate, I\\'ve been making myself miserable. I\\'ve been telling myself\\nfoolish things, impossible things, and it\\'s only now that I\\'ve thrown\\noff the blues. I\\'m happy, Dear!\" \"I\\'m glad you are,\" he said. His voice was strangely husky, and he\\nstared fixedly at the street rushing toward them. \"I\\'m glad you are,\"\\nhe repeated, a curious tensity in his tones.',\n",
       " '\"We\\'ll take the paper along all right,\" the plain-clothes man said. \"And you, too. We already have the court order you mention.\" \"Dukas,\" Granger said with a show of great patience, \"will you ever\\nrealize? We\\'re facing a soulless horror. We must be harsh if need be. But you should be glad to give your absolute co-operation. It\\'s your\\nduty. We have always felt that Prell is alive, somewhere. Twice he has\\nbeen part of disaster, even if unintentionally.',\n",
       " '\"We must soon decide\\nwhether it be God\\'s will that Christian princes join with the Tartars\\nand aid them in their war against the Saracens, or whether we should\\nforbid this alliance with pagans. We shall have a private audience later\\nthis week with the two ambassadors from Tartary. But today we ask your\\ncounsel. So that all may speak freely, we have expressly not invited the\\nTartar emissaries. We ask God to help us make a wise decision.\" He\\nintroduced Fra Tomasso d\\'Aquino. To Simon\\'s surprise, Pope Urban did not then ascend to his throne but\\ninstead came down, disappearing into the midst of his counselors. The\\ncardinals sat in their pews. The lesser dignitaries sat on smaller\\nchairs in rows facing the throne. When everyone was in place, Simon\\ncould see Pope Urban in a tall oaken chair at the foot of the steps.',\n",
       " 'Too many things could go wrong.\" \"Maybe. It\\'s a chance we\\'ve got to take.\" His own gaze was somber. They sat for awhile in stillness. Then she said, \"It all sounds very\\npretty. But--what are you, Dalgetty?\" \"Simon,\" he corrected. \"What are you?\" she repeated.',\n",
       " '\"I\\'ll\\nkill you if I have to. I\\'ll kill you, Ramsey, I mean it.\" Ramsey did not move. *       *       *       *       *\\n\\n\"So you knew about my father,\" Margot challenged him. \"Yeah. So what?\" \"And this shoal in hyper-space is a world, isn\\'t it?\" Ramsey nodded. \"I think so.\" \"O.K.',\n",
       " 'You have found the way out!\" screamed An-Tak. \"Oh, Luata! And now I am too weak to go. Take me with you! Take me\\nwith you!\" \"Shut up!\" admonished Bradley. \"You will have the whole flock of birds\\naround our heads in a minute, and neither of us will escape. Be quiet,\\nand I\\'ll go ahead.',\n",
       " 'After a second the plant caught fire and was a blazing\\nmass. While the Glassies were gazing in amazement at this unexpected display,\\nRobin drew in his breath, set his pack down, and gave a leap straight\\nupward with all his strength. He soared some thirty feet high and then gently floated down to the\\nground again. This was a feat that anyone with Earth muscles could do,\\nbut it was something that Lunar muscles had never been developed for. When the Glassies tore their eyes away from the burning tree it was to\\nfind Robin apparently vanished. Looking around, one of them discovered\\nhim in the air, floating gently back to the ground. With one accord the Glassies shrieked and ran away. When Robin hit the\\nground, he was alone with Korree--who looked as nearly smug as it was\\npossible for his unearthly features to look. The Earthling picked up his sack, whistled to Cheeky to come to him,\\nand started off again. In a few minutes, Korree led him to the tribal\\ncenter, the \"village\" of his people.',\n",
       " 'But he had come always by the\\nsurface route; he had heard of the existence of the secret tunnel, but\\nhad never before this night been able to find out where it was.] \"You stay here,\" I told Tina and Larry; \"I\\'ll go up there. I\\'ll get\\nhim now once and for all.\" *       *       *       *       *\\n\\nI reached the Power House roof. The storm tore at me. It was beginning\\nto rain. I was near the outer edge of the roof, and ten feet away\\nstood the oval tower. I saw windows twenty feet up, with dim lights in\\nthem. Mingled with the storm was the hiss of the transmitter in the\\ntop of the tower, and the roar of Tugh\\'s magnified voice. He had\\nevidently been there only a brief time.',\n",
       " '\"Hooks! No, you silly man. They\\'re for baiting the cage. He means to\\ntrap these transparent creatures in a cage baited with pie.\" She laughed scornfully; inserted the burned tip of her finger in her\\nmouth and stood looking at me defiantly like a flushed and bright-eyed\\nschool-girl. \"You think you\\'re teasing me,\" she said; \"but you do not realize what\\na singularly slow-minded young man you are.\" I stopped laughing. \"How did you come to the conclusion that pies were\\nto be used for such a purpose?\" I asked. \"I deduce,\" she observed, with an airy wave of her disengaged hand.',\n",
       " 'She smiled and nodded, glancing at the clock. \"It\\'ll be an hour and a\\nhalf yet. I\\'ll watch the time.\" \"I hate that clock. I wish you\\'d throw it out. It\\'s loud.\" \"It\\'s your medicine-clock, Donny.\" She came back to sit down at his\\nbedside again. She sat in silence. The clock filled the room with its\\nclicking pulse.',\n",
       " 'Harkaman gulped his drink and set down the empty glass. \"All right. You put out a general alert? Switch anything that comes\\nin over to this screen.\" He got out his pipe and was packing tobacco\\ninto it mechanically. \"They\\'ll be out of the last microjump and\\nabout two light-seconds away in a few minutes.\" Trask sat down again, saw that his cigarette had burned almost to\\nthe tip, and lit a fresh one from it, wishing he could be as calm\\nabout it as Harkaman. Three minutes later, the control tower picked\\nup two emergences at a light-second and a half, a thousand or so\\nmiles apart. Then the screen flickered, and Boake Valkanhayn was\\nlooking out of it, from the desk in the newly refurbished command\\nroom of the _Space Scourge_. He was a newly refurbished Boake Valkanhayn, too.',\n",
       " 'Some of the girls were\\ncutters, with knife scars on their forearms. Some of the boys looked\\nlike they\\'d been beaten up a few times too many on the streets, like\\nthey were spoiling for a fight. Alan tried to unfocus his eyes when he\\nwas in the front of Kurt\\'s shop, to not see any of them too closely. \"They work,\" Kurt said. He smelled terrible, a combination of garbage\\nand sweat, and he had the raccoon-eyed jitters he got when he stayed up\\nall night. \"I tested them twice.\" \"You built me a spare?\" Alan said, examining the neat lines of hot glue\\nthat gasketed the sturdy rubberized antennae in place, masking the\\nslightly melted edges left behind by the drill press. \"You don\\'t need a spare,\" Kurt said. Alan knew that when he got touchy\\nlike this, he had to be very careful or he\\'d blow up, but he wasn\\'t\\ngoing to do another demo Kurt\\'s way.',\n",
       " 'Yes! That must be it: this nightmare\\ncountry lies in a huge geographical fault--something like the Dead\\nSea.\" *       *       *       *       *\\n\\nMile after mile he could see fertile green land stretching away toward\\nsome low undulating hills on the horizon. Atlans was very thickly\\nsettled--that he recognized at once--for the terrain was divided and\\nsub-divided into a vast checker-board, such as he had seen in France\\nand Germany, while terraces, green with produce, had been laboriously\\ngouged out of the frowning mountain sides. Then his eye encountered the source of that curious amber light which\\npervaded the whole valley. A titanic flaming gas vent spouted like a\\ncyclopean torch from the peak of a nearby mountain. Its steady,\\nsubdued roar struck Nelson\\'s ear as he turned away his eyes, for the\\nglare was too intense to be long endured. Further down the valley were\\ntwo more such incandescent vents, shooting their flaming tongues\\nboldly into the sky, warming the air and casting that rich, amber\\nradiance over all. \"That is Mount Ossa nearest us,\" the Atlantean\\'s voice came as though\\nfrom a long distance. Victor Nelson was too staggered, too unspeakably\\namazed to register the fact of the Hero\\'s proximity.',\n",
       " 'All right,\" he said. \"I\\'ll come.\" He accepted the Earther\\'s card, looked at it mechanically, saw the\\nname--Kal Quinton--and pocketed it. \"Sure,\" he said. \"I\\'ll be there.\" The Earthers moved toward their little jetcar, smiling gratefully. As\\nRolf crossed the street, the other Spacers greeted him with cold,\\npuzzled stares. *       *       *       *       *\\n\\nKanaday was almost as tall as Rolf, and even uglier. Rolf\\'s eyebrows\\nwere bold and heavy; Kanaday\\'s, thick, contorted, bushy clumps of hair. Kanaday\\'s nose had been broken long before in some barroom brawl; his\\ncheekbones bulged; his face was strong and hard.',\n",
       " 'He\\'s been\\nworking on what amounts almost to the Coupler Theory for ten years. He\\'s\\nalmost got it, but you know intuitions of that caliber can\\'t be\\nscheduled. He might get it tomorrow--or never. I\\'d say push him over the\\nhump.\" \"Okay with me. We\\'ll take a vote--one blackball kills it. Brownie? Just\\nthe link, of course. A few hints, perhaps, at application, but no\\ntechnological data.\" \"I say give it to him.',\n",
       " \"He was\\nWaraxe's one claim to fame. But he wasn't a cowboy. He wasn't a fast\\ndraw. Collins put all of his weight behind his left fist and landed it on the\\npoint of Michaels' jaw, just the way he used to do when gangs of boys\\njumped onto him. [Illustration]\\n\\nMichaels sprawled out, spread-eagled. Then Collins wanted to take the revolver out of Ed's belt, and press it\\ninto Ed's hand, curling his fingers around the grip and over the\\ntrigger, and then he wanted to shake Ed awake, slap his face and shake\\nhim....\\n\\nCollins spun around, clawed open the door to the truck cab and threw\\nhimself behind the steering wheel. He stopped wanting to make Ed Michaels shoot him. He flipped the ignition switch, levered the floor shift and drove away. And he was going to drive on and on and on and on. And on and on and on.\",\n",
       " 'That would be a good second sentence for his story. \"You okay, Abby?\" Link said, looking concerned. Albert realized that\\nhe\\'d been on another planet for a moment there. \"Sorry, just fell down a rabbit hole,\" he said, flapping his arms\\ncomically. \"I was writing \" -- felt *good* to say that -- \"and I\\'m in a\\nbit of a, how you say, creative fog.\" Link took a step back. \"I don\\'t want to disturb you,\" he said. But for all that, she still approved his outfits before he left\\n\\tthe house, refusing to let him succumb to the ephemeral awful\\n\\ttrendiness of mesh-back caps and too-tight boy-scout jamboree\\n\\tshirts. Instead, she put him into slightly fitted cotton shirts\\n\\tthat emphasized his long lean belly and his broad shoulders.',\n",
       " '\"Which ought to prove,\" Van Emmon cut in to silence Smith, \"that\\nsuperiority is due to fire, rather than fire due to superiority, for the\\nsimple reason that a newborn child is very low in the scale of\\nevolution.\" Smith decided not to say what he intended to say. Van Emmon\\nconcluded:\\n\\n\"We\\'ve just got to give \\'em fire! What\\'s the first step?\" \"I propose,\" from the doctor, \"that when we get in touch this time we\\nconcentrate on the idea of fire. We\\'ve got to give them the notion\\nfirst.\" \"Would you rather,\" inquired Billie, \"that I kept the idea from\\nSupreme?\" \"Thanks,\" returned her husband, icily, \"but you might just as well tell\\nher, too. It\\'ll make her afraid in advance, all the better!\" The engineer threw himself back in his seat.',\n",
       " 'Malone, there are\\nterrible goings-on in London. For God\\'s sake, see if Professor\\nChallenger can suggest anything that can be done.\" \"He can suggest nothing, sir,\" I answered. \"He regards the crisis as\\nuniversal and inevitable. We have some oxygen here, but it can only\\ndefer our fate for a few hours.\" \"Oxygen!\" cried the agonized voice. \"There is no time to get any. The\\noffice has been a perfect pandemonium ever since you left in the morning. Now half of the staff are insensible.',\n",
       " 'Forrester waved at them, and\\nthen turned to a squad of Myrmidons standing nearby. \"Go to that man and his friends!\" he shouted, noticing that Symes\\'s\\nknees had begun to shake. The Myrmidons obeyed. \"See that they follow near me. Allow them to remain close to me at all\\ntimes--I may need a good stone-thrower later!\" Gerda, her brother and the oaf without a name were rounded up in a\\nhurry, and soon found themselves being hustled along, willy-nilly, out\\nof the water, up onto the bridge and into Dionysus\\' van, where they\\nfollowed in the wake of the God, in front of the rest of the Procession. Of the three, Forrester noted, Gerda was the only one who didn\\'t seem to\\nthink the invitation a high honor. The sight gave him a kind of hope. _And at least_, he thought, _I can keep an eye on her this way_.',\n",
       " \"But to kill her now, before learning how she planned to cross the\\nsupposedly impassable bridge, seemed as purposeless and impulsive as\\nIda herself. Roddie didn't think, in any case, that her death would\\nsatisfy the soldiers. With new and useful information to offer, he\\nmight join them as an equal at last. But if his dalliance with this\\nenemy seemed pointless, not even Molly's knitting needles could protect\\nhim. He was sure the soldiers must be tracking the mysterious emanations of\\nhis watch dial, and had trouble to keep from glancing over his shoulder\\nat every step. But arrival at the bridge approach ended the need for\\nthis self-restraint. Here, difficult going demanded full attention. *       *       *       *       *\\n\\nHe'd never gone as far as the bridge before, not having wanted to\\nlook as if he might be leaving the city. The approach was a jungle of\\nconcrete with an underbrush of reinforcing-steel that reached for the\\nunwary with rusted spines. Frequently they had to balance on cracked\\ngirders, and inch over roadless spots high off the ground.\",\n",
       " \"This one was officially denied\\nby the Altairan planetary government. But it was widely believed by the\\nsort of people who usually were well-informed. Those who could sent\\ntheir families up to the _Star Queen_. And that was why Jensen had been\\ntense and worried until the liner had actually left Altaira behind. Then he felt safe. Nordenfeld's jaw set as Jensen told his tale. He made no comment, but\\nwhen Jensen was through he nodded and went away, leaving his drink\\nunfinished. Jensen couldn't see his face; it was hard as granite. And Nordenfeld, the ship's doctor of the _Star Queen_, went into the\\nnearest bathroom and was violently sick. It was a reaction to what he'd\\njust learned.\",\n",
       " '\"It\\nstarted out as a psychiatric treatment!\" Babs\\' voice came from the side of the saloon where she sat at a\\nvision-tube and microphone. She was saying professionally:\\n\\n\"I assure you it\\'s true. We are linked to you by the Dabney field, in\\nwhich radiation travels much faster than light. When you were a little\\nboy didn\\'t you ever put a string between two tin cans, and then talk\\nalong the string?\" Cochrane stopped beside her scowling. She looked up. \"The press association men on Luna, Mr. Cochrane. They saw us take off,\\nand the radar verified that we traveled some hundred of thousands of\\nmiles, but then we simply vanished!',\n",
       " 'If I had stumbled upon the grave of one of the party, was it not\\nwithin reason to believe that the bones of the others lay scattered\\nsomewhere near? Chapter 9\\n\\nAs I stood looking down upon that sad and lonely mound, wrapped in the\\nmost dismal of reflections and premonitions, I was suddenly seized from\\nbehind and thrown to earth. As I fell, a warm body fell on top of me,\\nand hands grasped my arms and legs. When I could look up, I saw a\\nnumber of giant figures pinioning me down, while others stood about\\nsurveying me. Here again was a new type of man--a higher type than the\\nprimitive tribe I had just quitted. They were a taller people, too,\\nwith better-shaped skulls and more intelligent faces. There were less\\nof the ape characteristics about their features, and less of the\\nnegroid, too. They carried weapons, stone-shod spears, stone knives,\\nand hatchets--and they wore ornaments and breech-cloths--the former of\\nfeathers worn in their hair and the latter made of a single snake-skin\\ncured with the head on, the head depending to their knees. Of course I did not take in all these details upon the instant of my\\ncapture, for I was busy with other matters. Three of the warriors were\\nsitting upon me, trying to hold me down by main strength and\\nawkwardness, and they were having their hands full in the doing, I can\\ntell you.',\n",
       " '\"Vidac,\" said Strong coldly, \"I want you to know right now that I don\\'t\\nlike this setup. There are many things cadets might be, but they are not\\nkidnappers or murderers!\" \"I intend to prove otherwise!\" asserted Vidac. \"I figured you would,\" said Strong, \"but you still have to produce\\nProfessor Sykes\\'s body.\" \"Don\\'t worry, Captain.\" Vidac smiled. \"My men are searching for it now. We\\'ll find it.\" \"When you do, Vidac,\" said Strong grimly, \"and he happens to be alive,\\nmake sure he stays that way, eh?\"',\n",
       " \"Iron, sure, the whole desert's filthy with it, but if\\nthere is anything higher on the periodic table than the rare earths,\\nnobody had found it yet--and this guy with his light clothes, street\\nboots and low capacity respirator--Hell! he couldn't stay out there\\nmore than two days if he wanted to--and besides, the gold was refined. The lumps looked like they were cut off something bigger--a bar, for\\ninstance. *       *       *       *       *\\n\\nA bar!--a bar of gold! My brain started working. K'nar was about two\\ndays out, and there had always been rumors about Martian gold even\\nthough no one ever found any. Maybe this tourist had come through. If\\nso, he was worth cultivating. For he was a tourist. He certainly\\nwasn't a citizen.\",\n",
       " 'Once one of\\nthe little children was caught in a whirling eddy of red dust, and its\\nmother rushed into the deadly stuff to seize it and bring it out. Then\\nthe tribe had to hide for three days while the two of them recovered\\nfrom the debilitating poison. Once, too, they found a half-acre patch of the giant cabbages--there\\nwere six of them full grown, and a dozen or more smaller ones--and Burl\\ntook two men and speared two of the huge, twelve-foot slugs that fed\\nupon the leaves. When the tribe passed on it was gorged on the fat meat\\nof the slugs, and there was much soft fur, so that all the tribefolk\\nwore loin-cloths of the yellow stuff. There were perils, too, in the journey. On the fourth day of the tribe\\'s\\ntraveling, Burl froze suddenly into stillness. One of the hairy\\ntarantulas--a trap-door spider with a black belly--had fallen upon a\\nscarabæus beetle, and was devouring it only a hundred yards ahead. The tribefolk, trembling, went back for half a mile or more in\\npanic-stricken silence, and refused to advance until he had led them a\\ndetour of two or three miles to one side of the dangerous spot. Long, fear-ridden marches through perilous countries unknown to them,\\nthrough the golden aisles of yellow mushroom forests, over the flaking\\nsurfaces of plains covered with many-colored \"rusts\" and molds; pauses\\nbeside turbid pools whose waters were concealed by thick layers of green\\nslime, and other evil-smelling ponds which foamed and bubbled slowly,\\nwhich were covered with pasty yeasts that rose in strange forms of\\ndiscolored foam. Fleeting glimpses they had of the glistening spokes of symmetrical\\nspiders\\'-webs, whose least thread it would have been beyond the power of\\nthe strongest of the tribe to break.',\n",
       " 'Three minutes late.\" \"I\\'ve come in response to your ad.\" \"I know. You look old.\" \"I am over twenty-six. Do you mind?\" \"Not if you don\\'t, Mr. Smith. Let me look at you. Umm, you seem the\\nright height, the right build.\"',\n",
       " 'Pell said, \"You touch me, brother, and I\\'ll make your face look like\\nBaldy\\'s.\" Red glanced at Baldy and seemed to sigh. Abruptly he whirled, jumped at\\nPell and brought a sizzling right hand punch through the air. Pell\\nducked it. He saw Baldy move in as he did so, and a painful blow struck\\nthe back of his neck. His teeth rattled when it struck. Something caught\\nhim under the chin, straightened him. When he was straight a pile driver\\nstruck him in the midsection. It was all over within a matter of seconds. Under different\\ncircumstances Pell might have found time to admire their technique.',\n",
       " \"The method was useful, but it had led to some dangerous mistakes. Sight\\nand sound got across, but often the atmosphere of the place didn't. Dan\\nthought it might be the same here. The feeling that the city gave him didn't match what his reasoning told\\nhim. He crossed a street, passed an inscription on a building:\\n\\n     Freedom\\n    Devisement\\n    Fraternity\\n\\nThen he was back in a twisting maze of streets. He walked till the wind\\nfrom the sea blew in his face. The street dipped to a massive wall and the sea, where a few brightly\\ncolored, slow-moving trawlers were going out. Dan turned in another\\nstreet and wound back and forth till he came out along the ocean front. On one side of the street was the ocean, a broad strip of sand, and\\nthe sea wall. On the other side was a row of small shops, brightly\\nawninged, with displays just being set in place out in front.\",\n",
       " 'A tiny rain had begun\\nto fall hesitantly--as if afraid of striking the sun-hardened ground. _Somewhere out there, somewhere hunted, but not found, the plumbers\\ngathered. There had been a man--what was his name? Masser--that was it. He had been working on a way to inhibit radioactivity--speed up the\\nhalf-life until they had taken the grant away. If a man can do whatever\\nhe thinks of--can he undo that which he has done?_\\n\\n_Masser was the theoreticist--I was the applier, the one who translated\\nequations into cold blueprints. And I was good until they ..._\\n\\nThey had hounded him back to the land when he quit. Others had not been\\nso lucky. When a whole people panic then an object for their hate must\\nbe found. A naming.',\n",
       " 'The other plainclothesman came up to Sergeant Ketzel and Bending as they\\nentered. \"Pretty easy to see what happened,\" he said. \"Come on over and\\ntake a look.\" He led them over to the wall where the Converter had been\\nhidden. \"See,\" he said, \"here\\'s your main power line coming in here. It\\'s been\\nburned off. They shut off the power to cut off the burglar alarm to\\nthat safe over there.\" Ketzel shook his head slowly, but said nothing for the moment. He looked\\nat Bending. \"Has the safe been robbed?\"',\n",
       " 'Baba nudged Johnny and pointed. \"Here comes Keetack,\" he said in his clicking language. \"We\\'ll have to\\ngo down pretty soon.\" \"I suppose so,\" Johnny said wearily. It had been fun for a while being the only person who understood the\\nmarva language. When Dad and the other colonists had gone into the\\njungle to talk with the council of all the marva groves, Johnny and\\nBaba had been there too--the center of attention. When the men spoke,\\nBaba told the marva what they meant. When the marva spoke, Johnny\\nhad to tell the men what the bears meant. It had been fun being so\\nimportant. It had been fun being treated like heroes, but they were\\nalready tired of it.',\n",
       " 'My wife and I, we have other plans.\" \"If it\\'s money, young fellow, I\\'ll stake you, and you can have a year to\\npay me back.\" Tom grinned. \"You\\'re very generous. But what makes you so sure you\\'d be\\nthe winner?\" \"I always win. Will you join the game, Miss Taganova?\" He accepted her silent head-shake without protest. \"Then I\\'ll try to round up two or three others. We don\\'t want a big\\ncrowd--too many people make me nervous.',\n",
       " 'He knew that there was not\\nenough time for him to jump into the truck and pull the brake. There\\nwas only one thing he could do. Regaining his senses, Connel tried to crawl to safety, but there was no\\ntime. He braced himself for what he knew would be instant death, and\\nthen to his amazement he saw Tom\\'s jet car swerve sharply in front of\\nthe runaway truck. [Illustration: _Tom swerved the jet car in front of the runaway truck_]\\n\\nThere was a wrenching crash of metal, a shrill scream of skidding tires,\\nclimaxed by a thunderous roar. After that, deathly silence. For a second Connel stood frozen in horror, staring at the overturned\\ntruck and the tangle of twisted metal that was the jet car. Then he\\nlunged forward with a frantic cry. \"Corbett! Corbett!\"',\n",
       " 'It is true that they were a\\nhalf-naked, wild-appearing aggregation; but they at least were\\nfashioned along the same lines as ourselves--there was nothing\\ngrotesque or horrible about them as about the other creatures in this\\nstrange, weird world. But as we came closer, our hearts sank once more, for we discovered\\nthat the poor wretches were chained neck to neck in a long line, and\\nthat the gorilla-men were their guards. With little ceremony Perry and\\nI were chained at the end of the line, and without further ado the\\ninterrupted march was resumed. Up to this time the excitement had kept us both up; but now the\\ntiresome monotony of the long march across the sun-baked plain brought\\non all the agonies consequent to a long-denied sleep. On and on we\\nstumbled beneath that hateful noonday sun. If we fell we were prodded\\nwith a sharp point. Our companions in chains did not stumble. They\\nstrode along proudly erect. Occasionally they would exchange words\\nwith one another in a monosyllabic language. They were a\\nnoble-appearing race with well-formed heads and perfect physiques.',\n",
       " '\"Fine,\" he said gaily. \"Let us go in the\\nflitter, whatever that is. I am already bored with starships.\" He felt good, very good. He felt a little drunk, not enough to impede\\nhis mental processes but enough to give him a fine devil-may-care\\nindifference to what happened next. So it was only the spray Paula had\\ngiven him--it still made his body feel better and removed his shock and\\nworry and made everything seem suddenly rather amusing. \"Let us to Sako in the flitter,\" he said. \"After all, I\\'m living on\\nvelvet, I might as well see the whole show. I\\'m sure that Sako, wherever\\nit is, will be just as full of human folly as Earth was.\" \"He\\'s euphoric,\" Paula said again, but her face was stricken.',\n",
       " '\"_Paul, I do want to believe you, but isn\\'t this\\na_ ever it is of basic interest to know that there was a civilized\\n_rather short distance as interstellar distances go? Three light_\\nculture in the galaxy other than Solarium Humankind. Doubt- _months is\\nnot anywhere near as far as several light years_.\" less as the galaxy\\nis explored, other cultures and civilizations \"_But this is just the\\nbeginning! Can I bring you the rest?_\" will be discovered. It is more\\nthan likely that other civiliza- \"_Do that, my dear and you will have\\nforever proven your_ tions will be found which are still thriving. In\\nfact it is not _place_.\" \"_With you?_\" \"_With me? No, Paul, I mean with\\nthe_ unlikely that our technical perfection may be overshadowed _worlds\\nof science and men. You should know your place with_ by some greater\\nculture whose history of development may _me_.\"',\n",
       " 'Like Mitch Storey had once\\ndone, they all started hydroponic gardens inside their bubbs. In the\\npleasant, steamy sun-warmth of those stellene interiors, they bounced\\nback and forth from elastic wall to elastic wall, with gravity\\ntemporarily at zero because they had stopped the spin of their bubbs. Thus they loosened their muscles, worked up a sweat. Afterwards they\\ndozed, slept, listened to beamed radio music or taped recordings of\\ntheir own. They smiled at pin-up pictures, read microfilmed books\\nthrough a viewer, looked at the growing plants around them. There was an arrogance in them, because they had succeeded in bringing\\nso much of home out here. There was even a mood like that of a lost,\\nlanguid beach in the tropics. And how was that possible, with only a\\nthin skin of stellene between them and frigid nothing? Ramos said just about what he had said--long ago, it seemed, now. \"Nuts--the Big Vacuum ain\\'t so tough.\"',\n",
       " 'He gripped me. \"That never went wrong by accident, Gregg! Someone down\\nthere--\"\\n\\n       *       *       *       *       *\\n\\nWe rushed to the nearest descending ladder. In the deserted lower room\\nthe bank of dials stood neglected. A score of dials and switches were\\nhere, governing the magnetism of different areas of the ship. There\\nshould have been a night operator, but he was gone. Then we saw him lying nearby, sprawled face down on the floor! In the\\nsilence and dim lurid glow of the fluorescent tubes, we stood holding\\nour breaths, peering and listening. No one here. The guard was not dead.',\n",
       " 'Don\\'t chew my ears off. I\\'ll ship it to you posthaste,\\nman. Ease up. Pop a pill. You aren\\'t loose, Roy.\" \"I can\\'t afford to be,\" Walton said. He broke contact and almost instantly the next call blossomed on the\\nscreen. Walton recognized the man as one of the technicians from\\ncommunications, floor twenty-three. \"Well?\" \"We heard from McLeod again, sir.',\n",
       " 'So also will I. I am for\\nReaction--unstinted and fearless Reaction. Unless you mean to take this\\nFood also, what else is there to do in all the world? We have trifled in\\nthe middle ways too long. You! Trifling in the middle ways is your\\nhabit, your circle of existence, your space and time. So, not I! I am\\nagainst the Food, with all my strength and purpose against the Food.\" He turned on his companion\\'s grunt of dissent. \"Where are you?\" \"It\\'s a complicated business---\"\\n\\n\"Oh!--Driftwood!\"',\n",
       " '\"And meanwhile,\" she replied, stopping at the top of the stairs and\\nlooking round, \"I\\'ll go down and get lunch. You and I may be king and\\nqueen of the realms of Space, and all that sort of thing, but we\\'ve got\\nto eat and drink, after all.\" \"And that reminds me,\" said Redgrave, getting up and following her, \"we\\nmust celebrate our arrival on a new world as usual. I\\'ll go down and get\\nout the wine. I shouldn\\'t be surprised if we found the people of the\\nLove-World living on nectar and ambrosia, and as fizz is our nearest\\napproach to nectar----\"\\n\\n\"I suppose,\" said Zaidie, as she gathered up her skirts and stepped\\ndaintily down the companion stairs, \"if you find anything human, or at\\nleast human enough to eat and drink, you\\'ll have a party and give them\\nchampagne. I wonder what those wretches on Mars would have thought of it\\nif we\\'d only made friends with them?\" Lunch on board the _Astronef_ was about the pleasantest meal of the day. Of course, there was neither day nor night, in the ordinary sense of the\\nword, except as the hours were measured off by the chronometers. Whichever side or end of the vessel received the direct rays of the sun,\\nwas bathed in blazing heat and dazzling light. Elsewhere there was black\\ndarkness and the more than icy cold of Space; but lunch was a convenient\\ndivision of the waking hours, which began with a stroll on the upper\\ndeck and a view of the ever-varying splendours about them, and ended\\nafter dinner in the same place with coffee and cigarettes and\\nspeculations as to the next day\\'s happenings.',\n",
       " 'Later, when he had finished the steak and corn on the cob and shredded\\ncarrots, and a feeling of warm well-being was diffusing from his\\nstomach to his extremities, he sat down on the bed to watch the sunset\\nand to think. There were three questions for which he required answers before he\\ncould formulate any plan or policy. Where was he? Who was Swarts? What was the purpose of the \"tests\" he was being given? It was possible, of course, that this was all an elaborate scheme\\nfor getting military secrets, despite Swarts\\' protestations to the\\ncontrary. Maitland frowned. This place certainly didn\\'t have the\\nappearance of a military establishment, and so far there had been\\nnothing to suggest the kind of interrogation to be expected from\\nforeign intelligence officers. It might be better to tackle the first question first. He looked at\\nthe Sun, a red spheroid already half below the horizon, and tried to\\nthink of a region that had this kind of terrain.',\n",
       " 'Pat made no answer; his voice croaked in more insistent tones. \"Are you\\nmine?\" She could not reply. She felt his fingers bite into the flesh of her\\nshoulder. She was shaken roughly, violently, and the question came\\nagain, fiercely. The eyes flamed in command, and she felt through\\nher languor and weakness, the stirring of that strange and unholy\\nfascination that he held over her. \"Answer!\" he croaked. \"Are you mine?\" The torture of his searing grip on her shoulder wrung an answer from\\nher.',\n",
       " \"hospital. Wearing a sterility-suit, I\\nattended her examination, which was conducted by my chief-of-service,\\nthe staff pathologist, as well as the hospital's internist and\\nneurologist. I took a few cc's of Mary's cerebrospinal fluid back\\nwith me to the BICUSPID contaminated labs. There, to anticipate a few\\ndays' deliberate bacterial growth in media, her meningoencephalitis\\nwas discovered to have been caused by _Erysipelothrix monocytogenes_,\\nan organism whose more usual victims are rabbits. Mary's husband could\\nexplain her coming in contact with so exotic a pathogen only by the\\nfact that they'd visited the Brookfield Zoo on the second, and last,\\nday of their honeymoon. By the time these technical details were known they were academic. The\\nepidemiological problem had become secondary to the pathological. Mary\\nLofting had died. I was asked to assist Dr. McQueen and the senior pathologist at\\nautopsy--I was, after all, a resident in pathology, and had besides a\\nspecial interest in this case--but I found the job more than I could\\ntake.\",\n",
       " 'That\\'s another mark of the barbarian.\" *       *       *       *       *\\n\\nBefore he had left Marduk, Admiral Shefter had ordered a ship to\\nGimli to check on the _Honest Horris_; a few men and a pinnace would\\nbe left behind to contact any ship from Tanith. He sent Boake\\nValkanhayn off in the _Space Scourge_. Lionel of Newhaven\\'s _Blue Comet_ came in from Gram with a cargo of\\ngeneral merchandise. Her captain wanted fissionables and gadolinium;\\nCount Lionel was building more ships. There was a rumor that Omfray\\nof Glaspyth was laying claim to the throne of Gram, in the right\\nof his great-grandmother\\'s sister, who had been married to the\\ngreat-grandfather of Duke Angus. It was a completely trivial and\\nirrelevant claim, but the story was that it would be supported\\nby King Konrad of Haulteclere. [Illustration]\\n\\nImmediately, Baron Rathmore, Lord Valpry, Lothar Ffayle and the other\\nGram people began clamoring that he should go back with a fleet and\\nseize the throne for himself. Harkaman, Valkanhayn, Karffard and the\\nother Space Vikings were as vehement against it. Harkaman had the\\nloss of the other _Corisande_ on Durendal to remember, and the others\\nwanted no part in Sword-World squabbles, and there was renewed\\nagitation that he should start calling himself King of Tanith.',\n",
       " 'Retief turned at the sound of Terran voices behind him. The ambassador\\ncame up, trailed by two diplomats. He glanced at Retief, adjusted his\\nruff and looked into the banquet hall. \"Apparently we\\'re to be kept waiting again,\" he muttered. \"After having\\nbeen informed at the outset that the Yill have no intention of yielding\\nan inch, one almost wonders....\"\\n\\n\"Mr. Ambassador,\" Retief said. \"Have you noticed----\"\\n\\n\"However,\" Ambassador Spradley said, eyeing Retief, \"a seasoned\\ndiplomatist must take these little snubs in stride. In the end---- Ah,\\nthere, Magnan.\" He turned away, talking. Somewhere a gong clanged.',\n",
       " 'Anyway, a Gypsy has--somewhere along the\\nline--learned how to do things. They\\'ll take an emergency call about once a\\nyear--if they happen to feel like it. Then they charge about half a million\\ncredits.\" \"You mean they have an organization, standard rates and--\"\\n\\n\"Heavens no!\" the navigator said. \"They hate anything that smells like\\norganization. They don\\'t even specialize in any certain kind of work. One\\nyear they\\'ll be fascinated by sub-nucleonics, the next by horse racing. Very erratic. Can\\'t keep attention on any one thing.',\n",
       " '\"I\\ndon\\'t feel like eating, either, but I never realized until this minute\\njust how much this has taken out of me and I\\'d better start putting it\\nback in.... She did a wonderful job, Clee, even if she couldn\\'t take it\\nfull shift toward the last.\" \"I\\'ll say she did. I hated like the devil to let her work that way, but\\n... you knew I was scared witless every second until we topped off.\" Exhausted and haggard as she was, Belle laughed. \"I know damn-blasted\\nwell you weren\\'t; but I know what you mean. Fighting something you don\\'t\\nknow anything about, and can\\'t guess what may happen next, is tough. Seconds count.\" Side by side, they strolled toward the alcove. \"I simply didn\\'t think she had it in her,\" Belle marveled. \"She didn\\'t.',\n",
       " 'While the officers and crew and passengers of the _Deutschland_ were\\nstaring wide-eyed and open-mouthed at the graceful glittering shape of\\nthe _Astronef_, Redgrave touched the first button in the second row\\nonce, moved the 100-degree wheel on a few degrees, and then gave the\\nother a quarter turn. Then he closed the window slide, and the next\\nmoment Zaidie saw the great liner sink down beneath them in a curious\\ntwisting sort of way. She seemed to stop still and then spin round on\\nher centre, getting smaller and smaller every moment. \"What\\'s the matter, Lenox?\" she said, with a little gasp. \"What\\'s the\\n_Deutschland_ doing? She seems to be spinning round on her own axis like\\na top.\" \"That\\'s only the point of view, dear. She\\'s just plugging along straight\\non her way to New York, and we\\'ve been making rings round her and going\\nup all the time. But of course you don\\'t notice the motion here any more\\nthan you would if you were in a balloon.\"',\n",
       " \"In the past year, he had sent\\nthe most intelligent of them off to Gram to school. In another\\nfive years, they'd be coming home to teach; in the meantime, he\\nwas bringing teachers to Tanith from Gram. There was a school\\nat Tradetown, and others in some of the larger villages, and\\nat Rivington there was something that could almost be called a\\ncollege. In another ten years or so, Tanith would be able to\\npretend to the status of civilization. *       *       *       *       *\\n\\nIf only Andray Dunnan and his ships didn't come too soon. They would\\nbe beaten off, he was confident of that; but the damage Tanith would\\ntake, in the defense, would set back his work for years. He knew all\\ntoo well what Space Viking ships could do to a planet. He'd have to\\nfind Dunnan's base, smash it, destroy his ships, kill the man\\nhimself, first. Not to avenge that murder six years ago on Gram;\\nthat was long ago and far away, and Elaine was vanished, and so was\\nthe Lucas Trask who had loved and lost her. What mattered now was\\nplanting and nurturing civilization on Tanith.\",\n",
       " '\"We have simply dispensed with\\nthem. Their functions are obsolete in the modern world.\" \"Who sells you things when you want to buy them?\" I inquired. \"There is neither selling nor buying nowadays; the distribution of\\ngoods is effected in another way. As to the bankers, having no money we\\nhave no use for those gentry.\" \"Miss Leete,\" said I, turning to Edith, \"I am afraid that your father\\nis making sport of me. I don\\'t blame him, for the temptation my\\ninnocence offers must be extraordinary. But, really, there are limits\\nto my credulity as to possible alterations in the social system.\" \"Father has no idea of jesting, I am sure,\" she replied, with a\\nreassuring smile.',\n",
       " 'Perry had made a sudden sidewise movement as\\nHandlon went into action. \"Much obliged, Professor,\" said Perry politely. \"Your pose with that old\\ncannon is going to be very effective from the front page. The write-up\\nwill doubtless be interesting too. Probably the story won\\'t be quite so\\naccurate as it would be had you told it to us yourself; but we shall get\\nas many of the details from the natives hereabouts as we can. Good-day\\nto you, sir!\" Motioning to the other he turned on his heel and started down the\\ndriveway. It was an old trick, and for a long moment of suspense he\\nalmost feared that it would fail. Another moment--\\n\\n\"Wait!\" The quavering voice of the irascible old villain had lost some\\nof its malice.',\n",
       " \"She tasted like pepper, and her\\nhair smelled of the abstruse polymers that kept it hanging in a brusque bob that\\nbrushed her firm, long jawline. I'm getting a sunburn, and the pebbles on the roof are digging into my ass. I\\ndon't know if I'm going to push the pencil or not, but if I do, it's going to be\\nsomewhere more comfortable than this roof. Except that the roof door, which I had wedged open before I snuck away from my\\nattendants and slunk up the firecode-mandated stairwell, is locked. The small\\ncairn of pebbles that I created in front of it has been strewn apart. It is\\nlocked tight. And me without my comm. Ah, me. I take an inventory of my person:\\na pencil, a hospital gown, a pair of boxer shorts and a head full of bad cess. I\\nam 450' above the summery, muggy, verdant Massachusetts countryside.\",\n",
       " 'When Derec arrived, he\\'d been\\nincredulously comparing the treatment he\\'d received and the panic about\\nhim, with the charges made against him in court. They didn\\'t add up. This new, previously undisclosed item left him speechless. He goggled at\\nDerec, who fairly wept. \"Don\\'t you see?\" asked Derec pleadingly. \"That\\'s why I had to tell the\\npolice it was you. We can\\'t have deathrays! The police can\\'t let anybody\\ngo free who knows how to make them! This is a wonderful world, but there\\nare lots of crackpots.',\n",
       " 'What bear meat the wolves had not destroyed the water now washed away. The party had only that which Andy had smoked over the fire. But this\\nwas easily carried and their packs were not heavy when they prepared\\nto leave the camp as soon after sunset as the frost would allow. The terrific change from the heat of midsummer to the cold of midwinter,\\nand all within something near twenty-four hours, was hard indeed to\\nbear. The professor calculated that the drop in temperature from high\\nnoon was, two hours after sunset, exactly seventy degrees Fahrenheit. \"Human life will become extinct upon this fragmentary planet, if nothing\\nfurther happens to it, in a very few years,\" he said, thoughtfully. \"We are not attuned to such frightful changes.\" They had eaten, and had packed their supplies. The earth had long since\\nappeared again and the radiance she reflected fell softly upon the\\nice-field. It glistened like silver, stretching, miles and miles away\\nbefore them when they climbed down from the fringe of trees in which\\nthey had encamped, and set out down the glacier.',\n",
       " 'Tell me, are you human, or are you more than human?\" \"It is a strange tale,\" I replied, \"too long to attempt to tell you\\nnow, and one which I so much doubt the credibility of myself that I\\nfear to hope that others will believe it. Suffice it, for the present,\\nthat I am your friend, and, so far as our captors will permit, your\\nprotector and your servant.\" \"Then you too are a prisoner? But why, then, those arms and the\\nregalia of a Tharkian chieftain? What is your name? Where your\\ncountry?\" \"Yes, Dejah Thoris, I too am a prisoner; my name is John Carter, and I\\nclaim Virginia, one of the United States of America, Earth, as my home;\\nbut why I am permitted to wear arms I do not know, nor was I aware that\\nmy regalia was that of a chieftain.\" We were interrupted at this juncture by the approach of one of the\\nwarriors, bearing arms, accoutrements and ornaments, and in a flash one\\nof her questions was answered and a puzzle cleared up for me. I saw\\nthat the body of my dead antagonist had been stripped, and I read in\\nthe menacing yet respectful attitude of the warrior who had brought me\\nthese trophies of the kill the same demeanor as that evinced by the\\nother who had brought me my original equipment, and now for the first\\ntime I realized that my blow, on the occasion of my first battle in the\\naudience chamber had resulted in the death of my adversary.',\n",
       " \"No\\none moved. No gun fired at him, no danger threatened. He _was_ free; he took a step, turned, shook his head and proved it. He was free and, in a moment, realized that he was in the building with\\nthe fat bloated body of the man who wanted to murder him, the body that\\nin its own strength could scarcely stand erect. It was suicide to attempt to harm an exec. He would certainly lose his\\nlife--except--that was gone already anyhow; he had lost it. He had\\nnothing left to lose. XIV\\n\\n\\nChandler loped silently up the stairs to Koitska's suite. Halfway up he tripped and sprawled, half stunning himself against the\\nstair rail. It had not been his own clumsiness, he was sure.\",\n",
       " 'His past life is\\nalways present to him; everything that we are forbidden he regrets. His head is full of old recollections. And we must understand him. What has he to do here? Nothing; he is not learned like you, sir; and\\nhas not the same taste for the beauties of the sea that we have. He\\nwould risk everything to be able to go once more into a tavern in his\\nown country.\" Certainly the monotony on board must seem intolerable to the Canadian,\\naccustomed as he was to a life of liberty and activity. Events were\\nrare which could rouse him to any show of spirit; but that day an event\\ndid happen which recalled the bright days of the harpooner. About\\neleven in the morning, being on the surface of the ocean, the Nautilus\\nfell in with a troop of whales--an encounter which did not astonish me,\\nknowing that these creatures, hunted to death, had taken refuge in high\\nlatitudes. We were seated on the platform, with a quiet sea.',\n",
       " 'Walters took the message and read it quickly. He grunted and handed it\\nto Strong. \"They\\'ve found the mine and the leak,\" he said. \"The screens\\nare working again.\" \"Then you\\'ll call off the evacuation operations, sir?\" asked Strong. \"Right.\" Walters turned to Sid. \"Son, send a message back to Titan\\ncontrol and tell Captain Howard to stop all evacuations as soon as he\\nhas enough oxygen to provide for the citizens of Titan. And then stand\\nby for a general order to all units in this area.\"',\n",
       " 'There was only Miko. We could arrest him for the murder of Anita. But\\nif we did that now, the others would be put on their guard. It was\\nCarter\\'s idea to let Miko remain at liberty for a time and see if we\\ncould identify and incriminate his fellows. The murder of Anita\\nobviously had nothing to do with any plot against Grantline Moon\\ntreasure. \"Why,\" exclaimed Balch, \"there might be--probably are--huge Martian\\ninterests concerned in this thing. These men aboard are only\\nemissaries, making this voyage to learn what they can. When they get\\nto Ferrok-Shahn, they\\'ll make their report, and then we\\'ll have a real\\ndanger on our hands. Why, an outlaw ship could be launched from\\nFerrok-Shahn that would beat us back to the Moon--and Grantline is\\nentirely without warning of any danger!\" It seemed obvious.',\n",
       " \"That was probably what set his thoughts wandering. But strange that they\\nshould always wander to those blind spots in his mental vision so\\nintriguing because he knew there was something there that he could not\\nlay a finger on. The first of these blind spots hovered somewhere between Scriven's words\\nand Scriven's deeds; between The Brain as an ideal of science and The\\nBrain's reality as in instrument of national defense. Somehow the two\\ndidn't connect; there was a break, some layer of thin ice, a danger zone\\nwhich nobody seemed willing to discuss or tread, not even Oona Dahlborg. Oona; she was that other white spot on Lee's mental map and to him it\\nwas much bigger and more dangerous than the first. He loved her as can\\nonly a man who discovers loves secret with greying hair and after the\\nloneliness of a desert hermit. He understood, or thought he understood,\\nthat because he had failed to live his life to the full in its proper\\ntime, this love had come to him as a belated nemesis. His brain knew\\nthat it was hopeless; every morning when he shaved, his mirror told him\\nvery plainly one big reason why. But then, as the brain told the heart\\nin unmistakable terms what was the matter, the heart talked back to the\\nbrain to the effect that the brain didn't know what it was talking\\nabout. It was a new thing and a painful thing for Lee to discover that\\nhe knew very little about himself and less about the girl.\",\n",
       " 'You were right, it is\\nnot interesting.\" His expression was one of supreme amusement. \"What is it, what is the matter with you, anyway?\" \"Nothing,\" I answered, my throat aching. \"Nothing? Shall I tell you what is the matter with you?\" I looked at him with an expression of supplication. \"Idiot,\" he found it necessary to repeat once more. Night fell quickly. Only the southern slope of Wadi Mia was still\\nyellow.',\n",
       " 'Only\\nnow, the Ancients don\\'t want to help the rebel cause, so Clatclit was\\ninstructed to get that thing from them at all costs. He did. You know\\nthe cost.\" Snow shuddered. \"All those men--poof! Just like that!\" \"Honey, this is war,\" I sighed sadly. \"And you and I are the key\\nfigures in it, whether we like it or not.\" \"I think I\\'m all clear except on the one point: Why did the boys leave\\nthe _Phobos II_ willingly?\" \"Male children, especially that brother of yours, love intrigue and\\nadventure and secret codes.',\n",
       " 'I\\'d wind up in the gas chamber so quick--\"\\n\\n\"See here, Mr. Prantera,\" Brett-James said softly. \"We no longer have\\ncapital punishment, you must realize.\" \"O.K. I still don\\'t wanta get caught. What _is_ the rap these days,\\nhuh?\" Joe scowled. \"You said they didn\\'t have no jails any more.\" \"This is difficult for you to understand, I imagine,\" Reston-Farrell\\ntold him, \"but, you see, we no longer punish people in this era.\" That took a long, unbelieving moment to sink in.',\n",
       " 'That\\'s not the same\\nas saying we were doing it. Besides, it\\'s something else, Red.\" But Red had not used up his grievances. \"And where did you go anyway? I\\nthought you were coming to the house. They acted like it was my fault\\nyou weren\\'t there.\" \"But I\\'m trying to tell you about that, if you\\'d only shut _up_ a second\\nand let me talk. You don\\'t give a fellow a chance.\" \"Well, go on and tell me if you\\'ve got so much to say.\" \"I\\'m _trying_ to.',\n",
       " '\"It cannot last\\nlonger.\" It was to cease very soon. One week after the scene of the photograph the courier arrived. I had\\nscarcely glanced at the index of the _Zeitschrift_, the German review\\nof which I have already spoken, when I started with uncontrollable\\namazement. I had just read: _\"Reise und Entdeckungen zwei\\nfronzosischer offiziere, Rittmeisters Morhange und Oberleutnants de\\nSaint-Avit, in westlichen Sahara. \"_\\n\\nAt the same time I heard my comrade\\'s voice. \"Anything interesting in this number?\" \"No,\" I answered carelessly. \"Let\\'s see.\" I obeyed; what else was there to do?',\n",
       " 'Bruce\\nGordon looked at the debacle left behind the drunken, looting mob. Most\\nof the barricades were down. Here and there, a few citizens were rushing\\nabout trying to restore them, keeping wary eyes on the mobsters who had\\npassed out on the streets. Suddenly a siren blasted out in sharp bursts, and the lieutenant jumped. \"Come on, you gees. I gotta be back in half an hour.\" They piled inside, and the little electric car took off at its top\\nspeed. But now the quietness had been broken. There were trucks coming\\nout of the plastics plant, and mobsters were gathering up their drunks,\\nand chasing the citizens back into their houses. Some of them were\\nwearing the forbidden guns, but it wouldn\\'t matter on a day when no\\npolice were on duty.',\n",
       " 'He set the four-foot tube in the center of the\\nquadrilateral formed by the pitons and braced it in position by\\nattaching lines to the eyes on a detachable collar that encircled the\\ndrill. Once the drill started working, it wouldn\\'t need bracing, but\\nuntil it did, it had to be held down. All the time he worked, he kept his eyes on his lines and on his ship. The planetoid was turning under him, which made the ship appear to be\\ncircling slowly around his worksite. He had to make sure that his lines\\ndidn\\'t get tangled or twisted while he was working. As he set up the bracing on the six-inch diameter drill, he sang a song\\nthat Kipling might have been startled to recognize:\\n\\n    _\"To the tables down at Mory\\'s,\\n    To the place where Louie dwells,\\n      Where it\\'s always double drill and no canteen,\\n    Sit the Whiffenpoofs assembled,\\n    With their glasses raised on high,\\n      And they\\'ll get a swig in Hell from Gunga Din. \"_\\n\\nWhen the drill was firmly based on the surface of the planetoid, St. Simon hauled his way back to his ship along his safety line. Inside, he\\nsat down in the control chair and backed well away from the slowly\\nspinning hunk of rock. Now there was only one thin pair of wires\\nstretching between his ship and the drill on the asteroid.',\n",
       " 'It was on the deck-level, in a\\ntiny transverse passage just off the main lounging room. Its name-grid\\nglowed with the letters: \"_Anita Prince._\" I stood in my short white\\ntrousers and white silk shirt, like a cabin steward gawping. Anita\\nPrince! I had never heard the name until this night. But there was magic\\nmusic in it now, as I murmured it to myself. Anita Prince....\\n\\nShe was here, doubtless asleep, behind this small metal door. It seemed\\nas though that little oval grid were the gateway to a fairyland of my\\ndreams. I turned away. And thought of the Grantline Moon Expedition stabbed at\\nme. George Prince--Anita\\'s brother--he whom I had been told to watch.',\n",
       " 'Bruce listened to the wind. It seemed to rise higher and higher. Terrence, who had climbed still higher, was calling. \"Think of it! What\\na conquest! No man\\'s ever done a thing like this. Like Stromberg says,\\nit\\'s symbolic! We can build spaceships and reach other planets, but\\nthat\\'s not actual physical conquest. We feel like gods up here. We can\\nsee what we are now.',\n",
       " 'He\\'s a fake, I tell you.\" \"Let me have copies of those audiovisuals, Tom. I\\'ll see what can be\\nfound out about him. I\\'m beginning to wonder about him myself. I\\'m\\nsure I\\'ve seen him, somewhere....\"\\n\\nWhen he got back to Storisende, he found that the marathon conference\\non the sixth floor down at the Interplanetary Building had finally\\ncome to an end. Everybody seemed satisfied, and apparently nobody was\\ngoing to have pistols and coffee with anybody else about it. \"We have things fixed up,\" his father told him. \"The gang who are\\nbuilding the ship out of four air-freighters are chartered as Janicot\\nIndustries, Ltd. ; they\\'re going to specialize in chemical products. The other company has a charter now, too.',\n",
       " 'But any single emotional element, held for too long, will break down the\\nresistance of the natural insulation and begin to damage the mind. Even that least virulent of emotions, love, can destroy. The hot,\\npassionate love between new lovers must be modified or it will kill. Only when its many facets can be shifted around, now one and now the\\nother coming into play, can love be endured for any great length of\\ntime. Possibly the greatest difference between the sane and the unsane is that\\nthe sane know when to release a destructive force before it does more\\nthan minimal damage; to modify or eliminate an emotional condition\\nbefore it becomes a deadly compulsion; to replace one set of concepts\\nwith another when it becomes necessary to do so; to recognize that point\\nwhen the mind must change its outlook or die. To stop the erosion, in\\nother words, before it becomes so great that it cannot be repaired. For the human mind cannot contain any emotion, no matter how weak or how\\nfleeting, without change. And the point at which that change ceases to\\nbe _con_structive and becomes, instead, _de_structive--_that_ is the\\nultimate point beyond which no human mind can go without forcing a\\nchange--_any_ change--in itself. Spencer Candron knew that. To overuse the psionic powers of the human\\nmind is as dangerous as overusing morphine or alcohol.',\n",
       " '\"But--\"\\n\\n\"I\\'ve lived up here.\" The unicycles braked to a halt. \"Step over here, slow,\" ordered one of the Squadmen. Duggan obeyed, careful to keep his arms rigid. Of course paralysis\\nneedles would cause this mech body no damage, but why make trouble? They\\n_had_ more destructive weapons. \"Ran into us,\" he said mildly. \"We figured something wrong--honest men\\nwould be standing where they were. We stopped them.\" The four members of the Squad were inspecting the damage.',\n",
       " \"Other people might\\nbe within sight. However, for a couple of minutes the oddly familiar\\nhands kept manipulating the unfamiliar instruments. Then, somewhere quite close at hand, a deep-toned gong sounded a\\nsingle stroke. Instantly the agent looked up; and Smith saw that he\\nwas inspecting the interior of a large engine-room. He had time to\\nnote the huge bulk of a horizontal cylinder, perhaps fifty feet in\\ndiameter, in the immediate background; also a variety of other\\nmechanisms, more like immensely enlarged editions of laboratory\\napparatus than ordinary engines. Smith looked in vain for the\\ncompact form of a dynamo or motor, and listened in vain for the\\nsound of either. Then, in swift succession, came two strokes on the\\nunseen gong, followed by a shrill whistle. Smith's borrowed eyes became fixed upon that group of dials again. Their indicators began to shift, some rapidly, some slowly. Once the\\nagent gave a swift glance through a round window--the place seemed\\nto be lighted by ordinary daylight--and Smith saw something\\nunrecognizable flit by.\",\n",
       " 'The government, in my opinion, made an\\nerror back then. They wanted to keep people out in the Belt, since the\\nmines on Earth were not only rapidly being depleted, but the mining\\nsites were needed for living space. Besides, asteroid metals were\\ncheaper than metals mined on Earth. To induce the colonists to remain in\\nthe Belt, no income tax was levied; the income tax was replaced by an\\neighty per cent tax on the savings accumulated when the colonist\\nreturned to Earth to retire. \"They resented even that. It was explained to them that the asteroids\\nwere, after all, natural resources, and that they had no moral right to\\nmake a large profit and deprive others of their fair share of the income\\nfrom a natural resource, but they insisted that they had earned it and\\nhad a right to keep it. \"In other words, the then government bribed them to stay out here, and\\nthe bribe was more effective than they had intended.\" \"So they stayed out here and kept their money,\" Danley said. \"Exactly. At that time, if you will recall, there was a great deal of\\nagitation against colonialism--there had been for a long time, as a\\nmatter of fact.',\n",
       " 'Mayhem, who had dedicated his\\nstrange, lonely life to the service of the Galactic League because a\\nnormal life and normal social relations were not possible for him....\\n\\n\"Then you\\'ll do it?\" Kovandaswamy asked on Ophiuchus IX. \"Even though\\nyou realize we can give you no official help not only because the\\nGalactic League approves of your work unofficially but can\\'t sanction it\\nofficially, but because an outworlder can\\'t set his foot outside this\\nbuilding for long or off the spacefield without risking death....\"\\n\\n\"By suicide?\" \"Yes. I\\'m practically a prisoner in Galactic League Headquarters, as is\\nmy staff. You see--\"\\n\\n\"What about the body?\" Kovandaswamy looked at him nervously. \"A native, Mayhem. A native won\\'t\\nbe molested, you see.\" \"That figures.',\n",
       " \"The dark blur of struggling Tartars and Mamelukes grew rapidly larger. Qutuz's banner was nowhere to be seen, but the beast-tail Tartar\\nstandard rose up in the west, and Kalawun's black banner was waving far\\nto the north. They were coming on the Tartar horsemen from the flank and rear. Daoud\\nwas close enough to see faces turn and Tartars wheel their ponies to\\nmeet the attack. Daoud drew his bow out again, picked a big Tartar with a drooping black\\nmustache, and loosed an arrow at him. The Tartar fell back over his gray\\npony's rump, and the pony slowed, trotted out of the Tartar formation,\\nand stood nibbling on the tall dead grass while its dead master lay\\nnearby. Three Tartars peeled off from their formation and charged at Daoud. His\\narrows took two of them, and an arrow from one of his men struck down\\nthe third. Elated, he whispered a prayer of thanks to God. Baibars's yellow\\nstandard changed direction.\",\n",
       " 'My heart sank. I noticed, too, that Migul was planted\\nfirmly between us and the door. \"Why, of course, Migul. We can\\'t leave her here.\" \"She is not going.\" \"Why not?\" I demanded. \"Of course she\\'s going.\" I tried an experiment. \"Migul, I order you to let us out of here.\"',\n",
       " 'The car with its gunmen was closer now, and one of the flames from\\ntheir guns almost hit him. There was only one possible escape. He ran back from the cliff\\'s edge for several yards, straight toward\\nthe onrushing car. Then he turned and sprinted for that edge. He took\\noff like a broad jumper, as far outward as he could, curving his body\\ndownward into a dive. \"Oh, God, please,\" he prayed earnestly, \"deep water and no rocks.\" It seemed an interminable age that George Hanlon fell through the air\\non that incredible dive toward the water so far away. Not knowing what\\nwas below made the moments seem dreadful eternities. His mind persisted\\nin painting ghastly pictures....\\n\\nAt long last Hanlon struck--and was instantly numbed from the force\\nof the blow and chilled by the icy water. His bruises, burns and cuts\\nsmarted painfully from the salt.',\n",
       " 'She looked appealingly at the students around\\nher. \"This is really incredible, isn\\'t it.\" They gave her vague smiles. They were plainly still floating on a\\ncloud of collective achievement--if they hadn\\'t created that sandwich,\\nthere could have been nothing to see! It seemed to Cavender that Dr. Ormond\\'s face showed a flicker of\\nstrain when he heard Mavis\\' explanation. But he couldn\\'t be sure\\nbecause the expression--if it had been there--was smoothed away at\\nonce. Ormond cleared his throat, said firmly and somewhat chidingly. \"No, not incredible, Mavis! Although--\"\\n\\nHe turned on his smile.',\n",
       " 'Now, all the\\ncartridges you can gather. Fill up your pockets. Now, some food. Half a dozen tins will do. That\\'s all right! Don\\'t wait to talk or\\nthink. Get a move on, or we are done!\" Still half-awake, and unable to imagine what it all might mean, I found\\nmyself hurrying madly after him through the wood, a rifle under each\\narm and a pile of various stores in my hands. He dodged in and out\\nthrough the thickest of the scrub until he came to a dense clump of\\nbrush-wood. Into this he rushed, regardless of thorns, and threw\\nhimself into the heart of it, pulling me down by his side.',\n",
       " 'Dr. McAllen was half inside the built-in\\ncloset at the moment, fitting a pair of toggle switches to the\\nconcealed return device in there. \"Here we go,\" he said suddenly. Three feet from the wall of the room the shadowy suggestion of another\\nwall, and of an open door, became visible. Barney said dubiously, \"We came out of _that_?\" McAllen looked at him, sad, \"The appearance is different on the exit\\nside. But the Tube\\'s open now--Here, I\\'ll show you.\" He went up to the apparition of a door, abruptly seemed to melt into\\nit. Barney held his breath, and followed. Again there was no sensory\\nreaction to passing through the Tube.',\n",
       " 'I seemed to see the\\nmembraneous and cylindrical tubes tremble beneath the undulation of the\\nwaters. I was tempted to gather their fresh petals, ornamented with\\ndelicate tentacles, some just blown, the others budding, while a small\\nfish, swimming swiftly, touched them slightly, like flights of birds. But if my hand approached these living flowers, these animated,\\nsensitive plants, the whole colony took alarm. The white petals\\nre-entered their red cases, the flowers faded as I looked, and the bush\\nchanged into a block of stony knobs. Chance had thrown me just by the most precious specimens of the\\nzoophyte. This coral was more valuable than that found in the\\nMediterranean, on the coasts of France, Italy and Barbary. Its tints\\njustified the poetical names of \"Flower of Blood,\" and \"Froth of\\nBlood,\" that trade has given to its most beautiful productions. Coral\\nis sold for L20 per ounce; and in this place the watery beds would make\\nthe fortunes of a company of coral-divers. This precious matter, often\\nconfused with other polypi, formed then the inextricable plots called\\n\"macciota,\" and on which I noticed several beautiful specimens of pink\\ncoral. But soon the bushes contract, and the arborisations increase.',\n",
       " 'We\\'d hit the right\\nbutton and we\\'d gone to the place we\\'d aimed for. All we\\'d done was aim\\nfor the wrong place. It hurts me to tell you this and I\\'m just attached\\npersonnel with no space-flight tradition. In practical terms, one highly\\ntrained crew member had punched a wrong pattern of holes on the tape. Another equally skilled had failed to notice this when reading back. A\\nchildish error, highly improbable; twice repeated, thus squaring the\\nimprobability. Incredible, but that\\'s what happened. \"Anyway, we took good care with the next lot of measurements. That\\'s why\\nwe were out there so long. They were cross-checked about five times.',\n",
       " \"It seemed only a few\\nmonths since MacDonald's death, months occupied by investigation and\\ntrial and the raging, futile anguish of the unjustly accused. The long\\ninterval of the pseudo-death was no more than a night's sleep, to a mind\\nunconscious of passing time. Now it seemed that Saul and Landers should\\nstill be here, and there should be lights and warmth and movement. There was nothing. He could not bring himself to stay in the living\\nquarters. He went into one of the storerooms and sat on a concrete\\nbuttress and waited. It was a long and dreadful wait. During it all the\\nemotional storms occasioned by the murder and its aftermath passed\\nthrough his mind. Scenes with Saul and Landers. Scenes with the\\ninvestigators, with MacDonald's family, with lawyers and reporters.\",\n",
       " '\"Put on my shoes? Certainly dear,\" said\\nhe, as the cab began to turn, and hid the strutting black figure,\\nnow small in the distance, from his eyes. Then suddenly something\\ngrotesque struck him, and he laughed. Then he remarked, \"It is really\\nvery serious, though.\" \"You see, that man came to my house to see me, and he is an Anarchist. No--don\\'t faint, or I cannot possibly tell you the rest. And I wanted\\nto astonish him, not knowing he was an Anarchist, and took up a\\ncultivation of that new species of Bacterium I was telling you of,\\nthat infest, and I think cause, the blue patches upon various monkeys;\\nand like a fool, I said it was Asiatic cholera. And he ran away with\\nit to poison the water of London, and he certainly might have made\\nthings look blue for this civilised city. And now he has swallowed it. Of course, I cannot say what will happen, but you know it turned\\nthat kitten blue, and the three puppies--in patches, and the\\nsparrow--bright blue.',\n",
       " 'We\\'ll have dinner, you\\'ll stay here to sleep, I\\'ll show you around the \\noperation, and you can go back to Ceres.\" The Starmen were speechless for a moment. Joe\\'s eyes nervously scanned \\nthe room and Mark stared at George with his mouth agape. Then Zip spoke. \"What are greegles, George?\" George chuckled again. \"You haven\\'t heard of this \\'asteroid miner\\'s \\nlegend\\'? Most people think it\\'s in a class with leprechauns and \\nmermaids, the story of the greegles, but it\\'s all true. The greegles \\nare the inhabitants of the asteroids. Don\\'t know if they\\'re alive or \\nnot.',\n",
       " '\"When that hit, they started going over to Muz-Azin in\\ndroves, not only at Zurb but all over the Six Kingdoms. You ought to\\nhave seen the house we had for Sunset Sacrifice, this evening! About\\ntwo hundred, and we used to get two thousand. It used to be all two\\nmen could do to lift the offering box at the door, afterward, and all\\nthe money we took in tonight I could put in one pocket!\" The high\\npriest used language that would have been considered unclerical even\\namong the Hulguns. Verkan Vall nodded. Even without the quickie hypno-mech he had taken\\nfor this sector, he knew that the rabbit was domesticated among the\\nProto-Aryan Hulguns and was their chief meat animal. Hulgun rabbits\\nwere even a minor import on the First Level, and could be had at all\\nthe better restaurants in cities like Dhergabar. He mentioned that. \"That\\'s not the worst of it,\" Stranor Sleth told him.',\n",
       " '\"What--what--?\" \"Listen, Steve. I haven\\'t been with the whaling company lately; been\\nresting, down here--secluded. Didn\\'t know that submarine, the _Peary_,\\nwas missing. I just learned. And I know damned well what\\'s happened to\\nit. I\\'ve got to get to it, quick is I can, and I\\'ve got to have a\\nplane.\" Steve Chapman said rather faintly:\\n\\n\"But--where was the _Peary_ when they last heard from her?\" \"Some twelve hundred miles from the Pole.\" \"And you want to get there in a plane?',\n",
       " 'we breathed! All this time no one prolonged his voluntary task beyond the prescribed\\ntime. His task accomplished, each one handed in turn to his panting\\ncompanions the apparatus that supplied him with life. Captain Nemo set\\nthe example, and submitted first to this severe discipline. When the\\ntime came, he gave up his apparatus to another and returned to the\\nvitiated air on board, calm, unflinching, unmurmuring. On that day the ordinary work was accomplished with unusual vigour. Only two yards remained to be raised from the surface. Two yards only\\nseparated us from the open sea. But the reservoirs were nearly emptied\\nof air. The little that remained ought to be kept for the workers; not\\na particle for the Nautilus.',\n",
       " 'Captain Meford hesitated. The others waited. \"They were then scaling the cliff, sir.\" \"And General Shorter, was he told of this immediately?\" Mr. Ryan asked. \"I don\\'t know when the general was told.\" \"You discovered them?\" \"Yes, sir. I ... you see, at the time the winds completely prohibited\\nair traffic.',\n",
       " 'If so, Auldin knew he was in for trouble ...\\nbad trouble. Hanlon decided it was time for him to do a little steering. \"Look,\\nAuldin,\" he interrupted the other\\'s somewhat frightened thinking. \"Why\\nnot take me to Yandor and introduce me? Let him decide whether he\\nwants to let me in or not?\" For a long moment Auldin stared again at Hanlon, but when he finally\\nanswered there was a note of relief in his voice he tried to conceal. Yet he was not entirely convinced that this might not be all part of\\nan espionage trick formed in the fertile but hellishly devious mind of\\nhis superior, Ino Yandor. But Auldin was one who preferred to meet his\\ndangers face to face ... when they could not be avoided. \"That might not be a bad idea,\" he said as calmly as he could. \"But\\nlook, my friend.',\n",
       " 'Many insects grow\\ntorpid in the cool of a temperate-zone night, but warm up to activity\\nsoon after sunrise. But a large creature, made torpid by cold, will not\\nrevive so quickly. If large enough, it will not become fully active\\nuntil close to dusk. On the plateau, the lowland monsters would starve\\nin any case. But more--they would have only a fraction of a day of full\\nactivity. There was a necessary limit then, to the size of the insects that lived\\nabove the clouds. The life on the plateau would not have seemed\\nhorrifying at all to humans living on other planets. Save for the\\nabsence of birds to sing and lack of a variety of small mammals, the\\nuntouched sunlit plateau with its warm days and briskly chill nights\\nwould have impressed most men as an ideal habitation. But Burl and his companions were hardly prepared to see it that way at\\nfirst glimpse. Certainly if told about it beforehand, they would have\\nviewed it with despair.',\n",
       " 'He grinned. \"I\\'d appreciate it\\nif you\\'d tell me when you find out. This Mr. Danley has worried me all\\nalong.\" St. Simon scowled at the envelope, then ripped off one end and took out\\nthe typed sheets. He read them carefully, then handed them over to\\nAlhamid. \"You\\'d better read this yourself, George.\" Georges Alhamid took the pages and began to read. Dear Captain St.',\n",
       " 'We should be finished by tomorrow afternoon.\" \"Good. And the power units?\" \"These are far more complicated, sir, so I only have the most skilled \\nworkers assembling these. The same with the propulsion units. They \\nwon\\'t be ready for at least a week, not even one of them. However, once \\nwe get the prototype finished the rest should follow rapidly.\" \"How long until you have all 85 completed?\" \"I should have a good number of the unskilled workers ready for a new \\nassignment once they have finished with the sheathing plates. Once the \\ndesign has been checked by the experts, we can get them cracking on the \\npower and propulsion units.',\n",
       " '\"Okay,\\nFarley, no evasions. In plain figures, how much drinking alcohol do we\\nhave left?\" The quartermaster slumped a bit. \"Twenty-one liters unbroken. One more\\nabout half full.\" \"Half full? How did that ever happen? I mean you had some _left_? We\\'ll\\ntake this up later. I want you to run it through the synthesizer to get\\nsome light wine....\"\\n\\n\"Light wine?\"',\n",
       " 'Conn explained where they were, and added:\\n\\n\"Kurt and the rest of them were sitting here, all this time, wondering\\nwhere Merlin was; it was all around them.\" \"Well, how did you get up here?\" Fawzi asked. \"We couldn\\'t find\\nanything from below.\" \"No, you couldn\\'t.\" Shanlee was amused. \"Watch this.\" It was so simple that nobody had ever guessed it. Below, back of the\\nCommander-in-chief\\'s office, there was a closet, fifteen feet by\\ntwenty. They had found it empty except for some bits of discarded\\noffice-gear, and had used it as a catch-all for everything they wanted\\nout of the way.',\n",
       " 'Any damage, I am responsible for? All okay?\" \"Yes, sir, Mr. Kendall.\" Kendall hung up. \"We stirred up a lot more dust\\nthan we expected, Devin. Now let\\'s start seeing if we can keep track of\\nit. Douglass, how did your readings show?\" \"I took them at the ten stations, and here they are. The stations are\\ntwo feet apart.\"',\n",
       " 'And yet the new factor explained some\\nthings. He\\'d been vaguely worried about the apparent change in Ser\\nPerth, who\\'d turned from a serious and helpful doctor into a\\nsupercilious, high-handed fop. But--what about his recovery, if that was\\nsupposed to be determined by the signs of the zodiac? He had no time to ask. The carpet bucked, and the girl began speaking to\\nit urgently. It wavered, then righted itself, to begin sliding\\ndownwards. \"There is a ring of protection around your camp,\" Nema explained. \"It is\\nset to make entry impossible to one who does not have the words or who\\nis unfriendly. The carpet could not go through that, anyway. The ring\\nnegates all other magic trying to pass it.',\n",
       " \"As was their custom, they took turns at guard, each man doing two hours\\nand then arousing the next. Brady had gone on from eight to ten,\\nfollowed by Sinclair from ten to twelve, then Bradley had been\\nawakened. Brady would stand the last guard from two to four, as they\\nhad determined to start the moment that it became light enough to\\ninsure comparative safety upon the trail. The snapping of a twig aroused Brady out of a dead sleep, and as he\\nopened his eyes, he saw that it was broad daylight and that at twenty\\npaces from him stood a huge lion. As the man sprang to his feet, his\\nrifle ready in his hand, Sinclair awoke and took in the scene in a\\nsingle swift glance. The fire was out and Bradley was nowhere in\\nsight. For a long moment the lion and the men eyed one another. The\\nlatter had no mind to fire if the beast minded its own affairs--they\\nwere only too glad to let it go its way if it would; but the lion was\\nof a different mind. Suddenly the long tail snapped stiffly erect, and as though it had been\\nattached to two trigger fingers the two rifles spoke in unison, for\\nboth men knew this signal only too well--the immediate forerunner of a\\ndeadly charge. As the brute's head had been raised, his spine had not\\nbeen visible; and so they did what they had learned by long experience\\nwas best to do.\",\n",
       " '\"Very well,\" Candron said calmly. \"And now, may I see the patient?\" He\\nhad wanted to keep those cigarettes. Now he would have to find a\\nsubstitute. The captain unlocked the heavy door. At the far end, two more guards\\nsat, complacently playing cards, while a third stood at a door a few\\nyards away. A television screen imbedded in the door was connected to an\\ninterior camera which showed the room within. The corridor door was closed and locked behind Candron as he walked\\ntoward the three interior guards. They were three more big, tough\\nMongols, all wearing the insignia of lieutenants. This was not a\\nprisoner who could be entrusted to the care of common soldiers; the\\nsecret was too important to allow the _hoi polloi_ in on it.',\n",
       " \"The complexion of the\\nwhole situation was changing in a rush. The possibilities of dealing or\\nreceiving death--along with the chance of the minor indignity of\\ncannibalism, which some of us practice--were suddenly gone, all gone. It\\nwas going to be all right this time, I was telling myself. This was the\\ntime it would be different, this was the time love would last, this was\\nthe time lust would be the firm foundation for understanding and trust,\\nthis time there would be really safe sleeping. This girl's body would be\\nhome for me, a beautiful tender inexhaustibly exciting home, and mine\\nfor her, for always. As she threw off her shirt, the last darkly red light showed me another\\nsmooth slantwise scar, this one around her hips, like a narrow girdle\\nthat has slipped down a little on one side. CHAPTER 2\\n\\n    _Murder most foul, as in the best it is;\\n    But this most foul, strange and unnatural._\\n\\n                                        --Hamlet\\n\\n\\nWhen I woke the light was almost full amber and I could feel no flesh\\nagainst mine, only the blanket under me. I very slowly rolled over and\\nthere she was, sitting on the corner of the blanket not two feet from\\nme, combing her long black hair with a big, wide-toothed comb she'd\\nscrewed into the leather-and-metal cap over her wrist stump. She'd put on her pants and shirt, but the former were rolled up to her\\nknees and the latter, though tucked in, wasn't buttoned. She was looking at me, contemplating me you might say, quite dreamily\\nbut with a faint, easy smile.\",\n",
       " 'What kind of monster would they think he was? Still, there was no help for it. If they caught him, they might think\\nhim a lower animal and shoot him. He would not have put an onus like\\nthat upon them. He moved on. _[4]_\\n\\n\\nGovernment City was something of a paradox. It was the largest capital\\ncity, in terms of population, that had ever been built on Earth, and\\nyet, again in terms of population, it was nowhere near as large as Tokyo\\nor London. The solution to the paradox lies in discovering that the term\\n\"population\" is used in two different senses, thus exposing the logical\\nfallacy of the undistributed middle. If, in referring to London or\\nTokyo, the term \"population\" is restricted to those and only those who\\nare actively engaged in the various phases of actual government--as it\\nis when referring to Government City--the apparent paradox resolves\\nitself. Built on the slagged-down remains of New York\\'s Manhattan Island, which\\nhad been destroyed by a sun bomb during the Holocaust nearly a century\\nbefore, Government City occupied all but the upper three miles of the\\nisland, and the population consisted almost entirely of men and women\\nengaged, either directly or indirectly, in the business of governing a\\nplanet.',\n",
       " 'Then\\nthe reaction to the rallying cry set off an entirely different kind of\\nhubbub. The sound now was that of an alerted pack of dogs. Once more, Geoffrey swept his hand across Dugald\\'s face, feeling his own\\nskin break over the knuckles. But there was no time for anything else. Now they had to run, and not in silence. Now everything went by the\\nboard, and the nearest safety was the best. Behind them as they tore\\nthrough the brush, they could hear Dugald shouting:\\n\\n\"That way! The Barbarian\\'s with him!\" The Barbarian was grunting with\\nevery step. Myka was panting.',\n",
       " '\"What happened! Are you hit?\" Peter\\'s voice came back. \"No, I\\'m not hit, but I almost wrenched my\\narm off! It was the gun\\'s recoil, the kick! I completely forgot what\\na terribly strong recoil a pistol would have on the Moon. It was like\\nholding a rocket engine in my hand for a split second. It simply hurled\\nme right over.\" Peter rolled himself over on his chest, resuming his position next to\\nRobin. \"We\\'ll have to be careful when we fire.',\n",
       " \"There were twenty-five new men to be guided as they\\napplied what they'd been taught aground about life in space. It was\\nthree full Earthdays before the stores intended for the journey to the\\nMoon and the maintenance of a base there really began to move. The tug\\nand the space wagons had to be moored outside and reached only by space\\nsuits through small personnel airlocks. And there was the matter of discipline. Lieutenant Commander Brown had\\nbeen put in command of the Platform for experience in space. He was\\nconsidered to be prepared for command of the Moonship by that\\nexperience. So now he turned over command of the Platform to Brent--he\\nmade a neat ceremony of it--and took over the ship that would go out to\\nthe Moon. He made another ceremony out of that. In command of the Moonship, his manner to Joe was absolutely correct. He\\nfollowed regulations to the letter--to a degree that left Joe blankly\\nuncomprehending.\",\n",
       " \"Somewhere just below that soil was her head, her face sloughing\\noff and wormed. Her red hair fallen from her loosened scalp. He gagged\\nand a gush of bile sprayed the hillside. Danny hit him at the knees, knocking him into the dirt. He felt the\\nlittle rotting fist digging into his ribs. His body bucked of its own\\naccord, and he knocked Danny loose of his legs. His arm was hot and\\nslippery, and when he looked at it he saw that it was coursing with\\nblood. The knife in his other hand was bloodied and he saw that he'd\\ndrawn a long ragged cut along his bicep. A fountain of blood bubbled\\nthere with every beat of his heart, blub, blub, blub, and on the third\\nblub, he felt the cut, like a long pin stuck in the nerve. He climbed unsteadily to his feet and confronted Danny.\",\n",
       " 'They have also left you a note. I told her I would be right over, and hopped a cab. I began to think I\\nwas losing my mind. I had seen them both--dead. The landlady had seen\\nthem this morning--_alive!_\"\\n\\nWhen I arrived, the landlady looked at me for a long moment, taking in\\nmy rough, dark-blue complexion, unpressed clothes, red-rimmed eyes, then\\nwagged a finger playfully. \"You are playing a joke, no? A wedding joke, maybe. Here, too, we haze\\nnewlyweds. But of course I understood. Who could help loving Miss Maria?',\n",
       " '\"Tell you what,\" said Smith, nodding. \"Suppose you go along and see how\\nBob Lydman is making out, while I sign these letters. You might check\\nat the com room sometime, too, in case anything else on the case comes\\nin.\" Westervelt agreed, made sure he had something in his pocket to write\\nupon should the need arise, and left. A few minutes later, he reached the end of the corridor, having cocked\\nan ear at the door of the old file office as he passed and heard Beryl\\ngiggling at some remark by Parrish. He unclenched his teeth and knocked\\non Lydman\\'s door. He waited a minute and tried again, but there was still no answer. He hesitated, wondering what would happen should he walk in and find\\nthat Lydman was physically present but not in a mood to recognize any\\none else\\'s existence. Slowly, he walked back to the washroom on the\\nopposite side of the hall. Washing his hands with deliberation, Westervelt decided that it might\\nbe best to get Lydman on the phone.',\n",
       " 'he growled. \"Don\\'t ever show your faces around\\nhere again!\" Connel turned to Professor Hemmingwell. \"I\\'ll see if I can\\'t muster a\\ncrew from the ranks of the Solar Guard,\" he said. \"Major,\" said the professor, his face worn and haggard from the long\\nordeal of completing the project, \"I wouldn\\'t want men _ordered_ to man\\nthis vessel.\" \"They\\'re in the Solar Guard and they take orders,\" said Connel. \"No,\" persisted Hemmingwell. \"I will not let a man on that ship that\\ndoes not want to go. Remember, Major, it is still my personal property.\" \"All right,\" said Connel grimly.',\n",
       " '\"I can\\'t understand this. Will you tell me what\\nyou--will you tell me why we\\'re here?\" \"It is out of your grasp.\" \"But--I know it has something to do with Wednesday night, something\\nto do with that reluctance of yours, the thing you said you didn\\'t\\nunderstand. Hasn\\'t it?\" \"Do you think so?\" \"Yes,\" she said. \"I do! And Nick, Honey--didn\\'t I tell you I could\\nforgive you anything? I don\\'t care what\\'s happened in the past; all I\\ncare for is now, now and the future.',\n",
       " 'They say they\\nhave a new contract with Marscorp that takes all their supply.\" \"Contract, hell!\" snorted Jonner. \"Marscorp owns Space Fuels. What can\\nbe done about it, Kruger?\" Kruger shook his head. \"I\\'m all for you, but Space Control has no jurisdiction,\" he said. \"If a\\nprivate firm wants to restrict its sales to a franchised line, there\\'s\\nnothing we can do about it. If you had a franchise, we could force them\\nto allot fuel on the basis of cargo handled, since Space Fuels has a\\nmonopoly here. But you don\\'t have a franchise yet.\"',\n",
       " 'The weird address insisted on creeping into his mind and driving out\\nother thoughts, even those of his speckled playfellows, the rainbow\\ntrout. \"I\\'ve a notion to change my plans and go from Denver to the Frying Pan,\"\\nhe cogitated. Then he thought, \"No, I won\\'t take it that seriously.\" *       *       *       *       *\\n\\nAnyone who knows the Colorado Rockies knows paradise. There is no more\\nbeautiful country on the globe. Lake County, where Larner had chosen\\nhis fishing grounds, has as its seat the old mining camp of Leadville. It has been visited and settled more for its gold mines than the golden\\nglow of its sunsets above the clouds, but the gold of the sunsets is\\neternal, while the gold of the mines is fading quickly away. Leadville, with its 5,000 inhabitants, nestles above the clouds, at an\\naltitude of more than 10,000 feet. Mount Massive with its three peaks\\nlies back of the town in panorama and rises to a height of some 14,400\\nfeet. In the rugged mountains thereabouts are hundreds of lakes fed by\\nwild streams and bubbling crystal springs.',\n",
       " \"*\\n\\n\\nAs if in imitation, Kalus determined to begin the work at once. Using\\none of the poles from the neglected frame, he carved a handle for the\\nrusty ax-head the girl had found. He sharpened its cutting edge as best\\nhe could, and with the sun at its height, set out to begin felling\\ntrees. Sylviana went with him, along with Kamela, for warning and added\\nprotection. He cut and pieced an entire tree before he would let\\nhimself rest. Then together he and the girl carried a twelve-foot\\nsection back to the cave, he bearing most of the weight on his shoulder,\\nasking only that the girl come behind and steady him. And so the long toil began. Sylviana's plan, which he modified only slightly, was to build a\\nthree-sided barrier of interlocking logs, like an open letter C.  Its\\nends would rest just inside the arch, gradually narrowing as they rose,\\nnearly flush, against the inner walls of the entrance. It was to be\\nreinforced from within by stout beams, and by the strength of these, as\\nwell as by its own girth and weight, to form an impenetrable barrier\\nagainst both the elements, and the fiercest predators. A single,\\nwindowless door would pierce the forward wall, and the entire structure\\nbe sealed inside and out with mortar, and at the edges, with bricks of\\nstone.\",\n",
       " 'We don\\'t have to talk about it ever. I won\\'t be second best, Kit. Let\\'s forget all about it and do our job. I--I\\'m sorry I brought the\\nwhole thing up.\" Temple felt like an unspeakable heel. And, anyway, the whole thing\\nwasn\\'t resolved in his mind. But they couldn\\'t just let it go at that,\\nnot in case something happened when the ships came and one or both\\nof them perished. Awkwardly, for now he felt self-conscious about\\neverything, he got his arms about Sophia, drew her to him, placed his\\nlips to hers. That was as far as he got. She wrenched free, shoved clear of him.',\n",
       " 'Below and in front of them lay the enormous\\nsemicircle of the hemisphere which was turned towards the Sun, shrouded\\nby its many-coloured bands of clouds. The R. Force was directed strongly\\nagainst the lower ring, and the _Astronef_ descended rapidly in a\\nslanting direction through the cloud-bands towards the southern\\ntemperate zone of the planet. They passed through the second, or dark, cloud-band at the rate of about\\nthree thousand miles an hour, aided by the repulsion against the Rings\\nand the attraction of the planets, and soon after lunch, the materials\\nof which now consented to remain on the table, they passed through the\\nclouds and found themselves in a new world of wonders. On a far vaster scale, it was the Earth during that period of its\\ndevelopment which is called the Reptilian Age. The atmosphere was still\\ndense and loaded with aqueous vapour, but the waters had already been\\ndivided from the land. They passed over vast, marshy continents and islands, and warm seas,\\nabove which thin clouds of steam still hung, and as they swept southward\\nwith the propellers working at their utmost speed they caught glimpses\\nof giant forms rising out of the steamy waters near the land, of others\\ncrawling slowly over it, dragging their huge bulk through a tremendous\\nvegetation, which they crushed down as they passed, as a sheep on Earth\\nmight push its way through a field of standing corn. Other and even stranger shapes, broad-winged and ungainly, fluttered\\nwith a slow, bat-like motion through the lower strata of the atmosphere. Every now and then during the voyage across the temperate zone the\\npropellers were slowed down to enable them to witness some Titanic\\nconflict between the gigantic denizens of land and sea and air. But\\nZaidie had had enough of horrors on the Saturnian equator, and so she\\nwas content to watch this phase of evolution working itself out (as it\\nhad done on the Earth thousands of ages ago) from a convenient distance. Wherefore the _Astronef_ sped on without approaching the surface nearer\\nthan was necessary to get a clear general view.',\n",
       " 'Burris, no matter how poor a telepath a man\\nmay be, he has some slight ability--even if only very slight--to detect\\nthe fact that his mind is being read.\" \"You mean, if somebody were reading my mind, I\\'d know it?\" Burris said. His face showed, Malone realized, that he plainly disbelieved this\\nstatement. \"You would know it,\" Dr. O\\'Connor said, \"but you would never know you\\nknew it. To elucidate: in a normal person--like you, for instance, or\\neven like myself--the state of having one\\'s mind read merely results in\\na vague, almost subconscious feeling of irritation, something that could\\neasily be attributed to minor worries, or fluctuations in one\\'s hormonal\\nbalance. The hormonal balance, Mr. Burris, is--\"\\n\\n\"Thank you,\" Burris said with a trace of irritation. \"I know what\\nhormones are.\"',\n",
       " 'Nevertheless, that memory is in\\nmy mind, recorded in neuronic chains, exact and accurate.\" He paused\\nsignificantly. \"You have access to that memory.\" \"At least partially. But what good does that do?\" \"Visual projector and plastic which will take the imprint. I think hard\\nabout the identification as I remember it. You record and feed it back\\nto me while I concentrate on projecting it on the plastic. After we get\\nit down, we change the chemical composition of the plastic. It will\\nthen pass everything except destructive analysis, and they don\\'t often\\ndo that.\"',\n",
       " '; the residual currents obviously had\\nweakened too much. And now as I have written down tonight\\'s events I feel an upsurge of\\nelation and deep, humble gratitude. I am receiving infinitely more from\\nThe Brain than I am giving to it. I feel proud and honored of being The\\nBrain\\'s \"chosen tool,\" its mentor, even if it can be only in a very\\nsmall way at best. This marvelous, this titanic intellect; if only its\\ncharacter would develop to corresponding moral stature, its powers for\\ngood would be indeed as a god\\'s on this tortured earth. *       *       *       *       *\\n\\nCephalon Ariz. Nov. 18th 5 a.m. I guess I had this coming to me ... this\\nshattering blow I have just received. It caught me off guard.... If\\nanybody ever reads this, he might well shake his head to ask: \"The Fool\\nthat you are, why were you so naive?',\n",
       " 'Get to the turret! Verify our trajectory--no--wait--\"\\n\\nThe captain was almost incoherent. \"Wait a minute, I don\\'t mean that! Tell Snap to watch his helio-room. Gregg, you and Blackstone stay in the\\nchart-room. Arm yourselves and guard our weapons. By God, this murderer,\\nwhoever he is--\"\\n\\nI stammered, \"If--if she dies--will you flash us word?\" He stared at me strangely. \"I\\'ll be there presently, Gregg.\" He slammed the door upon me.',\n",
       " 'He didn\\'t think anyone would see him from the\\ncommander\\'s tent. The commander\\'s orders had been direct and to the point: \"You will wear\\nyour armor at all times; you will march in it, you will eat in it, you\\nwill sleep in it. During such times as it is necessary to remove a part\\nof it, the man doing so will make sure that he is surrounded by at least\\ntwo of his companions in full armor. There will be no exceptions to this\\nrule!\" The lieutenant had decided to make himself an exception. He turned to step into his tent when a voice came out of the nearby\\ndarkness. \"Hadn\\'t you better get your steel plates back on before the commander\\nsees you?\" The young officer turned quickly to see who had spoken. It was another\\nof the junior officers. \"Mind your own business,\" snapped the lieutenant.',\n",
       " '\"Menes himself is here, and he\\'s not as gentle as I\\nam.\" Hanson joined the long line, wondering what they were going to do about\\nbreakfast. How the devil did they expect the slaves to put in sixteen\\nhours of work without some kind of food? There had been nothing the\\nnight before but a skin of water. There was not even that much this\\nmorning. No wonder the two beside him had died from overwork, beatings\\nand plain starvation. Menes was there, all right. Hanson saw him from the distance, a skinny\\ngiant of a man in breechclout, cape and golden headdress. He bore a whip\\nlike everyone else who seemed to have any authority at all, but he\\nwasn\\'t using it. He was standing hawklike on a slight rise in the sandy\\nearth, motionless and silent.',\n",
       " '\"Somebody get the colonel,\" said the man with the red beard. \"Tell him\\nthey claim they want to surrender. Might be we could catch old Black\\nHawk himself.\" The three Sauks\\' only hope, White Bear thought, was that the commanding\\nofficer might be more willing to listen to them than his men were. The Sauk and their captors stood in a circle where the grass had been\\ntrampled flat. A short distance away stood supply wagons and tents. The\\nprairie surrounded them. Some militiamen went to one wagon on which five kegs with spouts stood,\\nfilled tin cups from the kegs and drank from them. Whiskey, White Bear\\nthought, seemed to be as important to these men as food. The sun was down now, and the three stood in twilight, in the midst of\\nthe shouting mob.',\n",
       " 'I\\'ve work to do.\" Blades braced himself. \"I didn\\'t want to say this. But I\\'ve already\\ninformed a number of my men. They\\'re as mad as I am. They\\'re waiting\\nin the terminal. A monkey wrench or a laser torch makes a pretty fair\\nweapon. We can take over by force. That\\'ll leave you legally in the\\nclear. But with so many witnesses around, you\\'ll have to prefer\\ncharges against us later on.\"',\n",
       " 'So quickly was the thing done and so quick the\\nwithdrawal that Olson had wheeled to take on another adversary before\\nthe German\\'s corpse had toppled to the ground. But there were no more adversaries to take on. Heinz and Klatz had\\nthrown down their rifles and with hands above their heads were crying\\n\"Kamerad! Kamerad!\" at the tops of their voices. Von Schoenvorts\\nstill lay where he had fallen. Plesser and Hindle were explaining to\\nBradley that they were glad of the outcome of the fight, as they could\\nno longer endure the brutality of the U-boat commander. The remainder of the men were looking at the girl who now advanced\\nslowly, her bow ready, when Bradley turned toward her and held out his\\nhand. \"Co-Tan,\" he said, \"unstring your bow--these are my friends, and\\nyours.\" And to the Englishmen:  \"This is Co-Tan.',\n",
       " 'Charlie tripped over the hump of a deck-level cable housing. His knee banged against the deck plates and he stood with an effort. \"Careful,\" I said. \"Now that you have limited medical attention, don\\'t\\nbreak a leg.\" Baxter rubbed his leg thoughtfully. \"Funny. My grandfather used to be\\nin show business. He told me that telling somebody to break a leg was\\nwishing them good luck.\" I cleared my throat. \"It would seem in dubious taste, addressed to an\\naccident prone.',\n",
       " 'He thought he saw a slim figure in gray tweeds,\\nbut he couldn\\'t be sure--and there were probably thousands of such men\\nin New York. He ducked into a bank, wormed his way around the various aisles, and\\nout the back entrance. A cab was waiting there, and he held out a\\nbill. \"I\\'m late, buddy. Penn Station!\" The cab-driver took the bill and the hint, and darted out, just as the\\nlight was changing. Penn Station was as good a place to try to get lost from pursuit as\\nany. Hawkes examined his wallet, considering trying to get a train\\nout--but he\\'d used up nearly all he had taken from Ellen. And all his careful disguise had proved useless. They weren\\'t\\nfooled--and this business of dodging was wearing thin.',\n",
       " \"Instead,\\nit floated on with very fine precision, like a ship being landed by\\ngrid, and settled delicately to the ground some fifty yards from the\\nbase of the castle wall. Immediately thereafter there was a muttering roar. It grew to a howl--a\\nbellow; it became thunder. It increased from that to a noise so\\nstupendous that it ceased altogether to be heard, and was only felt as a\\ndeep-toned battering at one's chest. When it ended there was a second\\nship resting in the middle of a very large scorched place close by the\\nfirst. Neither of these ships was a spaceboat. The silently landed vessel,\\nwhich was the smaller of the two, was several times the sizes of the\\nonly spacecraft ever seen on Darth outside the spaceport. Its design was\\nsomehow suggestive of a yacht. The other, larger, ship was blunt and\\nsoiled and space-worn, with patches on its plating here and there. A landing ramp dropped down from the battered craft.\",\n",
       " 'Thus, with our very\\n     warmest affection and our fondest hope, we wish you good fortune. Your loving father,\\n\\n     ABEDNEGO DANNER. Hugo read the letter down to the last period after the rather tremulous\\nsignature. His emotions were confused. Touched by the earnest and\\npathetically futile efforts of his father and by the attempt of that\\nlonely little man to express what was, perhaps, a great affection, Hugo\\nwas nevertheless aghast at a prospect that he had not considered. He was\\ngoing to be thrown into the world on his own resources. And, resting his\\nframe in his worn chair--a frame capable of smashing into banks and\\ntaking the needed money without fear of punishment--Hugo began to wonder\\ndismally if he was able even to support himself. No trade, no\\noccupation, suggested itself. He had already experienced some of the\\nmerciless coldness of the world. The boys would all leave soon.',\n",
       " 'Along it we hurried in\\nbreathless impatience for many hundreds of yards. Then, suddenly, in\\nthe black darkness of the arch in front of us we saw a gleam of dark\\nred light. We stared in amazement. A sheet of steady flame seemed to\\ncross the passage and to bar our way. We hastened towards it. No\\nsound, no heat, no movement came from it, but still the great luminous\\ncurtain glowed before us, silvering all the cave and turning the sand\\nto powdered jewels, until as we drew closer it discovered a circular\\nedge. \"The moon, by George!\" cried Lord John. \"We are through, boys! We are\\nthrough!\"',\n",
       " 'The absence of other tracks shows that his\\nconfreres leave \\'Scissor- jaw\\' alone.\" Keeping a sharp lookout in all directions, they resumed their\\nmarch along the third side of the square which was to bring them\\nback to the Callisto. Their course was parallel to the stream,\\nand on comparatively high ground. Cortlandt\\'s gun did good\\nservice, bringing down between fifty and sixty birds that usually\\nallowed them to get as near as they pleased, and often seemed\\nunwilling to leave their branches. By the time they were ready\\nfor luncheon they saw it would be dark in an hour. As the\\nrapidity of the planet\\'s rotation did not give them a chance to\\nbecome tired, they concluded not to pitch their camp, but to\\nresume the march by moonlight, which would be easy in the high,\\nopen country they were traversing. While in quest of fire-wood, they came upon great heaps of bones,\\nmostly those of birds, and were attracted by the tall,\\nbell-shaped flowers growing luxuriantly in their midst. These\\nexhaled a most delicious perfume, and at the centre of each\\nflower was a viscous liquid, the colour of honey. \"If this tastes as well as it looks,\" said Bearwarden, \"it will\\ncome in well for dessert\"; saying which he thrust his finger into\\nthe recesses of the flower, intending to taste the essence. Quietly, but like a flash, the flower closed, his hand being\\nnearly caught and badly scratched by the long, sharp thorns that\\nnow appeared at the edges.',\n",
       " 'You can help to see that this _must_ be.\" Auguste hesitated. He had not had time to think. He was not ready to\\ndecide his whole future and perhaps bargain away the future of his\\npeople in a moment. Staying here in Washington City just might be the\\nbest thing he could do for the Sauk. Working for and with Jackson, he\\ncould protect his people, warn them of danger, avert attacks on them. But his choosing to refuse Jackson was not the outcome of a momentary\\nimpulse. His whole life had taken him to this place on his path. The\\npath might wind; its direction might sometimes be lost in shadows. But\\nit did not lead to Sharp Knife.',\n",
       " 'In three hours and a half,\\nthe local sun began to set. There were colorings in the sky, beyond all\\ncomparison glorious. Which was logical enough. When Krakatoa, back on\\nEarth, blew itself to bits in the eighteen hundreds, it sent such\\nvolumes of dust into the air that sunsets all around the globe were\\nnotably improved for three years afterward. On this planet, smoking\\ncones were everywhere visible. Volcanic dust, then, made nightfall\\nmagnificent past description. There was not only gold and crimson in the\\nwest. The zenith itself glowed carmine and yellow, and those in the\\nspace-ship gazed up at a sky such as none of them could have imagined\\npossible. The colors changed and changed, from yellow to gold all over the sky,\\nand still the glory continued. Presently there was a deep, deep red,\\ndeep past imagining, and presently faint bluish stars pierced it, and\\nthey stared up at new strange constellations-some very bright\\nindeed--and all about the ship there was a bed of white ash with glowing\\nembers in it, and a thin sheet of white smoke still flowed away down the\\nvalley.',\n",
       " \"xx.] It has been thought that the gauze ring is variable in brightness. This\\nwould tend to show that it is composed of bodies which have been drawn\\nin toward the planet from the principal mass of the rings, and these\\nbodies may end their career by falling upon the planet. This process,\\nindefinitely continued, would result in the total disappearance of the\\nrings--Saturn would finally swallow them, as the old god from whom the\\nplanet gets its name is fabled to have swallowed his children. Near the beginning of this chapter reference was made to the fact that\\nSaturn's rings have been regarded as habitable bodies. That, of course,\\nwas before the discovery that they were not solid. Knowing what we now\\nknow about them, even Dr. Thomas Dick, the great Scotch popularizer of\\nastronomy in the first half of the nineteenth century, would have been\\ncompelled to abandon his theory that Saturn's rings were crowded with\\ninhabitants. At the rate of 280 to the square mile he reckoned that they\\ncould easily contain 8,078,102,266,080 people. He even seems to have regarded their edges--in his time their actual\\nthinness was already well known--as useful ground for the support of\\nliving creatures, for he carefully calculated the aggregate area of\\nthese edges and found that it considerably exceeded the area of the\\nentire surface of the earth.\",\n",
       " 'Brother-and-sister marriages, not uncommon in the\\nDry-towns, are based on expediency and suspicion, and are frequently,\\nthough not always loveless. It explained Dallisa\\'s taunts, and it partly\\nexplained, only partly, why I found her in my arms. It did not explain\\nRakhal\\'s part in this mysterious intrigue, nor why Kyral had taken me\\nfor Rakhal, (but only after he remembered seeing me in Terran clothing). I wondered why it had never occurred to me before that I might be\\nmistaken for Rakhal. There was no close resemblance between us, but a\\ncasual description would apply equally well to me or to Rakhal. My\\nheight is unusual for a Terran--within an inch of Rakhal\\'s own--and we\\nhad roughly the same build, the same coloring. I had copied his walk,\\nimitated his mannerisms, since we were boys together. And, blurring minor facial characteristics, there were the scars of the\\n_kifirgh_ on my mouth, cheeks, and shoulders. Anyone who did not know us\\nby sight, anyone who had known us by reputation from the days when we\\nhad worked together in the Dry-towns, might easily take one of us for\\nthe other. Even Juli had blurted, \"You\\'re so much like--\" before\\nthinking better of it.',\n",
       " \"A green tentacle seized the rifle and snatched it from his hands. He\\nfelt the automatic pistol and the ammunition being removed from his\\npockets. Then, firmly held in the flexible arms of green metal, he was lifted\\nagainst the cylinder of violet liquid. The monster spread its broad\\nemerald wings, and Larry was swiftly borne into the air. In a few moments the wide ruins of the ancient city were spread below,\\nwith the green line of the choked canal cutting the infinite red waste\\nof the desert beyond it. The monster flew westward. *       *       *       *       *\\n\\nFor a considerable time, nothing save barren, ocherous desert was in\\nview. Then Larry's weird captor flew near a strange city. A city of\\ngreen metal. The buildings were most fantastic--pyramids of green,\\ncrowned with enormous, glistening spheres of emerald metal.\",\n",
       " \"Lockley went over the rock shelf inch by inch. No red\\nstains which might be blood. Nothing....\\n\\nNo. In a patch of soft earth between two stones there was a hoofprint. It was not a footprint. A hoof had made it, but not a horse's hoof,\\nnor a burro's. It wasn't a mountain sheep track. It was not the track\\nof any animal known on earth. But it was here. Lockley found himself\\nwondering absurdly if the creature that had made it would squeak, or\\nif it would roar.\",\n",
       " 'Come in as often as\\nyou like.\" The crewman closed the door after him. *       *       *       *       *\\n\\nHe had been gone only a moment, scarcely time for Nestir to get\\nproperly launched on his account, when Harry, the third mate, knocked\\non the door and was admitted. \"Oh? Good morning, Captain. I didn\\'t know you were here.\" Then, to the\\npriest: \"I\\'ll come back later, Father.\" \"Nonsense,\" said the captain. \"Come in.\" \"Well, I had hoped to see the Father for a minute on ... private\\nbusiness.\"',\n",
       " '\"We\\'ll be ready when you are, sir.\" The chief analyst took less than the estimated ten minutes for his next\\nset of figures. Commander O\\'Brine called personally while Rip was still\\nsearching for the right landing-boat ports. The voice horn bellowed, \"Get\\nit, Lieutenant Foster! The mass measurements are correct. This is your\\nasteroid. Estimated twelve minutes before we reach it. Your data will be\\nready by the time you get back here. Show an exhaust!\" Rip found Koa and the men and asked the sergeant major for a report.',\n",
       " 'And the\\nthought of coming to grips with the assassin filled him with a strange\\nsatisfaction. Massan had spent a good many years serving his government on the rich\\nbut inhospitable high-gravity planets of the Acquataine Cluster. This\\nwas the environment he had chosen: crushing gravity; killing\\npressures; atmosphere of ammonia and hydrogen, laced with free\\nradicals of sulphur and other valuable but deadly chemicals; oceans of\\nliquid methane and ammonia; \"solid ground\" consisting of quickly\\ncrumbling, eroding ice; howling superpowerful winds that could pick up\\na mountain of ice and hurl it halfway around the planet; darkness;\\ndanger; death. He was encased in a one-man protective outfit that was half armored\\nsuit, half vehicle. There was an internal grav field to keep him\\ncomfortable in 3.7 gees, but still the suit was cumbersome, and a man\\ncould move only very slowly in it, even with the aid of servomotors. The weapon he had chosen was simplicity itself--a hand-sized capsule\\nof oxygen. But in a hydrogen/ammonia atmosphere, oxygen could be a\\ndeadly explosive. Massan carried several of these \"bombs\"; so did\\nOdal. _But the trick_, Massan thought to himself, _is to know how to\\nthrow them under these conditions; the proper range, the proper\\ntrajectory. Not an easy thing to learn, without years of experience._\\n\\nThe terms of the duel were simple: Massan and Odal were situated on a\\nrough-topped iceberg that was being swirled along one of the\\nmethane/ammonia ocean\\'s vicious currents.',\n",
       " '\"From the times of antiquity up to the last quarter of the eighteenth\\ncentury,\" said the lad, \"there had been almost no progress in the\\nmechanical sciences save as to shipbuilding and arms. From 1780, or\\nthereabouts, dates the beginning of a series of discoveries of sources of\\npower, and their application by machinery to economic purposes, which,\\nduring the century following, completely revolutionized the conditions of\\nindustry and commerce. Steam and coal meant a multiplication of human\\nenergy in the production of wealth which was almost incalculable. For\\nindustrial purposes it is not too much to say that they transformed man\\nfrom a pygmy to a Titan. These were, of course, only the greatest factors\\nin a countless variety of discoveries by which prodigious economies of\\nlabor were effected in every detail of the arts by which human life is\\nmaintained and ministered to. In agriculture, where Nature, which can not\\nbe too much hurried, is a large partner, and wherein, therefore, man\\'s\\npart is less controlling than in other industries, it might be expected\\nthat the increase of productive energy through human invention would be\\nleast. Yet here it was estimated that agricultural machinery, as most\\nperfectly developed in America, had multiplied some fifteenfold the\\nproduct of the individual worker. In most sorts of production less\\ndirectly dependent upon Nature, invention during this period had\\nmultiplied the efficiency of labor in a much greater degree, ranging from\\nfifty and a hundred-fold to several thousand-fold, one man being able to\\naccomplish as much as a small army in all previous ages.\" \"That is to say,\" said the teacher, \"it would seem that while the needs\\nof the human race had not increased, its power to supply those needs had\\nbeen indefinitely multiplied. This prodigious increase in the potency of\\nlabor was a clear net economic gain for the world, such as the previous\\nhistory of the race furnished nothing comparable to.',\n",
       " '\"I\\'m afraid I wasn\\'t very specific on the phone\\nlast night,\" he said. \"It wasn\\'t anything I wanted to discuss over a\\nline that might have been tapped. You see, I\\'m on the telepathy case.\" Dr. O\\'Connor\\'s eyes widened the merest trifle. \"I see,\" he said. \"Well,\\nI\\'ll certainly do everything I can to help you.\" \"Fine,\" Malone said. \"Let\\'s get right down to business, then. The first\\nthing I want to ask you about is this detector of yours.',\n",
       " 'Was there any possibility of forcing\\nBarter to perform the operation? No, for under the anesthetic again,\\nBarter, angered by the thwarting of whatever purpose actuated him,\\nmight do something even worse than he had done--if that were possible. Again, even if he reached civilisation with Ellen, every human hand\\nwould be turned against him. Rifles would hurl their lead into him. Hunters would pursue him....\\n\\nNo, it was impossible. Bentley, Ellen, and the Apeman--his own body, ape-brained--were but\\npawns in the hands of Barter. Barter might be actuated by a desire to\\nserve science, that science which was alike his tool and his god. Bentley scarcely doubted that Barter believed himself specially\\nordained to do this thing, in the name of science; probably,\\nunquestionably, felt himself entirely justified. Plainly, now that Bentley recalled things Barter had said, Barter had\\nwaited for an opportunity of this kind--had waited for someone to be\\ntossed into his net--and Ellen and Lee, flotsam of the sea, had come\\nin answer to the prayer for whose answer Barter had waited. It was horrible, yet there was nothing they could do--at least, to\\nfree themselves--until it pleased Barter to take the step.',\n",
       " 'Course, the\\nother one could have a flame spirit in him too.\" He stared severely at\\nChandler. \"Boys, keep an eye on him, why don\\'t you?\" he said to two\\nmen in the front row, surrendering his gun. \"Meggie, you tell about the\\nfemale one.\" The teen-aged girl stepped forward and said, in a conversational tone\\nbut with modest pride, \"People of Orph\\'lese, well, I was walking down\\nthe cut and I heard this car coming. Well, I was pretty surprised, you\\nknow. I had to figure what to do. You all know what the trouble is with\\ncars.\" \"The imps!\"',\n",
       " 'A thought jolted him. He\\nspoke casually, aware he might be stepping on Richter\\'s toes: \"There\\'s\\none thing I don\\'t understand....\"\\n\\n\"What?\" \"Larkwell\\'s an enemy agent....\" He hesitated. \"And...?\" \"Why didn\\'t he attempt to solicit your aid?\" Crag finished bluntly. \"You\\'re a spaceman, Commander, not an intelligence agent.\" \"I don\\'t get the connection.\" \"An agent trusts no one. And a saboteur is the lone wolf of the agents.',\n",
       " 'His eyes opened wider. Sun Woman was kneeling before him. \"My son.\" She reached out to him, and he scrambled to embrace her. When\\nher strong arms held him he felt like a little boy again. He sat back to look at her dear face, wet with tears. Resting beside her\\non the ground was the familiar basket with blue cloth cover that she\\nused to gather herbs. He looked around for the sun. It was low and red on the western horizon. It had been high when he sat down here.',\n",
       " '\"I want to see your\\nworld, before I die. It must be a wonderful place. A world is what its\\npeople make it, and your people must be able to make anything of your\\nworld that you would want.\" \"We almost made a lifeless desert, like the poles of Uller, out of our\\nworld, once,\" von Schlichten told him. \"Four hundred and more years\\nago, we fought great wars among ourselves, with weapons such as I hope\\nwill never even be thought of on Uller. Our whole Northern Hemisphere,\\nwhere our greatest nations were, was devastated; much of it is\\nwasteland to this day. But we put an end to that folly in time; we\\nmade one nation out of all our people, and swore never to commit such\\ncrimes again, and then we built the ships that took us out to the\\nstars. But I want you to see our world, and some of the other worlds\\nthat we have visited, I think you would like it.\" \"I know I would. And with you to tell me what the things I would see\\nmeant....\" Kankad was silent for a moment.',\n",
       " 'That is why we need no\\nsigns or addresses. There are certain restrictions; for instance, no one\\ncan read another\\'s thoughts without his permission. Of course, we still\\nhave speech; speech and language are the ABC\\'s of the Venusian; and we\\nstill keep the telephone, for the sake of checking up now and then. Just\\nnow, we are driving for my own house, where there is apparatus which\\nwill enable you to both hear and understand an announcement which is\\nshortly to be made.\" There was something decidedly satisfying, especially to Van Emmon, in\\nbeing taken into the Venusian confidence to this extent. When he put his\\nquestion, it was with his former aggressiveness much modified. He said:\\n\\n\"I should think that your people have pretty well exhausted the\\npossibilities of the supernatural, by this time. Progress having come to\\nan end, I don\\'t see what you find to interest you, Myrin.\" \"The fact is,\" Billie put in, \"we feel somewhat disappointed that your\\npeople have shown so little interest in us.\" And she gave a sidelong\\nglance at Estra, who returned the look with a direct, smiling gaze which\\nsent a flood of color into the architect\\'s face.',\n",
       " \"There are still so many\\nwounds.' Never, it seemed to him, had she spoken more truly. For he now felt in\\nthe wrenching of his heart, as surely as if the flesh itself ached and\\nbled, the many scars that lay across him. He became quiet, and put his\\nhead against her, knowing that for all his yearning, patience alone\\nwould heal him, and make those forgotten dreams possible. Time passed. At length Kalus raised himself, understanding, and better able to handle\\nthe heightened state of his senses, feeling once more like a peaceful\\nsea from which the gale has passed, softened and grateful. 'Thank you,' he said to her. He took a deep breath. 'Are you all right?' There was something more than womanly concern in her voice.\",\n",
       " 'Now he was pale and\\nwild-eyed, gasping as he breathed like one who has run far and fast. His gaunt face was scratched and bloody, his clothes were hanging in\\nrags, and his hat was gone. I stared in amazement, but he gave me no\\nchance for questions. He was grabbing at our stores all the time he\\nspoke. \"Quick, young fellah! Quick!\" he cried. \"Every moment counts. Get\\nthe rifles, both of them. I have the other two.',\n",
       " 'He knew that those copper\\nbodies were not encased in metal, for the flesh of the one he had\\nfought with had sunk under his blows. Their skin was coated with a\\npreparation, heat resistant without a doubt, and the golden one must\\nhave been treated in somewhat the same way. His thoughts flashed quickly over this. It was the face of that seated\\nfigure that riveted his attention, a white face, milk-white, so white\\nit seemed almost chalky! *       *       *       *       *\\n\\nFor one breathless second Rawson was filled with a wordless hope. Those white ones of his dream had looked upon him with kindly eyes. They were human--men of another race, but men. Then beneath the chalky\\nwhiteness of the face he found the hideous features of the red\\nMole-men, and knew that the white color of the face was as false as\\nthat of the golden body. But he was their leader. He was someone of importance.',\n",
       " '\"I should have known! What\\nhave I done but display my cowardice? I\\'m getting yellow in my old age!\" Sir Martin shook his head. \"Cowardice, my lord? Nothing of the sort. Prudence, I should call it. By the by, the judge and a few others are\\ncoming over.\" He chuckled softly. \"We thought we might talk you out of a\\nmeal.\"',\n",
       " '\"Them cloth things over there.\" \"Those, Madam,\" he said, \"are priceless drapes I had imported from the\\nprovince of San Xalthan. They have a long, strange history. \"About three thousand years ago, a family by the name of Soong was\\nforced to flee from the city of Xan because the eldest son of the\\nfamily had become involved in a conspiracy against the illustrious King\\nFod. As the Soong family was traveling....\"\\n\\n\"I don\\'t like \\'em anyway,\" said Wanda. \"Madam,\" said the captain, \"kindly bring me that.\" \"This?\" \"Yes. Thank you.\" He took the doll from her.',\n",
       " 'He looked as though one gentle shove\\nmight send him yodeling down Market Street in his underdrawers. \"Hold\\nit,\" said Pete. \"Relax, I\\'m not going to leave for a while yet. Your\\ngirl screamed something about a senator as we came in. Did you hear\\nher?\" Tommy gave a violent start. \"Senator! Oh, dear.\" He flipped a desk\\nswitch. \"What senator is that?\"',\n",
       " 'The Preceptress remained silent a long time, apparently absorbed in the\\nbeauty of the landscape that stretched before us. The falling waters of\\na fountain was all the sound we heard. The hour was auspicious. I was so\\neager to develop a revelation of the mystery about these people that I\\nbecame nervous over my companion\\'s protracted silence. I felt a delicacy\\nin pressing inquiries concerning information that I thought ought to be\\nvoluntarily given. Inquisitiveness was regarded as a gross rudeness by\\nthem, and I could frame no question that I did not fear would sound\\nimpertinent. But at last patience gave way and, at the risk of\\nincreasing her commiseration for my barbarous mental condition, I asked:\\n\\n\"Are you conversant with the history of the times occupied by the\\noriginals of the portraits we have just seen?\" \"I am,\" she replied. \"And would you object to giving me a condensed recital of it?\" \"Not if it can do you any good?\"',\n",
       " 'Better than the house trailer my dad used to hook onto the jalopy when I\\nwas ten... My Alice likes it, too, Chief--that\\'s the _real_ signal! Tell\\nyour pals Kuzak that this is the Idea of the Century.\" Frank Nelsen kind of thought so, too, just then. The first thing he did\\nwas to beam the Survey Station on Mars, like he was doing twice a\\nweek--to communicate more often would have courted the still dangerous\\nchance of being pinpointed. For similar reasons he couldn\\'t explain too\\nclearly what his project was, but he hoped that he had gotten a picture\\nof what it was like across to his girl. \"Come see for yourself, Nance,\" he said enthusiastically. \"I\\'ll arrange\\nfor a caravan from Post One to stop by on Phobos and pick you up. Also--there\\'s my old question... So, what\\'ll it be, Nance? Maybe we can\\nfeel a little surer of ourselves, now. We can work the rest out.',\n",
       " 'It sparkled upon the great lance carried\\nby Burl in the lead, and the quite preposterous weapons borne by his\\nfollowers. The little party of twenty humans waded ashore through the last of the\\nthinning white stuff which was cloud. They gazed about them with\\nblinking, wondering, astounded eyes. The sky was blue. There was green\\ngrass. And there was sound. The sound was of wind blowing in the trees\\nand sunshine. They heard insects, too, but they did not know what it was they heard. The shrill, small musical whirrings, the high-pitched small cries which\\nmade up a strange new elfin melody, were totally strange. All things\\nwere novel to their eyes, and an enormous exultation filled them.',\n",
       " '\"Do you think you could make me tell you?\" \"There are ways--but I\\'m not here to use them. I am not your enemy.\" A little of the hostility faded from her face and she asked, \"But how\\ncould a Vogarian ever not be our enemy?\" He could find no satisfactory answer to the question. \"I can tell you this,\" she said. \"I know of no resistance\\norganization. I can also tell you that we\\'re not the race of cowards\\nyou think and we\\'ll fight the instant Father Brenn gives the word.\" \"For one who speaks respectfully of Brenn,\" he said, \"your recent\\nwords and actions weren\\'t very religious and refined.\" Fire flashed in the green eyes again.',\n",
       " 'He liked\\nthe fellows--they had been among his best friends for five long, happy\\nyears. Only now was he truly beginning to realize what a tremendous\\nprice he was paying ... and would have to pay all his life. He stepped in and swung ... and was instantly the target for flying\\nfists. He was knocked down several times, but always managed to get up\\nagain. He had been well trained in fighting of all types--and now he was\\nputting all his knowledge and skill into use--but only for defense and\\nthe pretense of attack. Even so he was getting badly mauled, for they were as well trained--and\\nwere five to his one. His clothes were dirty and ripped from the\\nknock-downs, and a button was torn off his coat. His knuckles were\\nskinned, and he could feel that his face was becoming a mass of bruises. A hard left connected with his mouth, and he spat out a broken tooth. \"\\'Ten-shun!\"',\n",
       " 'He was hanged. He was brought back to life; and Jerry--I was that\\nscientist!\" Whew! I fell back to a box again. My knees seemed to forsake me. Then I\\nheard Hammersly talking to himself. \"Five years it\\'s been,\" he muttered. \"Five years since I turned him\\nloose again. Five years of agony for me, wondering what new devilish\\ncrimes he was perpetrating, wondering when he would return to that\\nlittle farm to swing his ax again. Five years--five years.\"',\n",
       " 'He showed it to\\nHawkes; it read _Year 17 Day 3_. \"Every twenty-four hours of subjective\\ntime that goes by, we click off another day. Every three hundred\\nsixty-five days another year is ticked off. But I guess I won\\'t be\\nneeding this any more.\" He tossed it in the disposal unit. \"I\\'m an Earther now. Every day that\\ngoes by is just one day; objective time and subjective time are equal.\" Hawkes grinned cheerfully. \"A little plastic doodad to tell you how old\\nyou are, eh? Well, that\\'s all behind you now.\"',\n",
       " \"He remained where he was while Captain Court walked slowly toward the\\ndoor, both hands well in sight. A pace from the door he stopped and\\nexchanged a few words with someone watching him through a barred\\npeephole. After a moment, the door slid open and he walked into the\\nbuilding. He was the last to arrive at the warden's office. Lansing gazed at him\\nin fascination. Goldsmid had been a Golden Gloves champion middleweight\\nbefore he had heeded the call of the Law, and he looked it. Dr. Slade\\nwas the prototype of all overworked doctors. But Court was a type by\\nhimself. Lansing thought he'd never seen a colder eye.\",\n",
       " '\"I would blot out the recollection that you went boat-riding with Will\\nTaylor last Wednesday afternoon, and what I\\'ve felt about it ever since.\" \"Dear me, Mr. Henry Burr,\" said Madeline, with an air of excessive\\ndisdain, \"how long is it since I authorized you to concern yourself with\\nmy affairs? If it wouldn\\'t please you too much, I\\'d certainly box your\\nears. \"I think you\\'re rather unreasonable,\" he protested, in a hurt tone. \"You\\nsaid a minute ago that you wouldn\\'t permit me to be jealous of you, and\\njust because I\\'m so anxious to obey you that I want to forget that I ever\\nwas, you are vexed.\" A small noise, expressive of scorn, and not to be represented by letters\\nof the alphabet, was all the reply she deigned to this more ingenious\\nthan ingenuous plea. \"I\\'ve made my confession, and it\\'s only fair you should make yours,\" he\\nsaid next. \"What remorseful deed have you done that you\\'d like to\\nforget?\" \"You needn\\'t speak in that babying tone.',\n",
       " 'But discovery was inevitable, and\\nat last one did see the fleeing pair--one who had kept his head and\\nwas looking for them. It was Shabako. He roared:\\n\\n\"The stranger escapes--and the girl! There, there! Hold them!\" His imperative shout brought a measure of control to the soldiers, who\\nwere fighting to get through the doorway. They grouped uncertainly\\ntogether, gripping their swords and staring wildly around. They saw,\\nin the ruddy light of the flames, a grim-faced man pressing into them,\\nholding in one hand a stubby black object, and in the other the arm of\\nthe sacrifice, Taia. *       *       *       *       *\\n\\nWes cursed, and, forgetting that the warriors understood no English,\\nordered them in that tongue to make way for him. For answer, one of\\nthem leaped out at him, his sword swinging up.',\n",
       " 'The expert beamed. He examined the\\nindicators of the lie-detector with great care. \"What is your plan?\" he said at last, in a conspiratorial whisper. \"To answer your questions, truthfully and logically,\" Korvin said. The silence this time was even longer. \"The machine says that you tell the truth,\" the experts said at last,\\nin a awed tone. \"Thus, you must be a traitor to your native planet. You must want us to conquer your planet, and have come here secretly\\nto aid us.\" Korvin was very glad that wasn\\'t a question.',\n",
       " 'Not exactly empty. It had some stuff in it.\" I turned to the judge. \"If the Court please, I would like to have the\\nso-called device, Exhibit A, opened so that the members of the jury may\\nsee for themselves what it contains.\" [Illustration]\\n\\nJudge Lapworth said: \"The Court would like very much to see the internal\\nworkings of this device, too. Bailiff, if you will, please.\" The bailiff handed him the gadget from the exhibit table. \"How does it open?\" asked the judge. He turned to Thompson.',\n",
       " \"Under the huge dome that enclosed the main part of the city, the\\nheavier air pressure permitted normal travel of sound; and he'd become\\nsensitive to the voice of the city after the relative quiet of the\\nNineteenth Precinct. But now the normal noise was different. There was\\nan undertone of hushed waiting, with the sharp bursts of hammering and\\nlast-minute work standing out sharply through it. Voting booths were\\nbeing finished here and there, and at one a small truck was delivering\\nballots. Voting by machine had never been established here. Wherever the\\nbooths were being thrown up, the nearby establishments were rushing\\ngates and barricades in front of the buildings. Most of the shops were already closed--even some of the saloons. To make\\nup for it, stands were being placed along the streets, carrying banners\\nthat proclaimed free beer for all loyal administration friends. The few\\nbars that were still open had been blessed with the sign of some mob,\\nand obviously were well staffed with hoodlums ready to protect the\\nproprietor. Private houses were boarded up.\",\n",
       " \"As I intend to defend the issue in the case, I shall do as you\\nrequest, and will leave all further communications to be made through my\\nsolicitors. Yours, &c.,\\n\\nJOHN GREEN. VIII. 15, _Peace Court, Temple, E.C._\\n\\nMessrs. BANG, CRASH & Co.,\\n\\n_9a, Quarrel Row, E.C._\\n\\n_Smythe_ v. _Green_. GENTLEMEN,--We are in receipt of your communication of yesterday's date,\\nwith which you enclose copy of letter dated August 21. We note that you\\nstate the document in question has been duly stamped at Somerset House,\\nand are writing our client this evening with a view to offering your\\nclient terms, through you, to stay the proceedings which have been\\ncommenced. Yours faithfully,\\n\\nBLITHERS, BLATHERS, BLOTHERS & Co. *       *       *       *       *\\n\\nSTRANGE BUT TRUE.--When does a husband find his wife out?\",\n",
       " 'One of the Irish\\nMembers had selected as his friend Frank Slavin, the well-known\\nprize-fighter, who had an admiring group round him, to whom no doubt he\\nwas relating the history of his many plucky battles. [Illustration: WHAT HAPPENED.] \"The stimulating effect of this may have been the cause for the assault\\nupon me in the Inner Lobby, which has afforded the stale House some\\nlittle excitement, which has been the salvation of the silly season. So\\nmany papers have given startling accounts of this attack upon me, some\\nstating that I was caned, others that I was pummelled, shaken like a\\ndog, and so on, that I am glad to take the opportunity of giving a clear\\nstatement of what really occurred. I was standing close to the doors of\\nthe Inner Lobby, talking to Mr. Cuthbert Quilter, when Mr. Swift\\nMacNeill interrupted us by asking me, \\'Are you the man that draws the\\ncartoons in _Punch_?\\' \\'That depends upon what they are,\\' said I. \\'I\\nrefer to one,\\' said the excited Member, \\'that has annoyed me very much,\\'\\n\\'Let me see it,\\' I replied. Mr.',\n",
       " 'At any rate, it is\\nworth investigating.\" *       *       *       *       *\\n\\nFar away from the comfortable glare of Broadway, in a place of\\ndisheveled houses and insufficient street-lamps, there stands the old\\nwarehouse which modern enterprise has converted into the Highfield\\nAthletic and Gymnastic Club. The imagination, stimulated by the title,\\nconjures up picture-covered walls, padded chairs, and seas of white\\nshirt front. The Highfield differs in some respects from this fancy\\npicture. Indeed, it would be hard to find a respect in which it does\\nnot differ. But these names are so misleading! The title under which\\nthe Highfield used to be known till a few years back was \"Swifty\\nBob\\'s.\" It was a good, honest title. You knew what to export, and if\\nyou attended seances at Swifty Bob\\'s you left your gold watch and your\\nlittle savings at home. But a wave of anti-pugilistic feeling swept\\nover the New York authorities.',\n",
       " 'I give it to the\\nmilkman!\"] *       *       *       *       *\\n\\n[Illustration: PROGNOSTICATION\\n\\nWhen Mrs. Tubbles awoke (she sleeps very soundly), the morning after\\nthat farmers\\' dinner, she found John by her side with his boots on and\\nthe umbrella open! His explanation was that, besides being very tired,\\nhe perhaps \"fansh\\'d there wash \\'shtorm comin\\' on!\" [It came!\\n\\n] *       *       *       *       *\\n\\nA HUSBAND\\'S LAMENT\\n\\nAIR--\"_I once had a sweet little Doll, dears._\" (_Kingsley\\'s words, set\\nby A. Cecil._)\\n\\n    I once saw a sweet pretty face, boys:\\n      Its beauty and grace were divine. And I felt what a swell I should be, boys,\\n      Could I boast that such charms were all mine! I wooed. Every man I cut out, boys,\\n      At my head deep anathemas hurled:--\\n    But I said as I walked back from church, boys,\\n      \"I\\'m the luckiest dog in the world!\" As doves in a cot we began, boys,\\n      A cosy and orthodox pair:\\n    Till I found at my notable wife, boys,\\n      The world was beginning to stare.',\n",
       " '\"Yes,\" said Bindle, as he removed his coat; \"but it was worth it:\"\\n\\nMrs. Bindle stared. CHAPTER XVIII\\n\\nBINDLE ASSISTS IN AN ELOPEMENT\\n\\n\\nI\\n\\nWhen Bindle announced to Mrs. Bindle that he intended to enlist in\\nKitchener\\'s Army, she opened upon him the floodgates of her wrath. \"You never was a proper husband,\" she snapped viciously. \"You\\'ve\\nneglected me ever since we was married. Now you want to go away and\\nget killed. What shall I do then? What would become of me?\" \"Well,\" said Bindle slowly, \"yer would become wot they calls a widder.',\n",
       " 'That man,\\nGeorge, crippled as he is, lives on next to nothing. I don\\'t believe he\\nhas two hundred dollars a year.\" \"Well, we could give him twelve hundred and not miss it and then give\\nthe same sum to Widow Clausen. She can barely keep alive.\" \"And there\\'s another thing I\\'d do,\" said Mrs. Grimes. \"If we kept a\\ncarriage I would never ride up alone from the station or for pleasure. I\\nwould always find some poor or infirm person to go with me. How people\\ncan be so mean about their horses and carriages as some rich people are\\nis beyond my comprehension.\" It is delightful pastime, expending in imagination large sums of money\\nthat you haven\\'t got.',\n",
       " '\"I assure your\\nMajesty that your Majesty may rely on my addressing your Majesty as\\n\\'Your Majesty\\' for the future, your Majesty.\" \"That is better, Miss Heritage, much better--a little overdone, but\\nstill--And now,\" she added, \"you had better go and see if Princess Edna\\nwants any assistance. You need not trouble to change your own dress, as,\\nof course, you will not sit down to dinner with us.\" \"She\\'s too priceless!\" thought Daphne, when she was outside on the\\ngallery, and could indulge her sense of humour in safety. \"Still, I\\ndon\\'t think I _could_ stand her very long if it weren\\'t for Ruby!\" \"I say, Mater,\" the Crown Prince called out a few minutes afterwards\\noutside his Mother\\'s door, \"how much longer are you and the Guv\\'nor\\ngoing to be? All night?\" \"You can come in, Clarence,\" she said. \"How soon your Father will be\\nready, I can\\'t say.',\n",
       " 'Lord Belpher started. \"America!\" \"Yes, sir. I am in England on a vacation. My cousin, Albert, is\\npage boy at the castle, and he told me there were a few vacancies\\nfor extra help tonight, so I applied and was given the job.\" Lord Belpher frowned perplexedly. It all sounded entirely\\nplausible. And, what was satisfactory, the statement could be\\nchecked by application to Keggs, the butler. And yet there was a\\nlingering doubt. However, there seemed nothing to be gained by\\ncontinuing the conversation.',\n",
       " 'But do you know what an engaging,\\nwhat a reviving spectacle you presented, as you stood there flourishing\\nyour hat? What do you imagine people thought? And what would have\\nhappened to you if I had just chanced to be a policeman instead of a\\nfriend?\" \"Would you have clapped your handcuffs on me?\" he inquired. \"I suppose\\nmy conduct did seem rather suspicious. I was in the deepest depths of\\ndejection. One must give some expression to one\\'s sorrow.\" \"Are you going towards Kensington?\" she asked, preparing to move on.',\n",
       " \"The Chemist of the Carolinas\\n\\n\\nAsheville, N. C., Dec. 13--Last week I went out into the mountains for\\nthe purpose of securing a holly tree with red berries on it for\\nYuletide. I had noticed in all my pictures of Christmas festivities in\\nEngland that the holly, with cranberries on it, constituted the\\nbackground of Yuletide. A Yuletide in England without a holly bough and\\na little mistletoe in it wouldn't be worth half price. Here these\\nvegetables grow in great confusion, owing to the equable climate, and so\\nthe holly tree is within the reach of all. I resolved to secure one personally, so I sped away into the mountains\\nwhere, in less than the time it takes to tell it, I had succeeded in\\nfinding a holly tree and losing myself. It is a very solemn sensation to\\nfeel that you are lost, and that before you can be found something is\\nliable to happen to the universe. I wandered aimlessly about for half an hour, hoping that I would be\\nmissed in society and some one sent in search of me. I was just about to\\ngive up in despair and sink down on a bed of moss with the idea of\\nshuffling off six or seven feet of mortal coil when, a few rods away, I\\nsaw a blue smoke issuing from the side of the mountain and rising toward\\nthe sky. I went rapidly towards it and found it to be a plain dugout\\nwith a dirt floor.\",\n",
       " 'then old mister Pollard got up and\\nput in his vote and when he stepped down his heels flew up and he went\\ndown whak on the back of his head and 2 men lifted him up and lugged him\\nto a seat, and then Ed Derborn, him that rings the town bell, stepped up\\npretty lively and went flat and swort terrible, and me and Beany nearly\\ndied we laffed so. well it kept on, people dident know what made them\\nfall, and Gim Odlin sat write down in his new umbrella and then they\\nsent me down stairs for a pail of wet sordust and when i was coming up i\\nheard an awful whang, and when i got up in the hall they were lugging\\nold mister Stickney off to die and they put water on his head and lugged\\nhim home in a hack. me and Beany dont know what to do. if we dont tell,\\nBob will lose his place and if we do we will get licked. Mar. 31. April fool day tomorrow. i am laying for Beany. old Francis\\nlicked 5 fellers today becaus they sung rong when we was singing speek\\nkindly it is better for to rule by luv than feer. June 14.',\n",
       " 'Fenn was still unequal to the intellectual pressure of the\\nconversation. He could understand, in a vague way, that for some\\nunexplained reason things were going well for him, but beyond that his\\nmind was in a whirl. \"You will remember the unfortunate burglary of Mr Kay\\'s house and\\nmine. Your cap was returned with the rest of the stolen property.\" \"Just so,\" thought Fenn. \"The rest of the stolen property? Exactly. _Go_ on. Don\\'t mind me. I shall begin to understand soon, I\\nsuppose.\"',\n",
       " 'Edward V. at twelve years of age became king, and his uncle Dick, Duke\\nof Gloucester, became Protector. As such he was a disgrace, for he\\nprotected nobody but himself. The young king and his brother, the Duke\\nof York, were placed in the Tower, and their uncle, Lord Hastings, and\\nseveral other offensive partisans, on the charge of treason, were\\nexecuted in 1483. He then made arrangements that he should be urged to\\naccept the throne, and with a coy and reluctant grace peculiar to this\\ngifted assassin, he caused himself to be proclaimed Richard III. [Illustration: DEATH OF BUCKINGHAM.] Richard then caused the young princes to be smothered in their beds, in\\nwhat is now called the Bloody Tower. The Duke of Buckingham was at first\\nloaded with honors in return for his gory assistance; but even he became\\ndisgusted with the wicked usurper, and headed a Welsh rebellion. He was\\nnot successful, and, in 1483, he received a slight testimonial from the\\nking, as portrayed by the gifted artist of this work. The surprise and\\nsorrow shown on the face of the duke, together with his thrift and\\neconomy in keeping his cigar from being spattered, and his determination\\nthat, although he might be put out, the cigar should not be, prove him\\nto have been a man of great force of character for a duke. Richard now espoused his niece, daughter of Edward IV., and in order to\\nmake the home nest perfectly free from social erosion, he caused his\\nconsort, Anne, to be poisoned.',\n",
       " 'CHAPTER XIII\\n\\nTHE RETURN OF CHARLIE DIXON\\n\\n\\n\"Oh, Uncle Joe! Charlie\\'s back, and he\\'s going to take us out\\nto-night, and I\\'m so happy.\" Bindle regarded the flushed and radiant face of Millie Hearty, who had\\njust rushed up to him and now stood holding on to his arm with both\\nhands. \"I thought I should catch you as you were going home,\" she cried. \"Uncle Joe, I--I think I want to cry.\" \"Well,\" remarked Bindle, \"if you\\'ll give your pore ole uncle a chance\\nto get a word in edgeways, \\'e\\'d like to ask why you wants to cry.\" \"Because I\\'m so happy,\" cried Millie, dancing along beside him, her\\nhands still clasping his arm. \"I see,\" replied Bindle drily; \"still, it\\'s a funny sort o\\' reason for\\nwantin\\' to cry, Millikins;\" and he squeezed against his side the arm\\nshe had now slipped through his. \"You will come, Uncle Joe, won\\'t you?\" There was eager entreaty in her\\nvoice.',\n",
       " 'whispered the\\nanxious author at his side. \"What fate!\" said Bannister; \"why, what can\\nfire and water produce but a _hiss_?\" MDCXCIII.--TOO MUCH AT ONCE. LORD CHESTERFIELD one day, at an inn where he dined, complained very\\nmuch that the plates and dishes were very dirty. The waiter, with a\\ndegree of pertness, observed, \"It is said every one must _eat a peck of\\ndirt_ before he dies.\" --\"That may be true,\" said Chesterfield, \"but no\\none is obliged to eat it all _at one meal_, you dirty dog.\" MDCXCIV.--EPIGRAM. (On Bishop ----\\'s Religion.) THOUGH not a Catholic, his lordship has,\\n    \\'Tis plain, strong disposition to a-mass (a mass).',\n",
       " 'If this was a\\nsample of life in the office, she thought, the paper had been well\\nnamed. She felt soothed and almost happy. Interesting and exciting things, New York things, began to happen at\\nonce. To her, meditating, there entered Pugsy Maloney, the guardian of\\nthe gate of this shrine of Peace, a nonchalant youth of about fifteen,\\nwith a freckled, mask-like face, the expression of which never varied,\\nbearing in his arms a cat. The cat was struggling violently, but he\\nappeared quite unconscious of it. Its existence did not seem to occur\\nto him. \"Say!\" said Pugsy. Betty was fond of cats. \"Oh, don\\'t hurt her!\"',\n",
       " 'He was called\\nPrince Proper. The second son was a very wise youth. You couldn\\'t catch him anyhow. If\\nyou asked him whether he knew the story of the three wells, or \"Why does\\na chicken cross the road?\" or anything really amusing like that, he\\nwould always say, \"Oh, I heard that _years_ ago!\" --and whenever you\\nbegan \"Adam and Eve and Pinchme\" he would pinch you at once without\\nwaiting like a gentleman until you had got to the end of the verse. He\\nwas called Prince Clever. And the third son was just wonderfully beautiful. He had the most\\nmarvellously pink cheeks and long golden hair that you have ever seen. I\\ndon\\'t much care for that style myself, but in the country in which he\\nlived it was admired more than I can tell you.',\n",
       " \"She would even laugh at his\\nefforts to assert his dignity--and he was unused to being laughed at,\\nespecially as he often did not even understand why she laughed. For\\nFairy Princes have never been noted for their sense of humour, and poor\\nMirliflor was certainly no exception. Once, when she had innocently\\npermitted herself to remark that she thought Prince Mirliflor had shown\\nvery little spirit or determination in his wooing of Princess Edna, he\\nlost his temper so completely as to tell her that she would be wiser not\\nto pass judgment on matters of which she knew so little. Daphne's\\nsilence showed how deeply he had offended, but he was too proud to\\nconciliate her, and so his evening came to an abrupt end in mutual\\ncoolness. On his way back he cursed himself for his folly. He had done\\nfor himself now--she would never forgive him, never speak to him again! How could he have been so mad when his only happiness was being near\\nher? But when he ventured back the next evening, prepared for final\\ndismissal, he found her as frank and friendly as ever; she seemed to\\nhave forgotten that they had ever fallen out at all. Unfortunately this\\nwas rather humiliating than gratifying, since it only showed how utterly\\ninsignificant he was in her eyes. But Daphne did not actually consider him insignificant at all.\",\n",
       " '\"Exactly, exactly,\" said de Vere, writing rapidly in his\\nnote-book as he sat in one of the deep leather armchairs\\nof the luxurious office of Mr. Overgold. \"So you sometimes\\nfeel as if the whole thing were not worth while.\" \"I do,\" said Mr. Overgold. \"I can\\'t help asking myself\\nwhat it all means. Is life, after all, merely a series\\nof immaterial phenomena, self-developing and based solely\\non sensation and reaction, or is it something else?\" He paused for a moment to sign a cheque for $10,000 and\\nthrow it out of the window, and then went on, speaking\\nstill with the terse brevity of a man of business. \"Is sensation everywhere or is there perception too? On\\nwhat grounds, if any, may the hypothesis of a\\nself-explanatory consciousness be rejected?',\n",
       " '\"Do it again!\" \"Tell it again?\" \"Good heavens, no! Forget all about her again.\" \"Nothing,\" said Eustace Hignett gravely, \"could make me do that. Our\\nsouls have blended. Our beings have called to one another from their\\ndeepest depths, saying ... There are your pyjamas, over in the\\ncorner ... saying, \\'You are mine!\\' How could I forget her after that? Well, as I was saying, we parted. Little did I know that she was\\nsailing on this very boat!',\n",
       " 'sleep is it? There ain\\'t no blinkin\\' sleep in this \\'ere ruddy\\ncamp.\" \"Wot\\'s up?\" enquired Bindle. \"Up!\" was the lugubrious response. \"Awake all last night, I was.\" \"Wot was you doin\\'?\" queried Bindle with interest. \"Scratchin\\'!\"',\n",
       " '\"What _is_ the good of tantalizing people?\" \"Besides,\" she continued, \"the woman might reasonably feel slightly\\nhumiliated to find herself forgotten in that bare-faced manner.\" \"The humiliation would be surely all the man\\'s. Have you heard from the\\nWohenhoffens lately?\" \"The--what? The--who?\" She raised her eyebrows. \"The Wohenhoffens,\" he repeated. \"What are the Wohenhoffens? Are they persons?',\n",
       " '\"I did nothing of the sort, Mr. Toppleton,\" pleaded Stubbs, his hand\\nshaking and his eyes wandering fearsomely over toward the mysterious\\ncorner where all was still and innocent-looking. \"That laugh came from\\nother lips than mine--if, indeed, it came from lips at all, which I\\ndoubt.\" \"You mean,\" cried Toppleton, grasping Stubbs by the arm with a grip that\\nmade the agent wince, \"you mean that this room is--\"\\n\\n\"Khee-hee-hee-hee-hee!\" came the derisive laugh from the corner,\\nfollowed by the mysterious whistle and heartrending sigh which Hopkins\\nhad already so unpleasantly heard. Toppleton was transfixed with terror, and the agent, with an ejaculation\\nof fear, ran from the room, and scurried down the stairs out into the\\ncourt as fast as his legs could carry him, where he fell prostrate in a\\nparoxysm of terror. Deserted by the agent and shut up in the room with his unwelcome\\nvisitor--for the agent had slammed the door behind him with such force\\nthat the catch had slipped and loosened the bolt, so that Toppleton was\\nto all intents and purposes a prisoner--Hopkins exerted what little\\nnerve force he had left, and pulled himself together again as best he\\ncould. He staggered to his table, and taking a small bottle of whiskey\\nfrom the cupboard at its side, poured at least one half of its fiery\\ncontents down into his throat. \"_Similia similibus_,\" said he softly to himself. \"If I have to fight\\nspirits, I shall use spirits.\"',\n",
       " 'The footman looked irresolute. \"Wait here a moment,\" he said, \"and I\\'ll ask Mr. Wilton.\" He half\\nclosed the door, which Bindle pushed open and entered, followed by\\nWilkes, Ginger and Huggles. A minute later, the butler, Mr. Wilton, approached. \"What is the meaning of this?\" he enquired. \"The meanin\\' of this, Your Royal \\'Ighness, is that we\\'ve brought\\nsixteen bedsteads, beddin\\', etcetera,--there\\'s an \\'ell of a lot of\\netcetera, as I told Calves,--for to turn the Ole Bird\\'s drawin\\'-room\\ninto billets for soldiers, as per instructions accordin\\' to this\\n\\'ere;\" and he held out the delivery-note to Mr. Wilton.',\n",
       " \"The children wuz stayin' at a fashionable boardin' house, kept by Miss\\nEliphalet Snow, a distant relation of Maggie's, who had lost her\\npardner and her property, but kep' her pride and took boarders for\\ncompany, so she said. And we wuz all goin' to start for Jonesville\\ntogether the next day. But as the baggage of our party wuz kinder\\nmixed up, Josiah and I thought we would go with Miss Meechim's party\\nto the tarven and stay. Robert Strong and our son, Thomas J., met like two ships of one line\\nwith one flag wavin' over 'em, and bearing the same sealed orders from\\ntheir Captain above. How congenial they wuz, they had been friends\\nalways, made so onbeknown to them, they only had to discover each\\nother, and then they wuz intimate to once, and dear. Dorothy and Miss Meechim and the children greeted each other with\\nsmiles and glad, gay words. Yes, all wuz a happy confusion of light\\nwords, gay laughter, Saratoga trunks, smiles, joy, satchel bags--we\\nhad got home. As I stood there surrounded by all that I prized most on earth I had a\\nglimpse of a haggard lookin' form arrayed in tattered finery, a bent\\nfigure, a young old face, old with drink and dissipation, that looked\\nsome way familiar though I couldn't place her. She looked at our party\\nwith a strange interest and seemed to say some murmured words of\\nprayer or blessing or appeal, and disappeared--soon forgot in our\\nboundless joy and the cares tendin' to our baggage. Arvilly wuz glad to set her feet on shore, for she too loved her\\nnative land with the love that a good principled, but stern\\nstepmother has for a interestin' but worrisome child that she's\\nbringin' up by hand.\",\n",
       " 'Sez I, \"Ernest White is doin\\' the Lord\\'s work if ever a man did, and I\\ncan\\'t think it is the Lord\\'s will that whilst he\\'s doin\\' it he ort to\\neat such bread as he has to--milk emtin\\'s and sour at that, to say\\nnothin\\' of fried stuff that a anaconda couldn\\'t digest. He deserves a\\nsweet, love-guarded home, and to be tended to by a woman that he\\nloves--one who could inspire him and help him on in the heavenly way\\nhe\\'s treading alone and lonesome.\" Her cheeks did turn pink then, and\\nher eyes looked like deep blue pools in which stars wuz shinin\\', but\\nshe didn\\'t say anything, and Robert Strong resoomed his talk with her\\nabout her hospital work. And before she left he gin her a big check to\\nuse for her patients; I don\\'t know exactly how big it wuz, but it went\\nup into the hundreds, anyway; and Dorothy gin her one, too, for I see\\nher write it; Miss Meechim gin her her blessin\\' and more\\'n a dozen\\ntracts, which mebby will set well on the patients, if administered\\ncautious. I myself gin her the receipt for the best mustard poultice\\nthat ever drawed, and two pairs of clouded blue-and-white wool socks I\\nhad knit on the way, and though it wuz a warm country she said they\\nwould come handy when her patients had chills. There wuz two young American girls at the hotel, and they happened to\\ncome into the parlor while we wuz talkin\\' and they sent a big\\npresent to the hospital. I guess they wuz real well off and good\\ndispositioned. They wuz travellin\\' alone and seemed to be havin\\' a\\nreal good time. One on \\'em wuz sunthin\\' of a invalid, but wuz\\noutdoors all day, I spoze tryin\\' to git well. They minded their\\nown bizness and didn\\'t do any hurt so fur as I could see, but\\nElder Wessel couldn\\'t bear \\'em.',\n",
       " \"Then, saies the Wife, all this, at least, there must\\nneeds be, if we will have any people of fashion come into our house. You know your Beloved hath also some Egs to fry, and did bring you a\\ngood Portion, though it consist in immovable Goods, as in Houses,\\nOrchards, and Lands that be oftentimes in another Shire. Thither you\\nmay go then, with your Hony, twice a year, for the refreshing of your\\nspirits, and taking your pleasure to receive the House-rents, fruits\\nof the Orchards, and revenues of the Lands. Here every one salutes you\\nwith the name of Landlord; and, according to their Country fashion,\\nindeavour to receive you with all civilities and kind entertainment. If, with their Hay-cart, you have a mind to go and look upon the Land,\\nand to be a participator of those sort of pleasures; or to eat some\\nnew Curds, Cream, Gammon of Bacon, and ripe Fruits, all these things;\\nin place of mony, shall be willingly and neatly disht up to you. For here you'l meet with complaints, that by the War the Houses are\\nburnt, the Orchards destroied, and the growth of the Fields spoiled! therefore it is not fit that you should trouble the poor people, but\\nthink, this is the use, custom, and fruits of War. If the Impositions\\nand Taxes run high, the Country Farmer can't help that; you know that\\nthe War costs mony, and it must be given, or else we should lose all. At such a time as this, your only mirth must be; that, through this\\ngallant marriage, you are now Lord of so many acres of Land, so many\\nOrchards, and of so many dainty Houses and Land. If your mony bags\\ndon't much increase by it at present, but rather lessen, that most no\\nwaies cloud your mirth.\",\n",
       " 'Get my Melton overcoat and my box, and\\nhave them at the Rahway station at 7.15 to-morrow morning. If I am not\\nthere, don\\'t wait for me, but come back here and boil my egg at once.\" This small bit of a lecture had had its effect on the man, to whom\\nthenceforth nothing was impossible; indeed, upon this very occasion he\\ndemonstrated to his employer his sterling worth, for when, on looking\\nover Van Squibber\\'s wardrobe, he discovered that his master had no\\nMelton overcoat, he telegraphed to his tailor\\'s and had one made from\\nhis previous measure in time to have it with Van Squibber\\'s box at the\\nRahway station at the stipulated hour the following morning. Of course\\nVan Squibber was not there. He had instructed his man as he had simply\\nto test him, and, furthermore, the egg was boiled to perfection. The\\ntest cost Van Squibber about $150, but it was successful, and it was\\nreally worth the money to know that his man was all that he should be. \"He\\'s not half bad,\" said Van Squibber, as he cracked the egg. \"It\\'s wintry,\" said Van Squibber\\'s man on the morning of the 5th of\\nOctober. \"Well,\" Van Squibber said, sleepily, \"what of that? You have your\\ninstructions as to the bodily temperature I desire to maintain.',\n",
       " 'Two sweet-faced nuns in sombry black\\nwith their pure white night caps on under their clost black bunnets and\\nveils, and follerin\\' them some fierce lookin\\' creeters in red baggy\\ntrousers embroidered jackets and skull caps with long tossels on \\'em;\\nPersians mebby, or Arabs. As Josiah looked at these last I hearn him murmur as if to himself, \"Why\\nunder the sun didn\\'t Samantha put in my dressin\\' gown with tossels, and\\nthe smokin\\' cap Thomas J. gin me, I could showed off some then.\" But I pretended not to hear him for my eyes wuz fastened on the passin\\'\\npageant. Smart lookin\\' bizness men with handsome well-dressed wives and\\nchildren, then a Injun with striped blanket, beaded moccasins and\\nhead-dress of high feathers. Then a American widder, mebby a plain one,\\nand mebby grass; then some more wimmen. Then some Chinamen with long\\ndresses and pig-tails follered by some gawky, awkwud country folks; some\\nmore smart-lookin\\' Americans. Some English tourists with field-glasses\\nstrapped over one shoulder. Some Fillipinos in yellerish costoom. Then a\\nkodak fiend ready to aim at anything or nothin\\' and hit it; then some\\nScotchmen in Tarten dress and follerin\\' clost some Japans, lots and lots\\nof them scattered along. Then some brown children and their mothers, the\\nchildren dressed mostly in a sash and some beads, and some more pretty\\nwhite children dressed elaborate, and some niggers, and some soldiers,\\nand some more wimmen, and more folks, and some more, and some more, in a\\nstiddy and endless stream.',\n",
       " 'No one ever finds out. They remain a joint\\nmystery for all time. In the end they become a sort of tradition, and\\nyears hence, when two of the ushers meet, they will cackle over old\\ndreadnaught and her six cruisers. The bride, grown old and fat, will\\ntell the tale to her daughter, and then to her granddaughter. It will\\ngrow more and more strange, marvelous, incredible. Variorum versions\\nwill spring up. It will be adapted to other weddings. The dreadnaught\\nwill become an apparition, a witch, the Devil in skirts. And as the\\nyears pass, the date of the episode will be pushed back. By 2017 it will\\nbe dated 1150.',\n",
       " '\"Isn\\'t this rather sudden?\" Reggie looked a trifle furtive. His manner became that of a\\nconspirator. \"I should jolly well say it is sudden! It\\'s got to be sudden. Dashed sudden and deuced secret! If the mater were to hear of it,\\nthere\\'s no doubt whatever she would form a flying wedge and bust up\\nthe proceedings with no uncertain voice. You see, laddie, it\\'s Miss\\nFaraday I\\'m marrying, and the mater--dear old soul--has other ideas\\nfor Reginald. Life\\'s a rummy thing, isn\\'t it! What I mean to say\\nis, it\\'s rummy, don\\'t you know, and all that.\"',\n",
       " '\"Surely,\" remonstrated Mrs. Futvoye, \"you don\\'t mean to turn his wife\\nand daughter out of the room at such a moment as this? We shall be\\nperfectly quiet, and we may even be of some help.\" \"Do as you\\'re told, my dear!\" snapped the ungrateful mule; \"do as you\\'re\\ntold. You\\'ll only be in the way here. Do you suppose he doesn\\'t know his\\nown beastly business?\" They left accordingly; whereupon Fakrash took the cup--an ordinary\\nbreakfast cup with a Greek key-border pattern in pale blue round the\\ntop--and, drenching the mule with the contents, exclaimed, \"Quit this\\nform and return to the form in which thou wast!\" For a dreadful moment or two it seemed as if no effect was to be\\nproduced; the animal simply stood and shivered, and Ventimore began to\\nfeel an agonising suspicion that the Jinnee really had, as he had first\\nasserted, forgotten how to perform this particular incantation. All at once the mule reared, and began to beat the air frantically with\\nhis fore-hoofs; after which he fell heavily backward into the nearest\\narmchair (which was, fortunately, a solid and capacious piece of\\nfurniture) with his fore-legs hanging limply at his side, in a\\nsemi-human fashion.',\n",
       " \"However,\\nshe was spared this ordeal for the present; as they returned to the\\nhall, they found themselves suddenly face to face with a dingy man,\\nwhose face was surrounded by a fringe of black whiskers and crowned by a\\nshock of fleecy hair. 'Who on earth are you?' demanded George, as the man rose from the\\nkitchen-stairs. 'No offence, sir and lady! Peagrum, that's _my_ name, fust shop round\\nthe corner as you go into Silver Street, plumber and sanitry hengineer,\\ngas-fittin' and hartistic decorating, bell-'anging in all its branches. I received instructions from Mr. Jones that I was to look into a little\\nmatter o' leakage in the back-kitchen sink; also to see what taps, if\\nhany, required seein' to, and gen'ally to put things straight like. So I\\ncome round, 'aving the keys, jest to cast a heye over them, as I may\\nterm it, preliminry to commencing work in the course of a week or so, as\\nsoon as I'm at libity to attend to it pussonally.' 'Oh, the landlord sent you? All right, then.'\",\n",
       " 'An\\' ye ma-arched afther Willum\\nJ. O\\'Brien, didn\\'t ye? Well, he\\'s a good la-ad. If I didn\\'t think so, I\\nwudden\\'t say it until I got me strenth back or cud buy a gun. But did\\nWillum J. O\\'Brien march? Not Willie. He was on horseback; an\\', Hinnissy,\\nif dollars was made out iv Babbit metal, an\\' horses was worth\\nsixty-sivin cints a dhrove, ye cudden\\'t buy a crupper.\" \"Well,\" said Mr. Hennessy, \"annyhow, I proved me hathred iv capital.\" \"So ye did,\" said Mr. Dooley.',\n",
       " \"He also said that there were\\npirates on the island in the lake. I never saw them either. What he liked telling me about best was the city of gold and precious\\nstones which you came to if you walked far enough through the woods at\\nthe back of the stables. He was always meaning to go off there some\\nday, and, from the way he described it, I didn't blame him. It was\\ncertainly a pretty good city. It was just right for dogs, too, he said,\\nhaving bones and liver and sweet cakes there and everything else a dog\\ncould want. It used to make my mouth water to listen to him. We were never apart. I was with him all day, and I slept on the mat in\\nhis room at night. But all the time I couldn't get out of my mind what\\nJack had said.\",\n",
       " '\"Did the ghost ever come back?\" asked Mr. McKenna. \"Niver,\" said Mr. Dooley. \"Wanst was enough. But, mind ye, I\\'d hate to\\nhave been wan iv th\\' other ghosts th\\' night O\\'Grady got home fr\\'m th\\'\\nvisit to O\\'Flaherty\\'s. There might be ghosts that cud stand him off\\nwith th\\' gloves, but in a round an\\' tumble fight he cud lick a St. Patrick\\'s Day procession iv thim.\" THE SOFT SPOT.',\n",
       " 'I want a\\nprince, so I gotta have a prince, and if any gazook makes a noise like\\na man with a grouch, he\\'ll find himself fired.\" Miss Scobell turned to her paper again. \"Very well, dear,\" she said. \"Just as you please. I\\'m sure you know\\nbest.\" \"Sure!\" said her brother. \"You\\'re a good guesser. I\\'ll go and beat up\\nold man Poineau right away.\" CHAPTER III\\n\\nJOHN\\n\\n\\nTen days after Mr.',\n",
       " '*       *       *       *       *\\n\\n[Illustration: \"JOINT OCCUPATION\"\\n\\n(_Suggested by Cook\\'s Tourist in Egypt._)]\\n\\n       *       *       *       *       *\\n\\nOVERHEARD AT CHAMONIX.--_Stout British Matron_ (_in a broad British\\naccent, to a slim diligence driver_). Êtes-vous la diligence? _Driver._ Non, madame, mais j\\'en suis le cocher. _Matron_ (_with conviction_). C\\'est la même chose; gardez pour moi trois\\nplaces dans votre intérieur demain. *       *       *       *       *\\n\\n[Illustration: PHILLIPOPOLIS\\n\\n_Toper Major_ (_over their third bottle of a Grand Vin_). \"I shay, ol\\'\\nf\\'ler, neksh year thinksh\\'ll go see ex\\'bishun at Ph-Phipp at\\nPhilup-popple----\"\\n\\n_Toper Minor._ \"I know, ol\\' f\\'ler. You mean Philipoppoppo--poppo----\"\\n\\n_Toper Major._ \"Thatsh it--shame place. Have \\'nother bo\\'l!\" [_They drink._\\n\\n]\\n\\n       *       *       *       *       *\\n\\nNOT SO PRETTY IN ENGLISH\\n\\n(_Three Friends meet at Monte Carlo._)\\n\\n_First Friend._ No, I\\'m not staying here.',\n",
       " \"Daily, Collier, Kelly, and the others all\\nin immaculate evening dress, sitting in the host's drawing room,\\nchatting with the host and a few friends, when the door burst open and\\nBigalow dashed in--as black as burnt cork would make him! Poor Charlie. May he rest in peace. And that is more than he would ever\\nhave done in that company. *       *       *       *       *\\n\\nThere was an English musical act playing over here last summer. The wife\\ncarried the money. She had to; if she hadn't there wouldn't have been\\nany to carry. She had a time lock on the pocketbook and the time did not\\nexpire until they got back to England. She had been brought up under a\\nfree trade government and she did not like our protective tariff prices. Hubby had one hat; a straw one.\",\n",
       " 'I\\'d been too busy for a good while\\nprevious to that, and then I called in the boys. After the funeral it\\nwas too much for them to stay around and eat the kind of cookin\\' we had\\nto put up with, and nobody spoke up around the house as we used to. The\\nboys quit whistlin\\' around the barn and talked kind of low by themselves\\nabout going to town and gettin\\' a job. \"They\\'re all gone now and the snow is four feet deep on mother\\'s grave\\nup there in the old berryin\\' ground.\" Then both of us looked out of the car window quite a long while without\\nsaying anything. \"I don\\'t blame the boys for going into something else long\\'s other\\nthings paysbetter; but I say--and I say what I know--that the man who\\nholds the prosperity of this country in his hands, the man that actually\\nmakes money for other people to spend, the man that eats three good,\\nsimple, square meals a day and goes to bed at nine o\\'clock, so that\\nfuture generations with good blood and cool brains can go from his farm\\nto the Senate and Congress and the While House--he is the man that gets\\nleft at last to run his farm, with nobody to help him but a hired man\\nand a high protective terriff. The farms in our State is mortgaged for\\nover seven hundred million dollars. Ten of our Western States--I see by\\nthe papers--has got about three billion and a half mortgages on their\\nfarms, and that don\\'t count the chattel mortgages filed with the town\\nclerks on farm machinery, stock, waggins, and even crops, by gosh! that\\nain\\'t two inches high under the snow. That\\'s what the prospects is for\\nfarmers now.',\n",
       " 'Where were you going?\" \"I was going back to my hotel. I came out without any money, so I\\nshall have to go there first to get some.\" The girl started. \"What\\'s the matter?\" asked George. \"I\\'ve lost my purse!\" \"Good Lord! Had it much in it?\" \"Not very much.',\n",
       " 'What could this strange silence portend? Two minutes and a half! Some Members rose and approached him, but Disraeli raised his hand as if\\nto deprecate their interference, and they stole back to their places\\nconscious that they were forbidden to interrupt. Then, at last, when the\\nsecond hand of the clock had passed three times round its course, the\\nmost remarkable silence which the House had ever experienced within\\nliving memory was broken as the Tory leader slowly began once more to\\nspeak. \"\\'Mr. Chairman,\\'\" he said, \"\\'and gentlemen,\\'\" and then word for word he\\nrepeated the whole speech of Mr. Gladstone from which he had made his\\nquotation, duly introducing the particular passage which the Liberal\\nleader had denied. Then he paused and looked across at his rival. The\\nchallenge was not to be avoided, and Mr. Gladstone bowed.',\n",
       " 'they\\ndwindled down so in my mind while I stood there that I might be said to\\nnever have sot my eyes on a turkey\\'s feather, or a turkey or anything. It is a spectacle that once seen is never forgot. The central spot, or handle of the fan (in allegory), is occupied by\\nFestival Hall and on either side stretches out the beautiful Collonnade\\nof States with its lovely and heroic female wimmen settin\\' up there as\\nif sort o\\' takin\\' care of the hull concern. I spoke to Blandina about\\nit, how pleased I wuz to see my sect settin\\' up so high in the place of\\nhonor, and she sez:\\n\\n\"Oh, Aunt Samantha, I cannot rejoice with you, it rasps my very soul to\\nsee men slighted! What would the world do without men?\" \"Well,\" sez I, wantin\\' to please her, \"men do come handy lots of times. But,\" sez I reasonably, \"the world wouldn\\'t last long if it wuzn\\'t for\\nwimmen.\" But to resoom. At each end of the Collonnade, peakin\\' up a little higher, is a sort of\\na round shaped buildin\\', beautiful in structure, where food can be\\nobtained. And knowin\\' the effect on men of good food I knowed this wuz a\\nsensible idea, for no matter how festivious a man may be, and probably\\nis in Festival Hall, yet his appetite stretches out on both sides on him\\njest as it wuz depicted here.',\n",
       " 'They drove swiftly and were soon within sight of the Indian Mound. \"Show me first the place where the body was found,\" Ferrars had said to\\nhis guide as they set out, and when the two stood at this spot, which\\nsome one had marked with two small stakes, and the doctor had answered\\nsome brief questions regarding the road through the fringe of wood, the\\nmound, and the formation of the lake shore further south or away from\\nthe town, the detective announced his wish to be left alone to pursue\\nhis work in his own way. \"Your guest will be astir early if I am not much mistaken,\" he said. \"And you have Miss Grant to look after, and may be wanted for a dozen\\nreasons before I return. I can easily walk back, and think you will see\\nme at the breakfast hour, which you must on no account delay.\" Two hours later, and just as the doctor\\'s man had announced breakfast,\\nthe detective returned, and at once joined the two in the dining-room. He said nothing of his morning excursion, but the doctor\\'s quick eye\\nnoted his look of gravity, and a certain preoccupation of manner which\\nFerrars did not attempt to hide. Before the meal was ended Doctor Barnes\\nwas convinced that something was puzzling the detective, and troubling\\nhim not a little. After breakfast, and while Brierly was for the moment absent from the\\nporch where they had seated themselves with their cigars, Ferrars\\nasked--\\n\\n\"Where does the lady live who drove Mr. Doran\\'s black pony yesterday.',\n",
       " 'I rapidly turned over the pages. \"I see,\"\\nI said, \"that your story as written is laid largely in Spain in the\\nsummer. I shall ask you to alter this to Switzerland and make it winter\\ntime to allow for the breaking of steam-pipes. Such things as these,\\nhowever, are mere details; we can easily arrange them.\" I reached out my hand. \"And now,\" I said, \"I must wish you a good afternoon.\" The contributor seemed to pluck up courage. \"What about remuneration\"--he faltered. I waived the question gravely aside. \"You will, of course, be duly paid\\nat our usual rate.',\n",
       " \"He had never been to Little Weeting in his life,\\nand there was no reason to suppose that Maud had either. The sign-post informed him--a statement strenuously denied by the\\ntwin-blisters--that the distance to Little Weeting was one and a\\nhalf miles. Lord Belpher's view of it was that it was nearer fifty. He dragged himself along wearily. It was simpler now to keep Maud\\nin sight, for the road ran straight: but, there being a catch in\\neverything in this world, the process was also messier. In order\\nto avoid being seen, it was necessary for Percy to leave the road\\nand tramp along in the deep ditch which ran parallel to it. There\\nis nothing half-hearted about these ditches which accompany English\\ncountry roads. They know they are intended to be ditches, not mere\\nfurrows, and they behave as such. The one that sheltered Lord\\nBelpher was so deep that only his head and neck protruded above the\\nlevel of the road, and so dirty that a bare twenty yards of travel\\nwas sufficient to coat him with mud. Rain, once fallen, is\\nreluctant to leave the English ditch.\",\n",
       " \"'Oh, dear!' she said. I understood. I seemed to see that journey in the cab, those\\ndances, those terrible between-dances ...\\n\\nIt was very sudden. I took her hand. She turned to me with a tired smile. There were\\ntears in her eyes ...\\n\\nI heard myself speaking ...\\n\\nShe was looking at me, her eyes shining. All the weariness seemed\\nto have gone out of them. I looked at her. There was something missing.\",\n",
       " \"You played the marker a hundred up, then you took him\\ninto the bar-parlour and bought him refreshment. He raised his\\nglass, said, 'To you, sir', and drained it at a gulp. After that\\nyou could, if you wished, play another game, or go home, as your\\nfancy dictated. There was only one other occupant of the bar-parlour when we\\nadjourned thither, and a glance at him told me that he was not\\nostentatiously sober. He was lying back in a chair, with his feet\\non the side-table, and crooning slowly, in a melancholy voice, the\\nfollowing words:\\n\\n  _'I don't care--if he wears--a crown,\\n  He--can't--keep kicking my--dawg aroun'. '_\\n\\nHe was a tough, clean-shaven man, with a broken nose, over which\\nwas tilted a soft felt hat. His wiry limbs were clad in what I put\\ndown as a mail-order suit. I could have placed him by his\\nappearance, if I had not already done so by his voice, as an\\nEast-side New Yorker. And what an East-side New Yorker could be\\ndoing in Sanstead it was beyond me to explain. We had hardly seated ourselves when he rose and lurched out.\",\n",
       " '*       *       *       *       *\\n\\n\\n\"Don\\'t talk to me about compulsory vaccination!\" exclaimed the\\nman who had his arm in a sling. \"I\\'m sore on that subject.\" *       *       *       *       *\\n\\n\\nThere are many sweet, entrancing moments in this life, but when a\\nman steps on your pet corn you do not experience one of them. *       *       *       *       *\\n\\n\\nThe impecunious young man who marries a girl with a substantial\\ncheck attached may very properly be said to have been checkmated. *       *       *       *       *\\n\\n\\nVISITOR--I suppose you have a great deal of poetry sent into you\\nfor publication? EDITOR--No, not very much poetry as a rule; some of it is verse,\\nand some of it is worse. *       *       *       *       *\\n\\n\\n\"What is your idea of happiness?\" \"Nothing to do and lots of time to do it in.\" *       *       *       *       *\\n\\n\\n--So Ethel is to marry that young Bob Halstey; why, he has been\\njilted by half a dozen girls.',\n",
       " 'They\\'re all too slack.\" \"In fact,\" said Clowes, getting up, \"as was only to be expected, the\\nschool started going to the dogs directly I left. We shall have to be\\npushing on now, Allardyce. We promised to look in on Seymour before we\\nwent to bed. Friend let us away.\" \"Good night,\" said Allardyce. \"What you want,\" said Clowes solemnly, \"is a liver pill. You are\\nlooking on life too gloomily. Take a pill. Let there be no stint.',\n",
       " \"Psmith and Billy could wait; they were not likely to take the\\noffensive; but the Table Hillites demanded instant attention. War had broken out, as was usual between the gangs, in a somewhat\\ntentative fashion at first sight. There had been sniping and\\nskirmishes by the wayside, but as yet no pitched battle. The two\\narmies were sparring for an opening. *    *    *\\n\\nThe end of the week arrived, and Psmith and Billy, conducted by\\nMaster Maloney, made their way to Pleasant Street. To get there it\\nwas necessary to pass through a section of the enemy's country; but\\nthe perilous passage was safely negotiated. The expedition reached\\nits unsavoury goal intact. The wop kid, whose name, it appeared, was Giuseppe Orloni,\\ninhabited a small room at the very top of the building next to the\\none Psmith and Mike had visited on their first appearance in\\nPleasant Street. He was out when the party, led by Pugsy up dark\\nstairs, arrived; and, on returning, seemed both surprised and\\nalarmed to see visitors. Pugsy undertook to do the honours.\",\n",
       " 'IN reading his name it may truly be said,\\n    You will make that man _dy_ if you cut off his _Hed_. MCCCLIII.--THE WAY TO KEW. HOOK, in the supposed character of Gower-street undergraduate, says:\\n\"One problem was given me to work which I did in a twinkling. Given _C A\\nB_ to find _Q_. _Answer_: Take your _C A B_ through Hammersmith, turn to\\nthe left just before you come to Brentford, and Kew is right before\\nyou.\" MCCCLIV.--ABOVE PROOF. AN East-India Governor having died abroad, his body was put in arrack,\\nto preserve it for interment, in England. A sailor on board the ship\\nbeing frequently drunk, the captain forbade the purser, and indeed all\\nin the ship, to let him have any liquor. Shortly after the fellow\\nappeared very drunk. How he obtained the liquor, no one could guess.',\n",
       " 'About four hundred waiters noticed a speck of dust on an ash tray at\\nthe table next to ours, and swooped down on it. \"Edwin is going to marry a palmist?\" \"Yes.\" \"She must be mad. Hasn\\'t she seen Edwin?\" And just then who should stroll in but Edwin himself. I sighted him\\nand gave him a hail. He curveted up to us. It was amazing the way the fellow had altered. He looked like a two-year-old.',\n",
       " '\"That looks like a heap of money for a heifer, doesn\\'t it, Colonel\\nBlount?\" \"A heap of money? Why, no. Heap of _money_? Why, what do you mean?\" \"Heifers didn\\'t bring that before the road came through. Why, you would\\nhave had to drive that heifer twenty-five miles before you could get a\\nmarket, and then she wouldn\\'t have brought over twelve dollars. Now,\\nfifteen dollars, seems to me, is about right.\" \"Well, let the heifer go. But there was a cow killed three miles below\\nhere the other day.',\n",
       " \"You'll let me know if\\nyour little boy will be able to make one of our party on the\\nyacht?' 'Yes, yes. Thank you ever so much. Good-bye.' 'Good-bye.' He reached the door and opened it. 'By Jove,' he said, springing round--'Stanborough! What about\\nStanborough? Shall I tell him to wait? He's down below, you know!'\",\n",
       " 'Name some o\\' the\\nchurches, and then I shall know where I am!!\" [_Asks, and gets, an exorbitant fare without a murmur._\\n\\n]\\n\\n       *       *       *       *       *\\n\\nRUS IN URBE\\n\\n(_A Cockney Rhapsody_)\\n\\n  As I stroll through Piccadilly,\\n  Scent of blossoms borne from Scilly\\n  Greet me. Jonquil, rose, and lily,\\n  Violet and daffydowndilly. Oh, the feeling sweet and thrilly\\n  That these blossoms flounced and frilly\\n  From soft plains and headlands hilly\\n  Bring my breast in Piccadilly! It subdues me, willy nilly,\\n  Though such sentiment seems silly,\\n  And a bunch, dear, buys your Willy,\\n  To dispatch, by post, to Milly,\\n  Dwelling, far from Piccadilly,\\n  In moist lowlands, rushed and rilly,\\n  Blossomy as Penzance or Scilly. Sweets to the sweet! \"Poor Silly-Billy!\" You may say in accents trilly. When the postman in the stilly\\n  Eve, from distant Piccadilly,\\n  Bears this box of rose and lily,\\n  Violet and daffodilly,\\n  To the rural maiden, Milly,\\n  From her urban lover,\\n                           Willy. P.S.--\\n\\n      Dry as toke and skilly,\\n  Is this arid Piccadilly,\\n  Notwithstanding rose and lily,\\n  All the beauteous blooms of Scilly,\\n  Reft of that flower of flowers--Milly.',\n",
       " \"I won't!' he cries frantically,\\nand rushing back to the door beats upon it wildly. On the other side of\\nit are love and shelter, and it will not open to him. He is cold and\\nhungry and tired after his walk; why do they keep him out like this? 'Mother!' he calls hoarsely. 'Can't you hear me, mother? It's Wilfred;\\nlet me in!' The other takes him, not roughly, by the shoulder. 'Now you take my\\nadvice,' he says.\",\n",
       " 'Wherefore, so far as I am concerned, let him remain a\\nmule for ever; unless, indeed, thou art ready to comply with my\\nconditions.\" \"Conditions!\" cried Horace, utterly unprepared for this conclusion. \"What can you possibly want from me? But state them. I\\'ll agree to\\nanything, in reason!\" \"I demand that thou shouldst renounce the hand of this damsel.\" \"That\\'s out of all reason,\" said Horace, \"and you know it. I will never\\ngive her up, so long as she is willing to keep me.\" \"Maiden,\" said the Jinnee, addressing Sylvia for the first time, \"the\\nmatter rests with thee.',\n",
       " 'But here he is, now; if he is tight we\\'ll\\nhave some sport.\" As the personage approached, Boggs accosted him, when the following\\ndialogue took place. \"So Nicholas,\" said Boggs, \"you\\'ve come back, have you? How is the\\nfinancial department at present?\" Nick looked up and smiled. \"The fact is,\" said he, \"I\\'ve just been buying all the grain in\\nMichigan, Wisconsin, Ohio, and Indiana for $7 a bushel, and I am rather\\nshort for small change, but if you want a hundred thousand or so, just\\nsend a cart round to my office. Would you prefer having it in quarter\\neagles or twenty dollar pieces?\" \"Well, Nick, I don\\'t care to borrow at present, but a boy says you\\'ve\\nbeen drunk. How is it?\" \"What boy is it?\"',\n",
       " 'Do you lay out to stand here all day?\" And I\\ntore myself away. Well, there wuz movin\\' pictures describin\\' the Holy Land and we see \\'em\\nmove, and dissolvin\\' views of the same and we see \\'em dissolve, and at\\nlast Josiah got so worrisome I had to go on with him. We laid out to\\nstop to Japan and France, they bein\\' right on our way, and I sez, \"We\\nmight as well stop at Morrocco.\" For as I told Josiah, while we wuz\\ntravelin\\' through foreign countries we might as well see what we could\\nof the people, their looks and habits. But he sez to once, \"You don\\'t want to buy any Morrocco shues, Samantha,\\nthey don\\'t wear nigh so well as calf-skin and cost as much agin.\" And\\nsez he, \"We won\\'t have more than time to go through Japan and France and\\ndo justice to \\'em.\" So we went on. CHAPTER XIII. The Japan exhibit is on a beautiful hill south of Machinery Palace.',\n",
       " \"There was one of those\\nAfrican explorer men used to come to Geisenheimer's a lot when he was\\nhome from roaming the trackless desert, and he used to tell me about\\ntribes he had met who didn't use real words at all, but talked to one\\nanother in clicks and gurgles. He imitated some of their chatter one\\nnight to amuse me, and, believe me, Izzy Baermann started talking the\\nsame language now. Only he didn't do it to amuse me. He was like one of those gramophone records when it's getting into its\\nstride. 'Be calm, Isadore,' I said. 'Something is troubling you. Tell me all\\nabout it.' He clicked some more, and then he got it out. 'Say, are you crazy? What did you do it for?\",\n",
       " 'You have given me new life. And you have shamed me. It is of you\\nI have thought, when I have tried to tear myself away and leave you free\\nto choose another.\" \"Robert, for shame. Shall you \\'choose another\\' then?\" \"Never! You know that!\" \"If I did not I should never have spoken as I have just now.\" \"But there are so many who might give you everything.\" \"There is only one who can give me my heart\\'s desire.\"',\n",
       " \"To have holed out at a hundred and sixty yards is not by any means an\\nunprecedented feat, but that two players should have done it in\\nsuccession was at least a rather remarkable coincidence. It was a severe\\ndisappointment to the King, who had serious doubts of his own ability to\\nrepeat such a performance. The next hole was a long one, some six hundred yards, over undulating\\nland with patches of bog; the green was on a hillock protected by\\nartfully devised bunkers, and the approach was full of difficulties. The Marshal was given the honour, and, as before, none could follow the\\nflight of his ball, though he declared with the greatest confidence that\\nit was straight for the green. King Sidney's drive did not look very\\npromising, but Clarence assured him that it was probably a longer one\\nthan he thought. But neither player could locate his ball as they trudged on, and, though\\nit seemed unlikely that either could have reached the green, they did\\nnot stop to search on the way to it. Still, when they arrived there each\\nof them was obviously astonished by the discovery that the other had\\nholed out once more. Even had the distance been less, it seemed to them\\nthat this was stretching the long arm of coincidence almost too far, but\\nthey did not say so; in fact, they both thought it wiser to abstain from\\nany comment at all. The next hole was some three hundred and fifty\\nyards, with several extremely tricky hazards, but, contrary to all\\nreasonable expectations, both King Sidney and the Marshal distinguished\\nthemselves by doing it in one. At this the King felt bound to make some comment.\",\n",
       " 'Ashe noted as a curious fact that, though the actual valet of any\\nperson under discussion spoke of him almost affectionately by his\\nChristian name, the rest of the company used the greatest\\nceremony and gave him his title with all respect. Lord Stockheath\\nwas Percy to Mr. Ferris, and the Honorable Frederick Threepwood\\nwas Freddie to Mr. Judson; but to Ferris, Mr. Judson\\'s Freddie\\nwas the Honorable Frederick, and to Judson Mr. Ferris\\' Percy was\\nLord Stockheath. It was rather a pleasant form of etiquette, and\\nstruck Ashe as somehow vaguely feudal. \"Percy,\" went on Mr. Ferris, \"is bearing it like a little\\nBriton--the damages not having come out of his pocket! It\\'s his\\nold father--who had to pay them--that\\'s taking it to heart.',\n",
       " '[Illustration: WASHINGTON BEGAN AT ONCE TO ENRICH HIS FARM.] CHAPTER XIX. THE FIRST PRESIDENT. It now became the duty of the new republic to seek out the man to\\npreside over it, and George Washington seems to have had no rivals. He\\nrather reluctantly left his home at Mount Vernon, where he was engaged\\nin trying the rotation of crops, and solemnly took the oath to support\\nthe Constitution of the United States, which had been adopted September\\n17, 1787. His trip in April, 1789, from Mount Vernon to the seat of\\ngovernment in New York was a simple but beautiful ovation. Everybody tried to make it pleasant for him. He was asked at all the\\ntowns to build there, and \\'most everybody wanted him \"to come and make\\ntheir house his home.\" When he got to the ferry he was not pushed off\\ninto the water by commuters, but lived to reach the Old Federal Hall,\\nwhere he was sworn in. In 1791 the seat of government was removed to Philadelphia, where it\\nremained for ten years, after which the United States took advantage of\\nthe Homestead Act and located on a tract of land ten miles square,\\nknown as the District of Columbia.',\n",
       " 'The conversation\\nchanged as they saw Kennedy glance at them. They were the sort of\\npersons who feel a vague sense of injury when anybody looks at them,\\nperhaps because they feel that those whose attention is attracted to\\nthem must say something to their discredit when they begin to talk\\nabout them. \"There\\'s that beast Kennedy,\" said Walton. \"I can\\'t stick that man. He\\'s always hanging round the house. What he comes for, I can\\'t make\\nout.\" \"Pal of Fenn\\'s,\" suggested Perry. \"He hangs on to Fenn. I bet Fenn bars him really.\" Perry doubted this in his innermost thoughts, but it was not worth\\nwhile to say so.',\n",
       " '\"Stop it!\" She stood over him, her lips compressed, her eyes hard and\\nsteely, as if meditating violence, then, turning suddenly, she walked\\nswiftly across to the dresser and pulled out the left-hand drawer. Taking from it her bonnet, she put it on her head and proceeded to tie\\nthe strings beneath her chin. From behind the kitchen door she unhooked a brown mackintosh, into which\\nshe struggled. \"Goin\\' out?\" he enquired. \"Yes,\" she replied, as she tore open the door, \"and perhaps I\\'ll never\\ncome back again,\" and with a bang that shook the house she was gone. She took a tram to Hammersmith on her way to see her niece, Millie\\nDixon. She was angry; the day had been one of continual annoyances and\\nvexations. Entering the car she buried her elbows deep into the\\nredundant figure of a woman who was also endeavouring to enter.',\n",
       " 'But ye\\'re talkin\\' like a Populist\\nan\\' an anarchist an\\' a big bullhead gen\\'rally. Ye bring up two or three\\nJew men, an\\' think f\\'r to scare us with thim. But look here. Supposin\\' a\\nman comes into my place an\\' lays down on th\\' anvil a silver dollar, an\\'\\nI give it a wallop with me hammer\"--\\n\\n\"Thin,\" said Mr. Dooley, \"ye\\'re knockin\\' th\\' gover\\'mint.\" \"How am I?\" said Mr. Larkin. \"Niver mind now: I take this here silver\\ndollar, an\\' I fetch it wan with me hammer. What happens?\"',\n",
       " 'His height was fully six\\nfeet, his form was very spare, his face thin, his nose sharp and\\nprominent, his eyes and hair grey, and his face closely shaven,\\nwrinkled, and sallow. He was dressed in a plain black dress-coat and\\npants, of a style about three years old. His vest was of black satin,\\nhis shirt-bosom was scrupulously white; a black silk choker was tightly\\nenveloped about his neck, above which peered a diminutive collar, which,\\nwhen it was put on, was without doubt a standing-collar, but the starch\\nhad not been made of such a consistency as to render it consistent for\\nthe collar to stand up against the unstiffening effects of a hot day\\'s\\nsweating. As I saw him, he was coming down the street at a rapid rate,\\ndescribing all sorts of geometrical figures on the sidewalk, and making\\nefforts to sing the words of \"Yankee Doodle\" to the tune of \"Old\\nHundred.\" Whenever he ran against an awning-post, he would stop, and\\nexpostulate with the post for its want of civility, and would insist\\nthat the post had never been born and bred in the St. Lawrence country,\\nor it would have shown more politeness to strangers. He was entirely\\nunable to account for the sudden revolutions of the earth, which made\\nday and night follow each other in such quick succession. When he ran\\nagainst a lamp-post, he would look up to the light and insist that it\\nwas dinner-time, and would wonder why the old woman didn\\'t blow the\\nhorn. At that moment a policeman came along, and was going to take him\\ninto custody. On observing the policeman\\'s uniform, he inquired of him\\nwhether he was a \\'Merican or British soger, and whether the Russians had\\nwhipped Nicholas, and whether Cuba had begun to bombard General Pierce\\nat Sebastopol.',\n",
       " '\"All right, sir, all right,\" said Bindle patiently. \"I\\'d \\'ave said the\\nsame meself when I was a-courtin\\' me little red-\\'eaded blossom. Funny\\nthings, women! \"If it ain\\'t rude, sir,\" Bindle continued after a pause, \"\\'ave yer got\\nan \\'ome ready? \\'Cos when yer get a bird yer sort o\\' got to get a cage,\\nan\\' if that cage ain\\'t gold, wi\\' bits o\\' gold sort o\\' lyin\\' about,\\nwell, there\\'ll be some feathers flyin\\', an\\' they won\\'t be \\'ers. A\\nwoman wot ain\\'t got money makes a man moult pretty quick. Yer\\'ll\\nexcuse me, sir, but I\\'m an old warrior at this \\'ere game.\" \"I\\'ve bought a practice in Chelsea, and besides I\\'ve got between three\\nand four hundred a year,\" replied Little. \"H\\'m,\" said Bindle, \"may keep \\'er in scent an\\' shoe-strings. I suppose\\nyou\\'re set on doin\\' it?\"',\n",
       " 'I drops my bait box, couches my fishpole, an\\' emittin\\' a\\nimpromptoo warcry, charges him. It\\'s the work of a moment; Jeff\\'s\\nonhossed an\\' falls into the Branch. \"\\'But thar\\'s bitterness to follow vict\\'ry. Jeff emerges like Diana from\\nthe bath an\\' frales the wamus off me with a club. Talk of puttin\\' a\\ncrimp in folks! Gents, when Jeff\\'s wrath is assuaged I\\'m all on one side\\nlike the leanin\\' tower of Pisa. Jeff actooally confers a skew-gee to my\\nspinal column. \"\\'A week later my folks takes me to a doctor. That practitioner puts on\\nhis specs an\\' looks me over with jealous care. \"\\'\"Whatever\\'s wrong with him, Doc?\"',\n",
       " '_Tommy_ (_in doubt_). \"F-f-f-feel me!\"] *       *       *       *       *\\n\\n[Illustration: _Bilious Old Uncle._ \"I\\'m delighted to see this fall; it\\nwill give that dreadful boy chilblains, and he\\'ll be laid up out of\\nmischief.\"] *       *       *       *       *\\n\\nSUNDAY SCHOOLING.--_Teacher._ What does one mean by \"Heaping coals of\\nfire on someone\\'s head\" now, Harry Hawkins? _Harry Hawkins._ Givin\\' it \\'im \\'ot, teacher! *       *       *       *       *\\n\\n_Auntie._ Do you love the chickens, dear? _Dolly._ Yes, Auntie. But I do wish this big one hadn\\'t such a funny\\nlaugh! *       *       *       *       *\\n\\n[Illustration: Occupation of \"that dreadful boy\" at the same period.] *       *       *       *       *\\n\\nCHRONOLOGY.--_Old Gentleman_ (\"_putting a few questions_\").',\n",
       " 'Ev\\'ryboddy I\\'m t\\'inkin\\' was know her, an\\' I also hear \\'noder t\\'ing,\\n    She\\'s frien\\' on La Reine Victoria an\\' show her de way to sing!\" \"Wall,\" I say, \"you\\'re sure she is Chambly, w\\'at you call Ma-dam\\n        All-ba-nee? Don\\'t know me dat nam\\' on de Canton--I hope you\\'re not fool wit\\' me?\" An he say, \"Lajeunesse, dey was call her, before she is come mariée,\\n    But she\\'s takin\\' de nam\\' of her husban\\'--I s\\'pose dat\\'s de only way.\" \"C\\'est bon, mon ami,\" I was say me, \"If I get t\\'roo de fence nex\\' day\\n    An\\' she don\\'t want too moche on de monee, den mebbe I see her play.\" So I finish dat job on to-morrow, Jeremie he was helpin\\' me too,\\n    An\\' I say, \"Len\\' me t\\'ree dollar quickly for mak\\' de voyage wit\\' you.\" Correc\\'--so we\\'re startin\\' nex\\' morning, an\\' arrive Montreal all right,\\n    Buy dollar tiquette on de bureau, an\\' pass on de hall dat night. Beeg crowd, wall! I bet you was dere too, all dress on some fancy\\n        dress,\\n    De lady, I don\\'t say not\\'ing, but man\\'s all w\\'ite shirt an\\' no ves\\'. Don\\'t matter, w\\'en ban\\' dey be ready, de foreman strek out wit\\' hees\\n        steek,\\n    An\\' fiddle an\\' ev\\'ryt\\'ing else too, begin for play up de musique.',\n",
       " 'I have but to ask in your streets, \\'Where\\nabideth Matilda, the beloved of Leander, the dresser of hair? Lead me to\\nher dwelling.\\' And having arrived thereat, I shall crush her, and thus\\nshe shall deservedly perish!\" He was horrified at the possible effects of his slip, which he hastened\\nto repair. \"You won\\'t find it so easy to come at her, luckily,\" he said;\\n\"there\\'s hundreds of Matildas in London alone.\" \"Then,\" said the goddess, sweetly and calmly, \"it is simple: I shall\\ncrush them all.\" \"Oh, lor!\" whimpered Leander, \"here\\'s a bloodthirsty person! Where\\'s the\\nsense of doing that?\" \"Because, dissipated reveller that you are, you love them.\"',\n",
       " 'Marks then swore him that he would giv true evidense\\nin this case, and that he would spell evry word in Dan\\'l Webster\\'s\\nspellin\\' book correkly to the best of his knowledge and beleef, so help\\nhim, etc. I saw that he were a tremblin\\' all over like a cold wet dog. Ses Marks, \"Mr. Fretman, spell \\'tisik.\\'\" Well, he spelt it, puttin\\' in a\\n_ph_ and a _th_ and a _gh_ and a _zh_, and I don\\'t know what all, and I\\nthot he were gone up the fust pop, but Marks sed it were right. He then\\nspelt him right strate along on all sorts of big words, and little\\nwords, and long words, and short words, and he knowd \\'em all, til\\nfinally Marks ses, \"Now, sur, spell \\'Ompompynusuk.\\'\" Fretman drawd a\\nlong breth and sed it warn\\'t in the book. Marks proved it was by a old\\npreecher who was a settin\\' by, and old Phil spoke up with power, ses he,\\n\"Mr. Fretman, you must spell it, sur.\" Fretman was a swettin\\' like a run\\ndown filly.',\n",
       " 'At least you can, but you don\\'t get that feeling of\\nsatisfaction from it which the tapping of a barometer gives you. Of course you can always put a hot thumb on the bulb and watch\\nthe mercury run up; this is satisfying for a short time, but it\\nis not the same thing as tapping. And I am wrong to say \"always,\"\\nfor in some thermometers--indeed, in ours, alas!--the bulb is\\nwired in, so that no falsifying thumb can get to work. However,\\nthis has its compensations, for if no hot thumb can make our\\nthermometer untrue to itself, neither can any cold thumb. And so\\nwhen I tell you again that our thermometer did go down to 11 deg. the other night, you have no excuse for not believing that our\\ntwenty-one degrees of frost was a genuine affair. In fact, you\\nwill appreciate our excitement at breakfast. For a Wet Afternoon\\n\\n\\nLet us consider something seasonable; let us consider indoor\\ngames for a moment. And by indoor games I do not mean anything so serious as bridge\\nand billiards, nor anything so commercial as vingt-et-un with\\nfish counters, nor anything so strenuous as \"bumps.\" The games I\\nmean are those jolly, sociable ones in which everybody in the\\nhouse can join with an equal chance of distinction, those\\nfriendly games which are played with laughter round a fire what\\ntime the blizzards rattle against the window-pane.',\n",
       " 'what is that?\" said\\nthe Bishop. \"The _reformation of myself_, my lord,\" answered the son. DCCCVIII.--THE JEST OF ANCESTRY. LORD CHESTERFIELD placed among the portraits of his ancestors two old\\nheads, inscribed Adam de Stanhope, and Eve de Stanhope: the ridicule is\\nadmirable. Old Peter Leneve, the herald, who thought ridicule consisted in not\\nbeing of an old family, made this epitaph for young Craggs, whose father\\nhad been a footman: _Here lies the last who died before the first of his\\nfamily!_ Old Craggs was one day getting into a coach with Arthur Moore,\\nwho had worn a livery too, when he turned about, and said, \"Why, Arthur,\\nI am always going to get up behind; are not you?\" The Gordons trace their name no farther back than the days of Alexander\\nthe Great, from Gordonia, a city of Macedon, which, they say, once\\nformed part of Alexander\\'s dominions, and, from thence, no doubt, the\\nclan must have come! DCCCIX.--EQUAL TO NOTHING. ON being informed that the judges in the Court of Common Pleas had\\nlittle or nothing to do, Bushe remarked, \"Well, well, they\\'re _equal to\\nit_!\" DCCCX.--FAMILIARITY.',\n",
       " \"it's\\njust flying--it's full of police--there's John in\\nfront--Flick! Now it's the first motor--it's going over a bridge--it's\\nheading for the country--say, isn't that car just flying\\n--Flick, flick! It's the second motor--it's crossing the bridge too--hurry,\\nboys, make it go!--Flick, flick! Out in the country--a country road--early daylight--see\\nthe wind in the trees! Notice the branches waving? Isn't\\nit natural?--whiz! Biff! There goes the motor--biff! There goes the other one--right after it--hoorah! The open road again--the first motor flying along!\",\n",
       " '\"Excuse me,\" he said, \"I think--\"\\n\\n\"Thank you,\" said the girl. Garnet made his way back to his carriage. \"They are blue,\" he said. THE ARRIVAL\\n\\nIV\\n\\n\\nFrom Axminster to Lyme Regis the line runs through country as pretty\\nas any that can be found in the island, and the train, as if in\\nappreciation of this fact, does not hurry over the journey. It was\\nlate afternoon by the time the chicken farmers reached their\\ndestination. The arrangements for the carrying of luggage at Lyme Regis border on\\nthe primitive. Boxes are left on the platform, and later, when he\\nthinks of it, a carrier looks in and conveys them down into the valley\\nand up the hill on the opposite side to the address written on the\\nlabels. The owner walks. Lyme Regis is not a place for the halt and\\nmaimed. Ukridge led his band in the direction of the farm, which lay across\\nthe valley, looking through woods to the sea.',\n",
       " '\"You have taken a load off my mind. Do you know, my\\ndear fellow, that for one instant I half believed that you really knew\\nof the original Chatford\\'s whereabouts, and that perhaps you were in\\nleague with him against me. I see, however, how unfounded the impression\\nwas.\" \"How could you suspect me of that?\" said Toppleton, reproachfully, his\\nheart beating wildly at the narrowness of the escape. \"But you don\\'t\\nintend to let him back?\" \"Not if I can help myself, Toppleton,\" said the fiend. \"I shall hang on\\nhere as long as I can, not only for my own sake and for that of my\\ndaughter, but also for the peace of mind of the exiled soul. You will\\nrespect my confidence, will you not?\" \"I shall, Barncastle.',\n",
       " \"And he knew, of course,\\nthat, as a professor, I was no good. I had come to the\\nstore, as all professors go to book stores, just as a\\nwasp comes to an open jar of marmalade. He knew that I\\nwould hang around for two hours, get in everybody's way,\\nand finally buy a cheap reprint of the Dialogues of Plato,\\nor the Prose Works of John Milton, or Locke on the Human\\nUnderstanding, or some trash of that sort. As for real taste in literature--the ability to appreciate\\nat its worth a dollar-fifty novel of last month, in a\\nspring jacket with a tango frontispiece--I hadn't got it\\nand he knew it. He despised me, of course. But it is a maxim of the book\\nbusiness that a professor standing up in a corner buried\\nin a book looks well in a store. The real customers like\\nit. So it was that even so up-to-date a manager as Mr. Sellyer\\ntolerated my presence in a back corner of his store: and\\nso it was that I had an opportunity of noting something\\nof his methods with his real customers--methods so\\nsuccessful, I may say, that he is rightly looked upon by\\nall the publishing business as one of the mainstays of\\nliterature in America. I had no intention of standing in the place and listening\\nas a spy.\",\n",
       " \"It's\\nthe sort of thing one wants to get used to gradually. I shall be\\nready for it another time.' I made for the stairs. 'Where are you going?' 'I'm going to call up the police-station.' 'Peter.' 'Yes?' 'Was--was that man the one you spoke of?' 'Yes, that was Buck MacGinnis. He and Sam have gone into\\npartnership.'\",\n",
       " \"The cricket-field looked very cool and spacious\\nin the dim light, with the school buildings looming vague and shadowy\\nthrough the slight mist. The little gate by the railway bridge was not\\nlocked. He went in, and walked slowly across the turf towards the big\\nclump of trees which marked the division between the cricket and\\nfootball fields. It was all very pleasant and soothing after the\\npantomime dame and her stuffy bed-sitting room. He sat down on a bench\\nbeside the second eleven telegraph-board, and looked across the ground\\nat the pavilion. For the first time that day he began to feel really\\nhome-sick. Up till now the excitement of a strange venture had borne\\nhim up; but the cricket-field and the pavilion reminded him so sharply\\nof Wrykyn. They brought home to him with a cutting distinctness, the\\nabsolute finality of his break with the old order of things. Summers\\nwould come and go, matches would be played on this ground with all the\\nglory of big scores and keen finishes; but he was done. 'He was a jolly\\ngood bat at school.\",\n",
       " \"Mr Seymour stirred his tea and added another lump of sugar very\\ncarefully before replying. Babington watched him in silence, and wished\\nthat he would settle the matter quickly, one way or the other. 'Fortunately for Babington,' said Mr Seymour, 'and unfortunately for\\nthe cause of morality, I am not a master. I was only a stop-gap, and my\\nterm of office ceased today at one o'clock. Thus the prisoner at the\\nbar gets off on a technical point of law, and I trust it will be a\\nlesson to him. I suppose you had the sense to do the imposition?' 'Yes, sir, I sat up last night.' 'Good. Now, if you'll take my advice, you'll reform, or another\\nday you'll come to a bad end. By the way, how did you manage about\\nroll-call today?'\",\n",
       " \"When a\\nmerchant has attached himself to your collar, can you do less than\\nsmite him on the other cheek? I merely acted in self-defence. You saw\\nfor yourself--'\\n\\n'You know what I am alluding to. Your behaviour during my speech.' 'An excellent speech,' murmured Psmith courteously. 'Well?' said Mr Bickersdyke. 'It was, perhaps, mistaken zeal on my part, sir, but you must remember\\nthat I acted purely from the best motives. It seemed to me--'\\n\\n'That is enough, Mr Smith. I confess that I am absolutely at a loss to\\nunderstand you--'\\n\\n'It is too true, sir,' sighed Psmith.\",\n",
       " \"More citizens and less voters will some day be adopted as the motto of\\nthe Republic. One reference to the late war, and I will close. I want to refer\\nespecially to the chronic reconciler who when war was declared was not\\ninvolved in it, but who now improves every opportunity, especially near\\nelection-time, to get out a tired olive-branch and make a tableau of\\nhimself. He is worse than the man who cannot forgive or forget. The growth of reconciliation between the North and the South is the slow\\ngrowth of years, and the work of generations. When any man, North or\\nSouth, in a public place takes occasion to talk in a mellow and mawkish\\nway of the great love he now has for his old enemy, watch him. He is\\ngetting ready to ask a favor. There is a beautiful, poetic idea in the\\nreunion of two contending and shattered elements of a great nation. There is something beautifully pathetic in the picture of the North and\\nthe South clasped in each other's arms and shedding a torrent of hot\\ntears down each other's backs as it is done in a play, but do you\\nbelieve that the aged mothers on either side have learned to love the\\nfoe with much violence yet? Do you believe that the crippled veteran,\\nNorth or South, now passionately loves the adversary who robbed him of\\nhis glorious youth, made him a feeble ruin, and mowed down his comrades\\nwith swift death?\",\n",
       " '\"I thought his fielding wanted working up a bit, so I told him to turn\\nout at six to-morrow morning. He said he wouldn\\'t, so we argued it\\nout. He\\'s going to all right. So is Robinson.\" Mike remained silent. \"So are you,\" added Adair. \"I get thinner and thinner,\" said Psmith from the mantelpiece. Mike looked at Adair, and Adair looked at Mike, after the manner of\\ntwo dogs before they fly at one another. There was an electric silence\\nin the study. Psmith peered with increased earnestness into the glass.',\n",
       " \"'Never you mind, ducky,' said Charteris, 'I'm all right. I'll look\\nafter myself.' _Chapter 2_\\n\\nIt was about a week after the Bargees' match that the rules respecting\\nbounds were made stricter, much to the popular indignation. The penalty\\nfor visiting Stapleton without leave was increased from two hundred\\nlines to two extra lessons. The venomous characteristic of extra lesson\\nwas that it cut into one's football, for the criminal was turned into a\\nform-room from two till four on half-holidays, and so had to scratch\\nall athletic engagements for the day, unless he chose to go for a\\nsolitary run afterwards. In the cricket term the effect of this was not\\nso deadly. It was just possible that you might get an innings somewhere\\nafter four o'clock, even if only at the nets. But during the football\\nseason--it was now February--to be in extra lesson meant a total loss\\nof everything that makes life endurable, and the School protested (to\\none another, in the privacy of their studies) with no uncertain voice\\nagainst this barbarous innovation. The reason for the change had been simple. At the corner of the High\\nStreet at Stapleton was a tobacconist's shop, and Mr Prater, strolling\\nin one evening to renew his stock of Pioneer, was interested to observe\\nP. St H. Harrison, of Merevale's, purchasing a consignment of 'Girl of\\nmy Heart' cigarettes (at twopence-halfpenny the packet of twenty,\\nincluding a coloured picture of Lord Kitchener).\",\n",
       " \"William Tull brings in Post Chaises;\\n                  Now the people ride like 'blazes. ';\\n                  Many can't for they're in trouble,\\n                  Ruined by the South Sea Bubble. Wesleys         John and Charles Wesley, men of mind,\\n  1703-1791       Revive Religion in Mankind. Founding a Church both broad and low,\\n                  One-seven-three-nought A. Domini. Beginning as an office clerk,\\n  Clive           As soldier Clive soon made his mark,\\n  1746            And conquered India for this Nation;\\n                  Self 'stounded at his moderation. Bridgwater, Gilbert, Brindley, three\\n                  Great Engineers this Centurie,\\n  Canals          Useful canals in England made,\\n                  The flowing arteries of trade. Quebec          General Wolfe seventeen-five-nine\\n  1759            Captures Quebec--a victory fine,\\n                  And Canada's the splendid prize\\n                  For old 'John Bull' to colonise. George III. And now of Georgey number Three:\\n  1760-1820       Ut mulus obstinatus he\\n                  Had full sixty years of reign\\n                  And a big family to train. [Illustration: IRON JELLOIDS The Great Tonic\\n\\n_GEORGIAN TIMES._]\\n\\n  Georgian        We will but very lightly scan\\n  Times           The customs known as 'Georgian';\\n                  The times of powdered Belles and Beaux;\\n                  Patches, paint and furbelows;\\n                  Of beauteous maids and gallants gay\\n                  And merry routs at Ranelagh;\\n                  Gaming parties, cards or pool\\n                  And 'Fops' of the Beau Brummel School.\",\n",
       " 'I\\'ve\\nheard there\\'s a place somewhere in this city, if you can only find it,\\nexpressly designed for supplying first-aid to the fatigued. Let\\'s go\\nand look for it.\" I\\'m not given to thinking much as a rule, but I couldn\\'t help\\npondering over this meeting with Edwin. It\\'s hard to make you see the\\nremarkableness of the whole thing, for, of course, if you look at it,\\nin one way, there\\'s nothing so record-breaking in smoking a cigar and\\ndrinking a highball. But then you have never seen Edwin. There are\\ndegrees in everything, don\\'t you know. For Edwin to behave as he did\\nwith me that night was simply nothing more nor less than a frightful\\noutburst, and it disturbed me. Not that I cared what Edwin did, as a\\nrule, but I couldn\\'t help feeling a sort of what-d\\'you-call-it--a\\npresentiment, that somehow, in some way I didn\\'t understand, I was\\nmixed up in it, or was soon going to be. I think the whole fearful\\nfamily had got on my nerves to such an extent that the mere sight of\\nany of them made me jumpy. And, by George, I was perfectly right, don\\'t you know.',\n",
       " 'I\\nseem to remember such a thing vaguely. We might go and look for it.\" Kennedy made no objection. This was his first appearance at camp. Jimmy Silver, on the other\\nhand, was a veteran. He had been there twice before, and meant to go\\nagain. He had a peculiar and extensive knowledge of the ins and outs\\nof the place. Kennedy was quite willing to take him as his guide. He\\nwas full of information. Kennedy was surprised to see what a number of\\nmen from the other schools he seemed to know.',\n",
       " 'Jarvis approvingly. \"It\\'s to de good, dat\\nstuff.\" \"There!\" said John triumphantly. \"You heard? Mr. Jarvis, one of the\\nmost firmly established critics east of Fifth Avenue stamps Kid Brady\\'s\\nreminiscences with the hall-mark of his approval.\" \"I falls fer de Kid every time,\" assented Mr. Jarvis. \"Sure!',\n",
       " \"'That is just how it was. Comrade Jackson, I fancy we leave the court without a stain on our\\ncharacters. We win through. Er--constable, we have given you a great\\ndeal of trouble. Possibly--?' 'Thank you, sir.' There was a musical clinking. 'Now then, all of you,\\nyou 'op it. You're all bin poking your noses in 'ere long enough. Pop\\noff.\",\n",
       " 'Parker looked at the door. It was closed. He bent forward. \"See here,\" he said, \"I\\'m going to talk straight, if you\\'ll let me.\" \"Assuredly, Comrade Parker. There must be no secrets, no restraint\\nbetween us. I would not have you go away and say to yourself, \\'Did I\\nmake my meaning clear? Was I too elusive?\\'\" Mr. Parker scratched the floor with the point of a gleaming shoe.',\n",
       " 'There was a quick rally, and then Sheen swung his right at a\\nventure. The blow had no conscious aim. It was purely speculative. But\\nit succeeded. The Tonbridgian fell with a thud. Sheen drew back. The thing seemed pathetic. He had braced himself up\\nfor a long fight, and it had ended in half a minute. His sensations\\nwere mixed. The fighting half of him was praying that his man would get\\nup and start again.',\n",
       " '\"Stewart who?\" asked Psmith. Billy stared. \"Great Scott, man!\" he said, \"haven\\'t you heard of Stewart Waring?\" \"The name seems vaguely familiar, like Isinglass or Post-toasties. I seem to know it, but it conveys nothing to me.\" \"Don\\'t you ever read the papers?\" \"I toy with my _American_ of a morning, but my interest is confined\\nmainly to the sporting page which reminds me that Comrade Brady has\\nbeen matched against one Eddie Wood a month from to-day. Gratifying\\nas it is to find one of the staff getting on in life, I fear this\\nwill cause us a certain amount of inconvenience.',\n",
       " 'queried Bindle in surprise. \"I got to go to a funeral,\" continued the foreman, avoiding Bindle\\'s\\neye, \"an\\' I want to get a bit o\\' sleep first.\" Bindle eyed his superior curiously. \"Funny things, funerals,\" he remarked casually. \"Goin\\' to \\'ave a\\ncornet on the \\'earse?\" \"A what?\" \"The last time I went to a funeral the guv\\'nor saw me on the box, next\\nto Ole \\'Arper, and all the boys a-shoutin\\' somethink about \\'Ope and\\nGlory. The ole guv\\'nor didn\\'t ought to \\'ave been out so early. Ole\\n\\'Arper could play; \\'e\\'d wake a \\'ole village while another man was\\nthinkin\\' about it,\" he added reminiscently. \"It\\'s my mother wot\\'s dead,\" said the foreman dully, unequal to the\\ntask of stemming the tide of Bindle\\'s loquacity and at the same time\\nkeeping on good terms with him.',\n",
       " 'On a sunny afternoon down in Washington Square\\none\\'s progress is positively impeded by the swarms of young poets\\nbrought out by the warm weather. It is a horrible sight to see those\\nunfortunate youths, who ought to be sitting happily at desks writing\\n\"Dear Sir, Your favor of the tenth inst. duly received and contents\\nnoted. In reply we beg to state....\" wandering about with their\\nfingers in their hair and their features distorted with the agony of\\ncomposition, as they try to find rhymes to \"cosmic\" and \"symbolism.\" And, as if matters were not bad enough already, along comes Mr. Edgar\\nLee Masters and invents _vers libre_. It is too early yet to\\njudge the full effects of this man\\'s horrid discovery, but there is no\\ndoubt that he has taken the lid off and unleashed forces over which\\nnone can have any control. All those decent restrictions which used to\\ncheck poets have vanished, and who shall say what will be the outcome? Until Mr. Masters came on the scene there was just one thing which,\\nlike a salient fortress in the midst of an enemy\\'s advancing army,\\nacted as a barrier to the youth of the country.',\n",
       " 'It\\nwas here that the red-jerseyed thinker for the first and last time came\\nout of his meditative trance. He leaned over the ropes, and spoke,\\nwithout heat, but firmly:\\n\\n\"If that guy whistling back up yonder thinks he can do better than\\nthese boys, he can come right down into the ring.\" The whistling ceased. There was a distinct air of relief when the last preliminary was\\nfinished and preparations for the main bout began. It did not commence\\nat once. There were formalities to be gone through, introductions and\\nthe like. The burly gentleman reappeared from nowhere, ushering into\\nthe ring a sheepishly grinning youth in a flannel suit. \"In-ter-_doo_-cin\\' Young Leary,\" he bellowed impressively, \"a noo\\nmember of this club, who will box some good boy here in September.\" He walked to the other side of the ring and repeated the remark. A\\nraucous welcome was accorded to the new member.',\n",
       " 'So\\nhe spread the news of Lady Daphne\\'s approaching departure with great\\nsatisfaction and the warmest eulogies of the gracious consideration\\nQueen Selina had displayed. But even this could only partially check\\ntheir disaffection, for they could not forgive her for subjecting them\\nto the indignity of accepting a Water-nixie as their Crown Princess. After dismissing the Baron, the Queen had felt somewhat shocked at her\\nown talent for dissimulation. \"I little thought at Gablehurst that I\\nshould ever fib like this!\" she reflected. \"But I wasn\\'t a Queen _then_! And I can\\'t afford to be too particular, when it\\'s a question of keeping\\nthe Crown in the family!\" The Marshal waited until the Baron had concluded his interview with the\\nQueen, and then visited him in his own quarters. The Court Chamberlain\\nmentioned the instructions he had just received, and spoke in the\\nhighest terms of his Royal mistress\\'s benevolence. \"As you say, Baron,\" said the Marshal, \"such conduct does honour to her\\nMajesty.',\n",
       " '\"I\\'m\\nsure Uncle Joe would never do such a thing. He couldn\\'t,\" she added with\\nconviction. \"Well, they do it,\" retorted Mrs. Bindle, conscious of a feeling that\\npossibly she had gone too far; \"only yesterday they did it.\" \"What did they say?\" enquired Millie curiously. \"They said,\" she paused as if hesitating to repeat what the youth of\\nFenton Street had called after her. Then, as if determined to convict\\nBindle of all the sins possible, she continued, \"They called after me\\nall the way up Fenton Street----\" again she paused. \"Yes, Aunt Lizzie.\" \"They called \\'Mrs.',\n",
       " '_Second Daughter._ Really! From our appearance there might be a decade! _Son and Heir._ Don\\'t quarrel, girls! And here\\'s the post! _Enter servant with a solitary letter._\\n\\n_Chorus._ What is it? _Paterfamilias_ (_perusing a bill_). Not a Valentine! *       *       *       *       *\\n\\n\"THE ACT OF UNION.\" --Getting married. *       *       *       *       *\\n\\n[Illustration: _That dear old Mrs.',\n",
       " 'It come acrost th\\'\\nAtlantic Ocean in four days. Passengers that got aboord at Liverpool on\\nSaturday were in New York Friday afthernoon.\" \"But that\\'s more thin four days.\" \"Not be nautical time, said Mr. Dooley. Ye mustn\\'t figure it out th\\'\\nway ye do on land. On land ye niver read that \\'Th\\' Thunderbolt limited\\nhas broken all records be thravellin\\' fr\\'m New York (Harrisburg) to\\nChicago (Fort Wayne) in eight hours.\\' But with a steamboat \\'tis\\ndifferent. Ye saw a lot iv time off ayether end an\\' what\\'s left is th\\'\\nv\\'yage. \\'Th\\' Conyard line\\'s gr-reat ocean greyhound or levithin iv th\\'\\nseas has broken all records iv transatlantic passages except thim made\\nbe th\\' Germans.',\n",
       " \"It was my sex. This is man's\\nwork. If I had been a man, I should at least have had brute force\\nto fall back upon when Mr Mennick arrived.' Mrs Ford nodded. 'Yes, but--'\\n\\n'And,' continued Cynthia, 'as all these Smooth Sam Fishers of\\nyours have failed too, it is obvious that the only way to kidnap\\nOgden is from within. We must have some man working for us in the\\nenemy's camp.' 'Which is impossible,' said Mrs Ford dejectedly. 'Not at all.' 'You know a man?' 'I know _the_ man.'\",\n",
       " 'Val Prinsep\\nsitting for the \"altogether.\" During dinner Mr. Gladstone mentioned this\\nportrait of Mrs. Gladstone, and expressed great delight with Herkomer\\'s\\nwork: it showed her mature age, he said, and as a portrait was very\\nhappy and true--he did not say anything about the hanging of it! Mr. Gladstone was the life and soul of a party, and seemed to enjoy\\nbeing the centre of attraction wherever he was. [Illustration: THE GLADSTONE MATCHBOX.] Mr. Gladstone\\'s portrait has been adopted by others besides\\ncaricaturists. It is carved as a gargoyle in the stone-work of a church,\\nand the head of the Grand Old Man has been turned into a match-box.',\n",
       " '\"Patience, my good Braddle. No violence. Leave\\nhim to me; he\\'s a devilish deep fellow, and deserves all respect.\" (Here\\nhe shook Leander like a rat.) \"You\\'ve stolen a march on us, you\\ncondemned little hairdressing ape, you! How did you do it? Out with it! How the devil did you do it?\" \"For the love of heaven, gents,\" pleaded Leander, without reflecting\\nthat he might have found a stronger inducement, \"don\\'t use violence! How\\ndid I do _what_?\"',\n",
       " 'And I am weary, weary,\\n      Of her silly, simpering ways,\\n    Bugles, buckles, buttons, spangles,\\n      Tight tiebacks, tighter stays. And I am weary, weary,\\n      Of that hollow little laugh,\\n    Of the slang that stands for humour,\\n      Of the chatter and the chaff. Sick of the inch-deep feeling\\n      Of that hollow little heart,\\n    Its \"too lovely\" latest fashions,\\n      Its \"too exquisite\" high Art. Its Church high, higher, highest,\\n      Their curates and their clothes,\\n    Their intonings, genuflections,\\n      Masqueradings, mops and mows. But I must curb my temper,\\n      Grumbling helps not wedlock\\'s ills. Fashion, High Church, or Æsthetics,\\n      Let me grin and pay the bills! *       *       *       *       *\\n\\n[Illustration: FOREWARNED\\n\\n_Claude Merridew, leaderette-writer, reviewer, &c. (sentimentally)._\\n\"Whenever I think of Althæa, Miss Vansittart I mean, I am irresistibly\\nreminded of those matchless words of Steele\\'s--\\'To love her was a\\nliberal education.\\'\" _Algy (following the idea with difficulty)._ \"That\\'s all right, old man,\\nthat\\'s all right, \\'course I know a lot of you writin\\' chaps are like\\nthat, but I think I ought to tell you that her father is one of the head\\njohnnies in the Primrose League.\"] *       *       *       *       *\\n\\nTHE EDUCATION OF HUSBANDS\\n\\nHow suggestive is the new year of bills; and bills of housekeeping.',\n",
       " 'Your Duty summons you to Philadelphia, to knock the\\ncover off the local bowling. Mine retains me here, to play my part\\nin the great work of making New York sit up. By the time you\\nreturn, with a century or two, I trust, in your bag, the good work\\nshould, I fancy, be getting something of a move on. I will complete\\nthe arrangements with regard to the flat.\" After leaving Pleasant Street they had found Fourth Avenue by a\\ndevious route, and had opened negotiations for a large flat near\\nThirtieth Street. It was immediately above a saloon, which was\\nsomething of a drawback, but the landlord had assured them that the\\nvoices of the revellers did not penetrate to it. *    *    *\\n\\nWhen the ferry-boat had borne Mike off across the river, Psmith\\nturned to stroll to the office of _Cosy Moments_. The day was fine,\\nand on the whole, despite Mike\\'s desertion, he felt pleased with\\nlife. Psmith\\'s was a nature which required a certain amount of\\nstimulus in the way of gentle excitement; and it seemed to him that\\nthe conduct of the remodelled _Cosy Moments_ might supply this. He\\nliked Billy Windsor, and looked forward to a not unenjoyable time\\ntill Mike should return.',\n",
       " \"A snort from Mr Ford checked him for a moment, but he resumed. 'I guess there were faults on both sides. Get together and talk it\\nover. And when you've agreed to call the fight off and start fair\\nagain, that's where I come in. Mr Burns here will tell you, if you\\nask him, that I'm anxious to quit this business and marry and\\nsettle down. Well, see here. What you want to do is to give me a\\nsalary--we can talk figures later on--to stay by you and watch\\nover the kid. Don't snort--I'm talking plain sense. You'd a sight\\nbetter have me with you than against you. Set a thief to catch a\\nthief.\",\n",
       " 'The writing on these phylactrys is so perfect that you can hardly\\nbelieve that it is done with a pen. The Jews are extremely careful in\\ncopying the oracles of God. They still write copies of their Old\\nTestament Scriptures, and every page must have jest so many lines, and\\njest the same number of words and letters. Robert Strong said that this was a great proof of the truth of the\\nScriptures. Sez he: \"Our Saviour said that one jot or tittle of the\\nlaw shall not fail.\" Tommy wanted to know what that meant, and Robert told him that \"jot\"\\nwuz the smallest letter in the Hebrew alphabet, and \"tittle\" meant the\\nlittle horn-shaped mark over some of the letters. And I sez: \"I never knew what that meant before.\" But Miss Meechim\\nsaid she did--she always duz know everything from the beginning,\\nspecially after she\\'s hearn some one explain it. But to resoom: We\\nwent to the Church of the Holy Sepulchre, where many different\\nreligious sects come to worship. The place where many think the body\\nof our Lord wuz lain when he wuz taken down from the cross is covered\\nwith a slab worn down by the worshippers, and in the little chapel\\nround it forty-three lamps are kep\\' burning night and day.',\n",
       " \"On\\nthe following day Stapleton was placed doubly out of bounds. Tony, who was still in bed, had not heard the news when Charteris came\\nto see him on the evening of the day on which the edict had gone forth. 'How are you getting on?' asked Charteris. 'Oh, fairly well. It's rather slow.' 'The grub seems all right.' Charteris absently reached out for a slice\\nof cake. 'Not bad.' 'And you don't have to do any work.'\",\n",
       " 'Together, we will toil\\nearly and late till we whoop up this domestic journal into a shining\\nmodel of what a domestic journal should be. What that is, at present, I\\ndo not exactly know. Excursion trains will be run from the Middle West\\nto see this domestic journal. Visitors from Oshkosh will do it before\\ngoing on to Grant\\'s tomb. What exactly is your name?\" Betty hesitated. Yes, perhaps it would be better. \"Brown,\" she said. \"Mine is Smith. The smiling child in the outer office is Pugsy Maloney,\\none of our most prominent citizens.',\n",
       " 'This is crossed out, and below it\\nappears, \"Fair Lydia, COULD my earthly harp.\" This again\\nis erased, and under it appears, \"Fair Lydia, SHOULD my\\nearthly harp.\" This again is struck out with a despairing\\nstroke, and amended to read: \"Fair Lydia, DID my earthly\\nharp.\" So that finally, when the lines appeared in the\\nGentleman\\'s Magazine (1845) in their ultimate shape--\"Fair\\nEdith, when with fluent pen,\" etc., etc.--one can realize\\nfrom what a desperate congelation the fluent pen had been\\nso perseveringly rescued. There can be little doubt of the deleterious effect\\noccasioned both to public and private morals by this\\ndeliberate exaltation of mental susceptibility on the\\npart of the early Victorian. In many cases we can detect\\nthe evidences of incipient paresis. The undue access of\\nemotion frequently assumed a pathological character. The\\nsight of a daisy, of a withered leaf or an upturned sod,\\nseemed to disturb the poet\\'s mental equipoise. Spring\\nunnerved him. The lambs distressed him.',\n",
       " '\"Oh, he gassed a bit until I told him I\\'d kick him if he said another\\nword. That shut him up.\" \"You ought to have kicked him. You want all the kicking practice you\\ncan get. I never saw anything feebler than that shot of yours after\\nDrummond\\'s try.\" \"I\\'d like to see _you_ take a kick like that. It was nearly on the\\ntouch-line. Still, when we play you, we shan\\'t need to convert any of\\nour tries. We\\'ll get our thirty points without that. Perhaps you\\'d like\\nto scratch?\"',\n",
       " \"It\\nis said that anybody at a distance of two miles on a clear day could\\nreadily distinguish that it was a wig, and yet he died believing that no\\none had ever probed his great mystery and that his wig would rise with\\nhim at the playing of the last trump. [Illustration: BELIEVING HIS WIG WOULD RISE WITH HIM.] King George's War, which extended over four years, succeeded, but did\\nnot amount to anything except the capture of Cape Breton by English and\\nColonial troops. Cape Breton was called the Gibraltar of America; but a\\nYankee farmer who has raised flax on an upright farm for twenty years\\ndoes not mind scaling a couple of Gibraltars before breakfast; so,\\nwithout any West Point knowledge regarding engineering, they walked up\\nthe hill, and those who were alive when they got to the top took it. It\\nwas no Balaklava business and no dumb animal show, but simply revealed\\nthe fact that brave men fighting for their eight-dollar homes and a mass\\nof children are disagreeable people to meet on the battle-field. The French and Indian War lasted nine years,--viz., from 1754 to 1763. From Quebec to New Orleans the French owned the land, and mixed up a\\ngood deal socially with the Indians, so that the slender settlement\\nalong the coast had arrayed against it this vast line of northern and\\nwestern forts, and the Indians, who were mostly friendly with the\\nFrench, united with them in several instances and showed them some new\\nstyles of barbarism which up to that time they had never known about. The half-breed is always half French and half Indian. The English owned all lands lying on one side of the Ohio, the French on\\nthe other, which led a great chief to make a P. P. C. call on Governor\\nDinwiddie, and during the conversation to inquire with some _naïveté_\\nwhere the Indian came in. No answer was ever received.\",\n",
       " 'Lord Eldon always behaved to me like _a\\nfather_.\" --\"Yes,\" remarked Brougham, \"I understand he always treated you\\nlike _a child_.\" DVII.--THE COLLEGE BELL! AT a party of college grandees, one of the big-wigs proposed that each\\ngentleman should toast his favorite _Belle_. When it came to the turn of\\nDr. Barrett (who happened to be one of the _quorum_) to be called on for\\nthe name of the fair object of his admiration, he very facetiously gave,\\n\"The College Bell!\" _Vivat Collegium Sancti Petri_! DVIII.--FRENCH LANGUAGE. WHEN some one was expatiating on the merits of the French language to\\nMr. Canning, he exclaimed: \"Why, what on earth, sir, can be expected of\\na language which has but one word for _liking_ and _loving_, and puts a\\nfine woman and a leg of mutton on a par:--_J\\'aime Julie; J\\'aime un\\ngigot_!\"',\n",
       " '\"And did you ask it for a subscription?\" said the\\nnon-giver. \"No, I saw no chance,\" replied the other; \"it was _so like\\nyou_.\" MCLXXI.--CUTTING AN ACQUAINTANCE. GEORGE SELWYN, happening to be at Bath when it was nearly empty, was\\ninduced, for the mere purpose of killing time, to cultivate the\\nacquaintance of an elderly gentleman he was in the habit of meeting at\\nthe Rooms. In the height of the following season, Selwyn encountered his\\nold associate in St. James\\'s street. He endeavored to pass unnoticed,\\nbut in vain. \"What! don\\'t you recollect me?\"',\n",
       " \"That was what everything was, if you came down to it. Sitting here,\\nfor instance, was a futile waste of time. She wouldn't come. There\\nwere a dozen reasons why she should not come. So what was the use\\nof his courting rheumatism by waiting in this morgue of dead\\nagricultural ambitions? None whatever--George went on waiting. And what an awful place to expect her to come to, if by some miracle\\nshe did come--where she would be stifled by the smell of mouldy hay,\\ndamped by raindrops and--reflected George gloomily as there was\\nanother scurry and scutter along the unseen floor--gnawed by rats. You could not expect a delicately-nurtured girl, accustomed to all\\nthe comforts of a home, to be bright and sunny with a platoon of\\nrats crawling all over her. . .\",\n",
       " 'I wonder which it is? Dear old Bigheart,\\nthe best fellow in the world, and enthusiastic about yachting. So am I\\n(theoretically, and whilst in smooth water). Try to act as nautically as\\npossible, and ask skipper at frequent intervals \"How does she bear?\" Don\\'t know what it means; but, after all, what _does_ that matter? Skipper stares at me rather helplessly, and mutters something about\\n\"Nothe-nor-east-by-sou-sou-west.\" Feel that, with this lucid\\nexplanation, I ought to be satisfied, so turn away, assume cheery aspect\\nand with a rolling gait seize the topsail-main-gaff-mizen sheet and pull\\nit lustily, with a \"Yo, heave ho!\" The pull, unfortunately, releases heavy block, which, falling on\\nBigheart\\'s head, seems to quite annoy him for the minute. We plunge into\\nSolent, and then bear away for West Channel. Skipper remarks that we\\nshall make a long \"retch\" of it (_absit omen_).',\n",
       " 'You all seem to know me, and\\nlikewise to be very fond o\\' me; well, p\\'r\\'aps I might become fond o\\'\\nyou if I don\\'t get to know too much about yer \\'abits. I\\'m sorry to\\nbreak up this \\'ere prayer-meetin\\', but I come to \\'ave a word with Mr. Little.\" (Cries of \"Have it with us.\") \"Very well, then,\" continued\\nBindle. \"I got a brother-in-law, \\'Earty by name.\" (There were cries\\nof \"Good old Hearty!\") \"Seem to know \\'im too. P\\'r\\'aps yer sings in\\nthe choir at \\'is chapel. Any\\'ow, \\'Earty\\'s been prayin\\' for me to-night\\nat \\'is chapel, an\\' I come to arst Mr.',\n",
       " 'Mercifully, there was an ample supply of fireworks, for the show was to\\nbe repeated at Antelope, over in Lone Jack County, and again at Cinche. Moreover, drawing heavily, as he had been instructed, upon Kid\\nBarringer\\'s bank account, Gilbert wrote to Fort Worth and ordered a\\nduplicate set of these fireworks sent on to Cinche. And in the darkness\\nof night, when Blowout was wrapped in slumber, Gilbert and Romero rode\\nsilently out, down the flank of the divide, across the plain and into a\\nlittle cañon six or seven miles distant in the breaks of Wild Horse\\nCreek. All day, in the intervals of his business duties, Gilbert had been\\nreceiving theoretical instructions; now with the set of fireworks which\\nwas to have dazzled and delighted the residents of Antelope, he made\\npractical experiment of the knowledge so gained. The little show,\\nwitnessed only by the naked walls of the cañon and such prairie-dogs and\\njack-rabbits as had been untimely aroused from their slumbers, went off\\nfairly well--which is to say that most of Gilbert\\'s fingers and nearly\\nall of his features went back to Blowout sound and entire. \"Oh, I got the hang of the business,\" he declared again and again, as\\nthey rode along through the soft Texas night; \"I got the hang of it. I\\ncan make the whole first part go all right. The thing now is to get that\\nColumbia act fixed so as to give the boys a run for their money, and\\nleave a chance for Minnie and Kid.\" The two rode home, and later José went to bed in Gilbert\\'s back room,\\nwhere work was going forward upon a mysterious-looking structure. II\\n\\n  \"In our village hall a Justice stands:\\n  A neater form was never made of board.\"',\n",
       " \"Then they all sat down, and, as Paul had foreseen, there the white\\ncocked-hat lay on the dark pew-carpet, hideously distinct, with _billet\\ndoux_ in every fold of it! It could only be a question of time now. The curate was reading the\\nfirst lesson for the day, but Mr. Bultitude heard not a verse of it. He\\nwas waiting with bated breath for the blow to fall. It fell at last. Dulcie, either with the malevolent idea of hastening\\nthe crisis, or (which I prefer to believe for my own part) finding that\\nher ex-lover's visible torments were too much for her desire of\\nvengeance, was softly moving a heavy hassock towards the guilty note. The movement caught her mother's eye, and in an instant the compromising\\npaper was in her watchful hands. She read it with incredulous horror, and handed it at once to the\\nDoctor. The golden-haired one saw it all without betraying herself by any\\noutward confusion.\",\n",
       " 'She is\\nexceedingly distressed (as any dutiful daughter would be) by the cruel\\nand senseless trick you have played her father, and she begs that you\\nwill rectify it at once. Don\\'t you, Sylvia?\" \"Yes, indeed!\" said Sylvia, almost in a whisper, \"if--if it isn\\'t\\ntroubling you too much!\" \"I have been turning over thy words in my mind,\" said Fakrash to Horace,\\nstill ignoring Sylvia, \"and I am convinced that thou art right. Even if\\nthe contents of the seal were known of all men, they would raise no\\nclamour about affairs that concern them not. Therefore it is nothing to\\nme in whose hands the seal may be. Dost thou not agree with me in this?\" \"Of course I do,\" said Horace. \"And it naturally follows that----\"\\n\\n\"It naturally follows, as thou sayest,\" said the Jinnee, with a cunning\\nassumption of indifference, \"that I have naught to gain by demanding\\nback the seal as the price of restoring this damsel\\'s father to his\\noriginal form.',\n",
       " 'And, as briefly as possible, he told her how he had\\nunsealed the brass bottle, and all that had come of it. She bore it, on the whole, better than he had expected; perhaps, being a\\nwoman, it was some consolation to her to remind him that she had\\nforetold something of this kind from the very first. \"But, of course, I never really thought it would be so awful as this!\" she said. \"Horace, how _could_ you be so careless as to let a great\\nwicked thing like that escape out of its bottle?\" \"I had a notion it was a manuscript,\" said Horace--\"till he came out. But he isn\\'t a great wicked thing, Sylvia. He\\'s an amiable old Jinnee\\nenough. And he\\'d do anything for me. Nobody could be more grateful and\\ngenerous than he has been.\"',\n",
       " 'Some died _en route_, others were hanged, and still others became\\nthe heads of new families. Some came back and carried water for their\\nwives to wash clothing for their neighbors. [Illustration: SOME CAME BACK AND CARRIED WATER FOR THEIR WIVES TO WASH\\nCLOTHING.] It was a long hard trip then across the plains. One of the author\\'s\\nfriends at the age of thirteen years drove a little band of cows from\\nthe State of Indiana to Sacramento. He says he would not do it again for\\nanything. He is now a man, and owns a large prune-orchard in California,\\nand people tell him he is getting too stout, and that he ought to\\nexercise more, and that he ought to walk every day several miles; but he\\nshakes his head, and says, \"No, I will not walk any to-day, and possibly\\nnot to-morrow or the day following. Do not come to me and refer to\\ntaking a walk: I have tried that. Possibly you take me for a dromedary;\\nbut you are wrong. I am a fat man, and may die suddenly some day while\\nlacing up my shoes, but when I go anywhere I ride.\"',\n",
       " 'If ye want to show thim what\\nlife is, tell thim to look around thim. There\\'s more life on a Saturdah\\nnight in th\\' Ar-rchy Road thin in all th\\' books fr\\'m Shakespeare to th\\'\\nrayport iv th\\' drainage thrustees. No man,\\' I says, \\'iver wrote a book\\nif he had annything to write about, except Shakespeare an\\' Mike Ahearn. Shakespeare was all r-right. I niver read anny of his pieces, but they\\nsound good; an\\' I know Mike Ahearn is all r-right.\\'\" \"What did he say?\" asked Mr. Hennessy. \"He took it all r-right,\" said Mr. Dooley.',\n",
       " \"The rooster was no doubt a fine-looking brute when he was shipped, but\\nwhen he got here he strolled around with a preoccupied air and seemed to\\nfeel above us. He was a poker-dot rooster, with gray mane and tail, and\\nhe was no doubt refined, but I did not think he should feel above his\\nbusiness, for we are only plain people who are accustomed to the\\nself-made American hen. He seemed bored all the time, and I could see\\nby the way he acted that he pined to be back in Fremont, O., having his\\npicture taken for the Poultry-Keepers' Guide and American Eggist. He\\nstill yearned for approbation. He was used to being made of, as your\\nmother says, and it galled him to enter into our plain, humdrum home\\nlife. I never saw such a haughty rooster in my life. Actually, when I got out\\nto feed him in the morning he would give me a cold, arrogant look that\\nhurt my feelings. I know I'm not what you would call an educated man nor\\na polished man, though I claim to have a son that is both of said\\nthings, but I hate to have a rooster crow over me because he has had\\nbetter advantages and better breeding than I have. So there was no love\\nlost between us, as you can see. Directly I noticed that the hen began to have spells of vertigo.\",\n",
       " \"What he was really doing\\nwas getting a steady aim at us with his revolver. He fired as we came\\nup, and dropped poor old Chester. I thought he was killed at first, but\\nit turned out it was only his leg. I got going then. I emptied all the\\nsix chambers of my revolver, and missed him clean every time. In the\\nmeantime he got me in the right shoulder. Hurt like sin afterwards,\\nthough it was only a sort of dull shock at the moment. The next item\\nof the programme was a forward move in force on the part of the enemy. The man had got his knife out now--why he didn't shoot again I don't\\nknow--and toddled over in our direction to finish us off. Chester was\\nunconscious, and it was any money on the Gaucho, when I happened to\\ncatch sight of Chester's pistol, which had fallen just by where I came\\ndown.\",\n",
       " \": Not at all, not at all. Let's hear all about it. _CONSCIENCE seeks to interpose, but is prevented by MEPH., who eggs\\nSMITH on to talk cricket for over an hour._\\n\\nCONSCIENCE _(at last; in an acid voice)_: That is a history of the\\nPeloponnesian War by Thucydides on the table in front of you. I thought\\nI would mention it, in case you had forgotten. SMITH: Great Scott, yes! Here, I say, I must start. CONSCIENCE: Hear! Hear! MEPH. _(insinuatingly)_: One moment.\",\n",
       " \"The east wind explored Ashe's system with chilly fingers. Somewhere out in the darkness into which Mr. Peters and Aline had\\nalready vanished in a large automobile, lay the castle, with its\\nbutler and its fearful code of etiquette. Soon the cart that was\\nto convey him and the trunks thither would be arriving. He\\nshivered. Out of the gloom and into the feeble rays of the oil lamp came\\nJoan Valentine. She had been away, tucking Aline into the car. She looked warm and cheerful. She was smiling in the old friendly\\nway. If girls realized their responsibilities they would be so careful\\nwhen they smiled that they would probably abandon the practice\\naltogether.\",\n",
       " 'Mr. Coston, alluding to an Italian who had just pirouetted\\npast, remarked that there sure was some class to the way that wop\\nhit it up. Mr. Dawson said Yup, there sure was. You would have said\\nthat all Nature smiled. Alas! The next moment the sky was covered with black clouds and the\\nstorm broke. For Mr. Dawson, continuing in this vein of criticism,\\nrather injudiciously gave it as his opinion that one of the lady\\ndancers had two left feet. For a moment Mr.',\n",
       " '\"Not for me,\" sez I, groanin\\' aloud, \"not for me.\" \"You needn\\'t look like that, Samantha; I tell you agin I wuzn\\'t goin\\'\\nto use it only when I wuz driv to death with work. And I tell you it\\nwould be handy for you when you expected a houseful of company, and\\nPhilury wuz away.\" \"No, indeed!\" sez I; \"no such wicked, wicked work will be connected\\nwith my prayers.\" \"Well,\" sez Arvilly, \"I d\\'no as it would be much wickeder than some\\nprayers I\\'ve hearn when folks wuz in a hurry; they would run their\\nthanksgivin\\'s into their petitions and them into their amens, and\\ngallop through \\'em so there wuzn\\'t a mite of sense in \\'em. Or take so\\nmuch pains to inform the Lord about things. I hearn one man say,\" sez\\nArvilly:\\n\\n\"\\'O Lord, thou knowest by the morning papers, so and so.\\' I d\\'no as a\\nprayer turned off by a wheel would look much worse or be much less\\nacceptable.\" Josiah looked encouraged, and sez he to me, _soty vosey_, \"Arvilly\\nalways did have good horse sense.\"',\n",
       " 'Someone is very ill.\" There was sincerity in the appeal, spoken in the softest, most silvern\\ntone which he had ever heard. He stood beside the veiled woman, and\\nmet the glance of her dark eyes with a consciousness of some magnetic\\nforce in the glance, which seemed to set his nerves quivering. \"Why do you come to the window? How do you know--\"\\n\\nThe visitor raised her hand again to her lips. It was of a gleaming\\nivory colour, and the long tapered fingers were laden with singular\\njewellery--exquisite enamel work, which he knew to be Ancient\\nEgyptian, but which did not seem out of place in this dream adventure. \"I was afraid to make any unnecessary disturbance,\" she replied. \"Please do not delay, but come at once.\" Dr. Cairn adjusted his dressing-gown, and followed the veiled\\nmessenger along the balcony.',\n",
       " '\"Beyond the possibility of a mistake and without the least feeling of\\nhesitation.\" The Prefect of Police, with a laugh, hinted:\\n\\n\"You recognize Private Perenna, whom the men, carried away by a sort of\\nastounded admiration of his exploits, used to call Arsène Lupin?\" \"Yes, Monsieur le Préfet,\" replied the major sharply, \"the one whom the\\nmen called Arsène Lupin, but whom the officers called simply the Hero,\\nthe one who we used to say was as brave as d\\'Artagnan, as strong as\\nPorthos....\"\\n\\n\"And as mysterious as Monte Cristo,\" said the Prefect of Police,\\nlaughing. \"I have all this in the report which I received from the Fourth\\nRegiment of the Foreign Legion. It is not necessary to read the whole of\\nit; but it contains the unprecedented fact that Private Perenna, in the\\nspace of two years\\' time, received the military medal, received the\\nLegion of Honour for exceptional services, and was mentioned fourteen\\ntimes in dispatches. I will pick out a detail here and there.\" \"Monsieur le Préfet, I beg of you,\" protested Don Luis. \"These are\\ntrivial matters, of no interest to anybody; and I do not see the\\nreason....\"\\n\\n\"There is every reason, on the contrary,\" declared M. Desmalions. \"You\\ngentlemen are here not only to hear a will read, but also to authorize\\nits execution as regards the only one of its clauses that is to be\\ncarried out at once, the payment of a legacy of a million francs. It\\nis necessary, therefore, that all of you should know what there is to\\nknow of the personality of the legatee.',\n",
       " 'In short, they were\\nrespectable citizens. \"To all of them--whether public servants, farmers, municipal\\ncouncillors, grocers, sacristans, or what not--I wrote the same letter,\\nmade the same offer, and gave the same instructions in case they should\\naccept.... Monsieur le Président, I thought that, of the sixty, ten or\\nfifteen at most would come and join me: sixty came, Monsieur le\\nPresident, sixty, and not one less! Sixty men punctually arrived at the\\nappointed place. \"On the day fixed, at the hour named, my old armed cruiser, the\\n_Ascendam_, which they had brought back, anchored in the mouth of the\\nWady Draa, on the Atlantic coast, between Cape Nun and Cape Juby. Two\\nlongboats plied to and fro and landed my friends and the munitions of war\\nwhich they had brought with them: camp furniture, quick-firing guns,\\nammunition, motor-boats, stores and provisions, trading wares, glass\\nbeads, and cases of gold as well, for my sixty good men and true had\\ninsisted on turning their share of the old profits into cash and on\\nputting into the new venture the six million francs which they had\\nreceived from their governor....\\n\\n\"Need I say more, Monsieur le Président? Must I tell you what a chief\\nlike Arsène Lupin was able to attempt seconded by sixty fine fellows of\\nthat stamp and backed by an army of ten thousand well-armed and\\nwell-trained Moorish fanatics? He attempted it; and his success was\\nunparalleled. \"I do not think that there has ever been an idyl like that through which\\nwe lived during those fifteen months, first on the heights of the Atlas\\nrange and then in the infernal plains of the Sahara: an idyl of heroism,\\nof privation, of superhuman torture and superhuman joy; an idyl of hunger\\nand thirst, of total defeat and dazzling victory....\\n\\n\"My sixty trusty followers threw themselves into their work with might\\nand main. Oh, what men! You know them, Monsieur le Président du Conseil!',\n",
       " 'Rachel asked no more questions; but she was not altogether sorry that\\nthe matter had already become one of common gossip throughout the house. Meanwhile she made no allusion to it at breakfast, but her observation\\nhad been quickened by the events of the morning, and thus it was that\\nshe noticed and recognized the narrow blue book which was too long for\\nher husband\\'s breast-pocket, and would show itself as he stooped over\\nhis coffee. It was his check-book, and Rachel had not seen it since\\ntheir travels. That afternoon a not infrequent visitor arrived on his bicycle, to which\\nwas tied a bouquet of glorious roses instead of a lamp; this was Charles\\nLangholm, the novelist, who had come to live in Delverton, over two\\nhundred miles from his life-long haunts and the literary market-place,\\nchiefly because upon a happy-go-lucky tour through the district he had\\nchanced upon what he never tired of calling \"the ideal rose-covered\\ncottage of my dreams,\" though also for other reasons unknown in\\nYorkshire. His flat was abandoned before quarter-day, his effects\\ntransplanted at considerable cost, and ever since Langholm had been a\\nbigoted countryman, who could not spend a couple of days in town without\\nmaking himself offensive on the subject at his club, where he was\\nnevertheless discreetly vague as to the exact locality of his rural\\nparadise. Even at the club, however, it was admitted that his work had\\nimproved almost as much as his appearance; and he put it all down to the\\nroses in which he lived embowered for so many months of the year. Such\\nwas their profusion that you could have filled a clothes-basket without\\nmissing one, and Langholm never visited rich or poor without a little\\noffering out of his abundance. \"They may be coals to Newcastle,\" he would say to the Woodgates or the\\nSteels, \"but none of your Tyneside collieries are a patch on mine.\" Like most victims of the artistic temperament, the literary Langholm was\\na creature of moods; but the very fact of a voluntary visit from him was\\nsufficient guarantee of the humor in which he came, and this afternoon\\nhe was at his best. He had indeed been writing all day, and for many\\ndays past, and was filled with the curious exhilaration which\\naccompanies an output too rapid and too continuous to permit a running\\nsense of the defects.',\n",
       " 'How I congratulated myself upon the precautions which I had taken to\\nescape observation. Evidently the watcher had placed himself somewhere\\nwhere he could command a view of the front door and the road. Five minutes later the girl came out, the old housekeeper accompanying\\nher to the door, the car emerged from the lane, Zara el-Khala\\nentered it and was driven away. I could see no one seated beside the\\nchauffeur. I started my \"Indian\" and leapt in pursuit. As I had anticipated, the route was Eastward, and I found myself\\ntraversing familiar ground. From the south-west to the east of London\\nwhirled the big car of mystery--and I was ever close behind it. Sometimes, in the crowded streets, I lost sight of my quarry for a\\ntime, but always I caught up again, and at last I found myself whirling\\nalong Commercial Road and not fifty yards behind the car. Just by the canal bridge a drunken sailor lurched out in front of my\\nwheel, and only by twisting perilously right into a turning called, I\\nbelieve, Salmon Lane, did I avoid running him down. _Sacre nom!_ how I cursed him!',\n",
       " '\"Did you tell them that?\" \"Naturally. I had to account for my presence at Rivers\\'s shop, this\\nmorning,\" Rand replied. \"I don\\'t know if the idea has occurred to them\\nthat somebody might have killed Rivers to eliminate a rival bidder for\\nthe collection or not; I wouldn\\'t say anything, if I were you, that might\\ngive them the idea.\" The extension phone rang shrilly. Walters picked it up, spoke into it,\\nand listened for a moment. \"Yes, Miss Lawrence; he\\'s right here. You wish to speak to him?\" He\\nhanded the phone across the desk to Rand. \"Miss Karen Lawrence, for you,\\nColonel Rand.\"',\n",
       " '\"Was it his ordinary medical adviser?\" \"No, his ordinary medical adviser, Doctor Pujol, who happens to be a\\nfriend of mine and who had recommended me to him as a solicitor, was ill. The doctor whom I saw at his death-bed must have been a local\\npractitioner.\" \"I have his name and address here,\" said the Prefect of Police, who had\\nturned up the certificate. \"Doctor Bellavoine, 14 Rue d\\'Astorg.\" \"Have you a medical directory, Monsieur le Préfet?\" M. Desmalions opened a directory and turned over the pages. Presently\\nhe declared:\\n\\n\"There is no Doctor Bellavoine; and there is no doctor living at 14 Rue\\nd\\'Astorg.\" CHAPTER TWO\\n\\nA MAN DEAD\\n\\n\\nThe declaration was followed by a silence of some length. The Secretary\\nof the American Embassy and the Peruvian attaché had followed the\\nconversation with eager interest.',\n",
       " '\"I\\'m very sorry, gentlemen,\" said Germaine, \"but my father has not yet\\nreturned.\" \"Please don\\'t apologize. There is not the slightest need,\" said M.\\nCharolais; and he and his two sons settled themselves down on three\\nchairs, with the air of people who had come to make a considerable stay. For a moment, Germaine, taken aback by their coolness, was speechless;\\nthen she said hastily: \"Very likely he won\\'t be back for another hour. I shouldn\\'t like you to waste your time.\" \"Oh, it doesn\\'t matter,\" said M. Charolais, with an indulgent air; and\\nturning to the Duke, he added, \"However, while we\\'re waiting, if you\\'re\\na member of the family, sir, we might perhaps discuss the least you\\nwill take for the motor-car.\" \"I\\'m sorry,\" said the Duke, \"but I have nothing to do with it.\" Before M. Charolais could reply the door opened, and Firmin\\'s deep\\nvoice said:\\n\\n\"Will you please come in here, sir?\" A third young man came into the hall. \"What, you here, Bernard?\"',\n",
       " 'But the attaché laughed. \"What he has\\ndone to-day I don\\'t know,\" he said; \"but if it\\'s as apocryphal as\\nwhat you say he did two years ago, you\\'ve a thundering bad case,\\nsir; for he was then in India, and I was out there, visiting him.\" \"Where are the two thousand pounds?\" Charles cried. \"Why, you\\'ve got\\nthem in your hand! You\\'re holding the envelope!\" The Colonel produced it. \"This envelope,\" he said, \"was left with me\\nby the man with short stiff hair, who came just before you, and who\\nannounced himself as Sir Charles Vandrift. He said he was interested\\nin tea in Assam, and wanted me to join the board of directors of\\nsome bogus company. These are his papers, I believe,\" and he handed\\nthem to his cousin.',\n",
       " 'His Highness was alone in a box. I had instructions\\nto call with the car at eleven o\\'clock.\" \"Well?\" \"The theatre management telephoned at a quarter past ten to say that\\nHis Highness had been taken ill and that a physician had been sent for. I went in the car at once and found him lying in one of the\\ndressing-rooms to which he had been carried. A medical man was in\\nattendance. The Grand Duke was unconscious. We moved him to the car----\"\\n\\n\"_We?_\"\\n\\n\"The doctor, the theatre manager, and myself. The Grand Duke was then\\nalive, the physician declared, although he seemed to me to be already\\ndead. But just before we reached the hotel, the physician, who was\\nwatching His Highness anxiously, cried, \\'Ah,_mon Dieu!_ It is finished.',\n",
       " 'The ladder, the table on the\\nwindow-sill, they lead nowhere. The only people who came up that ladder\\nwere the two men who brought it from the scaffolding. You can see their\\nfootsteps. Nobody went down it at all. It was mere waste of time to\\nbother with those traces.\" \"But the footprint under the book?\" said the Duke. \"Oh, that,\" said Guerchard. \"One of the burglars sat on the couch\\nthere, rubbed plaster on the sole of his boot, and set his foot down on\\nthe carpet. Then he dusted the rest of the plaster off his boot and put\\nthe book on the top of the footprint.\"',\n",
       " 'I am removing\\nour things. Meet me at Mary\\'s. Your devoted, MARGOT.\" \"This is _very_ important,\" Charles said. \"This _does_ give us a clue. We know two things now: his real name is Paul--whatever else it may\\nbe, and Madame Picardet\\'s is Margot.\" I searched the pocket again, and pulled out a ring. Evidently he had\\nthrust these two things there when he saw me pursuing him, and had\\nforgotten or neglected them in the heat of the mêlée. I looked at it close. It was the very ring I had noticed on his\\nfinger while he was playing Swedish poker.',\n",
       " 'What was Prince Rénine going to do? What would be the outcome of the\\nexperiment on which he was venturing? What resistance would Gaston Dutreuil\\noffer? She lived through one of those minutes of superhuman tension in\\nwhich life becomes intensified until it reaches its utmost value. They heard footsteps on the stairs, the footsteps of men in a hurry. The\\nsound drew nearer. They were reaching the top floor. Hortense looked at her companion. He had stood up and was listening, his\\nfeatures already transfigured by action. The footsteps were now echoing in\\nthe passage.',\n",
       " '\"Didn\\'t they tell you? A Peruvian nobleman, or a Spanish nobleman, I\\ndon\\'t know which. In short, Don Luis Perenna.\" \"Bunkum! I\\'ve just heard--\"\\n\\n\"Don Luis Perenna, late of the Foreign Legion.\" \"Enough of that, Monsieur--\"\\n\\n\"Medaled and decorated with a stripe on every seam.\" \"Once more, Monsieur, enough of that; and come along with me to\\nthe Prefect.\" \"But, let me finish, hang it! I was saying, late private in the Foreign\\nLegion.... Late hero.... Late prisoner of the Sureté.... Late Russian\\nprince.... Late chief of the detective service.... Late--\"\\n\\n\"But you\\'re mad!\" snarled the sergeant.',\n",
       " 'We saw him several times driving in and out of the schloss, and\\nevery time he waved his hand at us gracefully. But when we tried to\\nbargain, it was always the same thing: he retired behind the shelter\\nof his Tyrolese nobility. We might take it or leave it. \\'Twas still\\nSchloss Lebenstein. The lawyers were as bad. We tried all we knew, and got no forrarder. At last Charles gave up the attempt in disgust. He was tiring, as I\\nexpected. \"It\\'s the prettiest place I ever saw in my life,\" he said;\\n\"but, hang it all, Sey, I _won\\'t_ be imposed upon.\" So he made up his mind, it being now December, to return to London.',\n",
       " 'The door, as she opened it,\\nadmitted a dull light, against which her figure showed silhouetted for\\na moment. Then the door was reclosed. \"We must risk the other windows,\" rapped Smith. Before I had grasped the nature of his plan, he was over and had\\ndropped almost noiselessly upon the casks outside. Again I followed\\nhis lead. \"You are not going to attempt anything, single-handed--against _him_?\" I asked. \"Petrie--Eltham is in that house. He has been brought here to be put\\nto the question, in the mediæval, and Chinese, sense! Is there time to\\nsummon assistance?\"',\n",
       " 'I would do the same in his\\nplace. We had the bulge before; he has it now; it\\'s perfectly fair. We\\nmust take on this job; we aren\\'t in a position to refuse it; even if we\\nwere, I should take it on! Our friend is a great sportsman; he has got\\nclear away from Dartmoor; it would be a thousand pities to let him go\\nback. Nor shall he; not if I can think of a way of getting him abroad.\" \"Any way you like,\" murmured Crawshay, with his eyes shut. \"I leaves\\nthe \\'ole thing to you.\" \"But you\\'ll have to wake up and tell us things.\" \"All right, mister; but I\\'m fair on the rocks for a sleep!\" And he stood up, blinking.',\n",
       " '\"The answer is _no_. I am not acquainted with any sect of\\nscorpion-worshippers, Inspector. But I once met with a curious\\nexperience at Su-Chow in China, which I have never been able to\\nexplain, but which may interest you. It wanted but a few minutes to\\nsunset, and I was anxious to get back to my quarters before dusk fell. Therefore I hurried up my boy, who was drawing the rickshaw, telling\\nhim to cross the Canal by the Wu-men Bridge. He ran fleetly in that\\ndirection, and we were actually come to the steep acclivity of the\\nbridge, when suddenly the boy dropped the shafts and fell down on his\\nknees, hiding his face in his hands. \"\\'Shut your eyes tightly, master!\\' he whispered. \\'The Scorpion is\\ncoming!\\' \"I stared down at him in amazement, as was natural, and not a little\\nangrily; for his sudden action had almost pitched me on my head.',\n",
       " 'Shoot! Shoot!\" Lithely as a cat the man with the knife leapt around--but I raised the\\nBrowning, and deliberately--with a cool deliberation that came to me\\nsuddenly--shot him through the head. I saw his oblique eyes turn up to\\nthe whites; I saw the mark squarely between his brows; and with no word\\nnor cry he sank to his knees and toppled forward with one yellow hand\\nbeneath him and one outstretched, clutching--clutching--convulsively. His pigtail came unfastened and began to uncoil, slowly, like a snake. I handed the pistol to Smith; I was perfectly cool, now; and I leapt\\nforward, took up the bloody knife from the floor and cut Eltham\\'s\\nlashings. He sank into my arms. \"Praise God,\" he murmured weakly. \"He is more merciful to me than\\nperhaps I deserve. Unscrew ... the jacket, Petrie ... I think ... I was\\nvery near to ... weakening.',\n",
       " 'I\\'ve got a thousand pounds\\' worth if\\nI\\'ve got a penn\\'oth. It\\'s all in my pockets. And here\\'s something\\nelse I found in this locker; very decent port and some cigars, meant\\nfor poor dear Danby\\'s business friends. Take a pull, and you shall\\nlight up presently. I\\'ve found a lavatory, too, and we must have a\\nwash-and-brush-up before we go, for I\\'m as black as your boot.\" The iron curtain was down, but he insisted on raising it until I could\\npeep through the glass door on the other side and see his handiwork in\\nthe shop beyond. Here two electric lights were left burning all night\\nlong, and in their cold white rays I could at first see nothing amiss. I looked along an orderly lane, an empty glass counter on my left,\\nglass cupboards of untouched silver on my right, and facing me the\\nfilmy black eye of the peep-hole that shone like a stage moon on the\\nstreet. The counter had not been emptied by Raffles; its contents were\\nin the Chubb\\'s safe, which he had given up at a glance; nor had he\\nlooked at the silver, except to choose a cigarette case for me. He had\\nconfined himself entirely to the shop window.',\n",
       " '\"Ah, excuse me, Mr. Rand.\" He crossed to the desk, picked\\nup the phone and spoke into it. \"This is Arnold Rivers,\" he said, much\\nas Edward Murrow used to say, _This--is London!_ The telephone sputtered\\nfor a moment. \"Ah, yes indeed, Mr. Verral. Quite well, I thank you. And\\nyou?... No, it hasn\\'t been sold yet. Do you wish me to ship it to\\nyou?...',\n",
       " 'Anything that lowered the market price of Premix, at this time, would be\\nto his advantage.\" She looked at Goode as though he had six legs and a\\nhard shell. \"You know, Humphrey, I can\\'t say I exactly thank you for\\nthis.\" \"Did you know about it?\" Nelda demanded of her husband. \"You did! My God,\\nFred, you are a filthy specimen!\" \"Oh, you know; anything to turn a dishonest dollar,\" Geraldine piped up. \"Like the late Arnold Rivers\\'s ten-thousand offer. Say!',\n",
       " 'I swear, Mr. Deputy,\\nthat I had no other intention than to talk to Mathias de Gorne. Knowing\\ncertain particulars of his life which enabled me to bring effective\\npressure to bear upon him, I wished to make use of this advantage in order\\nto achieve my purpose. If things turned out differently, I am not wholly\\nto blame.... So I went there a little before nine o\\'clock. The servants, I\\nknew, were out. He opened the door himself. He was alone.\" \"Monsieur,\" said the deputy, interrupting him, \"you are saying\\nsomething--as Madame de Gorne, for that matter, did just now--which is\\nmanifestly opposed to the truth. Mathias de Gorne did not come home last\\nnight until eleven o\\'clock. We have two definite proofs of this: his\\nfather\\'s evidence and the prints of his feet in the snow, which fell from\\na quarter past nine o\\'clock to eleven.\"',\n",
       " '\"He is evidently making a\\ntour of inspection.\" The sound of footsteps mounting to the upper apartments came to their\\nears. They looked about them right and left, and presently the younger\\nman detected a large wooden cupboard set in one wall. Opening it, he\\nsaw that it contained but one shelf only, near the top. \"When he returns,\" he said, \"we can hide in here until he has gone\\nout.\" Dr. Cairn nodded; he was peering about the room intently. \"This is the place I came to, Rob!\" he said softly; \"but there was a\\nstone stair leading down to some room underneath. We must find it.\"',\n",
       " 'Rand,\" Kirchner started to argue, \"that\\nrevolver\\'s a dangerous weapon. It\\'s killed one man, already. I don\\'t know\\nas I ought to let it get out, where it might kill somebody else.\" Rand estimated that this situation called for a modified version of his\\nhard-boiled act. \"You think you can show cause why that revolver shouldn\\'t be turned\\nover to the Fleming estate?\" he demanded. \"Well, if I don\\'t get it,\\nright away, Mr. Goode will get a court order for it. You had no right\\nto impound that revolver, in the first place; you removed it from the\\nFleming home illegally in the second place, since you had no intention\\nof holding any formal inquest, and you\\'re holding it illegally now. A\\ncourt order might not be all we could get, either,\" he added menacingly.',\n",
       " '\"So?\" The Doctor\\'s filmed eyes cleared for a moment. \"And to-day you\\ncompelled me to burn a house, and you have captured one of my people,\\ntoo. I congratulate you. She would not betray me though lashed with\\nscorpions.\" The great gleaming knife was so near to my neck that a sheet of\\nnotepaper could scarcely have been slipped between blade and vein, I\\nthink; but my heart throbbed even more wildly when I heard those words. \"An impasse,\" said Fu-Manchu. \"I have a proposal to make. I assume\\nthat you would not accept my word for anything?\" \"I would not,\" replied Smith promptly.',\n",
       " 'He slipped off the rings with a shiver of disgust, and found that they\\nwere wedding rings. Each bore a date inside, the same date, 12 August,\\n1887, and two names: \"Alfred--Victorine.\" \"Husband and wife,\" he murmured. \"Is it a double suicide? Or a murder? But how is it possible that the two skeletons have not yet been\\ndiscovered? Can one conceive that they have been here since the death of\\nold Langernault, since the government has taken possession of the estate\\nand made it impossible for anybody to walk in?\" He paused to reflect. \"Anybody? I don\\'t know about that, considering that I saw footprints in\\nthe garden, and that a woman has been there this very day!\"',\n",
       " 'And at night the pretty lady\\npoisons me and poisons her stepson. Prove it? Well, what about this\\napple, madam, this apple which you did _not_ bite into and which all the\\nsame will be found to bear the marks of your teeth? What fun! Dance! Jump! Skip! \"And the letters! The trick of my letters to the late lamented\\nLangernault! That was my crowning triumph.',\n",
       " 'Then, uttering a sudden fierce\\nexclamation, Fo-Hi thrust her from him. \"That smile is not for _me,_ the man!\" he cried gutterally. \"Ah! I\\ncould curse the power that I coveted and set above all earthly joys! I who boasted that he could control his will--I read in your eyes that\\nI am _willing_ you to love me! I seek a gift and can obtain but a\\ntribute!\" Miska, with a sobbing moan, sank upon the _diwan._ Fo-Hi stood\\nmotionless, looking straight before him. His terrible calm was\\nrestored. \"It is the bitter truth,\" he said--\"that to win the world I have\\nbartered the birthright of men; the art of winning a woman\\'s heart.',\n",
       " 'Therefore, you need apprehend no attempt at escape on my part. I have come with a purpose. This purpose I shall fulfill; after\\nwhich\"--he shrugged his square shoulders--\"I shall be at your\\nservice.\" \"Very good,\" said Gatton shortly, but I noted that his face was\\nflushed in a way which betokened repressed excitement. Giving me a significant glance, he went out to the ante-room, and:\\n\\n\"Sydenham 1448,\" I heard him call. Damar Greefe closed his eyes and lay back in the chair; and a moment\\nlater:\\n\\n\"Hullo!\" said Gatton. \"Detective-Inspector Gatton, C.I.D., speaking\\nfrom Willow Cottage, College Road. Send two men in a cab here at once\\nto remove a prisoner.... Right! Good-by.\"',\n",
       " '\"It is a sort of combined Wekaleh and place of entertainment for a\\ncertain class of Oriental residents in, or visiting, London,\" Smith\\nwhispered. \"The old gentleman who has just left us is the proprietor\\nor host. I have been here before on several occasions, but have always\\ndrawn blank.\" He was peering out eagerly into the strange clubroom. \"Whom do you expect to find here?\" I asked. \"It is a recognized meeting-place,\" said Smith in my ear. \"It is\\nalmost a certainty that some of the Fu-Manchu group use it at times.\" Curiously I surveyed all these faces which were visible from the\\nspy-hole. My eyes rested particularly upon the two Chinamen.',\n",
       " 'He reached Fo-Hi, drew himself upright; the glittering blade\\nquivered ... and Fo-Hi divined his presence. Uttering a short, guttural exclamation, he thrust Miska aside. She\\nstaggered dazedly and fell prone upon the floor. The quivering blade\\ndid not descend. Fo-Hi drew himself rigidly upright, extending his hands, palms\\ndownward, before him. He was exerting a superhuman effort. The breath\\nwhistled through his nostrils. Chunda Lal, knife upraised, endeavored\\nto strike; but his arm seemed to have become incapable of movement\\nand to be held, helpless, aloft. Staring at the rigid figure before him, he began to pant like a man\\nengaged in a wrestle for life. Fo-Hi stretched his right arm outward, and with a gesture of hand and\\nfingers beckoned to Chunda Lal to come before him.',\n",
       " 'He ran up to his bedroom on the second floor and dipped his face into\\ncold water. Never had he experienced such a stimulation of his whole\\nbeing, such an unbridling of his blind instincts. \"It\\'s she!\" he spluttered. \"I hear her! She is at the bottom of the\\nstairs. At last! Oh, the joy of having her in front of me! Face to face! She and I alone!\"',\n",
       " '\"I was not there. I had to leave the house where I am staying, in a\\nhurry.\" Perenna did not doubt that it was his intervention that upset the enemy\\'s\\nplans by causing Florence to take to flight. The Prefect continued:\\n\\n\"So you are ignorant of the reasons why you received the papers?\" \"Yes, Monsieur le Préfet.\" \"And evidently you are also ignorant of how far they concern you?\" \"They do not concern me, Monsieur le Préfet.\" M. Desmalions smiled and, looking into Florence\\'s eyes, said, plainly:\\n\\n\"According to the letter that accompanies them, they concern you\\nintimately. It seems that they prove, in the most positive manner, that\\nyou are descended from the Roussel family and that you consequently have\\nevery right to the Mornington inheritance.\" \"I?\"',\n",
       " 'cried Lupin. Bonavent, still in his porter\\'s livery, came hurrying through the\\nanteroom: \"Master,\" he cried, \"I\\'ve found it.\" \"Found what?\" said Guerchard. \"The secret entrance. It opens into that little side street. We haven\\'t\\ngot the door open yet; but we soon shall.\" \"The last link in the chain,\" said Guerchard, with warm satisfaction. \"Come along, Lupin.\" \"But he\\'s going to take you away!',\n",
       " '\"Not even of the Count,\" said Raffles, turning round with a sigh. \"I\\nleft him pretty sorry for himself; but what was the good of that? I\\nhad taken blood for blood, and it was not Corbucci who had killed\\nFaustina. No, the plan was his,  but that was not part of the plan. They had found out about our meetings in the cave: nothing simpler than\\nto have me kept hard at it overhead and to carry off Faustina by brute\\nforce in the boat. It was their only chance, for she had said more to\\nStefano than she had admitted to me, and more than I am going to repeat\\nabout myself. No persuasion would have induced her to listen to him\\nagain; so they tried force; and she drew Corbucci\\'s revolver on them,\\nbut they had taken her by surprise, and Stefano stabbed her before she\\ncould fire.\" \"But how do you know all that?\" I asked Raffles, for his tale was going\\nto pieces in the telling, and the tragic end of poor Faustina was no\\nending for me. \"Oh,\" said he, \"I had it from Corbucci at his own revolver\\'s point.',\n",
       " 'cried Coverly, with a burst of unmirthful laughter. But (and no man could have construed the thing favorably to Coverly)\\nto my anger and amazement he added:\\n\\n\"Let them do it! I\\'ll speak if I choose, but not otherwise!\" That I was annoyed with the young fool already, my remarks to him,\\nwhich had transgressed every code of good taste, must sufficiently\\nhave shown. But I had hoped to provoke him to a declaration which\\nwould clear his name from the shadow which was settling darkly upon\\nit, and which would raise that shadow from the girl who stood beside\\nhim, watching me with a sort of reproachful look in her dark eyes. Now I recognized that I could remain no longer and keep the peace,\\ntherefore:\\n\\n\"Perhaps it is time that I went about my own business,\" I said,\\nconjuring up a smile, although it must have been a dreary one, \"and\\nceased to interfere with the affairs of other people. Good-by, Isobel. Anything I can do, you know you may command. Good-by, Coverly. I am\\ndeeply sorry about this business.\"',\n",
       " 'The attaché did not reply. His nose, which was a very big one, seemed to\\nlengthen out still farther between his two long whiskers. Don Luis began to laugh. \"Come, Señor Caceres, don\\'t pull such a face! No one\\'s going to hurt you. Only don\\'t think that you can corner me. Better men than you have tried\\nand have broken their backs in the process. And, upon my word, you don\\'t\\ncut much of a figure when you\\'re doing your best to diddle your\\nfellowmen. \"You look a bit of a mug, in fact, Caceres: a bit of a mug is what you\\nlook. So it\\'s understood, what?']"
      ]
     },
     "execution_count": 1084,
     "metadata": {},
     "output_type": "execute_result"
    }
   ],
   "source": [
    "validation_lables = keras.utils.np_utils.to_categorical(validation_Y, num_classes=4)"
   ]
  },
  {
   "cell_type": "code",
   "execution_count": 1067,
   "metadata": {},
   "outputs": [
    {
     "ename": "IndexError",
     "evalue": "index 5990 is out of bounds for axis 1 with size 4",
     "output_type": "error",
     "traceback": [
      "\u001b[0;31m---------------------------------------------------------------------------\u001b[0m",
      "\u001b[0;31mIndexError\u001b[0m                                Traceback (most recent call last)",
      "\u001b[0;32m<ipython-input-1067-eed067f43458>\u001b[0m in \u001b[0;36m<module>\u001b[0;34m\u001b[0m\n\u001b[0;32m----> 1\u001b[0;31m \u001b[0mkeras\u001b[0m\u001b[0;34m.\u001b[0m\u001b[0mutils\u001b[0m\u001b[0;34m.\u001b[0m\u001b[0mnp_utils\u001b[0m\u001b[0;34m.\u001b[0m\u001b[0mto_categorical\u001b[0m\u001b[0;34m(\u001b[0m\u001b[0mvalidation_Y\u001b[0m\u001b[0;34m,\u001b[0m \u001b[0mnum_classes\u001b[0m\u001b[0;34m=\u001b[0m\u001b[0;36m4\u001b[0m\u001b[0;34m)\u001b[0m\u001b[0;34m\u001b[0m\u001b[0;34m\u001b[0m\u001b[0m\n\u001b[0m",
      "\u001b[0;32m~/opt/anaconda3/lib/python3.7/site-packages/keras/utils/np_utils.py\u001b[0m in \u001b[0;36mto_categorical\u001b[0;34m(y, num_classes, dtype)\u001b[0m\n\u001b[1;32m     73\u001b[0m   \u001b[0mn\u001b[0m \u001b[0;34m=\u001b[0m \u001b[0my\u001b[0m\u001b[0;34m.\u001b[0m\u001b[0mshape\u001b[0m\u001b[0;34m[\u001b[0m\u001b[0;36m0\u001b[0m\u001b[0;34m]\u001b[0m\u001b[0;34m\u001b[0m\u001b[0;34m\u001b[0m\u001b[0m\n\u001b[1;32m     74\u001b[0m   \u001b[0mcategorical\u001b[0m \u001b[0;34m=\u001b[0m \u001b[0mnp\u001b[0m\u001b[0;34m.\u001b[0m\u001b[0mzeros\u001b[0m\u001b[0;34m(\u001b[0m\u001b[0;34m(\u001b[0m\u001b[0mn\u001b[0m\u001b[0;34m,\u001b[0m \u001b[0mnum_classes\u001b[0m\u001b[0;34m)\u001b[0m\u001b[0;34m,\u001b[0m \u001b[0mdtype\u001b[0m\u001b[0;34m=\u001b[0m\u001b[0mdtype\u001b[0m\u001b[0;34m)\u001b[0m\u001b[0;34m\u001b[0m\u001b[0;34m\u001b[0m\u001b[0m\n\u001b[0;32m---> 75\u001b[0;31m   \u001b[0mcategorical\u001b[0m\u001b[0;34m[\u001b[0m\u001b[0mnp\u001b[0m\u001b[0;34m.\u001b[0m\u001b[0marange\u001b[0m\u001b[0;34m(\u001b[0m\u001b[0mn\u001b[0m\u001b[0;34m)\u001b[0m\u001b[0;34m,\u001b[0m \u001b[0my\u001b[0m\u001b[0;34m]\u001b[0m \u001b[0;34m=\u001b[0m \u001b[0;36m1\u001b[0m\u001b[0;34m\u001b[0m\u001b[0;34m\u001b[0m\u001b[0m\n\u001b[0m\u001b[1;32m     76\u001b[0m   \u001b[0moutput_shape\u001b[0m \u001b[0;34m=\u001b[0m \u001b[0minput_shape\u001b[0m \u001b[0;34m+\u001b[0m \u001b[0;34m(\u001b[0m\u001b[0mnum_classes\u001b[0m\u001b[0;34m,\u001b[0m\u001b[0;34m)\u001b[0m\u001b[0;34m\u001b[0m\u001b[0;34m\u001b[0m\u001b[0m\n\u001b[1;32m     77\u001b[0m   \u001b[0mcategorical\u001b[0m \u001b[0;34m=\u001b[0m \u001b[0mnp\u001b[0m\u001b[0;34m.\u001b[0m\u001b[0mreshape\u001b[0m\u001b[0;34m(\u001b[0m\u001b[0mcategorical\u001b[0m\u001b[0;34m,\u001b[0m \u001b[0moutput_shape\u001b[0m\u001b[0;34m)\u001b[0m\u001b[0;34m\u001b[0m\u001b[0;34m\u001b[0m\u001b[0m\n",
      "\u001b[0;31mIndexError\u001b[0m: index 5990 is out of bounds for axis 1 with size 4"
     ]
    }
   ],
   "source": [
    "keras.utils.np_utils.to_categorical(validation_Y, num_classes=4)"
   ]
  },
  {
   "cell_type": "code",
   "execution_count": 1068,
   "metadata": {},
   "outputs": [
    {
     "ename": "IndexError",
     "evalue": "list index out of range",
     "output_type": "error",
     "traceback": [
      "\u001b[0;31m---------------------------------------------------------------------------\u001b[0m",
      "\u001b[0;31mIndexError\u001b[0m                                Traceback (most recent call last)",
      "\u001b[0;32m<ipython-input-1068-4f21fb0876ff>\u001b[0m in \u001b[0;36m<module>\u001b[0;34m\u001b[0m\n\u001b[0;32m----> 1\u001b[0;31m \u001b[0mvalidation_Y\u001b[0m\u001b[0;34m[\u001b[0m\u001b[0;36m5990\u001b[0m\u001b[0;34m]\u001b[0m\u001b[0;34m\u001b[0m\u001b[0;34m\u001b[0m\u001b[0m\n\u001b[0m",
      "\u001b[0;31mIndexError\u001b[0m: list index out of range"
     ]
    }
   ],
   "source": [
    "validation_Y[5990]"
   ]
  },
  {
   "cell_type": "code",
   "execution_count": null,
   "metadata": {},
   "outputs": [],
   "source": [
    "# class KeywordModel(object):\n",
    "#     def __init__(self):\n",
    "#         self.counts = None\n",
    "\n",
    "#     def fit(self, X, Y):\n",
    "#         # fit the model\n",
    "#         # normally you would want to use X the training data but this simple model doesn't need it\n",
    "#         self.counts = np.array(np.bincount(Y), dtype=np.float)\n",
    "#         self.counts /= np.sum(self.counts)\n",
    "    \n",
    "#     def predict(self, Xin):\n",
    "#         Y_test_pred = []\n",
    "#         for x in Xin:\n",
    "#             # split into words\n",
    "#             xs = x.lower().split()\n",
    "\n",
    "#             # check if for our keywords\n",
    "#             if \"scary\" in xs or \"spooky\" in xs or \"raven\" in xs: # horror book\n",
    "#                 Y_test_pred.append(0)\n",
    "#             elif \"science\" in xs or \"space\" in xs: # science fiction book\n",
    "#                 Y_test_pred.append(1)\n",
    "#             elif \"funny\" in xs or \"embarrassed\" in xs: # humor book\n",
    "#                 Y_test_pred.append(2)\n",
    "#             elif \"police\" in xs or \"murder\" in xs or \"crime\" in xs: # crime fiction book\n",
    "#                 Y_test_pred.append(3)\n",
    "#             else: \n",
    "#                 Y_test_pred.append(np.random.choice(len(self.counts), p=self.counts)) # predict randomly\n",
    "#         return Y_test_pred\n",
    "\n",
    "\n",
    "\n",
    "# #fit the model on the training data\n",
    "# model = KeywordModel()\n",
    "# model.fit(X, Y)\n",
    "\n",
    "# # predict on the test data\n",
    "# Y_test_pred = model.predict(Xt)\n",
    "# print(Y_test_pred[:5])\n",
    "# # write out the csv file\n",
    "# # first column is the id, it is the index to the list of test examples\n",
    "# # second column is the predction as an integer\n",
    "# fout = open(\"out.csv\", \"w\")\n",
    "# fout.write(\"Id,Y\\n\")\n",
    "# for i, line in enumerate(Y_test_pred): # Y_test_pred is in the same order as the test data\n",
    "#     fout.write(\"%d,%d\\n\" % (i, line))\n",
    "# fout.close()"
   ]
  },
  {
   "cell_type": "code",
   "execution_count": null,
   "metadata": {},
   "outputs": [],
   "source": []
  },
  {
   "cell_type": "code",
   "execution_count": null,
   "metadata": {},
   "outputs": [],
   "source": [
    "len(docid)==len(X)==len(Y)#6743"
   ]
  },
  {
   "cell_type": "code",
   "execution_count": 132,
   "metadata": {},
   "outputs": [],
   "source": [
    "\n"
   ]
  },
  {
   "cell_type": "code",
   "execution_count": 133,
   "metadata": {},
   "outputs": [],
   "source": []
  },
  {
   "cell_type": "code",
   "execution_count": 56,
   "metadata": {},
   "outputs": [
    {
     "data": {
      "text/plain": [
       "(6743, 620)"
      ]
     },
     "execution_count": 56,
     "metadata": {},
     "output_type": "execute_result"
    }
   ],
   "source": [
    "vector_padding.shape"
   ]
  },
  {
   "cell_type": "code",
   "execution_count": 135,
   "metadata": {},
   "outputs": [
    {
     "data": {
      "text/plain": [
       "40550"
      ]
     },
     "execution_count": 135,
     "metadata": {},
     "output_type": "execute_result"
    }
   ],
   "source": [
    "len(num_term)"
   ]
  },
  {
   "cell_type": "code",
   "execution_count": 15,
   "metadata": {},
   "outputs": [],
   "source": [
    "model = Sequential()\n",
    "model.add(Dense(32, activation='relu', input_dim=620))\n",
    "model.add(Dense(4, activation='softmax'))\n",
    "model.compile(optimizer='rmsprop',\n",
    "              loss='categorical_crossentropy',\n",
    "              metrics=['accuracy'])"
   ]
  },
  {
   "cell_type": "code",
   "execution_count": 16,
   "metadata": {},
   "outputs": [],
   "source": []
  },
  {
   "cell_type": "code",
   "execution_count": 17,
   "metadata": {},
   "outputs": [],
   "source": [
    "one_hot_labels = keras.utils.np_utils.to_categorical(Y, num_classes=4)"
   ]
  },
  {
   "cell_type": "code",
   "execution_count": 21,
   "metadata": {},
   "outputs": [
    {
     "name": "stdout",
     "output_type": "stream",
     "text": [
      "Epoch 1/10\n",
      "52/52 [==============================] - 0s 3ms/step - loss: 0.8982 - accuracy: 0.7000\n",
      "Epoch 2/10\n",
      "52/52 [==============================] - 0s 2ms/step - loss: 0.8625 - accuracy: 0.7004\n",
      "Epoch 3/10\n",
      "52/52 [==============================] - 0s 2ms/step - loss: 0.8549 - accuracy: 0.7001\n",
      "Epoch 4/10\n",
      "52/52 [==============================] - 0s 2ms/step - loss: 0.8492 - accuracy: 0.7003\n",
      "Epoch 5/10\n",
      "52/52 [==============================] - 0s 2ms/step - loss: 0.8589 - accuracy: 0.7004\n",
      "Epoch 6/10\n",
      "52/52 [==============================] - 0s 2ms/step - loss: 0.8817 - accuracy: 0.7003\n",
      "Epoch 7/10\n",
      "52/52 [==============================] - 0s 2ms/step - loss: 0.8591 - accuracy: 0.7003\n",
      "Epoch 8/10\n",
      "52/52 [==============================] - 0s 2ms/step - loss: 0.8549 - accuracy: 0.7003\n",
      "Epoch 9/10\n",
      "52/52 [==============================] - 0s 2ms/step - loss: 0.8558 - accuracy: 0.7003\n",
      "Epoch 10/10\n",
      "52/52 [==============================] - 0s 2ms/step - loss: 0.8507 - accuracy: 0.7004\n"
     ]
    },
    {
     "data": {
      "text/plain": [
       "<keras.callbacks.History at 0x64aab3490>"
      ]
     },
     "execution_count": 21,
     "metadata": {},
     "output_type": "execute_result"
    }
   ],
   "source": [
    "model.fit(vector_padding, one_hot_labels, epochs=10, batch_size=132)"
   ]
  },
  {
   "cell_type": "code",
   "execution_count": null,
   "metadata": {},
   "outputs": [],
   "source": [
    "sth = [len(s) for s in vector]"
   ]
  },
  {
   "cell_type": "code",
   "execution_count": 25,
   "metadata": {},
   "outputs": [],
   "source": []
  },
  {
   "cell_type": "code",
   "execution_count": 22,
   "metadata": {},
   "outputs": [],
   "source": [
    "tokenizer.fit_on_texts(Xt)\n",
    "vector_test = tokenizer.texts_to_sequences(Xt)\n",
    "vector_padding_test = pad_sequences(vector_test,maxlen=620)\n",
    "Y_test_pred = model.predict(vector_padding_test)"
   ]
  },
  {
   "cell_type": "code",
   "execution_count": 23,
   "metadata": {},
   "outputs": [
    {
     "data": {
      "text/plain": [
       "array([[0.05430095, 0.66941804, 0.21343029, 0.06285072],\n",
       "       [0.05430095, 0.66941804, 0.21343029, 0.06285072],\n",
       "       [0.05430095, 0.66941804, 0.21343029, 0.06285072],\n",
       "       ...,\n",
       "       [0.05430095, 0.66941804, 0.21343029, 0.06285072],\n",
       "       [0.05430095, 0.66941804, 0.21343029, 0.06285072],\n",
       "       [0.05430095, 0.66941804, 0.21343029, 0.06285072]], dtype=float32)"
      ]
     },
     "execution_count": 23,
     "metadata": {},
     "output_type": "execute_result"
    }
   ],
   "source": [
    "Y_test_pred"
   ]
  },
  {
   "cell_type": "code",
   "execution_count": 31,
   "metadata": {},
   "outputs": [],
   "source": [
    "sth= [np.argmax(i) for i in Y_test_pred]"
   ]
  },
  {
   "cell_type": "code",
   "execution_count": 36,
   "metadata": {},
   "outputs": [
    {
     "data": {
      "text/plain": [
       "46576"
      ]
     },
     "execution_count": 36,
     "metadata": {},
     "output_type": "execute_result"
    }
   ],
   "source": [
    "len([a for a in sth if a==1])"
   ]
  },
  {
   "cell_type": "code",
   "execution_count": 37,
   "metadata": {},
   "outputs": [
    {
     "data": {
      "text/plain": [
       "47183"
      ]
     },
     "execution_count": 37,
     "metadata": {},
     "output_type": "execute_result"
    }
   ],
   "source": [
    "len(sth)"
   ]
  },
  {
   "cell_type": "code",
   "execution_count": 50,
   "metadata": {},
   "outputs": [
    {
     "data": {
      "text/plain": [
       "4695"
      ]
     },
     "execution_count": 50,
     "metadata": {},
     "output_type": "execute_result"
    }
   ],
   "source": [
    "len([a for a in Y if a==1])"
   ]
  },
  {
   "cell_type": "code",
   "execution_count": 51,
   "metadata": {},
   "outputs": [
    {
     "data": {
      "text/plain": [
       "6743"
      ]
     },
     "execution_count": 51,
     "metadata": {},
     "output_type": "execute_result"
    }
   ],
   "source": [
    "len(Y)"
   ]
  },
  {
   "cell_type": "code",
   "execution_count": 46,
   "metadata": {},
   "outputs": [],
   "source": [
    "\n",
    "data=keras.utils.np_utils.to_categorical([1,1,1,2,2],num_classes=5)"
   ]
  },
  {
   "cell_type": "code",
   "execution_count": 47,
   "metadata": {},
   "outputs": [
    {
     "data": {
      "text/plain": [
       "array([[0., 1., 0., 0., 0.],\n",
       "       [0., 1., 0., 0., 0.],\n",
       "       [0., 1., 0., 0., 0.],\n",
       "       [0., 0., 1., 0., 0.],\n",
       "       [0., 0., 1., 0., 0.]], dtype=float32)"
      ]
     },
     "execution_count": 47,
     "metadata": {},
     "output_type": "execute_result"
    }
   ],
   "source": [
    "data"
   ]
  },
  {
   "cell_type": "code",
   "execution_count": null,
   "metadata": {},
   "outputs": [],
   "source": []
  },
  {
   "cell_type": "code",
   "execution_count": null,
   "metadata": {},
   "outputs": [],
   "source": [
    "length = len(vector[0])"
   ]
  },
  {
   "cell_type": "code",
   "execution_count": null,
   "metadata": {},
   "outputs": [],
   "source": [
    "a = ['a','b']\n",
    "sth = len(a)"
   ]
  },
  {
   "cell_type": "code",
   "execution_count": null,
   "metadata": {},
   "outputs": [],
   "source": [
    "len(num_term)"
   ]
  },
  {
   "cell_type": "code",
   "execution_count": 1111,
   "metadata": {},
   "outputs": [],
   "source": [
    "import keras\n",
    "from keras.preprocessing.text import one_hot\n",
    "from keras.preprocessing.sequence import pad_sequences\n",
    "from keras.models import Sequential\n",
    "from keras.layers.embeddings import Embedding"
   ]
  },
  {
   "cell_type": "code",
   "execution_count": 1112,
   "metadata": {},
   "outputs": [],
   "source": [
    "docs = ['Well done!',\n",
    "      'Good work',\n",
    "      'Great effort',\n",
    "      'nice work',\n",
    "      'Excellent!',\n",
    "      'Weak',\n",
    "      'Poor effort!',\n",
    "      'not good',\n",
    "      'poor work',\n",
    "      'Could have done better.']\n",
    "labels = [1,1,1,1,1,0,0,0,0,0]"
   ]
  },
  {
   "cell_type": "code",
   "execution_count": 1116,
   "metadata": {},
   "outputs": [
    {
     "name": "stdout",
     "output_type": "stream",
     "text": [
      "[2, 1]\n",
      "10\n",
      "2\n"
     ]
    }
   ],
   "source": [
    "vocab_size = 22#估计的词汇表大小，设置时要比真实的词汇量大，不然会产生不同单词分配了相同的索引。索引1-50\n",
    "encoded_docs = [one_hot(d, vocab_size) for d in docs]\n",
    "print(encoded_docs[1])\n",
    "print(len(encoded_docs))\n",
    "print(len(encoded_docs[0]))"
   ]
  },
  {
   "cell_type": "code",
   "execution_count": null,
   "metadata": {},
   "outputs": [],
   "source": []
  },
  {
   "cell_type": "code",
   "execution_count": null,
   "metadata": {},
   "outputs": [],
   "source": [
    "# 文本编码成数字格式并padding到相同长度，这里长度设置为4，在后面补0，这也是为什么前面one-hot不会映射到0的原因。\n",
    "max_length = 4 #每一句话的最大长度\n",
    "padded_docs = pad_sequences(encoded_docs, maxlen=620, padding='post')\n",
    "print(padded_docs[0])"
   ]
  },
  {
   "cell_type": "code",
   "execution_count": null,
   "metadata": {},
   "outputs": [],
   "source": [
    "model = Sequential()\n",
    "                   # 索引max+1， 每个词dim8， 每一句话的最大长度\n",
    "model.add(Embedding(40551, 256, input_length=620))\n",
    "print(model.input_shape)\n",
    "print(model.output_shape)"
   ]
  },
  {
   "cell_type": "code",
   "execution_count": null,
   "metadata": {},
   "outputs": [],
   "source": [
    "model.compile('rmsprop', 'mse')\n",
    "output_array = model.predict(padded_docs)"
   ]
  },
  {
   "cell_type": "code",
   "execution_count": null,
   "metadata": {},
   "outputs": [],
   "source": [
    "output_array"
   ]
  },
  {
   "cell_type": "code",
   "execution_count": null,
   "metadata": {},
   "outputs": [],
   "source": [
    "[vocab for sentence in X]"
   ]
  },
  {
   "cell_type": "code",
   "execution_count": null,
   "metadata": {},
   "outputs": [],
   "source": [
    "Y"
   ]
  },
  {
   "cell_type": "code",
   "execution_count": null,
   "metadata": {},
   "outputs": [],
   "source": []
  },
  {
   "cell_type": "code",
   "execution_count": null,
   "metadata": {},
   "outputs": [],
   "source": []
  },
  {
   "cell_type": "code",
   "execution_count": null,
   "metadata": {},
   "outputs": [],
   "source": []
  },
  {
   "cell_type": "code",
   "execution_count": null,
   "metadata": {},
   "outputs": [],
   "source": [
    "def CNN(vector_padding,Y):\n",
    "    model = Sequential()\n",
    "    model.add(Embedding(len(num_term)+1,500,input_length=500))\n",
    "    model.add(Conv1D(256,5,padding='same'))\n",
    "    model.add(MaxPooling1D(3,3,padding='same'))\n",
    "    model.add(Conv1D(128,5,padding='same'))\n",
    "    model.add(MaxPooling1D(3,3,padding='same'))\n",
    "    model.add(Conv1D(64,5,padding='same'))\n",
    "    model.add(Flatten())\n",
    "    model.add(Dropout(0.1))\n",
    "    model.add(BatchNormalization())\n",
    "    model.add(Dense(1,activation='softmax'))   \n",
    "#     model.add(Dropout(0.1))\n",
    "#     model.add(Dense(4,activation='softmax'))\n",
    "    model.compile(loss='categorical_crossentropy',optimizer = 'adam')\n",
    "    model.fit(np.array(vector_padding),np.array(Y),epochs=5,batch_size=800)\n",
    "    return model "
   ]
  },
  {
   "cell_type": "code",
   "execution_count": null,
   "metadata": {},
   "outputs": [],
   "source": []
  },
  {
   "cell_type": "code",
   "execution_count": null,
   "metadata": {},
   "outputs": [],
   "source": [
    "model = CNN(vector_padding,Y)\n",
    "vector_test = tokenizer.texts_to_sequences(Xt)\n",
    "vector_padding_test = pad_sequences(vector_test,maxlen=500)\n",
    "y_predict = model.predict_classes(vector_padding_test)"
   ]
  },
  {
   "cell_type": "code",
   "execution_count": null,
   "metadata": {},
   "outputs": [],
   "source": [
    "\n",
    "\n"
   ]
  },
  {
   "cell_type": "code",
   "execution_count": null,
   "metadata": {},
   "outputs": [],
   "source": [
    "from __future__ import print_function\n",
    "\n",
    "import numpy as np\n",
    "import keras\n",
    "\n",
    "\n",
    "from keras.preprocessing import sequence\n",
    "from keras.models import Sequential\n",
    "from keras.layers import Dense, Embedding, LSTM\n",
    "from keras.preprocessing.text import Tokenizer\n",
    "from keras.utils import np_utils\n",
    "\n"
   ]
  },
  {
   "cell_type": "code",
   "execution_count": null,
   "metadata": {},
   "outputs": [],
   "source": []
  },
  {
   "cell_type": "code",
   "execution_count": null,
   "metadata": {},
   "outputs": [],
   "source": []
  },
  {
   "cell_type": "code",
   "execution_count": 110,
   "metadata": {},
   "outputs": [],
   "source": [
    "\n",
    "data = dict(np.load(\"data/word_vectors.npz\"))\n",
    "w2v = {w:v for w, v in zip(data[\"words\"], data[\"vectors\"])}\n",
    "def document_to_vector(doc):\n",
    "    \"\"\"Takes a string document and turns it into a vector\n",
    "    by aggregating its word vectors.\n",
    "\n",
    "    Args:\n",
    "        doc (str): The document as a string\n",
    "\n",
    "    Returns:\n",
    "        np.array: The word vector this will be 300 dimensionals.\n",
    "    \"\"\"\n",
    "    # TODO: tokenize the input document\n",
    "    token = nltk.TreebankWordTokenizer().tokenize(doc)\n",
    "    token = [nltk.SnowballStemmer(language='english').stem(t) for t in token]\n",
    "    # TODO: aggregate the vectors of words in the input document\n",
    "    embedding_keys = w2v.keys()\n",
    "    embedding_matrix = []\n",
    "    for t in token:\n",
    "        if t in embedding_keys:\n",
    "            embedding_matrix.append(w2v[t])\n",
    "        else:\n",
    "            embedding_matrix.append(np.repeat(0, 300))\n",
    "    vec = np.array(embedding_matrix).mean(axis=0)\n",
    "#    vec = np.array(embedding_matrix).max(axis=0)\n",
    "#    vec = np.array(embedding_matrix).min(axis=0)\n",
    "    return vec\n",
    "\n"
   ]
  },
  {
   "cell_type": "code",
   "execution_count": 115,
   "metadata": {},
   "outputs": [],
   "source": [
    "training_vector = np.array([document_to_vector(doc) for doc in X])"
   ]
  },
  {
   "cell_type": "code",
   "execution_count": 130,
   "metadata": {},
   "outputs": [
    {
     "data": {
      "text/plain": [
       "array([[ 0.01148637,  0.18801127, -0.20257612, ...,  0.03318555,\n",
       "         0.03917516,  0.05439379],\n",
       "       [ 0.03067729,  0.19595267, -0.17267291, ..., -0.0193565 ,\n",
       "         0.05601677,  0.05183968],\n",
       "       [-0.00863662,  0.20806833, -0.14329718, ..., -0.00456389,\n",
       "         0.04872925,  0.06670545],\n",
       "       ...,\n",
       "       [-0.04655425,  0.17180894, -0.15171523, ..., -0.05679119,\n",
       "         0.08759779,  0.04563944],\n",
       "       [-0.01029139,  0.13606208, -0.10115274, ..., -0.00633202,\n",
       "         0.009753  ,  0.03137514],\n",
       "       [ 0.00235098,  0.11916727, -0.12999931, ..., -0.02422032,\n",
       "         0.02256097,  0.02693907]])"
      ]
     },
     "execution_count": 130,
     "metadata": {},
     "output_type": "execute_result"
    }
   ],
   "source": [
    "training_vector"
   ]
  },
  {
   "cell_type": "code",
   "execution_count": 116,
   "metadata": {},
   "outputs": [
    {
     "data": {
      "text/plain": [
       "(6743, 300)"
      ]
     },
     "execution_count": 116,
     "metadata": {},
     "output_type": "execute_result"
    }
   ],
   "source": [
    "training_vector.shape"
   ]
  },
  {
   "cell_type": "code",
   "execution_count": 117,
   "metadata": {},
   "outputs": [],
   "source": [
    "model = Sequential()\n",
    "#model.add(Dense(32, activation='relu', input_dim=620))\n",
    "#model.add(Dense(4, activation='softmax'))\n",
    "\n",
    "\n",
    "        \n",
    "model.add(Dense(128, activation='softmax', input_dim=300))\n",
    "model.add(Dropout(0.5))\n",
    "model.add(Dense(64, activation='softmax'))\n",
    "model.add(Dropout(0.5))\n",
    "model.add(BatchNormalization())\n",
    "model.add(Dense(4, activation='softmax'))\n",
    "\n",
    "\n",
    "\n",
    "model.compile(optimizer='Adam',\n",
    "              loss='categorical_crossentropy',\n",
    "              metrics=['categorical_accuracy'])"
   ]
  },
  {
   "cell_type": "code",
   "execution_count": 118,
   "metadata": {},
   "outputs": [
    {
     "name": "stdout",
     "output_type": "stream",
     "text": [
      "Epoch 1/20\n",
      "14/14 [==============================] - 1s 6ms/step - loss: 1.4575 - categorical_accuracy: 0.2635\n",
      "Epoch 2/20\n",
      "14/14 [==============================] - 0s 6ms/step - loss: 1.3829 - categorical_accuracy: 0.3263\n",
      "Epoch 3/20\n",
      "14/14 [==============================] - 0s 6ms/step - loss: 1.3102 - categorical_accuracy: 0.3939\n",
      "Epoch 4/20\n",
      "14/14 [==============================] - 0s 6ms/step - loss: 1.2431 - categorical_accuracy: 0.4738\n",
      "Epoch 5/20\n",
      "14/14 [==============================] - 0s 7ms/step - loss: 1.1692 - categorical_accuracy: 0.5447\n",
      "Epoch 6/20\n",
      "14/14 [==============================] - 0s 6ms/step - loss: 1.1076 - categorical_accuracy: 0.6017\n",
      "Epoch 7/20\n",
      "14/14 [==============================] - 0s 6ms/step - loss: 1.0461 - categorical_accuracy: 0.6416\n",
      "Epoch 8/20\n",
      "14/14 [==============================] - 0s 7ms/step - loss: 1.0140 - categorical_accuracy: 0.6622\n",
      "Epoch 9/20\n",
      "14/14 [==============================] - 0s 7ms/step - loss: 0.9850 - categorical_accuracy: 0.6760\n",
      "Epoch 10/20\n",
      "14/14 [==============================] - 0s 8ms/step - loss: 0.9529 - categorical_accuracy: 0.6840\n",
      "Epoch 11/20\n",
      "14/14 [==============================] - 0s 6ms/step - loss: 0.9487 - categorical_accuracy: 0.6869\n",
      "Epoch 12/20\n",
      "14/14 [==============================] - 0s 7ms/step - loss: 0.9340 - categorical_accuracy: 0.6905\n",
      "Epoch 13/20\n",
      "14/14 [==============================] - 0s 6ms/step - loss: 0.9256 - categorical_accuracy: 0.6939\n",
      "Epoch 14/20\n",
      "14/14 [==============================] - 0s 7ms/step - loss: 0.9151 - categorical_accuracy: 0.6924\n",
      "Epoch 15/20\n",
      "14/14 [==============================] - 0s 7ms/step - loss: 0.9070 - categorical_accuracy: 0.6938\n",
      "Epoch 16/20\n",
      "14/14 [==============================] - 0s 7ms/step - loss: 0.9039 - categorical_accuracy: 0.6958\n",
      "Epoch 17/20\n",
      "14/14 [==============================] - 0s 6ms/step - loss: 0.8937 - categorical_accuracy: 0.6966\n",
      "Epoch 18/20\n",
      "14/14 [==============================] - 0s 8ms/step - loss: 0.8905 - categorical_accuracy: 0.6936\n",
      "Epoch 19/20\n",
      "14/14 [==============================] - 0s 7ms/step - loss: 0.8835 - categorical_accuracy: 0.6948\n",
      "Epoch 20/20\n",
      "14/14 [==============================] - 0s 7ms/step - loss: 0.8730 - categorical_accuracy: 0.6969\n"
     ]
    }
   ],
   "source": [
    "one_hot_labels = keras.utils.np_utils.to_categorical(Y, num_classes=4)\n",
    "model.fit(training_vector, one_hot_labels, epochs=20, batch_size=500)\n",
    "\n",
    "vector_padding_test = np.array([document_to_vector(doc) for doc in Xt])\n",
    "Y_test = model.predict(vector_padding_test)\n",
    "Y_test_pred = [np.argmax(i) for i in Y_test]\n",
    "\n",
    "fout = open(\"out.csv\", \"w\")\n",
    "fout.write(\"Id,Y\\n\")\n",
    "for i, line in enumerate(Y_test_pred): # Y_test_pred is in the same order as the test data\n",
    "    fout.write(\"%d,%d\\n\" % (i, line))\n",
    "fout.close()"
   ]
  },
  {
   "cell_type": "code",
   "execution_count": 119,
   "metadata": {},
   "outputs": [
    {
     "data": {
      "text/plain": [
       "47183"
      ]
     },
     "execution_count": 119,
     "metadata": {},
     "output_type": "execute_result"
    }
   ],
   "source": [
    "len(Xt)"
   ]
  },
  {
   "cell_type": "code",
   "execution_count": 120,
   "metadata": {},
   "outputs": [
    {
     "data": {
      "text/plain": [
       "47183"
      ]
     },
     "execution_count": 120,
     "metadata": {},
     "output_type": "execute_result"
    }
   ],
   "source": [
    "len(Y_test_pred)"
   ]
  },
  {
   "cell_type": "code",
   "execution_count": 125,
   "metadata": {},
   "outputs": [
    {
     "data": {
      "text/plain": [
       "0"
      ]
     },
     "execution_count": 125,
     "metadata": {},
     "output_type": "execute_result"
    }
   ],
   "source": [
    "len([a for a in Y_test_pred if a==0])"
   ]
  },
  {
   "cell_type": "code",
   "execution_count": null,
   "metadata": {},
   "outputs": [],
   "source": [
    "    def apply_preprocessor(self, preprocessor):\n",
    "        self.df['tokens'] = [preprocessor(s) for s in self.df['X']]\n",
    "        self.token_to_count = Counter([x for l in self.df['tokens'] for x in l])\n",
    "        self.vocab = list([term for term, count in self.token_to_count.most_common(self.num_terms)])\n",
    "        self.token_to_id = {self.vocab[i]: i+2 for i in range(len(self.vocab))}\n",
    "        self.df['ids'] = [[self.token_to_id.get(t, 1) for t in sentence] for sentence in self.df['tokens']]"
   ]
  },
  {
   "cell_type": "code",
   "execution_count": 228,
   "metadata": {},
   "outputs": [],
   "source": [
    "tokenizer = Tokenizer()\n",
    "tokenizer.fit_on_texts(X)\n",
    "vocab = tokenizer.word_index\n",
    "vector = tokenizer.texts_to_sequences(X)\n",
    "vector_padding = pad_sequences(vector,maxlen=200, padding='post')"
   ]
  },
  {
   "cell_type": "code",
   "execution_count": 450,
   "metadata": {},
   "outputs": [],
   "source": [
    "from tensorflow.keras.optimizers import SGD,Adam"
   ]
  },
  {
   "cell_type": "code",
   "execution_count": 230,
   "metadata": {},
   "outputs": [],
   "source": [
    "#构建CNN分类模型(LeNet-5)\n",
    "#模型结构：嵌入-卷积池化*2-dropout-BN-全连接-dropout-全连接\n",
    "def CNN_model(x_train_padded_seqs, y_train, x_test_padded_seqs):\n",
    "    model = Sequential()\n",
    "    model.add(Embedding(len(vocab) + 1, 150, input_length=200)) #使用Embeeding层将每个词编码转换为词向量\n",
    "#     model.add(Conv1D(256, 5, padding='same'))\n",
    "#     model.add(MaxPooling1D(3, 3, padding='same'))\n",
    "    model.add(Conv1D(128, 5, padding='same'))\n",
    "    model.add(MaxPooling1D(3, 3, padding='same'))\n",
    "    model.add(Conv1D(64, 3, padding='same'))\n",
    "    model.add(Flatten())\n",
    "    model.add(Dropout(0.1))\n",
    "    model.add(BatchNormalization())  # (批)规范化层\n",
    "    model.add(Dense(256, activation='relu'))\n",
    "    model.add(Dropout(0.5))\n",
    "    model.add(Dense(4, activation='softmax'))\n",
    "    sgd = SGD(lr=0.02, decay=1e-6, momentum=0.95, nesterov=True)\n",
    "    model.compile(loss='categorical_crossentropy',optimizer='adam',metrics=['accuracy'])\n",
    "    one_hot_labels = keras.utils.np_utils.to_categorical(y_train, num_classes=4)  # 将标签转换为one-hot编码\n",
    "    model.fit(x_train_padded_seqs, one_hot_labels,epochs=2, batch_size=800)\n",
    "    y_predict=model.predict(x_test_padded_seqs) \n",
    "    c =np.argmax(y_predict,axis=1)\n",
    "    # 预测的是类别，结果就是类别号\n",
    "    return c \n",
    "#     y_predict = list(map(str, y_predict))\n",
    "#     print('准确率', metrics.accuracy_score(y_test, y_predict))\n",
    "#     print('平均f1-score:', metrics.f1_score(y_test, y_predict, average='weighted'))"
   ]
  },
  {
   "cell_type": "code",
   "execution_count": 231,
   "metadata": {},
   "outputs": [],
   "source": [
    "tokenizer = Tokenizer()\n",
    "tokenizer.fit_on_texts(Xt)\n",
    "vocab = tokenizer.word_index\n",
    "x_test_seqs = tokenizer.texts_to_sequences(Xt)\n",
    "x_test_padded_seqs = pad_sequences(x_test_seqs,maxlen=200, padding='post')"
   ]
  },
  {
   "cell_type": "code",
   "execution_count": 232,
   "metadata": {},
   "outputs": [
    {
     "name": "stderr",
     "output_type": "stream",
     "text": [
      "/Users/mac/opt/anaconda3/lib/python3.7/site-packages/keras/optimizer_v2/optimizer_v2.py:356: UserWarning: The `lr` argument is deprecated, use `learning_rate` instead.\n",
      "  \"The `lr` argument is deprecated, use `learning_rate` instead.\")\n"
     ]
    },
    {
     "name": "stdout",
     "output_type": "stream",
     "text": [
      "Epoch 1/2\n",
      "9/9 [==============================] - 15s 1s/step - loss: 1.4205 - accuracy: 0.5228\n",
      "Epoch 2/2\n",
      "9/9 [==============================] - 13s 1s/step - loss: 0.6396 - accuracy: 0.7694\n"
     ]
    }
   ],
   "source": [
    "res = CNN_model(vector_padding, Y, x_test_padded_seqs)"
   ]
  },
  {
   "cell_type": "code",
   "execution_count": 233,
   "metadata": {},
   "outputs": [],
   "source": [
    "fout = open(\"out.csv\", \"w\")\n",
    "fout.write(\"Id,Y\\n\")\n",
    "for i, line in enumerate(res): # Y_test_pred is in the same order as the test data\n",
    "    fout.write(\"%d,%d\\n\" % (i, line))\n",
    "fout.close()"
   ]
  },
  {
   "cell_type": "code",
   "execution_count": 234,
   "metadata": {},
   "outputs": [
    {
     "data": {
      "text/plain": [
       "47183"
      ]
     },
     "execution_count": 234,
     "metadata": {},
     "output_type": "execute_result"
    }
   ],
   "source": [
    "len(res)"
   ]
  },
  {
   "cell_type": "code",
   "execution_count": 235,
   "metadata": {},
   "outputs": [
    {
     "data": {
      "text/plain": [
       "0"
      ]
     },
     "execution_count": 235,
     "metadata": {},
     "output_type": "execute_result"
    }
   ],
   "source": [
    "len([a for a in res if a==0])"
   ]
  },
  {
   "cell_type": "code",
   "execution_count": 236,
   "metadata": {},
   "outputs": [],
   "source": [
    "import pandas as pd\n",
    "df = pd.read_csv('out.csv')"
   ]
  },
  {
   "cell_type": "code",
   "execution_count": 237,
   "metadata": {},
   "outputs": [
    {
     "data": {
      "text/plain": [
       "1    47183\n",
       "Name: Y, dtype: int64"
      ]
     },
     "execution_count": 237,
     "metadata": {},
     "output_type": "execute_result"
    }
   ],
   "source": [
    "df['Y'].value_counts()"
   ]
  },
  {
   "cell_type": "code",
   "execution_count": 214,
   "metadata": {},
   "outputs": [
    {
     "data": {
      "text/plain": [
       "386"
      ]
     },
     "execution_count": 214,
     "metadata": {},
     "output_type": "execute_result"
    }
   ],
   "source": [
    "len([a for a in Y if a==3])"
   ]
  },
  {
   "cell_type": "code",
   "execution_count": 238,
   "metadata": {},
   "outputs": [],
   "source": [
    "one_hot_labels = keras.utils.np_utils.to_categorical(Y, num_classes=4)"
   ]
  },
  {
   "cell_type": "code",
   "execution_count": 249,
   "metadata": {},
   "outputs": [
    {
     "data": {
      "text/plain": [
       "array([1., 0., 0., 0.], dtype=float32)"
      ]
     },
     "execution_count": 249,
     "metadata": {},
     "output_type": "execute_result"
    }
   ],
   "source": [
    "one_hot_labels[261]"
   ]
  },
  {
   "cell_type": "code",
   "execution_count": 257,
   "metadata": {},
   "outputs": [
    {
     "data": {
      "text/plain": [
       "334"
      ]
     },
     "execution_count": 257,
     "metadata": {},
     "output_type": "execute_result"
    }
   ],
   "source": [
    "len([i for i in range(0,len(Y)) if Y[i]==0])"
   ]
  },
  {
   "cell_type": "code",
   "execution_count": 258,
   "metadata": {},
   "outputs": [
    {
     "data": {
      "text/plain": [
       "4695"
      ]
     },
     "execution_count": 258,
     "metadata": {},
     "output_type": "execute_result"
    }
   ],
   "source": [
    "len([i for i in range(0,len(Y)) if Y[i]==1])"
   ]
  },
  {
   "cell_type": "code",
   "execution_count": 259,
   "metadata": {},
   "outputs": [
    {
     "data": {
      "text/plain": [
       "1328"
      ]
     },
     "execution_count": 259,
     "metadata": {},
     "output_type": "execute_result"
    }
   ],
   "source": [
    "len([i for i in range(0,len(Y)) if Y[i]==2])"
   ]
  },
  {
   "cell_type": "code",
   "execution_count": 260,
   "metadata": {},
   "outputs": [
    {
     "data": {
      "text/plain": [
       "386"
      ]
     },
     "execution_count": 260,
     "metadata": {},
     "output_type": "execute_result"
    }
   ],
   "source": [
    "len([i for i in range(0,len(Y)) if Y[i]==3])"
   ]
  },
  {
   "cell_type": "code",
   "execution_count": 251,
   "metadata": {},
   "outputs": [
    {
     "data": {
      "text/plain": [
       "6743"
      ]
     },
     "execution_count": 251,
     "metadata": {},
     "output_type": "execute_result"
    }
   ],
   "source": [
    "len(Y)"
   ]
  },
  {
   "cell_type": "code",
   "execution_count": 261,
   "metadata": {},
   "outputs": [
    {
     "data": {
      "text/plain": [
       "1565.0"
      ]
     },
     "execution_count": 261,
     "metadata": {},
     "output_type": "execute_result"
    }
   ],
   "source": [
    "4695/3"
   ]
  },
  {
   "cell_type": "code",
   "execution_count": 263,
   "metadata": {},
   "outputs": [
    {
     "data": {
      "text/plain": [
       "[1, 1, 1, 2, 2]"
      ]
     },
     "execution_count": 263,
     "metadata": {},
     "output_type": "execute_result"
    }
   ],
   "source": [
    "Y[:5]"
   ]
  },
  {
   "cell_type": "code",
   "execution_count": null,
   "metadata": {},
   "outputs": [],
   "source": []
  },
  {
   "cell_type": "code",
   "execution_count": 1108,
   "metadata": {},
   "outputs": [],
   "source": [
    "import json\n",
    "import numpy as np\n",
    "\n",
    "# load the training data\n",
    "train_data = json.load(open(\"genre_train.json\", \"r\"))\n",
    "X = train_data['X']\n",
    "Y = train_data['Y'] # id mapping: 0 - Horror, 1 - Science Fiction, 2 - Humor, 3 - Crime Fiction\n",
    "docid = train_data['docid'] # these are the ids of the books which each training example came from\n",
    "\n",
    "# load the test data\n",
    "# the test data does not have labels, our model needs to generate these\n",
    "test_data = json.load(open(\"genre_test.json\", \"r\"))\n",
    "Xt = test_data['X']\n"
   ]
  },
  {
   "cell_type": "code",
   "execution_count": 462,
   "metadata": {},
   "outputs": [],
   "source": [
    "stopwords = set(nltk.corpus.stopwords.words(\"english\"))\n",
    "import nltk\n",
    "processed_X = []\n",
    "\n",
    "stem = nltk.SnowballStemmer(language='english').stem\n",
    "for each_doc in X:\n",
    "    tokens = nltk.tokenize.WordPunctTokenizer().tokenize(each_doc)\n",
    "    processed_X.append([stem(t)for t in tokens if t not in stopwords ])\n"
   ]
  },
  {
   "cell_type": "code",
   "execution_count": 463,
   "metadata": {},
   "outputs": [],
   "source": [
    "processed_Xt = []\n",
    "\n",
    "stem = nltk.SnowballStemmer(language='english').stem\n",
    "for each_doc in Xt:\n",
    "    tokens = nltk.tokenize.WordPunctTokenizer().tokenize(each_doc)\n",
    "    processed_Xt.append([stem(t)for t in tokens if t not in stopwords])\n"
   ]
  },
  {
   "cell_type": "code",
   "execution_count": 1109,
   "metadata": {},
   "outputs": [],
   "source": [
    "data = {'X':X,\n",
    "       'Y':Y}\n",
    "df = pd.DataFrame(data)"
   ]
  },
  {
   "cell_type": "code",
   "execution_count": 1110,
   "metadata": {},
   "outputs": [
    {
     "data": {
      "text/plain": [
       "{0: Int64Index([  11,   28,   43,   66,   83,  103,  113,  135,  141,  204,\n",
       "             ...\n",
       "             6575, 6581, 6593, 6611, 6636, 6637, 6651, 6655, 6722, 6732],\n",
       "            dtype='int64', length=334),\n",
       " 1: Int64Index([   0,    1,    2,    5,    6,    7,    9,   10,   12,   15,\n",
       "             ...\n",
       "             6729, 6730, 6731, 6735, 6736, 6737, 6738, 6740, 6741, 6742],\n",
       "            dtype='int64', length=4695),\n",
       " 2: Int64Index([   3,    4,   13,   14,   20,   23,   26,   39,   42,   44,\n",
       "             ...\n",
       "             6698, 6702, 6704, 6709, 6710, 6713, 6714, 6728, 6733, 6734],\n",
       "            dtype='int64', length=1328),\n",
       " 3: Int64Index([   8,   18,   31,   57,   89,  166,  173,  194,  226,  240,\n",
       "             ...\n",
       "             6609, 6626, 6645, 6648, 6669, 6675, 6700, 6719, 6726, 6739],\n",
       "            dtype='int64', length=386)}"
      ]
     },
     "execution_count": 1110,
     "metadata": {},
     "output_type": "execute_result"
    }
   ],
   "source": [
    "group_obj.groups"
   ]
  },
  {
   "cell_type": "code",
   "execution_count": 1008,
   "metadata": {},
   "outputs": [
    {
     "data": {
      "text/plain": [
       "<pandas.core.groupby.generic.DataFrameGroupBy object at 0x1a7c5e4310>"
      ]
     },
     "execution_count": 1008,
     "metadata": {},
     "output_type": "execute_result"
    }
   ],
   "source": [
    "group_obj"
   ]
  },
  {
   "cell_type": "code",
   "execution_count": 508,
   "metadata": {},
   "outputs": [],
   "source": [
    "group_obj = df.groupby('Y')\n",
    "group_0 = list(group_obj.groups[0]) \n",
    "group_1 = list(group_obj.groups[1]) \n",
    "group_2 = list(group_obj.groups[2])\n",
    "group_3 = list(group_obj.groups[3])"
   ]
  },
  {
   "cell_type": "code",
   "execution_count": 1025,
   "metadata": {},
   "outputs": [],
   "source": [
    "    num_0 = int(len(group_0)*0.1)\n",
    "    num_1 = int(len(group_1)*0.1)\n",
    "    num_2 = int(len(group_2)*0.1)\n",
    "    num_3 = int(len(group_3)*0.1)"
   ]
  },
  {
   "cell_type": "code",
   "execution_count": 1034,
   "metadata": {},
   "outputs": [],
   "source": [
    "    validation_Y = random.sample(group_0, num_0)+random.sample(group_1, num_1)+random.sample(group_2, num_2)+ random.sample(group_3, num_3)\n",
    "\n",
    "    validation_X = [X[i] for i in validation_Y]"
   ]
  },
  {
   "cell_type": "code",
   "execution_count": 1047,
   "metadata": {},
   "outputs": [
    {
     "data": {
      "text/plain": [
       "6071"
      ]
     },
     "execution_count": 1047,
     "metadata": {},
     "output_type": "execute_result"
    }
   ],
   "source": [
    "len([X[i]  for i in range(len(Y)) if i not in  validation_Y])"
   ]
  },
  {
   "cell_type": "code",
   "execution_count": 1048,
   "metadata": {},
   "outputs": [
    {
     "data": {
      "text/plain": [
       "True"
      ]
     },
     "execution_count": 1048,
     "metadata": {},
     "output_type": "execute_result"
    }
   ],
   "source": [
    "len(validation_Y)+6071==len(Y)"
   ]
  },
  {
   "cell_type": "code",
   "execution_count": 1043,
   "metadata": {},
   "outputs": [
    {
     "data": {
      "text/plain": [
       "'I will tell you when I have had\\nenough.\\' \\'All right. I must tell you that it wasn\\'t like other nightmares in one\\nway, because I didn\\'t really _see_ anyone who spoke to me or touched me,\\nand yet I was most fearfully impressed with the reality of it all. First\\nI was sitting, no, moving about, in an old-fashioned sort of panelled\\nroom. I remember there was a fireplace and a lot of burnt papers in it,\\nand I was in a great state of anxiety about something. There was someone\\nelse--a servant, I suppose, because I remember saying to him, \"Horses, as\\nquick as you can,\" and then waiting a bit: and next I heard several\\npeople coming upstairs and a noise like spurs on a boarded floor, and\\nthen the door opened and whatever it was that I was expecting happened.\\' \\'Yes, but what was that?\\' \\'You see, I couldn\\'t tell: it was the sort of shock that upsets you in a\\ndream. You either wake up or else everything goes black. That was what\\nhappened to me.'"
      ]
     },
     "execution_count": 1043,
     "metadata": {},
     "output_type": "execute_result"
    }
   ],
   "source": [
    "validation_Y[23]\n",
    "X[4150]"
   ]
  },
  {
   "cell_type": "code",
   "execution_count": 509,
   "metadata": {},
   "outputs": [],
   "source": [
    "group_0_X = [X[i] for i in group_0]*5 # 334*6\n",
    "#group_1_X = [X[group_1[i]] for i in range(1500)] #1200\n",
    "group_1_X = [X[i] for i in group_1] #1200\n",
    "group_2_X = [X[i] for i in group_2]  # 1328=1328\n",
    "group_3_X = [X[i] for i in group_3]*4 # 386*6"
   ]
  },
  {
   "cell_type": "code",
   "execution_count": 510,
   "metadata": {},
   "outputs": [],
   "source": [
    "balanced_X = group_0_X+group_1_X+group_2_X+group_3_X"
   ]
  },
  {
   "cell_type": "code",
   "execution_count": 511,
   "metadata": {},
   "outputs": [],
   "source": [
    "group_0_Y = [0]*len(group_0_X)\n",
    "group_1_Y = [1]*len(group_1_X)\n",
    "group_2_Y = [2]*len(group_2_X)\n",
    "group_3_Y = [3]*len(group_3_X)\n",
    "\n",
    "balanced_Y = group_0_Y+group_1_Y+group_2_Y+group_3_Y"
   ]
  },
  {
   "cell_type": "code",
   "execution_count": 512,
   "metadata": {},
   "outputs": [
    {
     "data": {
      "text/plain": [
       "9237"
      ]
     },
     "execution_count": 512,
     "metadata": {},
     "output_type": "execute_result"
    }
   ],
   "source": [
    "len(balanced_Y)"
   ]
  },
  {
   "cell_type": "code",
   "execution_count": 513,
   "metadata": {},
   "outputs": [],
   "source": [
    "tokenizer = Tokenizer()\n",
    "tokenizer.fit_on_texts(balanced_X)\n",
    "vocab = tokenizer.word_index\n",
    "vector = tokenizer.texts_to_sequences(balanced_X)\n",
    "vector_padding = pad_sequences(vector,maxlen=300, padding='post')"
   ]
  },
  {
   "cell_type": "code",
   "execution_count": 425,
   "metadata": {},
   "outputs": [],
   "source": [
    "# #构建CNN分类模型(LeNet-5)\n",
    "# #模型结构：嵌入-卷积池化*2-dropout-BN-全连接-dropout-全连接\n",
    "# def CNN_model(x_train_padded_seqs, y_train, x_test_padded_seqs):\n",
    "#     model = Sequential()\n",
    "#     model.add(Embedding(len(vocab) + 1, 150, input_length=250)) #使用Embeeding层将每个词编码转换为词向量\n",
    "    \n",
    "    \n",
    "# #     model.add(Conv1D(256, 5, padding='same'))\n",
    "# #     model.add(MaxPooling1D(3, 3, padding='same'))\n",
    "#     model.add(Conv1D(128, 5, padding='same'))\n",
    "#     model.add(MaxPooling1D(3, 3, padding='same'))\n",
    "#     model.add(Conv1D(64, 3, padding='same'))\n",
    "#     model.add(Flatten())\n",
    "#     model.add(Dropout(0.1))\n",
    "#     model.add(BatchNormalization())  # (批)规范化层\n",
    "#     model.add(Dense(256, activation='relu'))\n",
    "#     model.add(Dropout(0.3))\n",
    "#     model.add(Dense(4, activation='softmax'))\n",
    "#    # sgd = SGD(lr=0.02, decay=1e-6, momentum=0.95, nesterov=True)\n",
    "#     model.compile(loss='categorical_crossentropy',optimizer='adam',metrics=['accuracy'])\n",
    "#     one_hot_labels = keras.utils.np_utils.to_categorical(y_train, num_classes=4)  # 将标签转换为one-hot编码\n",
    "#     model.fit(x_train_padded_seqs, one_hot_labels,epochs=4, batch_size=1000)\n",
    "#     y_predict=model.predict(x_test_padded_seqs) \n",
    "#     c =np.argmax(y_predict,axis=1)\n",
    "#     # 预测的是类别，结果就是类别号\n",
    "#     return c "
   ]
  },
  {
   "cell_type": "code",
   "execution_count": 665,
   "metadata": {},
   "outputs": [],
   "source": [
    "#构建CNN分类模型(LeNet-5)\n",
    "#模型结构：嵌入-卷积池化*2-dropout-BN-全连接-dropout-全连接\n",
    "def CNN_model(x_train_padded_seqs, y_train, x_test_padded_seqs):\n",
    "    model = Sequential()\n",
    "    model.add(Embedding(len(vocab) + 1, 128, input_length=300)) #使用Embeeding层将每个词编码转换为词向量\n",
    "    #model.add(keras.layers.Lambda(lambda x: keras.backend.mean(x, axis=1)))\n",
    "    model.add(GlobalAveragePooling1D())\n",
    "#     model.add(Dense(512, activation='sigmoid'))\n",
    "#     model.add(Dropout(0.4))\n",
    "#     model.add(Dense(2048, activation='sigmoid'))\n",
    "#     model.add(Dropout(0.4))\n",
    "\n",
    "    model.add(Dense(4, activation='softmax'))\n",
    "    sgd = SGD(lr=0.01, decay=1e-6, momentum=0.95, nesterov=True)\n",
    "    adam = Adam(learning_rate = 0.0001 )\n",
    "    model.compile(loss='categorical_crossentropy',optimizer='adam',metrics=['accuracy'])\n",
    "    one_hot_labels = keras.utils.np_utils.to_categorical(y_train, num_classes=4)  # 将标签转换为one-hot编码\n",
    "    model.fit(x_train_padded_seqs, one_hot_labels,epochs=4, batch_size=8,validation_split=.2)\n",
    "    y_predict=model.predict(x_test_padded_seqs) \n",
    "    c =np.argmax(y_predict,axis=1)\n",
    "    # 预测的是类别，结果就是类别号\n",
    "    return c "
   ]
  },
  {
   "cell_type": "code",
   "execution_count": null,
   "metadata": {},
   "outputs": [],
   "source": [
    "#         self.multi_layers = nn.Sequential(\n",
    "#             nn.Linear(embedding_dim,512),\n",
    "#             nn.Dropout(p=0.5),\n",
    "#             nn.Sigmoid(),\n",
    "#             nn.Linear(512,2048),\n",
    "#             nn.Dropout(p=0.5),\n",
    "#             nn.Sigmoid()\n",
    "#         )\n",
    "#         self.W = nn.Linear(2048,num_classes)\n"
   ]
  },
  {
   "cell_type": "code",
   "execution_count": 515,
   "metadata": {},
   "outputs": [],
   "source": [
    "tokenizer = Tokenizer()\n",
    "tokenizer.fit_on_texts(processed_Xt)\n",
    "vocab = tokenizer.word_index\n",
    "x_test_seqs = tokenizer.texts_to_sequences(processed_Xt)\n",
    "x_test_padded_seqs = pad_sequences(x_test_seqs,maxlen=300, padding='post')"
   ]
  },
  {
   "cell_type": "code",
   "execution_count": 666,
   "metadata": {},
   "outputs": [
    {
     "name": "stdout",
     "output_type": "stream",
     "text": [
      "Epoch 1/4\n",
      "924/924 [==============================] - 73s 78ms/step - loss: 0.8106 - accuracy: 0.6806 - val_loss: 5.6164 - val_accuracy: 0.0000e+00\n",
      "Epoch 2/4\n",
      "924/924 [==============================] - 72s 78ms/step - loss: 0.5170 - accuracy: 0.8020 - val_loss: 6.5198 - val_accuracy: 0.0114\n",
      "Epoch 3/4\n",
      "924/924 [==============================] - 72s 78ms/step - loss: 0.3094 - accuracy: 0.8992 - val_loss: 6.9137 - val_accuracy: 0.0579\n",
      "Epoch 4/4\n",
      "924/924 [==============================] - 75s 81ms/step - loss: 0.1815 - accuracy: 0.9548 - val_loss: 7.2881 - val_accuracy: 0.0952\n"
     ]
    }
   ],
   "source": [
    "res = CNN_model(vector_padding, balanced_Y, x_test_padded_seqs)"
   ]
  },
  {
   "cell_type": "code",
   "execution_count": 667,
   "metadata": {},
   "outputs": [],
   "source": [
    "fout = open(\"out.csv\", \"w\")\n",
    "fout.write(\"Id,Y\\n\")\n",
    "for i, line in enumerate(res): # Y_test_pred is in the same order as the test data\n",
    "    fout.write(\"%d,%d\\n\" % (i, line))\n",
    "fout.close()"
   ]
  },
  {
   "cell_type": "code",
   "execution_count": 668,
   "metadata": {},
   "outputs": [
    {
     "data": {
      "text/plain": [
       "1    46126\n",
       "2      571\n",
       "0      486\n",
       "Name: Y, dtype: int64"
      ]
     },
     "execution_count": 668,
     "metadata": {},
     "output_type": "execute_result"
    }
   ],
   "source": [
    "import pandas as pd\n",
    "df = pd.read_csv('out.csv')\n",
    "df['Y'].value_counts()"
   ]
  },
  {
   "cell_type": "code",
   "execution_count": 398,
   "metadata": {},
   "outputs": [
    {
     "data": {
      "text/plain": [
       "1565"
      ]
     },
     "execution_count": 398,
     "metadata": {},
     "output_type": "execute_result"
    }
   ],
   "source": [
    "\n",
    "len([i for i in range(0,len(balanced_Y)) if balanced_Y[i]==1])"
   ]
  },
  {
   "cell_type": "code",
   "execution_count": null,
   "metadata": {},
   "outputs": [],
   "source": [
    " 昨天\n",
    "1    45540\n",
    "3      901\n",
    "0      416\n",
    "2      326\n",
    "今天1 \n",
    "1    44679\n",
    "3     1016\n",
    "2      969\n",
    "0      519\n"
   ]
  },
  {
   "cell_type": "code",
   "execution_count": 544,
   "metadata": {},
   "outputs": [
    {
     "data": {
      "text/plain": [
       "1"
      ]
     },
     "execution_count": 544,
     "metadata": {},
     "output_type": "execute_result"
    }
   ],
   "source": [
    "Y[1]"
   ]
  },
  {
   "cell_type": "code",
   "execution_count": 546,
   "metadata": {},
   "outputs": [
    {
     "data": {
      "text/plain": [
       "47183"
      ]
     },
     "execution_count": 546,
     "metadata": {},
     "output_type": "execute_result"
    }
   ],
   "source": [
    "len(Xt)"
   ]
  },
  {
   "cell_type": "code",
   "execution_count": 582,
   "metadata": {},
   "outputs": [],
   "source": [
    "import tensorflow as tf\n",
    "import pandas as pd\n",
    "import numpy as np\n",
    "from keras import regularizers, optimizers\n",
    "from tensorflow.keras.layers.experimental.preprocessing import TextVectorization\n",
    "from keras.layers import Embedding, Dense, Dropout, Input, LSTM, GlobalMaxPool1D\n",
    "from keras.models import Sequential\n",
    "from keras.initializers import Constant\n",
    "\n",
    "import spacy\n",
    "import en_core_web_lg"
   ]
  },
  {
   "cell_type": "code",
   "execution_count": 592,
   "metadata": {},
   "outputs": [],
   "source": [
    "import json\n",
    "import numpy as np\n",
    "\n",
    "# load the training data\n",
    "train_data = json.load(open(\"genre_train.json\", \"r\"))\n",
    "X = train_data['X']\n",
    "Y = train_data['Y'] # id mapping: 0 - Horror, 1 - Science Fiction, 2 - Humor, 3 - Crime Fiction\n",
    "docid = train_data['docid'] # these are the ids of the books which each training example came from\n",
    "\n",
    "# load the test data\n",
    "# the test data does not have labels, our model needs to generate these\n",
    "test_data = json.load(open(\"genre_test.json\", \"r\"))\n",
    "Xt = test_data['X']\n"
   ]
  },
  {
   "cell_type": "code",
   "execution_count": 593,
   "metadata": {},
   "outputs": [],
   "source": [
    "# stopwords = set(nltk.corpus.stopwords.words(\"english\"))\n",
    "# import nltk\n",
    "# processed_X = []\n",
    "\n",
    "# stem = nltk.SnowballStemmer(language='english').stem\n",
    "# for each_doc in X:\n",
    "#     tokens = nltk.tokenize.WordPunctTokenizer().tokenize(each_doc)\n",
    "#     processed_X.append(np.array([stem(t)for t in tokens if t not in stopwords ]))\n"
   ]
  },
  {
   "cell_type": "code",
   "execution_count": 594,
   "metadata": {},
   "outputs": [],
   "source": [
    "# processed_Xt = []\n",
    "\n",
    "# stem = nltk.SnowballStemmer(language='english').stem\n",
    "# for each_doc in Xt:\n",
    "#     tokens = nltk.tokenize.WordPunctTokenizer().tokenize(each_doc)\n",
    "#     processed_Xt.append(np.array([stem(t)for t in tokens if t not in stopwords]))\n"
   ]
  },
  {
   "cell_type": "code",
   "execution_count": 680,
   "metadata": {},
   "outputs": [
    {
     "data": {
      "text/plain": [
       "array(['\"', 'go', 'right', '.\"', 'he', 'gape', 'arm', 'bandag', '.', 'i',\n",
       "       'took', 'quick', 'glanc', 'wish', 'i', \"'\", '.', '\"', 'how', '?\"',\n",
       "       '\"', 'smoke', 'bed', ',\"', 'i', 'said', '.', '\"', 'have', 'got',\n",
       "       '...', 'someth', '....\"', 'he', 'caught', 'i', 'hit', 'floor', ',',\n",
       "       'got', 'chair', '.', 'then', 'scotch', \"'\", 'want', ',', 'gave',\n",
       "       'shot', '-', 'thought', ',', 'look', 'narrowli', '.', '\"', 'i',\n",
       "       'suppos', 'fell', 'bed', 'broke', 'leg', ',\"', 'said', '.', '\"',\n",
       "       'right', '.', 'hell', 'danger', 'bed', '.\"'], dtype='<U8')"
      ]
     },
     "execution_count": 680,
     "metadata": {},
     "output_type": "execute_result"
    }
   ],
   "source": [
    "processed_X[0]"
   ]
  },
  {
   "cell_type": "code",
   "execution_count": 941,
   "metadata": {},
   "outputs": [
    {
     "name": "stdout",
     "output_type": "stream",
     "text": [
      "['go', 'right', 'in', 'there', 'he', 'gaped', 'at', 'my', 'arm', 'when', 'the', 'bandages', 'were', 'off', 'i', 'took', 'a', 'quick', 'glance', 'and', 'wished', 'i', 'hadn', 't', 'how', 'did', 'you', 'do', 'this', 'smoking', 'in', 'bed', 'i', 'said', 'have', 'you', 'got', 'something', 'that', 'he', 'caught', 'me', 'before', 'i', 'hit', 'the', 'floor', 'got', 'me', 'into', 'a', 'chair', 'then', 'he', 'had', 'that', 'scotch', 'he', 'd', 'been', 'wanting', 'gave', 'me', 'a', 'shot', 'as', 'an', 'after', 'thought', 'and', 'looked', 'at', 'me', 'narrowly', 'i', 'suppose', 'you', 'fell', 'out', 'of', 'that', 'same', 'bed', 'and', 'broke', 'your', 'leg', 'he', 'said', 'right', 'hell', 'of', 'a', 'dangerous', 'bed']\n",
      "['go', 'right', 'gaped', 'arm', 'bandage', 'took', 'quick', 'glance', 'wished', 'smoking', 'bed', 'said', 'got', 'something', 'caught', 'hit', 'floor', 'got', 'chair', 'scotch', 'wanting', 'gave', 'shot', 'thought', 'looked', 'narrowly', 'suppose', 'fell', 'bed', 'broke', 'leg', 'said', 'right', 'hell', 'dangerous', 'bed']\n",
      "go right gaped arm bandage took quick glance wished smoking bed said got something caught hit floor got chair scotch wanting gave shot thought looked narrowly suppose fell bed broke leg said right hell dangerous bed\n",
      "said\n"
     ]
    }
   ],
   "source": [
    "from nltk.tokenize import RegexpTokenizer\n",
    "from nltk.stem import WordNetLemmatizer \n",
    "\n",
    "from nltk.stem import PorterStemmer\n",
    "toke = RegexpTokenizer(r'\\w+')\n",
    "words_in_doc = toke.tokenize(X[0])\n",
    "stem = nltk.PorterStemmer().stem\n",
    "lemma = WordNetLemmatizer().lemmatize\n",
    "list_term = [t.lower() for t in words_in_doc]\n",
    "print(list_term)\n",
    "list_term = [lemma(t)for t in list_term if t not in stopwords]\n",
    "print(list_term)\n",
    "blank = ' '\n",
    "print (blank.join(list_term))\n",
    "\n"
   ]
  },
  {
   "cell_type": "code",
   "execution_count": 942,
   "metadata": {},
   "outputs": [],
   "source": [
    "def process_document(doc):\n",
    "    tokenizer = RegexpTokenizer(r'\\w+')\n",
    "    stem = nltk.PorterStemmer().stem\n",
    "    processed_doc = []\n",
    "    for i in range(len(doc)):\n",
    "        words_in_doc = tokenizer.tokenize(doc[i])\n",
    "        list_term = [t.lower() for t in words_in_doc]\n",
    "        list_term = [lemma(t)for t in list_term if t not in stopwords]\n",
    "        blank = ' '\n",
    "        processed_doc.append(blank.join(list_term))\n",
    "    return processed_doc\n",
    "    \n"
   ]
  },
  {
   "cell_type": "code",
   "execution_count": 943,
   "metadata": {},
   "outputs": [],
   "source": [
    "processed_X = process_document(X)\n",
    "processed_Xt = process_document(Xt)"
   ]
  },
  {
   "cell_type": "code",
   "execution_count": 945,
   "metadata": {},
   "outputs": [
    {
     "data": {
      "text/plain": [
       "'cold wind blew across road leading gate sophia spurred bay horse hardly needed encouragement gallop last pace shelter gatehouse shaft lightning dazzled sophia mighty thunderclap loud enough shake rock orvieto stood deafened riccardo shelter gatehouse first fat drop began fall making crater dust road identified guard without dismounting clerk longer posted gate interrogate record name every person entering leaving orvieto evidently podesta given sophia daoud ugolini even chilled polite letter ucello ugolini requesting eminence distinguished guest trebizond leave orvieto without podesta permission sophia hand seemed free come go pleased thought crossed sophia mind would soaked rode gate ugolini mansion'"
      ]
     },
     "execution_count": 945,
     "metadata": {},
     "output_type": "execute_result"
    }
   ],
   "source": [
    "processed_Xt[1]"
   ]
  },
  {
   "cell_type": "code",
   "execution_count": 697,
   "metadata": {},
   "outputs": [
    {
     "data": {
      "text/plain": [
       "True"
      ]
     },
     "execution_count": 697,
     "metadata": {},
     "output_type": "execute_result"
    }
   ],
   "source": [
    "len(processed_Xt)==len(Xt)"
   ]
  },
  {
   "cell_type": "code",
   "execution_count": 947,
   "metadata": {},
   "outputs": [],
   "source": [
    "texts = {'X':processed_X,\n",
    "       'Y':Y}\n",
    "dataframe = pd.DataFrame(texts)"
   ]
  },
  {
   "cell_type": "code",
   "execution_count": 948,
   "metadata": {},
   "outputs": [],
   "source": [
    "nlp = en_core_web_lg.load()\n",
    "Vectorizer = TextVectorization(output_mode=\"int\")\n",
    "Vectorizer.adapt(np.array(dataframe['X']))\n",
    "vocab = Vectorizer.get_vocabulary()\n",
    "\n",
    "\n",
    "\n",
    "\n",
    "#generate the embedding matrix\n",
    "num_tokens = len(vocab)\n",
    "embedding_dim = len(nlp('right').vector)\n",
    "embedding_matrix = np.zeros((num_tokens, embedding_dim))\n",
    "for i, word in enumerate(vocab):\n",
    "    embedding_matrix[i] = nlp(str(word)).vector"
   ]
  },
  {
   "cell_type": "code",
   "execution_count": 953,
   "metadata": {},
   "outputs": [],
   "source": [
    "Embedding_layer=Embedding(\n",
    "    num_tokens,\n",
    "    embedding_dim,\n",
    "    embeddings_initializer=Constant(embedding_matrix),\n",
    "    trainable=False)"
   ]
  },
  {
   "cell_type": "code",
   "execution_count": 727,
   "metadata": {},
   "outputs": [],
   "source": [
    "#build the model.  This is a bigger one, but it works well on this problem.\n",
    "\n",
    "# model = Sequential()\n",
    "# #model.add(Input(shape=(1,), dtype=tf.string))\n",
    "# model.add(Vectorizer)\n",
    "# model.add(Embedding_layer)\n",
    "# model.add(LSTM(128, return_sequences=True) #25\n",
    "# model.add(GlobalAveragePooling1D())\n",
    "\n",
    "# model.add(Dropout(0.5))\n",
    "# model.add(Dense(32, activation='tanh', \n",
    "#                  kernel_regularizer = regularizers.l1_l2(l1=1e-5, l2=1e-4)))\n",
    "# model.add(Dropout(0.5))\n",
    "# model.add(Dense(32, activation='tanh', \n",
    "#  kernel_regularizer = regularizers.l1_l2(l1=1e-5, l2=1e-4)))\n",
    "\n",
    "# model.add(Dense(4,activation='softmax'))"
   ]
  },
  {
   "cell_type": "code",
   "execution_count": 746,
   "metadata": {},
   "outputs": [],
   "source": [
    "from sklearn.feature_extraction.text import CountVectorizer, TfidfTransformer\n",
    "from sklearn.pipeline import Pipeline"
   ]
  },
  {
   "cell_type": "code",
   "execution_count": 991,
   "metadata": {},
   "outputs": [],
   "source": [
    "model=Sequential()\n",
    "\n",
    "#embedding layer\n",
    "model.add(Vectorizer)\n",
    "model.add(Embedding_layer)\n",
    "model.add(GlobalAveragePooling1D())\n",
    "model.add(Dense(300,activation='relu'))\n",
    "model.add(Dropout(0.1))\n",
    "model.add(Dense(4,activation='softmax'))\n"
   ]
  },
  {
   "cell_type": "code",
   "execution_count": 852,
   "metadata": {},
   "outputs": [],
   "source": [
    "# 52 %%%%\n",
    "# model=Sequential()\n",
    "\n",
    "# #embedding layer\n",
    "# model.add(Vectorizer)\n",
    "# model.add(Embedding_layer)\n",
    "# #lstm layer\n",
    "# model.add(LSTM(128,return_sequences=True,dropout=0.2))\n",
    "\n",
    "# #Global Maxpooling\n",
    "# model.add(GlobalMaxPooling1D())\n",
    "\n",
    "# #Dense Layer\n",
    "# model.add(Dense(64,activation='relu')) \n",
    "# model.add(Dense(4,activation='softmax'))\n",
    "################\n",
    "# model=Sequential()\n",
    "\n",
    "# #embedding layer\n",
    "# model.add(Vectorizer)\n",
    "# model.add(Embedding_layer)\n",
    "# #lstm layer\n",
    "# model.add(LSTM(128,return_sequences=True,dropout=0.5,recurrent_dropout = 0.5))\n",
    "\n",
    "# #Global Maxpooling\n",
    "# model.add(GlobalMaxPooling1D())\n",
    "\n",
    "# #Dense Layer\n",
    "# #model.add(Dense(64,activation='relu')) \n",
    "# model.add(Dense(4,activation='softmax'))\n",
    "################\n",
    "# model = Sequential()\n",
    "# model.add(Vectorizer)\n",
    "# model.add(Embedding_layer)\n",
    "# model.add(Bidirectional(GRU(32, dropout=0.2, recurrent_dropout=0.1, return_sequences=True)))\n",
    "# model.add(Bidirectional(GRU(32, dropout=0.2, recurrent_dropout=0.1)))\n",
    "# model.add(Dense(4,activation='softmax'))"
   ]
  },
  {
   "cell_type": "code",
   "execution_count": 764,
   "metadata": {},
   "outputs": [],
   "source": [
    "# model=Sequential()\n",
    "# from keras.layers import Bidirectional\n",
    "# #embedding layer\n",
    "# model.add(Vectorizer)\n",
    "# model.add(Embedding_layer)\n",
    "# model.add(LSTM(128,return_sequences=True,dropout=0.2))\n",
    "# model.add(Bidirectional(LSTM(64, return_sequences=True)))\n",
    "# model.add(Dense(64,activation='relu')) \n",
    "# model.add(Dense(4,activation='softmax'))\n"
   ]
  },
  {
   "cell_type": "code",
   "execution_count": 955,
   "metadata": {},
   "outputs": [],
   "source": [
    "one_hot_labels = keras.utils.np_utils.to_categorical(Y, num_classes=4)"
   ]
  },
  {
   "cell_type": "code",
   "execution_count": 992,
   "metadata": {},
   "outputs": [
    {
     "name": "stdout",
     "output_type": "stream",
     "text": [
      "Epoch 1/20\n",
      "211/211 [==============================] - 2s 6ms/step - loss: 0.7614 - accuracy: 0.7443\n",
      "Epoch 2/20\n",
      "211/211 [==============================] - 1s 6ms/step - loss: 0.5619 - accuracy: 0.7906\n",
      "Epoch 3/20\n",
      "211/211 [==============================] - 1s 7ms/step - loss: 0.5052 - accuracy: 0.8109\n",
      "Epoch 4/20\n",
      "211/211 [==============================] - 1s 7ms/step - loss: 0.4747 - accuracy: 0.8210\n",
      "Epoch 5/20\n",
      "211/211 [==============================] - 1s 7ms/step - loss: 0.4479 - accuracy: 0.8349\n",
      "Epoch 6/20\n",
      "211/211 [==============================] - 1s 7ms/step - loss: 0.4325 - accuracy: 0.8406\n",
      "Epoch 7/20\n",
      "211/211 [==============================] - 1s 7ms/step - loss: 0.4113 - accuracy: 0.8449\n",
      "Epoch 8/20\n",
      "211/211 [==============================] - 1s 7ms/step - loss: 0.3970 - accuracy: 0.8532\n",
      "Epoch 9/20\n",
      "211/211 [==============================] - 1s 7ms/step - loss: 0.3853 - accuracy: 0.8582\n",
      "Epoch 10/20\n",
      "211/211 [==============================] - 1s 7ms/step - loss: 0.3719 - accuracy: 0.8628\n",
      "Epoch 11/20\n",
      "211/211 [==============================] - 1s 6ms/step - loss: 0.3658 - accuracy: 0.8645\n",
      "Epoch 12/20\n",
      "211/211 [==============================] - 1s 6ms/step - loss: 0.3547 - accuracy: 0.8683\n",
      "Epoch 13/20\n",
      "211/211 [==============================] - 1s 6ms/step - loss: 0.3426 - accuracy: 0.8763\n",
      "Epoch 14/20\n",
      "211/211 [==============================] - 1s 6ms/step - loss: 0.3330 - accuracy: 0.8797\n",
      "Epoch 15/20\n",
      "211/211 [==============================] - 1s 6ms/step - loss: 0.3290 - accuracy: 0.8779\n",
      "Epoch 16/20\n",
      "211/211 [==============================] - 1s 7ms/step - loss: 0.3175 - accuracy: 0.8855\n",
      "Epoch 17/20\n",
      "211/211 [==============================] - 1s 6ms/step - loss: 0.3080 - accuracy: 0.8880\n",
      "Epoch 18/20\n",
      "211/211 [==============================] - 1s 7ms/step - loss: 0.2978 - accuracy: 0.8943\n",
      "Epoch 19/20\n",
      "211/211 [==============================] - 1s 7ms/step - loss: 0.2965 - accuracy: 0.8957\n",
      "Epoch 20/20\n",
      "211/211 [==============================] - 1s 7ms/step - loss: 0.2859 - accuracy: 0.9017\n"
     ]
    },
    {
     "data": {
      "text/plain": [
       "<keras.callbacks.History at 0x1a8023b590>"
      ]
     },
     "execution_count": 992,
     "metadata": {},
     "output_type": "execute_result"
    }
   ],
   "source": [
    "adam =Adam(learning_rate=2e-5, decay=1e-2)\n",
    "sgd = SGD(learning_rate=0.05, decay=1e-5, momentum=0.95, nesterov=True)\n",
    "model.compile(optimizer = 'adam', loss = 'categorical_crossentropy', metrics = ['accuracy'])\n",
    "#fit the model\n",
    "model.fit(dataframe['X'],\n",
    "          one_hot_labels,\n",
    "          batch_size = 32,\n",
    "          epochs = 20)\n",
    "          #validation_split=.1)"
   ]
  },
  {
   "cell_type": "code",
   "execution_count": 993,
   "metadata": {},
   "outputs": [],
   "source": [
    "predicted=model.predict(processed_Xt) \n"
   ]
  },
  {
   "cell_type": "code",
   "execution_count": 994,
   "metadata": {},
   "outputs": [],
   "source": [
    "result  =np.argmax(predicted,axis=1)"
   ]
  },
  {
   "cell_type": "code",
   "execution_count": 1105,
   "metadata": {},
   "outputs": [
    {
     "data": {
      "text/plain": [
       "array([0, 1, 1, ..., 1, 1, 1])"
      ]
     },
     "execution_count": 1105,
     "metadata": {},
     "output_type": "execute_result"
    }
   ],
   "source": [
    "result"
   ]
  },
  {
   "cell_type": "code",
   "execution_count": 995,
   "metadata": {},
   "outputs": [],
   "source": [
    "fout = open(\"out.csv\", \"w\")\n",
    "fout.write(\"Id,Y\\n\")\n",
    "for i, line in enumerate(result): # Y_test_pred is in the same order as the test data\n",
    "    fout.write(\"%d,%d\\n\" % (i, line))\n",
    "fout.close()"
   ]
  },
  {
   "cell_type": "code",
   "execution_count": 996,
   "metadata": {},
   "outputs": [
    {
     "data": {
      "text/plain": [
       "1    39007\n",
       "2     6313\n",
       "3     1499\n",
       "0      364\n",
       "Name: Y, dtype: int64"
      ]
     },
     "execution_count": 996,
     "metadata": {},
     "output_type": "execute_result"
    }
   ],
   "source": [
    "import pandas as pd\n",
    "df = pd.read_csv('out.csv')\n",
    "df['Y'].value_counts()"
   ]
  },
  {
   "cell_type": "code",
   "execution_count": null,
   "metadata": {},
   "outputs": [],
   "source": [
    "54%\n",
    "1    35996\n",
    "2     7663\n",
    "0     2118\n",
    "3     1406\n",
    "\n",
    "53.8%\n",
    "1    36180\n",
    "2     7812\n",
    "3     2156\n",
    "0     1035\n",
    "\n",
    " \n",
    "53.9%\n",
    "1    37222   38593\n",
    "2     6833   6021\n",
    "0     2035   1122\n",
    "3     1093    1447\n",
    "\n",
    "52%\n",
    "1    38354\n",
    "2     6133\n",
    "0     1729\n",
    "3      967\n",
    "\n",
    "\n",
    "\n",
    "50% average pooling \n",
    "1    40000\n",
    "2     6170\n",
    "3      536\n",
    "0      477\n",
    "\n",
    "\n",
    "47%%\n",
    "\n",
    "1    39620\n",
    "2     6717\n",
    "0      715\n",
    "3      131\n",
    "\n",
    "44%%\n",
    "1    40433\n",
    "2     4660\n",
    "3     2050\n",
    "0       40        "
   ]
  },
  {
   "cell_type": "code",
   "execution_count": 709,
   "metadata": {},
   "outputs": [
    {
     "data": {
      "text/plain": [
       "['aw never thought never moment poor dear mother buri crypt went look name coffin nearest knock away dust saw name margaret norman aetat 22 bear girl twice age lie terribl dark place thick dust spider web oh harold harold shall ever bear think lie shall never see dear face never never tri sooth pat hold hand',\n",
       " 'cold wind blew across road lead gate sophia spur bay hors hardli need encourag gallop last pace shelter gatehous shaft lightn dazzl sophia mighti thunderclap loud enough shake rock orvieto stood deafen riccardo shelter gatehous first fat drop began fall make crater dust road identifi guard without dismount clerk longer post gate interrog record name everi person enter leav orvieto evid podesta given sophia daoud ugolini even chill polit letter ucello ugolini request emin distinguish guest trebizond leav orvieto without podesta permiss sophia hand seem free come go pleas thought cross sophia mind would soak rode gate ugolini mansion',\n",
       " 'archangel michael overcom satan tell one christian idol anoth push saw track tear glisten cheek eye burn go quickli turn fear sight tear might break heart broken set foot stirrup vault saddl brown arabian husain hold wait husain mount hors start street kept face set toward triumphal arch']"
      ]
     },
     "execution_count": 709,
     "metadata": {},
     "output_type": "execute_result"
    }
   ],
   "source": [
    "processed_Xt[:3]"
   ]
  },
  {
   "cell_type": "code",
   "execution_count": 871,
   "metadata": {},
   "outputs": [
    {
     "name": "stdout",
     "output_type": "stream",
     "text": [
      "Model: \"sequential_115\"\n",
      "_________________________________________________________________\n",
      "Layer (type)                 Output Shape              Param #   \n",
      "=================================================================\n",
      "text_vectorization_23 (TextV (None, None)              0         \n",
      "_________________________________________________________________\n",
      "embedding_58 (Embedding)     (None, None, 300)         7612500   \n",
      "_________________________________________________________________\n",
      "global_average_pooling1d_53  (None, 300)               0         \n",
      "_________________________________________________________________\n",
      "dense_208 (Dense)            (None, 16)                4816      \n",
      "_________________________________________________________________\n",
      "dense_209 (Dense)            (None, 4)                 68        \n",
      "=================================================================\n",
      "Total params: 7,617,384\n",
      "Trainable params: 4,884\n",
      "Non-trainable params: 7,612,500\n",
      "_________________________________________________________________\n"
     ]
    }
   ],
   "source": [
    "model.summary()"
   ]
  },
  {
   "cell_type": "code",
   "execution_count": 1005,
   "metadata": {},
   "outputs": [
    {
     "name": "stdout",
     "output_type": "stream",
     "text": [
      "Model: \"sequential_138\"\n",
      "_________________________________________________________________\n",
      "Layer (type)                 Output Shape              Param #   \n",
      "=================================================================\n",
      "embedding_67 (Embedding)     (None, None, 300)         10116000  \n",
      "_________________________________________________________________\n",
      "bidirectional_22 (Bidirectio (None, None, 256)         439296    \n",
      "_________________________________________________________________\n",
      "seq_self_attention_3 (SeqSel (None, None, 256)         16449     \n",
      "_________________________________________________________________\n",
      "global_average_pooling1d_75  (None, 256)               0         \n",
      "_________________________________________________________________\n",
      "dense_245 (Dense)            (None, 4)                 1028      \n",
      "=================================================================\n",
      "Total params: 10,572,773\n",
      "Trainable params: 10,572,773\n",
      "Non-trainable params: 0\n",
      "_________________________________________________________________\n"
     ]
    }
   ],
   "source": [
    "import keras\n",
    "from keras_self_attention import SeqSelfAttention\n",
    "\n",
    "\n",
    "model = keras.models.Sequential()\n",
    "model.add(keras.layers.Embedding(input_dim=num_tokens,\n",
    "                                 output_dim=300,\n",
    "                                 mask_zero=True))\n",
    "\n",
    "model.add(keras.layers.Bidirectional(keras.layers.LSTM(units=128,\n",
    "                                                       return_sequences=True)))\n",
    "\n",
    "\n",
    "model.add(SeqSelfAttention(attention_activation='softmax'))\n",
    "model.add(GlobalAveragePooling1D())\n",
    "\n",
    "model.add(Dense(4,activation='softmax'))\n",
    "model.compile(\n",
    "    optimizer='adam',\n",
    "    loss='categorical_crossentropy',\n",
    "    metrics=['categorical_accuracy'],\n",
    ")\n",
    "model.summary()"
   ]
  },
  {
   "cell_type": "code",
   "execution_count": 1007,
   "metadata": {},
   "outputs": [
    {
     "ename": "UnimplementedError",
     "evalue": " Cast string to float is not supported\n\t [[node sequential_138/Cast (defined at <ipython-input-1006-82ab30c7e257>:4) ]] [Op:__inference_train_function_784147]\n\nFunction call stack:\ntrain_function\n",
     "output_type": "error",
     "traceback": [
      "\u001b[0;31m---------------------------------------------------------------------------\u001b[0m",
      "\u001b[0;31mUnimplementedError\u001b[0m                        Traceback (most recent call last)",
      "\u001b[0;32m<ipython-input-1007-cafdcdb894be>\u001b[0m in \u001b[0;36m<module>\u001b[0;34m\u001b[0m\n\u001b[1;32m      2\u001b[0m           \u001b[0mone_hot_labels\u001b[0m\u001b[0;34m,\u001b[0m\u001b[0;34m\u001b[0m\u001b[0;34m\u001b[0m\u001b[0m\n\u001b[1;32m      3\u001b[0m           \u001b[0mbatch_size\u001b[0m \u001b[0;34m=\u001b[0m \u001b[0;36m32\u001b[0m\u001b[0;34m,\u001b[0m\u001b[0;34m\u001b[0m\u001b[0;34m\u001b[0m\u001b[0m\n\u001b[0;32m----> 4\u001b[0;31m           epochs = 1)\n\u001b[0m",
      "\u001b[0;32m~/opt/anaconda3/lib/python3.7/site-packages/keras/engine/training.py\u001b[0m in \u001b[0;36mfit\u001b[0;34m(self, x, y, batch_size, epochs, verbose, callbacks, validation_split, validation_data, shuffle, class_weight, sample_weight, initial_epoch, steps_per_epoch, validation_steps, validation_batch_size, validation_freq, max_queue_size, workers, use_multiprocessing)\u001b[0m\n\u001b[1;32m   1182\u001b[0m                 _r=1):\n\u001b[1;32m   1183\u001b[0m               \u001b[0mcallbacks\u001b[0m\u001b[0;34m.\u001b[0m\u001b[0mon_train_batch_begin\u001b[0m\u001b[0;34m(\u001b[0m\u001b[0mstep\u001b[0m\u001b[0;34m)\u001b[0m\u001b[0;34m\u001b[0m\u001b[0;34m\u001b[0m\u001b[0m\n\u001b[0;32m-> 1184\u001b[0;31m               \u001b[0mtmp_logs\u001b[0m \u001b[0;34m=\u001b[0m \u001b[0mself\u001b[0m\u001b[0;34m.\u001b[0m\u001b[0mtrain_function\u001b[0m\u001b[0;34m(\u001b[0m\u001b[0miterator\u001b[0m\u001b[0;34m)\u001b[0m\u001b[0;34m\u001b[0m\u001b[0;34m\u001b[0m\u001b[0m\n\u001b[0m\u001b[1;32m   1185\u001b[0m               \u001b[0;32mif\u001b[0m \u001b[0mdata_handler\u001b[0m\u001b[0;34m.\u001b[0m\u001b[0mshould_sync\u001b[0m\u001b[0;34m:\u001b[0m\u001b[0;34m\u001b[0m\u001b[0;34m\u001b[0m\u001b[0m\n\u001b[1;32m   1186\u001b[0m                 \u001b[0mcontext\u001b[0m\u001b[0;34m.\u001b[0m\u001b[0masync_wait\u001b[0m\u001b[0;34m(\u001b[0m\u001b[0;34m)\u001b[0m\u001b[0;34m\u001b[0m\u001b[0;34m\u001b[0m\u001b[0m\n",
      "\u001b[0;32m~/opt/anaconda3/lib/python3.7/site-packages/tensorflow/python/eager/def_function.py\u001b[0m in \u001b[0;36m__call__\u001b[0;34m(self, *args, **kwds)\u001b[0m\n\u001b[1;32m    883\u001b[0m \u001b[0;34m\u001b[0m\u001b[0m\n\u001b[1;32m    884\u001b[0m       \u001b[0;32mwith\u001b[0m \u001b[0mOptionalXlaContext\u001b[0m\u001b[0;34m(\u001b[0m\u001b[0mself\u001b[0m\u001b[0;34m.\u001b[0m\u001b[0m_jit_compile\u001b[0m\u001b[0;34m)\u001b[0m\u001b[0;34m:\u001b[0m\u001b[0;34m\u001b[0m\u001b[0;34m\u001b[0m\u001b[0m\n\u001b[0;32m--> 885\u001b[0;31m         \u001b[0mresult\u001b[0m \u001b[0;34m=\u001b[0m \u001b[0mself\u001b[0m\u001b[0;34m.\u001b[0m\u001b[0m_call\u001b[0m\u001b[0;34m(\u001b[0m\u001b[0;34m*\u001b[0m\u001b[0margs\u001b[0m\u001b[0;34m,\u001b[0m \u001b[0;34m**\u001b[0m\u001b[0mkwds\u001b[0m\u001b[0;34m)\u001b[0m\u001b[0;34m\u001b[0m\u001b[0;34m\u001b[0m\u001b[0m\n\u001b[0m\u001b[1;32m    886\u001b[0m \u001b[0;34m\u001b[0m\u001b[0m\n\u001b[1;32m    887\u001b[0m       \u001b[0mnew_tracing_count\u001b[0m \u001b[0;34m=\u001b[0m \u001b[0mself\u001b[0m\u001b[0;34m.\u001b[0m\u001b[0mexperimental_get_tracing_count\u001b[0m\u001b[0;34m(\u001b[0m\u001b[0;34m)\u001b[0m\u001b[0;34m\u001b[0m\u001b[0;34m\u001b[0m\u001b[0m\n",
      "\u001b[0;32m~/opt/anaconda3/lib/python3.7/site-packages/tensorflow/python/eager/def_function.py\u001b[0m in \u001b[0;36m_call\u001b[0;34m(self, *args, **kwds)\u001b[0m\n\u001b[1;32m    915\u001b[0m       \u001b[0;31m# In this case we have created variables on the first call, so we run the\u001b[0m\u001b[0;34m\u001b[0m\u001b[0;34m\u001b[0m\u001b[0;34m\u001b[0m\u001b[0m\n\u001b[1;32m    916\u001b[0m       \u001b[0;31m# defunned version which is guaranteed to never create variables.\u001b[0m\u001b[0;34m\u001b[0m\u001b[0;34m\u001b[0m\u001b[0;34m\u001b[0m\u001b[0m\n\u001b[0;32m--> 917\u001b[0;31m       \u001b[0;32mreturn\u001b[0m \u001b[0mself\u001b[0m\u001b[0;34m.\u001b[0m\u001b[0m_stateless_fn\u001b[0m\u001b[0;34m(\u001b[0m\u001b[0;34m*\u001b[0m\u001b[0margs\u001b[0m\u001b[0;34m,\u001b[0m \u001b[0;34m**\u001b[0m\u001b[0mkwds\u001b[0m\u001b[0;34m)\u001b[0m  \u001b[0;31m# pylint: disable=not-callable\u001b[0m\u001b[0;34m\u001b[0m\u001b[0;34m\u001b[0m\u001b[0m\n\u001b[0m\u001b[1;32m    918\u001b[0m     \u001b[0;32melif\u001b[0m \u001b[0mself\u001b[0m\u001b[0;34m.\u001b[0m\u001b[0m_stateful_fn\u001b[0m \u001b[0;32mis\u001b[0m \u001b[0;32mnot\u001b[0m \u001b[0;32mNone\u001b[0m\u001b[0;34m:\u001b[0m\u001b[0;34m\u001b[0m\u001b[0;34m\u001b[0m\u001b[0m\n\u001b[1;32m    919\u001b[0m       \u001b[0;31m# Release the lock early so that multiple threads can perform the call\u001b[0m\u001b[0;34m\u001b[0m\u001b[0;34m\u001b[0m\u001b[0;34m\u001b[0m\u001b[0m\n",
      "\u001b[0;32m~/opt/anaconda3/lib/python3.7/site-packages/tensorflow/python/eager/function.py\u001b[0m in \u001b[0;36m__call__\u001b[0;34m(self, *args, **kwargs)\u001b[0m\n\u001b[1;32m   3038\u001b[0m        filtered_flat_args) = self._maybe_define_function(args, kwargs)\n\u001b[1;32m   3039\u001b[0m     return graph_function._call_flat(\n\u001b[0;32m-> 3040\u001b[0;31m         filtered_flat_args, captured_inputs=graph_function.captured_inputs)  # pylint: disable=protected-access\n\u001b[0m\u001b[1;32m   3041\u001b[0m \u001b[0;34m\u001b[0m\u001b[0m\n\u001b[1;32m   3042\u001b[0m   \u001b[0;34m@\u001b[0m\u001b[0mproperty\u001b[0m\u001b[0;34m\u001b[0m\u001b[0;34m\u001b[0m\u001b[0m\n",
      "\u001b[0;32m~/opt/anaconda3/lib/python3.7/site-packages/tensorflow/python/eager/function.py\u001b[0m in \u001b[0;36m_call_flat\u001b[0;34m(self, args, captured_inputs, cancellation_manager)\u001b[0m\n\u001b[1;32m   1962\u001b[0m       \u001b[0;31m# No tape is watching; skip to running the function.\u001b[0m\u001b[0;34m\u001b[0m\u001b[0;34m\u001b[0m\u001b[0;34m\u001b[0m\u001b[0m\n\u001b[1;32m   1963\u001b[0m       return self._build_call_outputs(self._inference_function.call(\n\u001b[0;32m-> 1964\u001b[0;31m           ctx, args, cancellation_manager=cancellation_manager))\n\u001b[0m\u001b[1;32m   1965\u001b[0m     forward_backward = self._select_forward_and_backward_functions(\n\u001b[1;32m   1966\u001b[0m         \u001b[0margs\u001b[0m\u001b[0;34m,\u001b[0m\u001b[0;34m\u001b[0m\u001b[0;34m\u001b[0m\u001b[0m\n",
      "\u001b[0;32m~/opt/anaconda3/lib/python3.7/site-packages/tensorflow/python/eager/function.py\u001b[0m in \u001b[0;36mcall\u001b[0;34m(self, ctx, args, cancellation_manager)\u001b[0m\n\u001b[1;32m    594\u001b[0m               \u001b[0minputs\u001b[0m\u001b[0;34m=\u001b[0m\u001b[0margs\u001b[0m\u001b[0;34m,\u001b[0m\u001b[0;34m\u001b[0m\u001b[0;34m\u001b[0m\u001b[0m\n\u001b[1;32m    595\u001b[0m               \u001b[0mattrs\u001b[0m\u001b[0;34m=\u001b[0m\u001b[0mattrs\u001b[0m\u001b[0;34m,\u001b[0m\u001b[0;34m\u001b[0m\u001b[0;34m\u001b[0m\u001b[0m\n\u001b[0;32m--> 596\u001b[0;31m               ctx=ctx)\n\u001b[0m\u001b[1;32m    597\u001b[0m         \u001b[0;32melse\u001b[0m\u001b[0;34m:\u001b[0m\u001b[0;34m\u001b[0m\u001b[0;34m\u001b[0m\u001b[0m\n\u001b[1;32m    598\u001b[0m           outputs = execute.execute_with_cancellation(\n",
      "\u001b[0;32m~/opt/anaconda3/lib/python3.7/site-packages/tensorflow/python/eager/execute.py\u001b[0m in \u001b[0;36mquick_execute\u001b[0;34m(op_name, num_outputs, inputs, attrs, ctx, name)\u001b[0m\n\u001b[1;32m     58\u001b[0m     \u001b[0mctx\u001b[0m\u001b[0;34m.\u001b[0m\u001b[0mensure_initialized\u001b[0m\u001b[0;34m(\u001b[0m\u001b[0;34m)\u001b[0m\u001b[0;34m\u001b[0m\u001b[0;34m\u001b[0m\u001b[0m\n\u001b[1;32m     59\u001b[0m     tensors = pywrap_tfe.TFE_Py_Execute(ctx._handle, device_name, op_name,\n\u001b[0;32m---> 60\u001b[0;31m                                         inputs, attrs, num_outputs)\n\u001b[0m\u001b[1;32m     61\u001b[0m   \u001b[0;32mexcept\u001b[0m \u001b[0mcore\u001b[0m\u001b[0;34m.\u001b[0m\u001b[0m_NotOkStatusException\u001b[0m \u001b[0;32mas\u001b[0m \u001b[0me\u001b[0m\u001b[0;34m:\u001b[0m\u001b[0;34m\u001b[0m\u001b[0;34m\u001b[0m\u001b[0m\n\u001b[1;32m     62\u001b[0m     \u001b[0;32mif\u001b[0m \u001b[0mname\u001b[0m \u001b[0;32mis\u001b[0m \u001b[0;32mnot\u001b[0m \u001b[0;32mNone\u001b[0m\u001b[0;34m:\u001b[0m\u001b[0;34m\u001b[0m\u001b[0;34m\u001b[0m\u001b[0m\n",
      "\u001b[0;31mUnimplementedError\u001b[0m:  Cast string to float is not supported\n\t [[node sequential_138/Cast (defined at <ipython-input-1006-82ab30c7e257>:4) ]] [Op:__inference_train_function_784147]\n\nFunction call stack:\ntrain_function\n"
     ]
    }
   ],
   "source": [
    "model.fit(dataframe['X'],\n",
    "          one_hot_labels,\n",
    "          batch_size = 32,\n",
    "          epochs = 1)"
   ]
  },
  {
   "cell_type": "code",
   "execution_count": null,
   "metadata": {},
   "outputs": [],
   "source": []
  }
 ],
 "metadata": {
  "kernelspec": {
   "display_name": "Python 3",
   "language": "python",
   "name": "python3"
  },
  "language_info": {
   "codemirror_mode": {
    "name": "ipython",
    "version": 3
   },
   "file_extension": ".py",
   "mimetype": "text/x-python",
   "name": "python",
   "nbconvert_exporter": "python",
   "pygments_lexer": "ipython3",
   "version": "3.7.4"
  }
 },
 "nbformat": 4,
 "nbformat_minor": 4
}
